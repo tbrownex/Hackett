{
 "cells": [
  {
   "cell_type": "code",
   "execution_count": null,
   "metadata": {},
   "outputs": [],
   "source": [
    "import tensorflow as tf\n",
    "import matplotlib.pyplot as plt\n",
    "from sklearn.metrics import accuracy_score\n",
    "import matplotlib.pyplot as plt\n",
    "\n",
    "from getConfig import getConfig\n",
    "from getModels import getModels"
   ]
  },
  {
   "cell_type": "code",
   "execution_count": null,
   "metadata": {},
   "outputs": [],
   "source": [
    "def getData():\n",
    "    train, test = tf.keras.datasets.mnist.load_data()\n",
    "    return train, test"
   ]
  },
  {
   "cell_type": "code",
   "execution_count": null,
   "metadata": {},
   "outputs": [],
   "source": [
    "maxRGB = 255\n",
    "\n",
    "def reshape(X):\n",
    "    ''' Keras requires a 4-dimensional array as input '''\n",
    "    return X.reshape(X.shape[0], 28, 28, 1)\n",
    "\n",
    "def retype(X):\n",
    "    ''' Make sure we get a decimal result from division '''\n",
    "    return X.astype('float32')\n",
    "\n",
    "def normalize(X):\n",
    "    ''' Divide by max RGB value '''\n",
    "    X /= maxRGB\n",
    "    return X\n",
    "\n",
    "def formatX(X):\n",
    "    X = reshape(X)\n",
    "    X = retype(X)\n",
    "    X = normalize(X)\n",
    "    return X\n",
    "\n",
    "def preProcess(test, config):\n",
    "    ''' \"test\" is a tuple of X and Y '''\n",
    "    testX, testY   = test\n",
    "    testX          = formatX(testX)\n",
    "    \n",
    "    dataDict    = {}\n",
    "    dataDict[\"testX\"]  = testX\n",
    "    dataDict[\"testY\"]  = testY\n",
    "    \n",
    "    return dataDict"
   ]
  },
  {
   "cell_type": "code",
   "execution_count": null,
   "metadata": {},
   "outputs": [],
   "source": [
    "config = getConfig()\n",
    "_, test = getData()\n",
    "dataDict = preProcess(test, config)"
   ]
  },
  {
   "cell_type": "code",
   "execution_count": null,
   "metadata": {},
   "outputs": [],
   "source": [
    "models = getModels(\"NN\", config)"
   ]
  },
  {
   "cell_type": "code",
   "execution_count": null,
   "metadata": {},
   "outputs": [],
   "source": [
    "for model in models:\n",
    "    ''' Load the model and run Test through it '''\n",
    "    m = tf.keras.models.load_model(filepath=model, compile=False)\n",
    "    predictions = m.predict(np.array(dataDict[\"testX\"]))\n",
    "    predictions = np.argmax(predictions, axis=1)\n",
    "    accuracy = accuracy_score(dataDict[\"testY\"],predictions)\n",
    "    print(\"Accuracy against test set: {:.1%}\".format(accuracy))"
   ]
  },
  {
   "cell_type": "markdown",
   "metadata": {},
   "source": [
    "##### Show some errors"
   ]
  },
  {
   "cell_type": "code",
   "execution_count": null,
   "metadata": {},
   "outputs": [],
   "source": [
    "mask = [predictions != dataDict[\"testY\"]]\n",
    "errs = np.argsort(mask[0])"
   ]
  },
  {
   "cell_type": "code",
   "execution_count": null,
   "metadata": {},
   "outputs": [],
   "source": [
    "def showImage(image, label, prediction):\n",
    "    image = np.reshape(image, newshape=[28,28])\n",
    "    plt.imshow(image, cmap='Greys')\n",
    "    title = \"Labeled as: \"+ str(label)+\" predicted as: \" + str(prediction)\n",
    "    plt.title(title)\n",
    "    plt.show()"
   ]
  },
  {
   "cell_type": "code",
   "execution_count": null,
   "metadata": {},
   "outputs": [],
   "source": [
    "index = 9990\n",
    "for index in range(9900,9925):\n",
    "    showImage(dataDict[\"testX\"][errs[index]],\\\n",
    "              dataDict[\"testY\"][errs[index]],\\\n",
    "              predictions[errs[index]])\n",
    "    input()"
   ]
  },
  {
   "cell_type": "code",
   "execution_count": null,
   "metadata": {},
   "outputs": [],
   "source": []
  }
 ],
 "metadata": {
  "kernelspec": {
   "display_name": "Python 3",
   "language": "python",
   "name": "python3"
  },
  "language_info": {
   "codemirror_mode": {
    "name": "ipython",
    "version": 3
   },
   "file_extension": ".py",
   "mimetype": "text/x-python",
   "name": "python",
   "nbconvert_exporter": "python",
   "pygments_lexer": "ipython3",
   "version": "3.5.2"
  }
 },
 "nbformat": 4,
 "nbformat_minor": 2
}
