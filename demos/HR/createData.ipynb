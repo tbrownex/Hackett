{
 "cells": [
  {
   "cell_type": "markdown",
   "metadata": {},
   "source": [
    "#### Create sample HR data  \n",
    "Auto-generate the features randomly. Once they are set, then assign weights to each feature, also randomly.\n",
    "Score each record by multiplying the features by the weights"
   ]
  },
  {
   "cell_type": "code",
   "execution_count": 1,
   "metadata": {},
   "outputs": [],
   "source": [
    "import matplotlib.pyplot as plt\n",
    "from collections import Counter"
   ]
  },
  {
   "cell_type": "code",
   "execution_count": 2,
   "metadata": {},
   "outputs": [],
   "source": [
    "# Set number of rows and columns\n",
    "tm.N = 15000\n",
    "tm.K = 25\n",
    "\n",
    "cols = [\"Department\", \"Region\", \"Gender\", \"University Prestige\", \"Degree\", \"Left Company\",\\\n",
    "        \"Industry Yrs\", \"Role Yrs\", \"Current Job Level\", \"Yrs Since Last Promotion\",\\\n",
    "        \"Engagement_1\", \"Engagement_2\", \"Engagement_3\", \"Engagement_4\", \"Engagement_5\",\\\n",
    "        \"Autonomous_1\", \"Autonomous_2\", \"Autonomous_3\", \"Autonomous_4\", \"Autonomous_5\",\\\n",
    "        \"Team Player_1\", \"Team Player_2\", \"Team Player_3\", \"Team Player_4\", \"Team Player_5\"]"
   ]
  },
  {
   "cell_type": "code",
   "execution_count": 3,
   "metadata": {},
   "outputs": [],
   "source": [
    "df = tm.makeDataFrame()\n",
    "df.columns = cols\n",
    "df.index = [x for x in range(tm.N)]"
   ]
  },
  {
   "cell_type": "code",
   "execution_count": 4,
   "metadata": {},
   "outputs": [],
   "source": [
    "def getRatings(values, probabilities):\n",
    "    return np.random.choice(values, tm.N, p=probabilities)"
   ]
  },
  {
   "cell_type": "code",
   "execution_count": 5,
   "metadata": {},
   "outputs": [],
   "source": [
    "# Assign everyone random grades\n",
    "# Some of these columns are binary, e.g. \"Degree\", or aren't scaled 1-10, e.g. the \"Years\"\n",
    "# columns. We'll fix those next step\n",
    "values = [x for x in range(1,6)]\n",
    "probabilities = [0.10,0.20,0.40,0.20,0.10]\n",
    "\n",
    "for col in cols:\n",
    "    df[col] = getRatings(values, probabilities)"
   ]
  },
  {
   "cell_type": "code",
   "execution_count": 6,
   "metadata": {},
   "outputs": [],
   "source": [
    "values = [\"IT\", \"Finance\", \"Operations\", \"HR\"]\n",
    "probabilities = [0.25,0.25,0.4,0.1]\n",
    "df[\"Department\"] = getRatings(values, probabilities)\n",
    "\n",
    "values = [\"Midwest\", \"California\", \"East\", \"South\"]\n",
    "probabilities = [0.25,0.25,0.4,0.1]\n",
    "df[\"Region\"] = getRatings(values, probabilities)\n",
    "\n",
    "values = [\"M\", \"F\"]\n",
    "probabilities = [0.45,0.55]\n",
    "df[\"Gender\"]      = getRatings(values, probabilities)\n",
    "\n",
    "values = [\"N\", \"Y\"]\n",
    "probabilities = [0.75,0.25]\n",
    "df[\"Left Company\"] = getRatings(values, probabilities)\n",
    "\n",
    "values = [0, 1]\n",
    "probabilities = [.35,.65]\n",
    "df[\"Degree\"] = np.random.choice(values, tm.N, p=probabilities)\n",
    "\n",
    "# Make sure only Degreed people have a University Prestige\n",
    "df.loc[df['Degree'] == 0, 'University Prestige'] = 0\n",
    "\n",
    "values = [1,2,3,4,5]\n",
    "probabilities = [0.02, 0.06, .57, 0.32, 0.03]\n",
    "for x in range(1,6):\n",
    "    col = \"Engagement_\" + str(x)\n",
    "    df[col] = getRatings(values, probabilities)\n",
    "    col = \"Autonomous_\" + str(x)\n",
    "    df[col] = getRatings(values, probabilities)\n",
    "    col = \"Team Player_\" + str(x)\n",
    "    df[col] = getRatings(values, probabilities)"
   ]
  },
  {
   "cell_type": "code",
   "execution_count": 7,
   "metadata": {},
   "outputs": [],
   "source": [
    "df[\"Industry Yrs\"] = np.random.randint(low=0,high=25,size=tm.N)\n",
    "df[\"Role Yrs\"]     = np.random.randint(low=0,high=25,size=tm.N)"
   ]
  },
  {
   "cell_type": "code",
   "execution_count": 8,
   "metadata": {},
   "outputs": [],
   "source": [
    "# There are a few binary columns which need encoding to numeric\n",
    "df.replace({'Left Company': \"Y\"}, 1,  inplace=True)\n",
    "df.replace({'Left Company': \"N\"}, -1, inplace=True)\n",
    "df.replace({'Gender': \"M\"}, 1,  inplace=True)\n",
    "df.replace({'Gender': \"F\"}, -1, inplace=True)\n",
    "\n",
    "# And a few categorical as well (Department and Region)\n",
    "df = pd.get_dummies(df)"
   ]
  },
  {
   "cell_type": "code",
   "execution_count": 9,
   "metadata": {},
   "outputs": [],
   "source": [
    "df.to_csv(\"/home/tbrownex/data/Hackett/demos/HR/rawData.csv\", index=False)"
   ]
  }
 ],
 "metadata": {
  "kernelspec": {
   "display_name": "Python 3",
   "language": "python",
   "name": "python3"
  },
  "language_info": {
   "codemirror_mode": {
    "name": "ipython",
    "version": 3
   },
   "file_extension": ".py",
   "mimetype": "text/x-python",
   "name": "python",
   "nbconvert_exporter": "python",
   "pygments_lexer": "ipython3",
   "version": "3.5.2"
  }
 },
 "nbformat": 4,
 "nbformat_minor": 2
}
