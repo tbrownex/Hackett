{
 "cells": [
  {
   "cell_type": "code",
   "execution_count": null,
   "metadata": {},
   "outputs": [],
   "source": [
    "from getCurrentDir import getCurrentDir\n",
    "import time "
   ]
  },
  {
   "cell_type": "code",
   "execution_count": null,
   "metadata": {},
   "outputs": [],
   "source": [
    "def getData():\n",
    "    df = pd.read_csv(\"/home/tbrownex/predDF.csv\")\n",
    "    df.drop(columns=[\"Baseline\", \"actual\"], inplace=True)\n",
    "    df.set_index(\"unit\", inplace=True)\n",
    "    # These are the units we want to demo\n",
    "    keep = [2,3,4,34]\n",
    "    df = df.loc[keep]\n",
    "    \n",
    "    df[\"RUL\"] = df.mean(axis=1)\n",
    "    \n",
    "    df.drop(columns=[\"RF\", \"NN\", \"XGB\"], inplace=True)\n",
    "    return df"
   ]
  },
  {
   "cell_type": "code",
   "execution_count": null,
   "metadata": {},
   "outputs": [],
   "source": [
    "df  = getData()\n",
    "loc = getCurrentDir()"
   ]
  },
  {
   "cell_type": "code",
   "execution_count": null,
   "metadata": {},
   "outputs": [],
   "source": [
    "def getStreams(df, start, units):\n",
    "    L = []\n",
    "    for unit in units:\n",
    "        s = df.loc[unit][:-start][\"RUL\"]\n",
    "        s.reset_index(drop=True, inplace=True)\n",
    "        L.append(s)\n",
    "    merged = pd.concat(L, ignore_index=True,axis=1)\n",
    "    merged.columns = units\n",
    "    return merged"
   ]
  },
  {
   "cell_type": "code",
   "execution_count": null,
   "metadata": {},
   "outputs": [],
   "source": [
    "# Get the shortest stream: start the loop at this point\n",
    "unitCounts = df.groupby(\"unit\").count()\n",
    "start = unitCounts.min()[0]\n",
    "units = np.unique(df.index.values)"
   ]
  },
  {
   "cell_type": "code",
   "execution_count": null,
   "metadata": {},
   "outputs": [],
   "source": [
    "while start > 0:\n",
    "    latest = getStreams(df, start, units)\n",
    "    latest.to_csv(loc + \"MLdemo data.csv\", index=False)\n",
    "    time.sleep(5)\n",
    "    start -=1"
   ]
  }
 ],
 "metadata": {
  "kernelspec": {
   "display_name": "Python 3",
   "language": "python",
   "name": "python3"
  },
  "language_info": {
   "codemirror_mode": {
    "name": "ipython",
    "version": 3
   },
   "file_extension": ".py",
   "mimetype": "text/x-python",
   "name": "python",
   "nbconvert_exporter": "python",
   "pygments_lexer": "ipython3",
   "version": "3.5.2"
  }
 },
 "nbformat": 4,
 "nbformat_minor": 2
}
