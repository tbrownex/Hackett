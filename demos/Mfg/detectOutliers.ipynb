{
 "cells": [
  {
   "cell_type": "code",
   "execution_count": 1,
   "metadata": {},
   "outputs": [],
   "source": [
    "import numpy as np\n",
    "import matplotlib.pyplot as plt\n",
    "from sklearn.ensemble import IsolationForest\n",
    "\n",
    "from getConfig   import getConfig\n",
    "from getData     import getData\n",
    "from getUserCols import getCols"
   ]
  },
  {
   "cell_type": "code",
   "execution_count": 2,
   "metadata": {},
   "outputs": [],
   "source": [
    "def prepData(train):\n",
    "    # For demo purposes user won't select the Set, just use set 1\n",
    "    train = train.loc[train[\"set\"]==1]\n",
    "    del train[\"set\"]\n",
    "    del train[\"unit\"]\n",
    "    return train"
   ]
  },
  {
   "cell_type": "code",
   "execution_count": 27,
   "metadata": {},
   "outputs": [],
   "source": [
    "config   = getConfig()\n",
    "train, _ = getData(config)\n",
    "svUnits = train[\"unit\"]\n",
    "train    = prepData(train)"
   ]
  },
  {
   "cell_type": "code",
   "execution_count": 28,
   "metadata": {},
   "outputs": [],
   "source": [
    "# fit the model\n",
    "parms = {\"n_estimators\": 200,\\\n",
    "         \"max_samples\": \"auto\",\\\n",
    "         \"contamination\": 0.02,\\\n",
    "         \"max_features\": 1.0,\\\n",
    "         \"bootstrap\": False,\\\n",
    "         \"behaviour\": \"new\"}\n",
    "clf = IsolationForest(**parms)\n",
    "\n",
    "train[\"outlierIF\"] = clf.fit_predict(train)"
   ]
  },
  {
   "cell_type": "code",
   "execution_count": 29,
   "metadata": {},
   "outputs": [],
   "source": [
    "# Add back the Unit so we can see which records were removed\n",
    "train[\"unit\"] = svUnits"
   ]
  },
  {
   "cell_type": "code",
   "execution_count": 30,
   "metadata": {},
   "outputs": [
    {
     "name": "stdout",
     "output_type": "stream",
     "text": [
      "413 outliers detected; 2.0% of total\n"
     ]
    }
   ],
   "source": [
    "out = train[\"outlierIF\"]< 0\n",
    "print(\"{} outliers detected; {:.1%} of total\".format(out.sum(), out.sum()/train.shape[0]))"
   ]
  },
  {
   "cell_type": "code",
   "execution_count": 32,
   "metadata": {},
   "outputs": [],
   "source": [
    "train.to_csv(\"/home/tbrownex/IFoutliers.csv\", index=False)"
   ]
  }
 ],
 "metadata": {
  "kernelspec": {
   "display_name": "Python 3",
   "language": "python",
   "name": "python3"
  },
  "language_info": {
   "codemirror_mode": {
    "name": "ipython",
    "version": 3
   },
   "file_extension": ".py",
   "mimetype": "text/x-python",
   "name": "python",
   "nbconvert_exporter": "python",
   "pygments_lexer": "ipython3",
   "version": "3.5.2"
  }
 },
 "nbformat": 4,
 "nbformat_minor": 2
}
