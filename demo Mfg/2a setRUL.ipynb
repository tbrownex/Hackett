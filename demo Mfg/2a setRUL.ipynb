{
 "cells": [
  {
   "cell_type": "markdown",
   "metadata": {},
   "source": [
    "#### For the test file, need to update the RUL.  \n",
    "The test file has some number of cycles, like 10. The RUL file might have 32. So looking at the first cycle, it should have an RUL of 42: the 10 they provided plus the 32 actual cycles before failure"
   ]
  },
  {
   "cell_type": "code",
   "execution_count": 1,
   "metadata": {},
   "outputs": [],
   "source": [
    "import pandas as pd\n",
    "from getConfig import getConfig"
   ]
  },
  {
   "cell_type": "code",
   "execution_count": 2,
   "metadata": {},
   "outputs": [],
   "source": [
    "def getActual(unit):\n",
    "    return labels.loc[unit]"
   ]
  },
  {
   "cell_type": "code",
   "execution_count": 3,
   "metadata": {},
   "outputs": [],
   "source": [
    "config = getConfig()"
   ]
  },
  {
   "cell_type": "code",
   "execution_count": 7,
   "metadata": {},
   "outputs": [],
   "source": [
    "features = pd.read_csv(config[\"dataLoc\"] + \"testMerged.csv\")\n",
    "features.set_index(\"unit\", inplace=True)\n",
    "\n",
    "labels   = pd.read_csv(config[\"dataLoc\"] + \"rulMerged.csv\")\n",
    "labels.set_index(\"unit\", inplace=True)"
   ]
  },
  {
   "cell_type": "code",
   "execution_count": 8,
   "metadata": {},
   "outputs": [],
   "source": [
    "dfList = []\n",
    "grp = features.groupby(level=0)\n",
    "    \n",
    "for unit, val in grp:\n",
    "    cycles = val.shape[0]\n",
    "    actual = getActual(unit)[0]\n",
    "    cycles += actual\n",
    "    \n",
    "    val = val.assign(RUL = list(range(cycles-1, actual-1, -1)))\n",
    "    val.reset_index(inplace=True)\n",
    "    dfList.append(val)\n",
    "df = pd.concat(dfList, ignore_index=True)"
   ]
  },
  {
   "cell_type": "code",
   "execution_count": 9,
   "metadata": {},
   "outputs": [],
   "source": [
    "df.to_csv(config[\"dataLoc\"]+\"testRUL.csv\", index=False)"
   ]
  }
 ],
 "metadata": {
  "kernelspec": {
   "display_name": "Python 3",
   "language": "python",
   "name": "python3"
  },
  "language_info": {
   "codemirror_mode": {
    "name": "ipython",
    "version": 3
   },
   "file_extension": ".py",
   "mimetype": "text/x-python",
   "name": "python",
   "nbconvert_exporter": "python",
   "pygments_lexer": "ipython3",
   "version": "3.5.2"
  }
 },
 "nbformat": 4,
 "nbformat_minor": 2
}
