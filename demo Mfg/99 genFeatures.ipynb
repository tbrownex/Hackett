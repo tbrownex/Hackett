{
 "cells": [
  {
   "cell_type": "markdown",
   "metadata": {},
   "source": [
    "#### For the train and test files, create some new features based on mean and variance of the sensor readings"
   ]
  },
  {
   "cell_type": "code",
   "execution_count": 1,
   "metadata": {},
   "outputs": [],
   "source": [
    "import pandas as pd\n",
    "from getConfig import getConfig"
   ]
  },
  {
   "cell_type": "code",
   "execution_count": 2,
   "metadata": {},
   "outputs": [],
   "source": [
    "config = getConfig()"
   ]
  },
  {
   "cell_type": "code",
   "execution_count": 3,
   "metadata": {},
   "outputs": [],
   "source": [
    "'''def meanDiff(df):\n",
    "    '''\n",
    "    For each sensor, get the mean from cycles that have >100 RUL. Then for each reading, compute the\n",
    "    difference between the current reading and that mean.\n",
    "    '''\n",
    "    cols = [\"sensor1\",\"sensor2\",\"sensor3\",\"sensor4\",\"sensor5\",\"sensor6\",\"sensor7\",\"sensor8\",\\\n",
    "            \"sensor9\",\"sensor10\",\"sensor11\",\"sensor12\",\"sensor13\",\"sensor14\",\"sensor15\",\"sensor16\",\\\n",
    "            \"sensor17\",\"sensor18\",\"sensor19\",\"sensor20\",\"sensor21\"]\n",
    "    dfList = []\n",
    "    grp = df.groupby(level=0)\n",
    "    \n",
    "    for key, val in grp:\n",
    "        for c in cols:\n",
    "            mean = val[c][:10].mean()\n",
    "            newCol = \"mean_\"+c\n",
    "            val = val.assign(tmp = round(val[c]-mean,2))\n",
    "            val.rename(index=str, columns={\"tmp\": newCol}, inplace=True)\n",
    "        val.reset_index(inplace=True)\n",
    "        dfList.append(val)\n",
    "    df = pd.concat(dfList, ignore_index=True)\n",
    "    return df'''"
   ]
  },
  {
   "cell_type": "code",
   "execution_count": 3,
   "metadata": {},
   "outputs": [],
   "source": [
    "def movingStdDev(df):\n",
    "    '''\n",
    "    For each sensor, compute the moving standard deviation with window size=5\n",
    "    '''\n",
    "    cols = [\"sensor1\",\"sensor2\",\"sensor3\",\"sensor4\",\"sensor5\",\"sensor6\",\"sensor7\",\"sensor8\",\\\n",
    "            \"sensor9\",\"sensor10\",\"sensor11\",\"sensor12\",\"sensor13\",\"sensor14\",\"sensor15\",\"sensor16\",\\\n",
    "            \"sensor17\",\"sensor18\",\"sensor19\",\"sensor20\",\"sensor21\"]\n",
    "    dfList = []\n",
    "    grp = df.groupby(level=0)\n",
    "    \n",
    "    for key, val in grp:\n",
    "        for c in cols:\n",
    "            mean = val[c][:10].mean()\n",
    "            newCol = \"mean_\"+c\n",
    "            val = val.assign(tmp = round(val[c]-mean,2))\n",
    "            val.rename(index=str, columns={\"tmp\": newCol}, inplace=True)\n",
    "        val.reset_index(inplace=True)\n",
    "        dfList.append(val)\n",
    "    df = pd.concat(dfList, ignore_index=True)\n",
    "    return df"
   ]
  },
  {
   "cell_type": "code",
   "execution_count": 4,
   "metadata": {},
   "outputs": [],
   "source": [
    "train = pd.read_csv(config[\"dataLoc\"] + \"trainMerged.csv\")\n",
    "train.set_index(\"unit\", inplace=True)\n",
    "\n",
    "test   = pd.read_csv(config[\"dataLoc\"] + \"testRUL.csv\")\n",
    "test.set_index(\"unit\", inplace=True)"
   ]
  },
  {
   "cell_type": "code",
   "execution_count": 5,
   "metadata": {},
   "outputs": [],
   "source": [
    "train = movingStdDev(train)\n",
    "test = movingStdDev(test)"
   ]
  },
  {
   "cell_type": "code",
   "execution_count": 6,
   "metadata": {},
   "outputs": [],
   "source": [
    "train.to_csv(config[\"dataLoc\"]+\"trainFinal.csv\", index=False)\n",
    "test.to_csv(config[\"dataLoc\"]+\"testFinal.csv\", index=False)"
   ]
  }
 ],
 "metadata": {
  "kernelspec": {
   "display_name": "Python 3",
   "language": "python",
   "name": "python3"
  },
  "language_info": {
   "codemirror_mode": {
    "name": "ipython",
    "version": 3
   },
   "file_extension": ".py",
   "mimetype": "text/x-python",
   "name": "python",
   "nbconvert_exporter": "python",
   "pygments_lexer": "ipython3",
   "version": "3.5.2"
  }
 },
 "nbformat": 4,
 "nbformat_minor": 2
}
