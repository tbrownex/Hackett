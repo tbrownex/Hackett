{
 "cells": [
  {
   "cell_type": "markdown",
   "metadata": {},
   "source": [
    "#### Models have been generated and saved; time to run them against Test  \n",
    "Test consists of the features (testMaster) and the labels (rulMaster)"
   ]
  },
  {
   "cell_type": "code",
   "execution_count": null,
   "metadata": {},
   "outputs": [],
   "source": [
    "import pandas as pd\n",
    "import numpy  as np\n",
    "import random\n",
    "import glob\n",
    "import pickle\n",
    "import matplotlib.pyplot as plt\n",
    "from setPandasOptions import setPandasOptions\n",
    "from getConfig import getConfig\n",
    "from calcMAPE import calcMAPE\n",
    "\n",
    "#setPandasOptions()"
   ]
  },
  {
   "cell_type": "code",
   "execution_count": null,
   "metadata": {},
   "outputs": [],
   "source": [
    "config = getConfig()\n",
    "\n",
    "df = pd.read_csv(config[\"dataLoc\"] + config[\"testFile\"])"
   ]
  },
  {
   "cell_type": "code",
   "execution_count": null,
   "metadata": {},
   "outputs": [],
   "source": [
    "df.set_index(\"unit\", inplace=True)\n",
    "grp = df.groupby(level=0)"
   ]
  },
  {
   "cell_type": "code",
   "execution_count": null,
   "metadata": {},
   "outputs": [],
   "source": [
    "def getMAPE(actuals, preds):\n",
    "    return abs((actuals[:10]-preds[:10])/actuals[:10]).mean()"
   ]
  },
  {
   "cell_type": "code",
   "execution_count": null,
   "metadata": {},
   "outputs": [],
   "source": [
    "def processModel(model):\n",
    "    '''\n",
    "    df is several operational cycles for a unit\n",
    "    Some time after the last cycle, failure occurred\n",
    "    The idea is to predict the RUL, after the last cycle\n",
    "    '''\n",
    "    errors = {}\n",
    "    comparisons = {}\n",
    "    for unit, cycles in grp:\n",
    "        actuals = cycles[\"RUL\"]\n",
    "        del cycles[\"RUL\"]\n",
    "        preds = model.predict(cycles)\n",
    "        error = calcMAPE(actuals, preds)\n",
    "        errors[unit] = error\n",
    "        comparisons[unit] = (actuals, preds)\n",
    "    return errors, comparisons"
   ]
  },
  {
   "cell_type": "code",
   "execution_count": null,
   "metadata": {},
   "outputs": [],
   "source": [
    "def getResults(errors):\n",
    "    best = 0.1\n",
    "    mid = 0.2\n",
    "    worst = .35\n",
    "    tier1 = {k: v for k, v in errors.items() if v < best}\n",
    "    tier2 = {k: v for k, v in errors.items() if v >= best and v < mid}\n",
    "    tier3 = {k: v for k, v in errors.items() if v >= mid and v < worst}\n",
    "    tier4 = {k: v for k, v in errors.items() if v > worst}\n",
    "    print(\"{:<8}{:<10}{}\".format(\"Tier\", \"Cutoff\", \"Count\"))\n",
    "    print(\"{:<8}{:<10.0%}{}\".format(1,best,len(tier1)))\n",
    "    print(\"{:<8}{:<10.0%}{}\".format(2,mid,len(tier2)))\n",
    "    print(\"{:<8}{:<10.0%}{}\".format(3,worst,len(tier3)))\n",
    "    print(\"{:<8}{}{:<9.0%}{}\".format(4,\">\",worst,len(tier4)))"
   ]
  },
  {
   "cell_type": "code",
   "execution_count": null,
   "metadata": {},
   "outputs": [],
   "source": [
    "def getModels():\n",
    "    return glob.glob(\"/home/tbrownex/RFmodel*\")"
   ]
  },
  {
   "cell_type": "code",
   "execution_count": null,
   "metadata": {},
   "outputs": [],
   "source": [
    "models = getModels()\n",
    "for fname in models:\n",
    "    print(\"model: \", fname)\n",
    "    model = pickle.load(open(fname, 'rb'))\n",
    "    errors, comparisons = processModel(model)\n",
    "    getResults(errors)"
   ]
  },
  {
   "cell_type": "code",
   "execution_count": null,
   "metadata": {},
   "outputs": [],
   "source": [
    "def plotComps(comparisons, x=None):\n",
    "    if x is None:\n",
    "        x = random.randint(1,len(comparisons))\n",
    "    actual = np.array(comparisons[x][0])\n",
    "    prediction = comparisons[x][1]\n",
    "    plt.plot(actual, label=\"actual\")\n",
    "    plt.plot(prediction, label=\"prediction\")\n",
    "    plt.legend(loc='upper right')\n",
    "    unit = \"Unit # \" + str(x)\n",
    "    plt.annotate(unit, xy=(0.05, 0.05), xycoords='axes fraction')\n",
    "    plt.show()"
   ]
  },
  {
   "cell_type": "code",
   "execution_count": null,
   "metadata": {
    "scrolled": true
   },
   "outputs": [],
   "source": [
    "'''while True:\n",
    "    plotComps(comparisons)\n",
    "    input()'''"
   ]
  },
  {
   "cell_type": "code",
   "execution_count": null,
   "metadata": {},
   "outputs": [],
   "source": [
    "tier4 = {k: v for k, v in errors.items() if v > .35}"
   ]
  },
  {
   "cell_type": "code",
   "execution_count": null,
   "metadata": {},
   "outputs": [],
   "source": [
    "for unit in tier4.keys():\n",
    "    plotComps(comparisons, unit)\n",
    "    input()"
   ]
  },
  {
   "cell_type": "code",
   "execution_count": null,
   "metadata": {},
   "outputs": [],
   "source": []
  }
 ],
 "metadata": {
  "kernelspec": {
   "display_name": "Python 3",
   "language": "python",
   "name": "python3"
  },
  "language_info": {
   "codemirror_mode": {
    "name": "ipython",
    "version": 3
   },
   "file_extension": ".py",
   "mimetype": "text/x-python",
   "name": "python",
   "nbconvert_exporter": "python",
   "pygments_lexer": "ipython3",
   "version": "3.5.2"
  }
 },
 "nbformat": 4,
 "nbformat_minor": 2
}
