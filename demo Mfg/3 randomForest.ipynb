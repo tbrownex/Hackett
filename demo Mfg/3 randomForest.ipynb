{
 "cells": [
  {
   "cell_type": "markdown",
   "metadata": {},
   "source": [
    "#### Run Random Forest\n",
    "Data consists of run times for matrix multiplication, using many different run-time options. The goal is to see what option set performs best (fastest run time)\n",
    "\n",
    "Create Train and Test datasets\n",
    "\n",
    "\n",
    "Run a generic version of RF to serve as a performance baseline\n",
    "\n",
    "Run \"randomSearch\" to narrow down the parameter space\n",
    "\n",
    "Run \"gridSearch\" to optimize the best parameters from randomSearch"
   ]
  },
  {
   "cell_type": "code",
   "execution_count": 1,
   "metadata": {},
   "outputs": [],
   "source": [
    "import pandas as pd\n",
    "import numpy  as np\n",
    "import time\n",
    "from sklearn.ensemble import RandomForestRegressor\n",
    "from sklearn.model_selection import train_test_split\n",
    "import evaluate\n",
    "import RFfeatureEval\n",
    "import itertools\n",
    "import pickle\n",
    "from setPandasOptions import setPandasOptions\n",
    "from getConfig import getConfig\n",
    "from getData import getData\n",
    "from prepData import prepData\n",
    "from calcRMSE import calcRMSE\n",
    "\n",
    "#setPandasOptions()"
   ]
  },
  {
   "cell_type": "code",
   "execution_count": 2,
   "metadata": {},
   "outputs": [],
   "source": [
    "def saveModel(model, count):\n",
    "    fname = \"RFmodel_\" + str(count)\n",
    "    pickle.dump(model, open(\"/home/tbrownex/\" + fname, 'wb'))"
   ]
  },
  {
   "cell_type": "code",
   "execution_count": 3,
   "metadata": {},
   "outputs": [],
   "source": [
    "config = getConfig()\n",
    "df = getData(config)\n",
    "data = prepData(df, config)"
   ]
  },
  {
   "cell_type": "code",
   "execution_count": 4,
   "metadata": {},
   "outputs": [
    {
     "name": "stdout",
     "output_type": "stream",
     "text": [
      "Feature        importance\n",
      "cycle          0.39\n",
      "sensor11       0.10\n",
      "sensor13       0.09\n",
      "sensor15       0.07\n",
      "sensor6        0.04\n",
      "sensor12       0.02\n",
      "sensor4        0.02\n",
      "mean_sensor13  0.02\n",
      "sensor9        0.02\n",
      "sensor14       0.02\n",
      "mean_sensor8   0.01\n",
      "sensor7        0.01\n",
      "mean_sensor14  0.01\n",
      "sensor8        0.01\n",
      "mean_sensor12  0.01\n",
      "mean_sensor7   0.01\n",
      "sensor2        0.01\n",
      "sensor3        0.01\n",
      "sensor21       0.01\n",
      "mean_sensor9   0.01\n",
      "mean_sensor11  0.01\n",
      "mean_sensor18  0.01\n",
      "mean_sensor4   0.01\n",
      "setting1       0.01\n",
      "mean_sensor6   0.01\n",
      "sensor20       0.01\n",
      "mean_sensor2   0.01\n",
      "mean_sensor15  0.01\n",
      "mean_sensor1   0.01\n",
      "mean_sensor17  0.01\n",
      "mean_sensor3   0.01\n",
      "mean_sensor20  0.00\n",
      "setting2       0.00\n",
      "mean_sensor10  0.00\n",
      "mean_sensor21  0.00\n",
      "mean_sensor5   0.00\n",
      "sensor17       0.00\n",
      "mean_sensor19  0.00\n",
      "sensor10       0.00\n",
      "mean_sensor16  0.00\n",
      "sensor16       0.00\n",
      "sensor18       0.00\n",
      "sensor5        0.00\n",
      "sensor1        0.00\n",
      "sensor19       0.00\n",
      "setting3       0.00\n"
     ]
    }
   ],
   "source": [
    "# Figure out if you need all the features\n",
    "regr = RandomForestRegressor(n_estimators=50)\n",
    "rf   = regr.fit(data[\"trainX\"], data[\"trainY\"])\n",
    "\n",
    "cols = RFfeatureEval.process(data[\"trainX\"].columns, rf)\n",
    "\n",
    "#keep  = [col[0] for col in cols if col[1] > .01]    # discard non-useful features\n",
    "#data[\"trainX\"] = data[\"trainX\"][keep]\n",
    "#data[\"testX\"]  = data[\"testX\"][keep]"
   ]
  },
  {
   "cell_type": "code",
   "execution_count": 5,
   "metadata": {},
   "outputs": [
    {
     "name": "stdout",
     "output_type": "stream",
     "text": [
      "Done with 1 of 1\n"
     ]
    }
   ],
   "source": [
    "node_size = [10]\n",
    "trees     = [50]\n",
    "leaf_size = [4]\n",
    "parms = list(itertools.product(node_size,trees,leaf_size))\n",
    "results = []\n",
    "count = 0\n",
    "\n",
    "for x in parms:\n",
    "    count += 1\n",
    "    node_size = x[0]\n",
    "    trees     = x[1]\n",
    "    leaf_size = x[2]\n",
    "    regr = RandomForestRegressor(n_estimators = trees,\\\n",
    "                                 min_samples_split = node_size,\\\n",
    "                                 min_samples_leaf = leaf_size)\n",
    "    rf    = regr.fit(data[\"trainX\"], data[\"trainY\"])\n",
    "    preds = rf.predict(data[\"testX\"])\n",
    "    #score = evaluate.process(preds, data[\"testY\"])\n",
    "    score = calcRMSE(data[\"testY\"], preds)\n",
    "    tmp = (count, x, score)\n",
    "    results.append(tmp)\n",
    "    saveModel(rf, count)\n",
    "    print(\"Done with {} of {}\".format(count, len(parms)))"
   ]
  },
  {
   "cell_type": "code",
   "execution_count": 7,
   "metadata": {},
   "outputs": [],
   "source": [
    "with open(\"/home/tbrownex/results.csv\", \"w\") as f:\n",
    "    hdr = \"count\"+\"|\"+\"nodes\"+\"|\"+\"trees\"+\"|\"+\"leafs\"+\"|\"+\"score\"+\"\\n\"\n",
    "    f.write(hdr)\n",
    "    for x in results:\n",
    "        count = x[0]\n",
    "        parms = x[1]\n",
    "        score = x[2]\n",
    "        nodes = parms[0]\n",
    "        trees = parms[1]\n",
    "        leafs = parms[2]\n",
    "        rec = str(count)+\"|\"+str(nodes)+\"|\"+str(trees)+\"|\"+str(leafs)+\"|\"+str(score)+\"\\n\"\n",
    "        f.write(rec)"
   ]
  },
  {
   "cell_type": "code",
   "execution_count": null,
   "metadata": {},
   "outputs": [],
   "source": []
  }
 ],
 "metadata": {
  "kernelspec": {
   "display_name": "Python 3",
   "language": "python",
   "name": "python3"
  },
  "language_info": {
   "codemirror_mode": {
    "name": "ipython",
    "version": 3
   },
   "file_extension": ".py",
   "mimetype": "text/x-python",
   "name": "python",
   "nbconvert_exporter": "python",
   "pygments_lexer": "ipython3",
   "version": "3.5.2"
  }
 },
 "nbformat": 4,
 "nbformat_minor": 2
}
