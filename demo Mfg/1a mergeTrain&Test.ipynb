{
 "cells": [
  {
   "cell_type": "markdown",
   "metadata": {},
   "source": [
    "#### Original data had \"train\" and \"test\" broken up into 4 files each, which is not necessary so merge them  \n",
    "Each of the original files had Units starting at 1 so when we merge, need to renumber the Unit so it's unique"
   ]
  },
  {
   "cell_type": "code",
   "execution_count": 1,
   "metadata": {},
   "outputs": [],
   "source": [
    "import pandas as pd\n",
    "from getConfig import getConfig"
   ]
  },
  {
   "cell_type": "code",
   "execution_count": 2,
   "metadata": {},
   "outputs": [],
   "source": [
    "config = getConfig()"
   ]
  },
  {
   "cell_type": "code",
   "execution_count": 3,
   "metadata": {},
   "outputs": [],
   "source": [
    "trainFiles = [\"train1.csv\", \"train2.csv\", \"train3.csv\", \"train4.csv\"]\n",
    "testFiles  = [\"test1.csv\", \"test2.csv\", \"test3.csv\", \"test4.csv\"]\n",
    "cols=[\"unit\",\"cycle\",\"setting1\",\"setting2\",\"setting3\",\\\n",
    "      \"sensor1\",\"sensor2\",\"sensor3\",\"sensor4\",\"sensor5\",\"sensor6\",\"sensor7\",\\\n",
    "      \"sensor8\",\"sensor9\",\"sensor10\",\"sensor11\",\"sensor12\",\"sensor13\",\"sensor14\",\\\n",
    "      \"sensor15\",\"sensor16\",\"sensor17\",\"sensor18\",\"sensor19\",\"sensor20\",\"sensor21\"]"
   ]
  },
  {
   "cell_type": "code",
   "execution_count": 4,
   "metadata": {},
   "outputs": [],
   "source": [
    "def process(df, total):\n",
    "    '''\n",
    "    Rename the columns\n",
    "    Renumber the Units\n",
    "    \"total\" is the number of unique Units already processed\n",
    "    '''\n",
    "    df.columns = cols\n",
    "    df[\"unit\"] += total\n",
    "    return df"
   ]
  },
  {
   "cell_type": "code",
   "execution_count": 5,
   "metadata": {},
   "outputs": [],
   "source": [
    "def mergeFiles(files):\n",
    "    dfList = []\n",
    "    total = 0          # This is the number of unique Units, used for renumbering\n",
    "    \n",
    "    for f in files:\n",
    "        df = pd.read_csv(config[\"dataLoc\"]+f)\n",
    "        df = process(df, total)\n",
    "        dfList.append(df)\n",
    "        total += len(df[\"unit\"].unique())   # Get the number of unique units processed in this file\n",
    "\n",
    "    return pd.concat(dfList)"
   ]
  },
  {
   "cell_type": "code",
   "execution_count": 6,
   "metadata": {},
   "outputs": [],
   "source": [
    "def calcRUL(df):\n",
    "    '''\n",
    "    For Training, each unit has a number of cycles (rows). The last cycle is the one where Failure \n",
    "    occurred. So if there are 20 cycles, then cycle 3 would have RUL of 16\n",
    "    '''\n",
    "    dfList = []\n",
    "    df.set_index(\"unit\", inplace=True)\n",
    "    grp = df.groupby(level=0)\n",
    "    \n",
    "    for key, val in grp:\n",
    "        cycles = val.shape[0]\n",
    "        val = val.assign(RUL = list(range(cycles-1, -1, -1)))\n",
    "        val.reset_index(inplace=True)\n",
    "        dfList.append(val)\n",
    "    df = pd.concat(dfList, ignore_index=True)\n",
    "    return df"
   ]
  },
  {
   "cell_type": "code",
   "execution_count": 7,
   "metadata": {},
   "outputs": [],
   "source": [
    "df = mergeFiles(trainFiles)\n",
    "df = calcRUL(df)\n",
    "df.to_csv(config[\"dataLoc\"]+\"trainMerged.csv\", index=False)"
   ]
  },
  {
   "cell_type": "code",
   "execution_count": 8,
   "metadata": {},
   "outputs": [],
   "source": [
    "df = mergeFiles(testFiles)\n",
    "df.to_csv(config[\"dataLoc\"]+\"testMerged.csv\", index=False)"
   ]
  }
 ],
 "metadata": {
  "kernelspec": {
   "display_name": "Python 3",
   "language": "python",
   "name": "python3"
  },
  "language_info": {
   "codemirror_mode": {
    "name": "ipython",
    "version": 3
   },
   "file_extension": ".py",
   "mimetype": "text/x-python",
   "name": "python",
   "nbconvert_exporter": "python",
   "pygments_lexer": "ipython3",
   "version": "3.5.2"
  }
 },
 "nbformat": 4,
 "nbformat_minor": 2
}
