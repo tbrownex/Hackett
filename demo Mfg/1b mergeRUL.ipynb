{
 "cells": [
  {
   "cell_type": "markdown",
   "metadata": {},
   "source": [
    "#### Same processing as \"mergeTest\" but for RUL  \n",
    "The link between the RUL files and Test files is the Unit. After running the two \"merge\" processes, the Units will be in sync"
   ]
  },
  {
   "cell_type": "code",
   "execution_count": 1,
   "metadata": {},
   "outputs": [],
   "source": [
    "import pandas as pd\n",
    "from getConfig import getConfig"
   ]
  },
  {
   "cell_type": "code",
   "execution_count": 2,
   "metadata": {},
   "outputs": [],
   "source": [
    "config = getConfig()"
   ]
  },
  {
   "cell_type": "code",
   "execution_count": 3,
   "metadata": {},
   "outputs": [],
   "source": [
    "files = [\"rul1.csv\", \"rul2.csv\", \"rul3.csv\", \"rul4.csv\"]\n",
    "cols = [\"RUL\"]"
   ]
  },
  {
   "cell_type": "code",
   "execution_count": 4,
   "metadata": {},
   "outputs": [],
   "source": [
    "def process(df, total):\n",
    "    '''\n",
    "    Renumber the Units\n",
    "    \"total\" is the number of unique Units already processed\n",
    "    '''\n",
    "    df.columns = cols\n",
    "    count = df.shape[0]\n",
    "    units = [x for x in range(total, total+count)]\n",
    "    df = df.assign(unit=units)\n",
    "    reorder = [\"unit\", \"RUL\"]\n",
    "    df= df[reorder]\n",
    "    return df"
   ]
  },
  {
   "cell_type": "code",
   "execution_count": 5,
   "metadata": {},
   "outputs": [],
   "source": [
    "dfList = []\n",
    "total = 1          # This is the number of unique Units, used for renumbering\n",
    "\n",
    "for f in files:\n",
    "    df = pd.read_csv(config[\"dataLoc\"]+f)\n",
    "    df = process(df, total)\n",
    "    dfList.append(df)\n",
    "    total += df.shape[0]   # Get the number of unique units processed in this file\n",
    "\n",
    "df = pd.concat(dfList)"
   ]
  },
  {
   "cell_type": "code",
   "execution_count": 6,
   "metadata": {},
   "outputs": [],
   "source": [
    "df.to_csv(config[\"dataLoc\"]+\"rulMerged.csv\", index=False)"
   ]
  }
 ],
 "metadata": {
  "kernelspec": {
   "display_name": "Python 3",
   "language": "python",
   "name": "python3"
  },
  "language_info": {
   "codemirror_mode": {
    "name": "ipython",
    "version": 3
   },
   "file_extension": ".py",
   "mimetype": "text/x-python",
   "name": "python",
   "nbconvert_exporter": "python",
   "pygments_lexer": "ipython3",
   "version": "3.5.2"
  }
 },
 "nbformat": 4,
 "nbformat_minor": 2
}
