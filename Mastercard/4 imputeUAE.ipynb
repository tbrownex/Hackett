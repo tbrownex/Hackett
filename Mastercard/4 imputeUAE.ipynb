{
 "cells": [
  {
   "cell_type": "code",
   "execution_count": 9,
   "metadata": {},
   "outputs": [],
   "source": [
    "import pandas as pd\n",
    "from config import getClient\n",
    "import numpy as np\n",
    "from dateutil import relativedelta\n",
    "\n",
    "DELIM = \"|\""
   ]
  },
  {
   "cell_type": "code",
   "execution_count": 21,
   "metadata": {},
   "outputs": [],
   "source": [
    "datalib = getClient(\"MC\")"
   ]
  },
  {
   "cell_type": "code",
   "execution_count": 22,
   "metadata": {},
   "outputs": [],
   "source": [
    "df = pd.read_csv(datalib+\"Processed.csv\")"
   ]
  },
  {
   "cell_type": "code",
   "execution_count": 23,
   "metadata": {},
   "outputs": [],
   "source": [
    "del df[\"index\"]\n",
    "df = df.set_index(\"Country\", drop=True)\n",
    "UAE = df.loc[\"United Arab Emirates\"]\n",
    "UAE = UAE.reset_index(drop=True)\n",
    "\n",
    "UAE[\"Date\"] = pd.to_datetime(UAE['Month'])\n",
    "del UAE[\"Month\"]"
   ]
  },
  {
   "cell_type": "code",
   "execution_count": 24,
   "metadata": {},
   "outputs": [],
   "source": [
    "cols = [\"Program\", \"Parent ICA\", \"Driver\", \"Date\"]\n",
    "UAE = UAE.sort_values(by=cols)\n",
    "UAE = UAE.set_index([\"Program\", \"Parent ICA\", \"Driver\"], drop=True)"
   ]
  },
  {
   "cell_type": "code",
   "execution_count": 26,
   "metadata": {},
   "outputs": [],
   "source": [
    "# If the series length is < the duration, you have missing data\n",
    "def checkMissing(df):\n",
    "    dates = val[\"Date\"]\n",
    "    diff  = relativedelta.relativedelta(dates.iloc[-1], dates[0])\n",
    "    duration = 12*diff.years + diff.months\n",
    "    if duration > (len(dates)-1):\n",
    "        return True\n",
    "    else:\n",
    "        return False"
   ]
  },
  {
   "cell_type": "code",
   "execution_count": null,
   "metadata": {},
   "outputs": [
    {
     "name": "stdout",
     "output_type": "stream",
     "text": [
      "('All Prepaid', 'United Arab Emirates_903195_HSBC Bank Middle East', 'Acquiring Domestic Cash Transactions')\n"
     ]
    }
   ],
   "source": [
    "for idx, val in UAE.groupby(level=[0, 1, 2]):\n",
    "    missing = checkMissing(val)\n",
    "    if missing:\n",
    "        print(idx)\n",
    "        input()\n",
    "    #writeRec(idx, score)\n",
    "output.close()"
   ]
  },
  {
   "cell_type": "code",
   "execution_count": null,
   "metadata": {},
   "outputs": [],
   "source": []
  }
 ],
 "metadata": {
  "kernelspec": {
   "display_name": "Python 3",
   "language": "python",
   "name": "python3"
  },
  "language_info": {
   "codemirror_mode": {
    "name": "ipython",
    "version": 3
   },
   "file_extension": ".py",
   "mimetype": "text/x-python",
   "name": "python",
   "nbconvert_exporter": "python",
   "pygments_lexer": "ipython3",
   "version": "3.5.2"
  }
 },
 "nbformat": 4,
 "nbformat_minor": 2
}
