{
 "cells": [
  {
   "cell_type": "markdown",
   "metadata": {},
   "source": [
    "#### Get forecast using both STL and ARIMA; compare"
   ]
  },
  {
   "cell_type": "code",
   "execution_count": 12,
   "metadata": {},
   "outputs": [],
   "source": [
    "from getDriver import getDriver\n",
    "from config import getClient\n",
    "import pandas as pd\n",
    "import numpy  as np\n",
    "import rpy2 as r\n",
    "from rpy2.robjects.packages import importr\n",
    "from rpy2.robjects import r, pandas2ri\n",
    "import matplotlib.pyplot as plt\n",
    "import operator\n",
    "from statsmodels.tsa.seasonal import seasonal_decompose\n",
    "from statsmodels.tsa.arima_model import ARIMA\n",
    "\n",
    "TEST_WEEKS = 6"
   ]
  },
  {
   "cell_type": "code",
   "execution_count": 13,
   "metadata": {},
   "outputs": [],
   "source": [
    "def getData():\n",
    "    dataloc = getClient(\"MC\")\n",
    "    \n",
    "    pkid = \"MasterCard Titanium Credit Card\tGG0000001166\tProcessed-Gross Domestic Cash Volume\"\n",
    "    tmp = pkid.split(sep=\"\\t\")\n",
    "    \n",
    "    country  = \"United Arab Emirates\"\n",
    "    program  = tmp[0]\n",
    "    customer = tmp[1]\n",
    "    driver   = tmp[2]\n",
    "    typ = \"P\"\n",
    "    dates, amounts = getDriver([country, program, customer, driver], typ)\n",
    "    \n",
    "    # Create Train and Test sets\n",
    "    train = {}\n",
    "    test = {}\n",
    "    train[\"Amount\"] = amounts[:-TEST_WEEKS]\n",
    "    test[\"Amount\"]  = amounts[-TEST_WEEKS:]\n",
    "    train[\"Dates\"]  = dates[:-TEST_WEEKS]\n",
    "    test[\"Dates\"]   = dates[-TEST_WEEKS:]\n",
    "    \n",
    "    # Make sure splitting train & test didn't lose any data\n",
    "    assert (amounts.sum() - train[\"Amount\"].sum() - test[\"Amount\"].sum() < 0.1 )\n",
    "    return train, test, dates, amounts"
   ]
  },
  {
   "cell_type": "code",
   "execution_count": 14,
   "metadata": {},
   "outputs": [],
   "source": [
    "# If you're forecasting for May, June and July in 2018 you need the seasonal\n",
    "# adjustment for May, June and July in 2017. You get those by subtracting 12 \n",
    "# from the seasonality index\n",
    "# \"dates\" holds the months to be forecast. The index is the week number\n",
    "def getSeasonality(dates, seasonality):\n",
    "    vals = []\n",
    "    for x in dates.index:\n",
    "        vals.append(seasonality[x-12])\n",
    "    return pd.Series(vals)"
   ]
  },
  {
   "cell_type": "code",
   "execution_count": 15,
   "metadata": {},
   "outputs": [],
   "source": [
    "# Get seaonality and trend using R and \"stl\"\n",
    "def decomposeSTL(series, frequency, s_window, log=False,  **kwargs):\n",
    "    series = series.values\n",
    "    df = pd.DataFrame()\n",
    "    if log: series = series.pipe(np.log)\n",
    "    s = [x for x in series]\n",
    "    length = len(series)\n",
    "    s = r.ts(s, frequency=frequency)\n",
    "    decomposed = [x for x in r.stl(s, s_window, robust=True).rx2('time.series')]\n",
    "    df['observed']  = series\n",
    "    df['trend']     = decomposed[length:2*length]\n",
    "    df['seasonal']  = decomposed[0:length]\n",
    "    df['residuals'] = decomposed[2*length:3*length]\n",
    "    return df"
   ]
  },
  {
   "cell_type": "code",
   "execution_count": 16,
   "metadata": {},
   "outputs": [],
   "source": [
    "# Get the MAPE between the inputs\n",
    "def getMAPE(compare, test):\n",
    "    diff = np.abs(compare-test)\n",
    "    MAPE = diff.values/test\n",
    "    return MAPE.mean()"
   ]
  },
  {
   "cell_type": "code",
   "execution_count": 17,
   "metadata": {},
   "outputs": [
    {
     "data": {
      "text/plain": [
       "'plt.plot( a, color = \"b\", label=\"train\")\\nplt.plot(train[\"Amount\"]/1000, color = \"b\", label=\"train\")\\nplt.plot(test[\"Amount\"]/1000, color = \"r\", label=\"test\")\\nplt.legend(loc=\\'upper right\\')\\nplt.title(\"Raw data\")\\nplt.show()'"
      ]
     },
     "execution_count": 17,
     "metadata": {},
     "output_type": "execute_result"
    }
   ],
   "source": [
    "train, test, d, a  = getData()\n",
    "\n",
    "'''plt.plot( a, color = \"b\", label=\"train\")\n",
    "plt.plot(train[\"Amount\"]/1000, color = \"b\", label=\"train\")\n",
    "plt.plot(test[\"Amount\"]/1000, color = \"r\", label=\"test\")\n",
    "plt.legend(loc='upper right')\n",
    "plt.title(\"Raw data\")\n",
    "plt.show()'''"
   ]
  },
  {
   "cell_type": "code",
   "execution_count": 18,
   "metadata": {},
   "outputs": [],
   "source": [
    "# Run the R function \"stl\" to get the Seasonal component\n",
    "# Then remove the seasonal to get the adjusted\n",
    "R = decomposeSTL(train[\"Amount\"], frequency=12, s_window=\"periodic\")\n",
    "Rseasonal = R[\"seasonal\"]\n",
    "Radjusted = train[\"Amount\"] - Rseasonal"
   ]
  },
  {
   "cell_type": "code",
   "execution_count": 19,
   "metadata": {},
   "outputs": [],
   "source": [
    "P = seasonal_decompose(train[\"Amount\"], freq=12, model='additive')\n",
    "Pseasonal = P.seasonal\n",
    "Padjusted = train[\"Amount\"] - Pseasonal"
   ]
  },
  {
   "cell_type": "code",
   "execution_count": null,
   "metadata": {},
   "outputs": [],
   "source": [
    "'''plt.figure(num=None, figsize=(12, 4), dpi=80, facecolor='w', edgecolor='k')\n",
    "plt.plot(train[\"Dates\"], Rseasonal, label=\"STL in R\")\n",
    "plt.plot(train[\"Dates\"], Pseasonal, label=\"Python\")\n",
    "plt.xticks(rotation=90)\n",
    "plt.title(\"Comparison of Seasonality in R and python\")\n",
    "plt.legend(loc='upper right')\n",
    "plt.show()'''"
   ]
  },
  {
   "cell_type": "code",
   "execution_count": null,
   "metadata": {},
   "outputs": [],
   "source": [
    "'''plt.figure(num=None, figsize=(12, 4), dpi=80, facecolor='w', edgecolor='k')\n",
    "plt.plot(train[\"Dates\"], Radjusted, label=\"R\")\n",
    "plt.plot(train[\"Dates\"], Padjusted, label=\"Python\")\n",
    "#plt.plot(train[\"Dates\"], train[\"Amount\"], label=\"original\")\n",
    "plt.xticks(rotation=90)\n",
    "plt.title(\"Comparison of Adjusted in R and python\")\n",
    "plt.legend(loc='upper right')\n",
    "plt.show()'''"
   ]
  },
  {
   "cell_type": "code",
   "execution_count": 20,
   "metadata": {},
   "outputs": [],
   "source": [
    "def getARIMAForecast(series, weeks):\n",
    "    model     = ARIMA(series, order=(0,1,1))\n",
    "    model_fit = model.fit(disp=0)\n",
    "    # print summary of fit model\n",
    "    #print(model_fit.summary())\n",
    "    # Default alpha (CI) is 5%\n",
    "    fcast, stderr, CI = model_fit.forecast(steps=weeks)\n",
    "    return fcast, stderr, CI"
   ]
  },
  {
   "cell_type": "code",
   "execution_count": 21,
   "metadata": {},
   "outputs": [],
   "source": [
    "fcast, stderr, CI = getARIMAForecast(train[\"Amount\"], 6)\n",
    "# Get the seasonal adjustments for the matching week\n",
    "seasonality = getSeasonality(test[\"Dates\"], Rseasonal)"
   ]
  },
  {
   "cell_type": "code",
   "execution_count": 22,
   "metadata": {},
   "outputs": [
    {
     "data": {
      "image/png": "[encoded data removed]",
      "text/plain": [
       "<Figure size 432x288 with 1 Axes>"
      ]
     },
     "metadata": {},
     "output_type": "display_data"
    }
   ],
   "source": [
    "plt.plot(test[\"Dates\"], fcast+seasonality, label=\"r\")\n",
    "plt.plot(test[\"Dates\"], test[\"Amount\"])\n",
    "plt.ylim(0)\n",
    "plt.show()"
   ]
  },
  {
   "cell_type": "code",
   "execution_count": null,
   "metadata": {},
   "outputs": [],
   "source": [
    "plt.figure(num=None, figsize=(12, 4), dpi=80, facecolor='w', edgecolor='k')\n",
    "plt.plot(test[\"Dates\"], fcast, label=\"fcast\")\n",
    "plt.plot(test[\"Dates\"], CI, label=\"CI\")\n",
    "plt.xticks(rotation=90)\n",
    "plt.title(\"Comparison of Seasonality in R and python\")\n",
    "plt.legend(loc='upper right')\n",
    "plt.ylim(0)\n",
    "plt.show()"
   ]
  },
  {
   "cell_type": "code",
   "execution_count": null,
   "metadata": {},
   "outputs": [],
   "source": [
    "forecast = model_fit.forecast(steps=TEST_WEEKS)[0]\n",
    "# Ensure \"forecast\" and \"test\" are for the same durations\n",
    "assert (forecast.shape[0] == test.shape[0])\n",
    "forecast += seasonal[-12:(-12+TEST_WEEKS)]"
   ]
  },
  {
   "cell_type": "code",
   "execution_count": null,
   "metadata": {},
   "outputs": [],
   "source": [
    "fcastMAPE = getMAPE(forecast, test)\n",
    "baseline  = np.array([train.iloc[-1]]*TEST_WEEKS)\n",
    "baseMAPE  = getMAPE(baseline, test)\n",
    "np.savetxt(\"/tmp/forecast.csv\", forecast)\n",
    "np.savetxt(\"/tmp/baseline.csv\", baseline)\n",
    "np.savetxt(\"/tmp/test.csv\", test)\n",
    "print(\"MAPE: {:.2%}\".format(fcastMAPE))\n",
    "print(\"MAPE: {:.2%}\".format(baseMAPE))"
   ]
  },
  {
   "cell_type": "code",
   "execution_count": null,
   "metadata": {},
   "outputs": [],
   "source": [
    "plt.plot(test.values, color=\"b\")\n",
    "plt.plot(forecast, color=\"r\")\n",
    "plt.show()"
   ]
  },
  {
   "cell_type": "code",
   "execution_count": null,
   "metadata": {},
   "outputs": [],
   "source": [
    "import itertools\n",
    "p = d = q = range(0, 2)\n",
    "pdq = list(itertools.product(p, d, q))\n",
    "\n",
    "seasonal_pdq = [(x[0], x[1], x[2], 12) for x in list(itertools.product(p, d, q))]"
   ]
  },
  {
   "cell_type": "code",
   "execution_count": null,
   "metadata": {},
   "outputs": [],
   "source": [
    "import statsmodels.api as sm\n",
    "lowest = 99999\n",
    "\n",
    "for param in pdq:\n",
    "    for param_seasonal in seasonal_pdq:\n",
    "        mod = sm.tsa.statespace.SARIMAX(train,\n",
    "                                        order=param,\n",
    "                                        seasonal_order=param_seasonal,\n",
    "                                        enforce_stationarity=False,\n",
    "                                        enforce_invertibility=False)\n",
    "        results = mod.fit()\n",
    "        if results.aic < lowest:\n",
    "            lowest = results.aic\n",
    "            save = (param, param_seasonal)\n",
    "print('ARIMA{}x{}12 - AIC:{}'.format(save[0], save[1], lowest))"
   ]
  },
  {
   "cell_type": "code",
   "execution_count": null,
   "metadata": {},
   "outputs": [],
   "source": [
    "mod = sm.tsa.statespace.SARIMAX(train,\n",
    "                                order=save[0],\n",
    "                                seasonal_order=save[1],\n",
    "                                enforce_stationarity=False,\n",
    "                                enforce_invertibility=False)\n",
    "results=mod.fit()"
   ]
  },
  {
   "cell_type": "code",
   "execution_count": null,
   "metadata": {},
   "outputs": [],
   "source": [
    "print(results.__doc__)"
   ]
  },
  {
   "cell_type": "code",
   "execution_count": null,
   "metadata": {},
   "outputs": [],
   "source": [
    "print(results.summary().tables[1])"
   ]
  },
  {
   "cell_type": "code",
   "execution_count": null,
   "metadata": {},
   "outputs": [],
   "source": [
    "results.plot_diagnostics(figsize=(16, 8))\n",
    "plt.show()"
   ]
  },
  {
   "cell_type": "code",
   "execution_count": null,
   "metadata": {},
   "outputs": [],
   "source": [
    "pred = results.get_prediction(start=pd.to_datetime('2017-01-01'), dynamic=False)\n",
    "pred_ci = pred.conf_int()\n",
    "ax = y['2014':].plot(label='observed')\n",
    "pred.predicted_mean.plot(ax=ax, label='One-step ahead Forecast', alpha=.7, figsize=(14, 7))\n",
    "ax.fill_between(pred_ci.index,\n",
    "                pred_ci.iloc[:, 0],\n",
    "                pred_ci.iloc[:, 1], color='k', alpha=.2)\n",
    "ax.set_xlabel('Date')\n",
    "ax.set_ylabel('Furniture Sales')\n",
    "plt.legend()\n",
    "plt.show()"
   ]
  },
  {
   "cell_type": "code",
   "execution_count": null,
   "metadata": {},
   "outputs": [],
   "source": []
  }
 ],
 "metadata": {
  "kernelspec": {
   "display_name": "Python 3",
   "language": "python",
   "name": "python3"
  },
  "language_info": {
   "codemirror_mode": {
    "name": "ipython",
    "version": 3
   },
   "file_extension": ".py",
   "mimetype": "text/x-python",
   "name": "python",
   "nbconvert_exporter": "python",
   "pygments_lexer": "ipython3",
   "version": "3.5.2"
  }
 },
 "nbformat": 4,
 "nbformat_minor": 2
}
