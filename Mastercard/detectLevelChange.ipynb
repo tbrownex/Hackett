{
 "cells": [
  {
   "cell_type": "code",
   "execution_count": 1,
   "metadata": {},
   "outputs": [],
   "source": [
    "import numpy as np\n",
    "from sklearn.cluster import KMeans\n",
    "import pandas as pd\n",
    "import matplotlib.pyplot as plt"
   ]
  },
  {
   "cell_type": "code",
   "execution_count": 67,
   "metadata": {},
   "outputs": [],
   "source": [
    "def func(series):\n",
    "    m = 1.5\n",
    "    b = 10\n",
    "    #return np.array((m*series + b))\n",
    "    return [np.random.randint(0,10) for x in series]"
   ]
  },
  {
   "cell_type": "code",
   "execution_count": 68,
   "metadata": {},
   "outputs": [],
   "source": [
    "def centerX(x):\n",
    "    l = len(x)\n",
    "    x = np.linspace(start=-3, stop=+3, num=l)\n",
    "    return np.reshape(x, [-1,1])"
   ]
  },
  {
   "cell_type": "code",
   "execution_count": 85,
   "metadata": {},
   "outputs": [
    {
     "data": {
      "text/plain": [
       "[<matplotlib.lines.Line2D at 0x7fe6e83f0748>]"
      ]
     },
     "execution_count": 85,
     "metadata": {},
     "output_type": "execute_result"
    },
    {
     "data": {
      "image/png": "[encoded data removed]",
      "text/plain": [
       "<Figure size 432x288 with 1 Axes>"
      ]
     },
     "metadata": {},
     "output_type": "display_data"
    }
   ],
   "source": [
    "x = np.array([x for x in range(40)])\n",
    "y = np.array(func(x))\n",
    "x = np.reshape(x, [-1,1])\n",
    "y = np.reshape(y, [-1,1])\n",
    "\n",
    "plt.plot(x,y)"
   ]
  },
  {
   "cell_type": "code",
   "execution_count": 86,
   "metadata": {},
   "outputs": [],
   "source": [
    "# Convert the dates to floats and center\n",
    "x = centerX(x)\n",
    "# Align the new x values with Y\n",
    "data = np.concatenate((x,y), axis=1)"
   ]
  },
  {
   "cell_type": "code",
   "execution_count": 121,
   "metadata": {},
   "outputs": [],
   "source": [
    "# Put into clusters\n",
    "segmentLength = int(len(x)/3)\n",
    "idx1 = y[:segmentLength]\n",
    "idx2 = y[segmentLength:-segmentLength]\n",
    "idx3 = y[-segmentLength:]\n",
    "c1 = np.array([idx1.mean(), x[:segmentLength].mean()])\n",
    "c2 = np.array([idx2.mean(), x[segmentLength:-segmentLength].mean()])\n",
    "c3 = np.array([idx3.mean(), x[-segmentLength:].mean()])\n",
    "centers = np.concatenate((c1,c2,c3))\n",
    "centers = np.reshape(centers, [3,2])"
   ]
  },
  {
   "cell_type": "code",
   "execution_count": 123,
   "metadata": {},
   "outputs": [
    {
     "name": "stderr",
     "output_type": "stream",
     "text": [
      "/home/tbrownex/tensorflow/lib/python3.5/site-packages/sklearn/cluster/k_means_.py:896: RuntimeWarning: Explicit initial center position passed: performing only one init in k-means instead of n_init=10\n",
      "  return_n_iter=True)\n"
     ]
    }
   ],
   "source": [
    "km = KMeans(n_clusters=3, init=centers).fit(data)"
   ]
  },
  {
   "cell_type": "code",
   "execution_count": 124,
   "metadata": {},
   "outputs": [
    {
     "data": {
      "text/plain": [
       "{0: array([ 2,  9, 10, 11, 13, 20, 29, 32, 35, 37]),\n",
       " 1: array([ 1,  4,  6, 14, 16, 17, 22, 28, 30, 33, 36, 39]),\n",
       " 2: array([ 0,  3,  5,  7,  8, 12, 15, 18, 19, 21, 23, 24, 25, 26, 27, 31, 34,\n",
       "        38])}"
      ]
     },
     "execution_count": 124,
     "metadata": {},
     "output_type": "execute_result"
    }
   ],
   "source": [
    "# Get the members of each cluster\n",
    "d = {i: np.where(km.labels_ == i)[0] for i in range(km.n_clusters)}\n",
    "d"
   ]
  },
  {
   "cell_type": "code",
   "execution_count": 89,
   "metadata": {},
   "outputs": [],
   "source": [
    "groups = []\n",
    "for n in range(km.n_clusters):\n",
    "    groups.append(data[d[n]])"
   ]
  },
  {
   "cell_type": "code",
   "execution_count": 91,
   "metadata": {},
   "outputs": [
    {
     "data": {
      "text/plain": [
       "array([[-0.12820513,  4.16666667],\n",
       "       [ 0.04615385,  7.9       ],\n",
       "       [ 0.15384615,  0.5       ]])"
      ]
     },
     "execution_count": 91,
     "metadata": {},
     "output_type": "execute_result"
    }
   ],
   "source": [
    "km.cluster_centers_"
   ]
  },
  {
   "cell_type": "code",
   "execution_count": null,
   "metadata": {},
   "outputs": [],
   "source": [
    "newlist = sorted(g, key=lambda x: x.count, reverse=True)"
   ]
  },
  {
   "cell_type": "code",
   "execution_count": 49,
   "metadata": {},
   "outputs": [
    {
     "name": "stdout",
     "output_type": "stream",
     "text": [
      "[[-3.         10.        ]\n",
      " [-2.84615385 11.5       ]\n",
      " [-2.69230769 13.        ]\n",
      " [-2.53846154 14.5       ]\n",
      " [-2.38461538 16.        ]\n",
      " [-2.23076923 17.5       ]\n",
      " [-2.07692308 19.        ]\n",
      " [-1.92307692 20.5       ]\n",
      " [-1.76923077 22.        ]\n",
      " [-1.61538462 23.5       ]\n",
      " [-1.46153846 25.        ]\n",
      " [-1.30769231 26.5       ]\n",
      " [-1.15384615 28.        ]]\n",
      "\n",
      "[[ 1.15384615 50.5       ]\n",
      " [ 1.30769231 52.        ]\n",
      " [ 1.46153846 53.5       ]\n",
      " [ 1.61538462 55.        ]\n",
      " [ 1.76923077 56.5       ]\n",
      " [ 1.92307692 58.        ]\n",
      " [ 2.07692308 59.5       ]\n",
      " [ 2.23076923 61.        ]\n",
      " [ 2.38461538 62.5       ]\n",
      " [ 2.53846154 64.        ]\n",
      " [ 2.69230769 65.5       ]\n",
      " [ 2.84615385 67.        ]\n",
      " [ 3.         68.5       ]]\n",
      "\n",
      "[[-1.         29.5       ]\n",
      " [-0.84615385 31.        ]\n",
      " [-0.69230769 32.5       ]\n",
      " [-0.53846154 34.        ]\n",
      " [-0.38461538 35.5       ]\n",
      " [-0.23076923 37.        ]\n",
      " [-0.07692308 38.5       ]\n",
      " [ 0.07692308 40.        ]\n",
      " [ 0.23076923 41.5       ]\n",
      " [ 0.38461538 43.        ]\n",
      " [ 0.53846154 44.5       ]\n",
      " [ 0.69230769 46.        ]\n",
      " [ 0.84615385 47.5       ]\n",
      " [ 1.         49.        ]]\n",
      "\n"
     ]
    }
   ],
   "source": [
    "for g in groups:\n",
    "    print(g)\n",
    "    input()"
   ]
  },
  {
   "cell_type": "code",
   "execution_count": 116,
   "metadata": {},
   "outputs": [],
   "source": [
    "def getStats(g):\n",
    "    return (g.mean(), g.std())"
   ]
  },
  {
   "cell_type": "code",
   "execution_count": 117,
   "metadata": {},
   "outputs": [],
   "source": [
    "mu, std = getStats(g1)"
   ]
  },
  {
   "cell_type": "code",
   "execution_count": 75,
   "metadata": {},
   "outputs": [],
   "source": [
    "earliest = km.cluster_centers_[earliest]\n",
    "latest = km.cluster_centers_[latest]\n",
    "mid = km.cluster_centers_[mid]"
   ]
  },
  {
   "cell_type": "code",
   "execution_count": 59,
   "metadata": {},
   "outputs": [
    {
     "data": {
      "text/plain": [
       "array([[ 2.0000000e+00,  5.8750000e+01],\n",
       "       [-2.0000000e+00,  1.9750000e+01],\n",
       "       [ 1.6283271e-16,  3.9250000e+01]])"
      ]
     },
     "execution_count": 59,
     "metadata": {},
     "output_type": "execute_result"
    }
   ],
   "source": [
    "first = km.cluster_centers_[earliest]"
   ]
  }
 ],
 "metadata": {
  "kernelspec": {
   "display_name": "Python 3",
   "language": "python",
   "name": "python3"
  },
  "language_info": {
   "codemirror_mode": {
    "name": "ipython",
    "version": 3
   },
   "file_extension": ".py",
   "mimetype": "text/x-python",
   "name": "python",
   "nbconvert_exporter": "python",
   "pygments_lexer": "ipython3",
   "version": "3.5.2"
  }
 },
 "nbformat": 4,
 "nbformat_minor": 2
}
