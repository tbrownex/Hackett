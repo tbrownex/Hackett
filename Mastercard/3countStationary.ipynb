{
 "cells": [
  {
   "cell_type": "code",
   "execution_count": 1,
   "metadata": {},
   "outputs": [],
   "source": [
    "import pandas as pd\n",
    "from checkStationary import ADF\n",
    "import numpy as np\n",
    "from dateutil import relativedelta\n",
    "from config import getClient"
   ]
  },
  {
   "cell_type": "code",
   "execution_count": 2,
   "metadata": {},
   "outputs": [],
   "source": [
    "datalib = getClient(\"MC\")"
   ]
  },
  {
   "cell_type": "code",
   "execution_count": 3,
   "metadata": {},
   "outputs": [],
   "source": [
    "def getData(typ):\n",
    "    assert (typ in [\"P\", \"R\"])\n",
    "    if typ == \"P\":\n",
    "        df = pd.read_csv(datalib+\"Processed.csv\")\n",
    "    else:\n",
    "        df = pd.read_csv(datalib+\"Reported.csv\")\n",
    "    \n",
    "    df[\"Date\"] = pd.to_datetime(df['Month'])\n",
    "    del df[\"Month\"]\n",
    "    \n",
    "    cols = [\"Country\", \"Program\", \"Parent ICA\", \"Driver\", \"Date\", \"Value\"]\n",
    "    df = df[cols]\n",
    "    \n",
    "    sort = [\"Country\", \"Program\", \"Parent ICA\", \"Driver\", \"Date\"]\n",
    "    df = df.sort_values(sort)\n",
    "    df = df.set_index([\"Country\", \"Program\", \"Parent ICA\", \"Driver\"], drop=True)\n",
    "    return df"
   ]
  },
  {
   "cell_type": "code",
   "execution_count": 4,
   "metadata": {},
   "outputs": [],
   "source": [
    "def writeResults(pkid, typ):\n",
    "    DELIM = \"|\"\n",
    "    assert (typ in [\"P\", \"R\"])\n",
    "    if typ == \"P\":\n",
    "        filenm = \"Processed+Results.csv\"\n",
    "    else:\n",
    "        filenm = \"Reported+Results.csv\"\n",
    "    with open(datalib+filenm, \"w\") as output:\n",
    "        hdr = \"Country\" +DELIM+ \"Program\"+DELIM+\"Parent ICA\"+DELIM+\"Driver\"+\\\n",
    "        DELIM+\"Length\"+DELIM+\"Density\"+DELIM+\"Stationary\"\n",
    "        hdr += \"\\n\"\n",
    "        output.write(hdr)\n",
    "        for key, val in pkid.items():\n",
    "            key = key[0] +DELIM+ key[1] +DELIM+ key[2] +DELIM+ key[3]\n",
    "            rec = str(val[\"length\"]) +DELIM+ str(val[\"density\"]) +DELIM+ str(val[\"stationary\"])\n",
    "            rec = key +DELIM+ rec + \"\\n\"\n",
    "            output.write(rec)"
   ]
  },
  {
   "cell_type": "code",
   "execution_count": 5,
   "metadata": {},
   "outputs": [],
   "source": [
    "def processDF(df, typ):\n",
    "    pkid    = {}\n",
    "\n",
    "    prt = False\n",
    "    CI = \"5%\"\n",
    "\n",
    "    for idx, val in df.groupby(level=[0, 1, 2, 3]):\n",
    "        results = {}\n",
    "        amounts = val[\"Value\"]\n",
    "        results[\"length\"] = len(amounts)\n",
    "        amounts = amounts.reset_index(drop=True)\n",
    "        if results[\"length\"] > 8:\n",
    "            results[\"stationary\"] = ADF(amounts, CI, prt)\n",
    "        else:\n",
    "            results[\"stationary\"] = None\n",
    "        dates = val[\"Date\"]\n",
    "        dates = dates.reset_index(drop=True)\n",
    "        diff = relativedelta.relativedelta(dates.iloc[-1], dates[0])\n",
    "        duration = 12*diff.years + diff.months\n",
    "        if duration > 0:\n",
    "            if typ == \"R\":\n",
    "                results[\"density\"] = (len(dates)-1)*3  / duration\n",
    "            else:\n",
    "                results[\"density\"] = (len(dates)-1)  / duration\n",
    "        else:\n",
    "            results[\"density\"] = None\n",
    "        pkid[idx] = results\n",
    "    return pkid"
   ]
  },
  {
   "cell_type": "code",
   "execution_count": 7,
   "metadata": {},
   "outputs": [
    {
     "name": "stderr",
     "output_type": "stream",
     "text": [
      "/home/tbrownex/tensorflow/lib/python3.5/site-packages/statsmodels/regression/linear_model.py:1510: RuntimeWarning: divide by zero encountered in double_scalars\n",
      "  return np.dot(wresid, wresid) / self.df_resid\n",
      "/home/tbrownex/tensorflow/lib/python3.5/site-packages/statsmodels/regression/linear_model.py:846: RuntimeWarning: divide by zero encountered in log\n",
      "  llf = -nobs2*np.log(2*np.pi) - nobs2*np.log(ssr / nobs) - nobs2\n",
      "/home/tbrownex/tensorflow/lib/python3.5/site-packages/statsmodels/base/model.py:1100: RuntimeWarning: invalid value encountered in true_divide\n",
      "  return self.params / self.bse\n"
     ]
    }
   ],
   "source": [
    "typ = \"R\"\n",
    "df = getData(typ)\n",
    "results = processDF(df, typ)\n",
    "writeResults(results, typ)\n",
    "\n",
    "typ = \"P\"\n",
    "df = getData(typ)\n",
    "results = processDF(df, typ)\n",
    "writeResults(results, typ)"
   ]
  }
 ],
 "metadata": {
  "kernelspec": {
   "display_name": "Python 3",
   "language": "python",
   "name": "python3"
  },
  "language_info": {
   "codemirror_mode": {
    "name": "ipython",
    "version": 3
   },
   "file_extension": ".py",
   "mimetype": "text/x-python",
   "name": "python",
   "nbconvert_exporter": "python",
   "pygments_lexer": "ipython3",
   "version": "3.5.2"
  }
 },
 "nbformat": 4,
 "nbformat_minor": 2
}
