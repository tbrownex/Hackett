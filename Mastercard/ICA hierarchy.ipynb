{
 "cells": [
  {
   "cell_type": "code",
   "execution_count": 7,
   "metadata": {},
   "outputs": [],
   "source": [
    "import pandas as pd\n",
    "\n",
    "PATH = \"/home/tbrownex/data/Hackett/Mastercard/\"\n",
    "FILE = \"PrismHierarchy.csv\""
   ]
  },
  {
   "cell_type": "code",
   "execution_count": 55,
   "metadata": {},
   "outputs": [],
   "source": [
    "df = pd.read_csv(PATH+FILE)"
   ]
  },
  {
   "cell_type": "markdown",
   "metadata": {},
   "source": [
    "##### All Regions"
   ]
  },
  {
   "cell_type": "code",
   "execution_count": 56,
   "metadata": {},
   "outputs": [
    {
     "name": "stdout",
     "output_type": "stream",
     "text": [
      "Number of unique Parent ICAs: 2,975\n",
      "Number of unique GrandParent ICAs: 2,903\n"
     ]
    }
   ],
   "source": [
    "print(\"Number of unique Parent ICAs: {:,.0f}\".format(len(df[\"PARENT_ICA\"].unique())))\n",
    "print(\"Number of unique GrandParent ICAs: {:,.0f}\".format(len(df[\"GRAND_PARENT_ID\"].unique())))"
   ]
  },
  {
   "cell_type": "markdown",
   "metadata": {},
   "source": [
    "##### MEA only"
   ]
  },
  {
   "cell_type": "code",
   "execution_count": 57,
   "metadata": {},
   "outputs": [],
   "source": [
    "MEA = df.loc[df[\"REGION_NAME\"]=='Middle East/Africa']"
   ]
  },
  {
   "cell_type": "code",
   "execution_count": 58,
   "metadata": {},
   "outputs": [
    {
     "name": "stdout",
     "output_type": "stream",
     "text": [
      "Number of unique Parent ICAs: 383\n",
      "Number of unique GrandParent ICAs: 365\n"
     ]
    }
   ],
   "source": [
    "print(\"Number of unique Parent ICAs: {:,.0f}\".format(len(MEA[\"PARENT_ICA\"].unique())))\n",
    "print(\"Number of unique GrandParent ICAs: {:,.0f}\".format(len(MEA[\"GRAND_PARENT_ID\"].unique())))"
   ]
  },
  {
   "cell_type": "code",
   "execution_count": 67,
   "metadata": {},
   "outputs": [
    {
     "data": {
      "text/plain": [
       "[]"
      ]
     },
     "execution_count": 67,
     "metadata": {},
     "output_type": "execute_result"
    }
   ],
   "source": [
    "# See if any Parent ICAs are shared across Regions\n",
    "share = [x for x in A if x in B]\n",
    "share"
   ]
  }
 ],
 "metadata": {
  "kernelspec": {
   "display_name": "Python 3",
   "language": "python",
   "name": "python3"
  },
  "language_info": {
   "codemirror_mode": {
    "name": "ipython",
    "version": 3
   },
   "file_extension": ".py",
   "mimetype": "text/x-python",
   "name": "python",
   "nbconvert_exporter": "python",
   "pygments_lexer": "ipython3",
   "version": "3.5.2"
  }
 },
 "nbformat": 4,
 "nbformat_minor": 2
}
