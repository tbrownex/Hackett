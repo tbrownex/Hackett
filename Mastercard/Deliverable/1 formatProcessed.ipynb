{
 "cells": [
  {
   "cell_type": "code",
   "execution_count": 1,
   "metadata": {},
   "outputs": [],
   "source": [
    "import pandas as pd\n",
    "from dateutil import parser\n",
    "import datetime"
   ]
  },
  {
   "cell_type": "code",
   "execution_count": 4,
   "metadata": {},
   "outputs": [],
   "source": [
    "datalib = \"/home/tbrowne/Mastercard/\""
   ]
  },
  {
   "cell_type": "code",
   "execution_count": 5,
   "metadata": {
    "scrolled": true
   },
   "outputs": [],
   "source": [
    "cols = [\"Country\", \"Program\", \"Customer\", \"Driver\", \"Month\", \"Amount\"]\n",
    "df = pd.read_csv(datalib+\"mea-processed_1Aug2018.csv\",names=cols)"
   ]
  },
  {
   "cell_type": "code",
   "execution_count": 6,
   "metadata": {},
   "outputs": [],
   "source": [
    "# Convert their date format to a standard date\n",
    "df[\"Month\"] = df[\"Month\"].apply(parser.parse)"
   ]
  },
  {
   "cell_type": "code",
   "execution_count": 7,
   "metadata": {},
   "outputs": [
    {
     "name": "stdout",
     "output_type": "stream",
     "text": [
      "Full dataset runs from 2015-01-01 00:00:00 - 2018-05-01 00:00:00\n"
     ]
    }
   ],
   "source": [
    "monthMin = df[\"Month\"].min()\n",
    "monthMax = df[\"Month\"].max()\n",
    "print(\"Full dataset runs from {} - {}\".format(monthMin, monthMax))\n",
    "fullVolume = df[\"Amount\"].sum()"
   ]
  },
  {
   "cell_type": "markdown",
   "metadata": {},
   "source": [
    "###### Select only the top 12 countries"
   ]
  },
  {
   "cell_type": "code",
   "execution_count": 8,
   "metadata": {
    "scrolled": true
   },
   "outputs": [
    {
     "name": "stdout",
     "output_type": "stream",
     "text": [
      "295,318 rows removed due to Country filter, leaving 308,637\n",
      "Twelve countries runs from 2015-01-01 00:00:00 - 2018-05-01 00:00:00\n",
      "Twelve countries account for 89.0% of the Volume\n"
     ]
    }
   ],
   "source": [
    "before = df.shape[0]\n",
    "countries = ['United Arab Emirates', 'South Africa', 'Saudi Arabia', 'Nigeria', 'Egypt',\\\n",
    "            'Qatar', 'Lebanon', 'Kuwait', 'Pakistan', 'Jordan','Libya', 'Tunisia']\n",
    "df = df.loc[df[\"Country\"].isin(countries)]\n",
    "after = df.shape[0]\n",
    "diff = before - after\n",
    "print(\"{:,.0f} rows removed due to Country filter, leaving {:,.0f}\".\\\n",
    "      format(diff, after))\n",
    "monthMin = df[\"Month\"].min()\n",
    "monthMax = df[\"Month\"].max()\n",
    "print(\"Twelve countries runs from {} - {}\".format(monthMin, monthMax))\n",
    "twelveVolume = df[\"Amount\"].sum()\n",
    "pct = twelveVolume/fullVolume\n",
    "print(\"Twelve countries account for {:.1%} of the Volume\".format(pct))"
   ]
  },
  {
   "cell_type": "markdown",
   "metadata": {},
   "source": [
    "###### Remove \"Losses\", which are when we don't have recent data for a Country/Program/Customer combination"
   ]
  },
  {
   "cell_type": "code",
   "execution_count": 9,
   "metadata": {},
   "outputs": [],
   "source": [
    "output = open(datalib+\"Wins and Losses.txt\", \"w\")"
   ]
  },
  {
   "cell_type": "code",
   "execution_count": 10,
   "metadata": {},
   "outputs": [],
   "source": [
    "def report(idx, indicator):\n",
    "    rec = \"|\".join(idx)\n",
    "    rec = rec +\"|\"+ indicator +\"\\n\"\n",
    "    output.write(rec)"
   ]
  },
  {
   "cell_type": "code",
   "execution_count": 11,
   "metadata": {},
   "outputs": [],
   "source": [
    "# \"Win\" is when you have a recent customer so not enough data to forecast\n",
    "# \"Loss\" is when you don't have recent data, so no longer active/relevant\n",
    "def removeWinsandLosses(df, cutoff):\n",
    "    sort = [\"Country\", \"Program\", \"Customer\", \"Driver\", \"Month\"]\n",
    "    df = df.sort_values(sort)\n",
    "    df = df.set_index([\"Country\", \"Program\", \"Customer\", \"Driver\"], drop=True)\n",
    "    cutoff = datetime.datetime.strptime(cutoff, \"%Y-%m-%d\")\n",
    "    loss = 0\n",
    "    win  = 0\n",
    "\n",
    "    for idx, val in df.groupby(level=[0, 1, 2, 3]):\n",
    "        dates = val[\"Month\"]\n",
    "        if dates.iloc[-1] < cutoff:    # Check for Loss\n",
    "            report(idx, \"L\")\n",
    "            df = df.drop(idx)\n",
    "            loss += 1\n",
    "        else:                        # Check for Win\n",
    "            if len(dates) < 12:\n",
    "                win += 1\n",
    "                report(idx, \"W\")\n",
    "                df = df.drop(idx)\n",
    "    print(\"{:,.0f} Loss and {:,.0f} wins\".format(loss, win))\n",
    "    return df.reset_index()"
   ]
  },
  {
   "cell_type": "code",
   "execution_count": 12,
   "metadata": {},
   "outputs": [
    {
     "name": "stdout",
     "output_type": "stream",
     "text": [
      "1,396 Loss and 1,052 wins\n"
     ]
    }
   ],
   "source": [
    "df = df.reset_index()\n",
    "df = removeWinsandLosses(df, \"2018-01-30\")\n",
    "\n",
    "output.close()"
   ]
  },
  {
   "cell_type": "code",
   "execution_count": 13,
   "metadata": {},
   "outputs": [],
   "source": [
    "df.to_csv(datalib+\"Processed.csv\", sep=\",\", index=False)"
   ]
  }
 ],
 "metadata": {
  "kernelspec": {
   "display_name": "Python 3",
   "language": "python",
   "name": "python3"
  },
  "language_info": {
   "codemirror_mode": {
    "name": "ipython",
    "version": 3
   },
   "file_extension": ".py",
   "mimetype": "text/x-python",
   "name": "python",
   "nbconvert_exporter": "python",
   "pygments_lexer": "ipython3",
   "version": "3.5.2"
  }
 },
 "nbformat": 4,
 "nbformat_minor": 2
}
