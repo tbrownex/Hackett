{
 "cells": [
  {
   "cell_type": "code",
   "execution_count": 1,
   "metadata": {},
   "outputs": [],
   "source": [
    "import pandas as pd\n",
    "import numpy as np\n",
    "\n",
    "DELIM = \"|\""
   ]
  },
  {
   "cell_type": "code",
   "execution_count": 2,
   "metadata": {},
   "outputs": [],
   "source": [
    "datalib = \"/home/tbrownex/Mastercard/\""
   ]
  },
  {
   "cell_type": "code",
   "execution_count": 3,
   "metadata": {},
   "outputs": [],
   "source": [
    "output = open(datalib+\"scoredUAE.csv\", \"w\")"
   ]
  },
  {
   "cell_type": "code",
   "execution_count": 4,
   "metadata": {},
   "outputs": [],
   "source": [
    "df = pd.read_csv(datalib+\"Processed.csv\")"
   ]
  },
  {
   "cell_type": "code",
   "execution_count": 5,
   "metadata": {},
   "outputs": [],
   "source": [
    "del df[\"index\"]\n",
    "df = df.set_index(\"Country\", drop=True)\n",
    "UAE = df.loc[\"United Arab Emirates\"]\n",
    "UAE = UAE.reset_index(drop=True)"
   ]
  },
  {
   "cell_type": "code",
   "execution_count": 6,
   "metadata": {},
   "outputs": [],
   "source": [
    "cols = [\"Program\", \"Customer\", \"Driver\", \"Month\"]\n",
    "UAE = UAE.sort_values(by=cols)\n",
    "UAE = UAE.set_index([\"Program\", \"Customer\", \"Driver\"], drop=True)"
   ]
  },
  {
   "cell_type": "code",
   "execution_count": 7,
   "metadata": {},
   "outputs": [],
   "source": [
    "# input is a dataframe with the Month and Value for the PKID\n",
    "def scoreSeries(df):\n",
    "    df = df.tail(6)\n",
    "    if df[\"Amount\"].sum() > 100:\n",
    "        df[\"logPctChg\"] = abs(np.log(df[\"Amount\"]) - np.log(df[\"Amount\"].shift(1)))\n",
    "        total = df[\"logPctChg\"].sum()\n",
    "    else:\n",
    "        total = 99\n",
    "    return total"
   ]
  },
  {
   "cell_type": "code",
   "execution_count": 8,
   "metadata": {},
   "outputs": [],
   "source": [
    "def writeRec(pkid, score):\n",
    "    key = DELIM.join(pkid)\n",
    "    rec = key +DELIM+ str(score) + \"\\n\"\n",
    "    output.write(rec)"
   ]
  },
  {
   "cell_type": "code",
   "execution_count": 9,
   "metadata": {},
   "outputs": [
    {
     "name": "stderr",
     "output_type": "stream",
     "text": [
      "/home/tbrownex/tensorflow/lib/python3.5/site-packages/ipykernel_launcher.py:5: SettingWithCopyWarning: \n",
      "A value is trying to be set on a copy of a slice from a DataFrame.\n",
      "Try using .loc[row_indexer,col_indexer] = value instead\n",
      "\n",
      "See the caveats in the documentation: http://pandas.pydata.org/pandas-docs/stable/indexing.html#indexing-view-versus-copy\n",
      "  \"\"\"\n"
     ]
    },
    {
     "name": "stdout",
     "output_type": "stream",
     "text": [
      "Skipping ('Mastercard Platinum Credit and Charge Less Titanium', 'GG0000001281', 'Processed-Acquiring Intra Purchase $ INET NI')\n",
      "Skipping ('Mastercard Platinum Credit and Charge Less Titanium', 'GG0000001281', 'Processed-Issuing Intra Purchase $ INET NI')\n",
      "Skipping ('Mastercard Platinum Credit and Charge Less Titanium', 'GG0000004490', 'Processed-Gross Domestic Cash Volume')\n",
      "Skipping ('Mastercard Platinum Credit and Charge Less Titanium', 'GG0000004490', 'Processed-Gross Intl Cash Volume')\n",
      "Skipping ('Mastercard Platinum Credit and Charge Less Titanium', 'GG0000004490', 'Processed-Gross Intl Purchase Volume')\n",
      "Skipping ('Mastercard Platinum Credit and Charge Less Titanium', 'GG0000004490', 'Processed-Issuing Intra Purchase $ INET MC')\n",
      "Skipping ('Mastercard Platinum Credit and Charge Less Titanium', 'GG0000006289', 'Processed-Gross Domestic Cash Volume')\n",
      "Skipping ('Mastercard Platinum Credit and Charge Less Titanium', 'GG0000006289', 'Processed-Gross Intl Cash Volume')\n",
      "Skipping ('Mastercard Platinum Credit and Charge Less Titanium', 'GG0000006289', 'Processed-Gross Intl Purchase Volume')\n",
      "Skipping ('Mastercard Platinum Credit and Charge Less Titanium', 'GG0000006289', 'Processed-Issuing Intra Purchase $ INET MC')\n",
      "Skipping ('Mastercard Platinum Credit and Charge Less Titanium', 'GG0000006499', 'Processed-Gross Domestic Cash Volume')\n",
      "Skipping ('Mastercard Platinum Credit and Charge Less Titanium', 'GG0000006499', 'Processed-Gross Intl Cash Volume')\n",
      "Skipping ('Mastercard Platinum Credit and Charge Less Titanium', 'GG0000006499', 'Processed-Gross Intl Purchase Volume')\n",
      "Skipping ('Mastercard Platinum Credit and Charge Less Titanium', 'GG0000006499', 'Processed-Issuing Intra Purchase $ INET MC')\n",
      "Skipping ('Mastercard Platinum Credit and Charge Less Titanium', 'GG0000006956', 'Processed-Gross Domestic Cash Volume')\n",
      "Skipping ('Mastercard Platinum Credit and Charge Less Titanium', 'GG0000006956', 'Processed-Gross Intl Cash Volume')\n",
      "Skipping ('Mastercard Platinum Credit and Charge Less Titanium', 'GG0000006956', 'Processed-Gross Intl Purchase Volume')\n",
      "Skipping ('Mastercard Platinum Credit and Charge Less Titanium', 'GG0000006956', 'Processed-Issuing Intra Purchase $ INET MC')\n",
      "Skipping ('Mastercard Platinum Debit Less Titanium', 'GG0000006509', 'Processed-Gross Intl Cash Volume')\n",
      "Skipping ('Mastercard Platinum Debit Less Titanium', 'GG0000006509', 'Processed-Gross Intl Purchase Volume')\n",
      "Skipping ('Mastercard Platinum Debit Less Titanium', 'GG0000006509', 'Processed-Issuing Intra Purchase $ INET MC')\n"
     ]
    },
    {
     "name": "stderr",
     "output_type": "stream",
     "text": [
      "/home/tbrownex/tensorflow/lib/python3.5/site-packages/ipykernel_launcher.py:5: RuntimeWarning: invalid value encountered in log\n",
      "  \"\"\"\n"
     ]
    }
   ],
   "source": [
    "for idx, val in UAE.groupby(level=[0, 1, 2]):\n",
    "    score = scoreSeries(val)\n",
    "    if score < 99:\n",
    "        writeRec(idx, score)\n",
    "    else:\n",
    "        print(\"Skipping {}\".format(idx))\n",
    "output.close()"
   ]
  }
 ],
 "metadata": {
  "kernelspec": {
   "display_name": "Python 3",
   "language": "python",
   "name": "python3"
  },
  "language_info": {
   "codemirror_mode": {
    "name": "ipython",
    "version": 3
   },
   "file_extension": ".py",
   "mimetype": "text/x-python",
   "name": "python",
   "nbconvert_exporter": "python",
   "pygments_lexer": "ipython3",
   "version": "3.5.2"
  }
 },
 "nbformat": 4,
 "nbformat_minor": 2
}
