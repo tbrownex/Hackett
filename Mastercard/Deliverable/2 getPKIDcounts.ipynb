{
 "cells": [
  {
   "cell_type": "markdown",
   "metadata": {},
   "source": [
    "#### Country/Program/Customer/Driver combination counts and comparison"
   ]
  },
  {
   "cell_type": "code",
   "execution_count": 1,
   "metadata": {},
   "outputs": [],
   "source": [
    "import pandas as pd\n",
    "import numpy as np"
   ]
  },
  {
   "cell_type": "code",
   "execution_count": 2,
   "metadata": {},
   "outputs": [],
   "source": [
    "datalib = \"/home/tbrownex/Mastercard/\""
   ]
  },
  {
   "cell_type": "code",
   "execution_count": 3,
   "metadata": {},
   "outputs": [],
   "source": [
    "df = pd.read_csv(datalib+\"Processed.csv\")"
   ]
  },
  {
   "cell_type": "code",
   "execution_count": 4,
   "metadata": {},
   "outputs": [],
   "source": [
    "del df[\"index\"]"
   ]
  },
  {
   "cell_type": "code",
   "execution_count": 5,
   "metadata": {},
   "outputs": [
    {
     "name": "stdout",
     "output_type": "stream",
     "text": [
      "File has 2,332 unique ['Country', 'Program', 'Customer']\n"
     ]
    }
   ],
   "source": [
    "key = [\"Country\", \"Program\", \"Customer\"]\n",
    "df = df.set_index(key, drop=True)   \n",
    "#df = df.set_index([\"Country\", \"Program\", \"Parent ICA\", \"Driver\"], drop=True)\n",
    "keys = df.index.get_values()\n",
    "keys = np.unique(keys)\n",
    "df = df.reset_index()\n",
    "\n",
    "print(\"File has {:,.0f} unique {}\".\\\n",
    "      format(len(keys), key))"
   ]
  }
 ],
 "metadata": {
  "kernelspec": {
   "display_name": "Python 3",
   "language": "python",
   "name": "python3"
  },
  "language_info": {
   "codemirror_mode": {
    "name": "ipython",
    "version": 3
   },
   "file_extension": ".py",
   "mimetype": "text/x-python",
   "name": "python",
   "nbconvert_exporter": "python",
   "pygments_lexer": "ipython3",
   "version": "3.5.2"
  }
 },
 "nbformat": 4,
 "nbformat_minor": 2
}
