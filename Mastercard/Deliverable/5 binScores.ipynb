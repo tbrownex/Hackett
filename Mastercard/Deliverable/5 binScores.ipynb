{
 "cells": [
  {
   "cell_type": "markdown",
   "metadata": {},
   "source": [
    "#### Show a histogram of variance scores"
   ]
  },
  {
   "cell_type": "code",
   "execution_count": 132,
   "metadata": {},
   "outputs": [],
   "source": [
    "import pandas as pd\n",
    "import numpy as np\n",
    "import matplotlib.pyplot as plt"
   ]
  },
  {
   "cell_type": "code",
   "execution_count": 1,
   "metadata": {},
   "outputs": [],
   "source": [
    "datalib = \"/home/tbrownex/Mastercard/\""
   ]
  },
  {
   "cell_type": "code",
   "execution_count": 191,
   "metadata": {},
   "outputs": [],
   "source": [
    "cols = [\"Program\", \"Customer\", \"Driver\", \"Score\"]\n",
    "df = pd.read_csv(datalib+\"scoredUAE.csv\", sep=\"|\", names=cols)"
   ]
  },
  {
   "cell_type": "code",
   "execution_count": 192,
   "metadata": {},
   "outputs": [],
   "source": [
    "bins = np.linspace(start = 0, stop=25, num=100)\n",
    "\n",
    "labels = [x for x in range(len(bins)-1)]\n",
    "df['bin'] = pd.cut(df['Score'], bins, labels=labels)"
   ]
  },
  {
   "cell_type": "code",
   "execution_count": 193,
   "metadata": {},
   "outputs": [],
   "source": [
    "df[\"bin\"] = df[\"bin\"].cat.codes"
   ]
  },
  {
   "cell_type": "code",
   "execution_count": 194,
   "metadata": {},
   "outputs": [],
   "source": [
    "tom = df[\"bin\"].value_counts()"
   ]
  },
  {
   "cell_type": "code",
   "execution_count": 195,
   "metadata": {},
   "outputs": [],
   "source": [
    "tom = tom.sort_index()\n",
    "del tom[-1]\n",
    "X = tom.index\n",
    "Y = tom.values"
   ]
  },
  {
   "cell_type": "code",
   "execution_count": 196,
   "metadata": {},
   "outputs": [
    {
     "data": {
      "image/png": "[encoded data removed]",
      "text/plain": [
       "<Figure size 432x288 with 1 Axes>"
      ]
     },
     "metadata": {},
     "output_type": "display_data"
    }
   ],
   "source": [
    "plt.plot(X,Y)\n",
    "plt.show()\n",
    "plt.close()"
   ]
  },
  {
   "cell_type": "code",
   "execution_count": 197,
   "metadata": {},
   "outputs": [
    {
     "data": {
      "text/plain": [
       "0      15\n",
       "1     169\n",
       "2     231\n",
       "3     192\n",
       "4     127\n",
       "5      90\n",
       "6      64\n",
       "7      62\n",
       "8      42\n",
       "9      40\n",
       "10     25\n",
       "11     28\n",
       "12     29\n",
       "13     10\n",
       "14     13\n",
       "15     13\n",
       "16     11\n",
       "17     11\n",
       "18      6\n",
       "19     10\n",
       "20      7\n",
       "21      2\n",
       "22      5\n",
       "23      6\n",
       "25      3\n",
       "26      4\n",
       "27      5\n",
       "28      6\n",
       "30      4\n",
       "31      1\n",
       "32      2\n",
       "33      6\n",
       "34      2\n",
       "35      1\n",
       "37      3\n",
       "38      1\n",
       "41      1\n",
       "43      1\n",
       "49      1\n",
       "55      1\n",
       "56      1\n",
       "92      1\n",
       "Name: bin, dtype: int64"
      ]
     },
     "execution_count": 197,
     "metadata": {},
     "output_type": "execute_result"
    }
   ],
   "source": [
    "tom"
   ]
  },
  {
   "cell_type": "code",
   "execution_count": null,
   "metadata": {},
   "outputs": [],
   "source": []
  }
 ],
 "metadata": {
  "kernelspec": {
   "display_name": "Python 3",
   "language": "python",
   "name": "python3"
  },
  "language_info": {
   "codemirror_mode": {
    "name": "ipython",
    "version": 3
   },
   "file_extension": ".py",
   "mimetype": "text/x-python",
   "name": "python",
   "nbconvert_exporter": "python",
   "pygments_lexer": "ipython3",
   "version": "3.5.2"
  }
 },
 "nbformat": 4,
 "nbformat_minor": 2
}
