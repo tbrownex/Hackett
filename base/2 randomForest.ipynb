{
 "cells": [
  {
   "cell_type": "markdown",
   "metadata": {},
   "source": [
    "#### Run Random Forest\n",
    "Data consists of run times for matrix multiplication, using many different run-time options. The goal is to see what option set performs best (fastest run time)\n",
    "\n",
    "Create Train and Test datasets\n",
    "\n",
    "\n",
    "Run a generic version of RF to serve as a performance baseline\n",
    "\n",
    "Run \"randomSearch\" to narrow down the parameter space\n",
    "\n",
    "Run \"gridSearch\" to optimize the best parameters from randomSearch"
   ]
  },
  {
   "cell_type": "code",
   "execution_count": 7,
   "metadata": {},
   "outputs": [],
   "source": [
    "import pandas as pd\n",
    "import numpy  as np\n",
    "from sklearn.ensemble import RandomForestRegressor\n",
    "from sklearn.model_selection import train_test_split\n",
    "from calcMAPE import calcMAPE\n",
    "import RFfeatureEval\n",
    "import itertools\n",
    "\n",
    "dataloc = \"/home/tbrownex/data/test/cpu/\"\n",
    "file    = \"data.csv\"\n",
    "TESTPCT = .2"
   ]
  },
  {
   "cell_type": "code",
   "execution_count": 8,
   "metadata": {},
   "outputs": [],
   "source": [
    "df = pd.read_csv(dataloc+file)"
   ]
  },
  {
   "cell_type": "code",
   "execution_count": 9,
   "metadata": {},
   "outputs": [],
   "source": [
    "df = df.sample(frac=0.4)"
   ]
  },
  {
   "cell_type": "code",
   "execution_count": 10,
   "metadata": {},
   "outputs": [],
   "source": [
    "# Create Train and Test sets\n",
    "train, test = train_test_split(df, test_size=TESTPCT)\n",
    "\n",
    "# Separate the features and labels\n",
    "trainY = train[\"MeanRunTime\"]\n",
    "testY  = test[\"MeanRunTime\"]\n",
    "del train[\"MeanRunTime\"]\n",
    "del test[\"MeanRunTime\"]"
   ]
  },
  {
   "cell_type": "code",
   "execution_count": 5,
   "metadata": {},
   "outputs": [
    {
     "name": "stdout",
     "output_type": "stream",
     "text": [
      "baseline MAPE is 0.032\n"
     ]
    }
   ],
   "source": [
    "# Run a simplistic version of RF to serve as a baseline\n",
    "regr = RandomForestRegressor()              # using just the defaults\n",
    "rf   = regr.fit(train, trainY)\n",
    "    \n",
    "preds = rf.predict(test)\n",
    "    \n",
    "score = evaluate.process(preds, testY)\n",
    "print(\"baseline MAPE is {:.3f}\".format(score))"
   ]
  },
  {
   "cell_type": "code",
   "execution_count": 5,
   "metadata": {},
   "outputs": [
    {
     "name": "stdout",
     "output_type": "stream",
     "text": [
      "Feature        importance\n",
      "NDIMC          0.22\n",
      "NWG            0.19\n",
      "MDIMC          0.18\n",
      "MWG            0.16\n",
      "SA             0.08\n",
      "SB             0.08\n",
      "KWG            0.06\n",
      "KWI            0.03\n",
      "VWN            0.00\n",
      "VWM            0.00\n",
      "STRM           0.00\n",
      "STRN           0.00\n",
      "MDIMA          0.00\n",
      "NDIMB          0.00\n"
     ]
    }
   ],
   "source": [
    "# Figure out if you need all the features\n",
    "regr = RandomForestRegressor(n_estimators=100)\n",
    "rf   = regr.fit(train, trainY)\n",
    "\n",
    "cols = RFfeatureEval.process(train.columns, rf)\n",
    "\n",
    "keep  = [col[0] for col in cols if col[1] > .01]    # discard non-useful features\n",
    "train = train[keep]\n",
    "test  = test[keep]"
   ]
  },
  {
   "cell_type": "code",
   "execution_count": 11,
   "metadata": {},
   "outputs": [],
   "source": [
    "node_size = [x for x in np.linspace(start = .0002, stop = .001, num = 5)]\n",
    "trees     = [100]\n",
    "leaf_size = [7,9,13]\n",
    "\n",
    "parms = itertools.product(node_size,trees,leaf_size)\n",
    "\n",
    "results = []\n",
    "\n",
    "for x in parms:\n",
    "    node_size = x[0]\n",
    "    trees     = x[1]\n",
    "    leaf_size = x[2]\n",
    "    regr = RandomForestRegressor(n_estimators = trees,\\\n",
    "                                 min_samples_split = node_size,\\\n",
    "                                 min_samples_leaf = leaf_size)\n",
    "    rf    = regr.fit(train, trainY)\n",
    "    preds = rf.predict(test)\n",
    "    score = calcMAPE(preds, testY)\n",
    "    tmp = (x,score)\n",
    "    results.append(tmp)"
   ]
  },
  {
   "cell_type": "code",
   "execution_count": 13,
   "metadata": {},
   "outputs": [],
   "source": [
    "delim=\",\"\n",
    "with open(\"/home/tbrownex/results.csv\", \"w\") as f:\n",
    "    hdr = \"nodes\"+delim+\"trees\"+delim+\"leafs\"+delim+\"score\"+\"\\n\"\n",
    "    f.write(hdr)\n",
    "    for x in results:\n",
    "        parms = x[0]\n",
    "        score = x[1]\n",
    "        nodes = parms[0]\n",
    "        trees = parms[1]\n",
    "        leafs = parms[2]\n",
    "        rec = str(nodes)+delim+str(trees)+delim+str(leafs)+delim+str(score)+\"\\n\"\n",
    "        f.write(rec)"
   ]
  }
 ],
 "metadata": {
  "kernelspec": {
   "display_name": "Python 3",
   "language": "python",
   "name": "python3"
  },
  "language_info": {
   "codemirror_mode": {
    "name": "ipython",
    "version": 3
   },
   "file_extension": ".py",
   "mimetype": "text/x-python",
   "name": "python",
   "nbconvert_exporter": "python",
   "pygments_lexer": "ipython3",
   "version": "3.5.2"
  }
 },
 "nbformat": 4,
 "nbformat_minor": 2
}
