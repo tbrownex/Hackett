{
 "cells": [
  {
   "cell_type": "code",
   "execution_count": 1,
   "metadata": {},
   "outputs": [],
   "source": [
    "import os\n",
    "import datetime\n",
    "\n",
    "from getConfig import getConfig"
   ]
  },
  {
   "cell_type": "code",
   "execution_count": 2,
   "metadata": {},
   "outputs": [],
   "source": [
    "config = getConfig()"
   ]
  },
  {
   "cell_type": "code",
   "execution_count": 3,
   "metadata": {},
   "outputs": [],
   "source": [
    "files = os.listdir(config[\"dataLoc\"] + \"Fred/\")"
   ]
  },
  {
   "cell_type": "code",
   "execution_count": 4,
   "metadata": {},
   "outputs": [],
   "source": [
    "# Remove the \"merge\" file since it's not an MEI\n",
    "try:\n",
    "    files.remove('merged.csv')\n",
    "except:\n",
    "    print(\"no merged file to remove\")"
   ]
  },
  {
   "cell_type": "code",
   "execution_count": 5,
   "metadata": {},
   "outputs": [],
   "source": [
    "# Some of this data goes back to 1940 so get rid of old stuff\n",
    "# And the Valmont data only goes through end of 2017\n",
    "start = datetime.datetime(2001,1,1)\n",
    "end   = datetime.datetime(2017,12,1)"
   ]
  },
  {
   "cell_type": "code",
   "execution_count": 6,
   "metadata": {},
   "outputs": [
    {
     "name": "stdout",
     "output_type": "stream",
     "text": [
      "File                 Rows\n",
      "RECPROUSM156N.csv      204\n",
      "ACOGNO.csv             204\n",
      "PAYEMS.csv             204\n",
      "SPCS20RSA.csv          204\n",
      "GS10.csv               204\n",
      "EXCHUS.csv             204\n",
      "PCE.csv                204\n",
      "INDPRO.csv             204\n",
      "MCOILWTICO.csv         204\n",
      "IPMAN.csv              204\n",
      "GS5.csv                204\n",
      "T10Y2YM.csv            204\n",
      "TB3MS.csv              204\n",
      "AMTMNO.csv             204\n",
      "CPIAUCSL.csv           204\n",
      "CSUSHPINSA.csv         204\n",
      "PCU3255103255107.csv   204\n",
      "JTS3000JOL.csv         204\n",
      "UMCSENT.csv            204\n",
      "HOUST.csv              204\n",
      "MPRIME.csv             204\n",
      "CIVPART.csv            204\n",
      "M2SL.csv               204\n",
      "EXUSEU.csv             204\n",
      "M1SL.csv               204\n",
      "PPIACO.csv             204\n",
      "FEDFUNDS.csv           204\n",
      "TWEXBMTH.csv           204\n",
      "EXJPUS.csv             204\n",
      "USSLIND.csv            204\n",
      "DGORDER.csv            204\n",
      "TWEXMMTH.csv           204\n"
     ]
    }
   ],
   "source": [
    "dfList = []\n",
    "print(\"File                 Rows\")\n",
    "for f in files:\n",
    "    df = pd.read_csv(config[\"dataLoc\"] +\"Fred/\"+f, parse_dates=[0], index_col=0)\n",
    "    df = df[df.index >= start]\n",
    "    df = df[df.index <= end]\n",
    "    dfList.append(df)\n",
    "    print(\"{:<23}{}\".format(f, df.shape[0]))"
   ]
  },
  {
   "cell_type": "code",
   "execution_count": 7,
   "metadata": {},
   "outputs": [],
   "source": [
    "df = pd.concat(dfList, axis=1, join=\"outer\")"
   ]
  },
  {
   "cell_type": "code",
   "execution_count": 8,
   "metadata": {},
   "outputs": [],
   "source": [
    "df.index.rename(\"Date\", inplace=True)"
   ]
  },
  {
   "cell_type": "code",
   "execution_count": 9,
   "metadata": {},
   "outputs": [],
   "source": [
    "# Keep track of the frequency of each column (all Monthly for now)\n",
    "with open(\"/home/tbrownex/data/Hackett/Valmont/colFrequency.csv\", \"a\") as f:\n",
    "    for x in df.columns:\n",
    "        rec = x+\"|\"+\"M\"+\"\\n\"\n",
    "        f.write(rec)"
   ]
  },
  {
   "cell_type": "markdown",
   "metadata": {},
   "source": [
    "##### Create artificial noise"
   ]
  },
  {
   "cell_type": "code",
   "execution_count": 10,
   "metadata": {},
   "outputs": [
    {
     "data": {
      "text/plain": [
       "'for col in df.columns:\\n    if col not in [\"test1\", \"GS10\", \"test2\", \"UNEMP\"]:\\n        df[col] = df[col] + np.random.random(size=df.shape[0])'"
      ]
     },
     "execution_count": 10,
     "metadata": {},
     "output_type": "execute_result"
    }
   ],
   "source": [
    "'''for col in df.columns:\n",
    "    if col not in [\"test1\", \"GS10\", \"test2\", \"UNEMP\"]:\n",
    "        df[col] = df[col] + np.random.random(size=df.shape[0])'''"
   ]
  },
  {
   "cell_type": "code",
   "execution_count": 11,
   "metadata": {},
   "outputs": [],
   "source": [
    "df.to_csv(config[\"dataLoc\"]+\"Fred/merged.csv\")"
   ]
  }
 ],
 "metadata": {
  "kernelspec": {
   "display_name": "Python 3",
   "language": "python",
   "name": "python3"
  },
  "language_info": {
   "codemirror_mode": {
    "name": "ipython",
    "version": 3
   },
   "file_extension": ".py",
   "mimetype": "text/x-python",
   "name": "python",
   "nbconvert_exporter": "python",
   "pygments_lexer": "ipython3",
   "version": "3.5.2"
  }
 },
 "nbformat": 4,
 "nbformat_minor": 2
}
