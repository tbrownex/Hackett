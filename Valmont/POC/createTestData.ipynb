{
 "cells": [
  {
   "cell_type": "code",
   "execution_count": 56,
   "metadata": {},
   "outputs": [],
   "source": [
    "import random"
   ]
  },
  {
   "cell_type": "code",
   "execution_count": 73,
   "metadata": {},
   "outputs": [],
   "source": [
    "rows = 500\n",
    "cols = 20\n",
    "\n",
    "hdr = [\"col\"+str(x) for x in range(cols)]\n",
    "\n",
    "d = {}\n",
    "for col in hdr:\n",
    "    d[col] = np.array(np.random.normal(size=rows))"
   ]
  },
  {
   "cell_type": "code",
   "execution_count": 78,
   "metadata": {},
   "outputs": [],
   "source": [
    "df = pd.DataFrame(d)\n",
    "\n",
    "std = 0.01\n",
    "df[\"Label\"] = df[\"col6\"]*2 - 3*df[\"col7\"]\n",
    "df[\"col10\"] = df[\"col11\"]*2 + np.random.normal(size=rows, scale=std)\n",
    "df[\"col12\"]  = df[\"col11\"]*9.2 + np.random.normal(size=rows, scale=std)\n",
    "df[\"col6\"]  = df[\"col7\"] + np.random.normal(size=rows, scale=std)\n",
    "df[\"col8\"]  = df[\"col7\"]*9.2 + np.random.normal(size=rows, scale=std)\n",
    "\n",
    "df.to_csv(\"/home/tbrownex/data/Hackett/Valmont/POC/testData.csv\", index=False)"
   ]
  },
  {
   "cell_type": "code",
   "execution_count": null,
   "metadata": {},
   "outputs": [],
   "source": []
  }
 ],
 "metadata": {
  "kernelspec": {
   "display_name": "Python 3",
   "language": "python",
   "name": "python3"
  },
  "language_info": {
   "codemirror_mode": {
    "name": "ipython",
    "version": 3
   },
   "file_extension": ".py",
   "mimetype": "text/x-python",
   "name": "python",
   "nbconvert_exporter": "python",
   "pygments_lexer": "ipython3",
   "version": "3.5.2"
  }
 },
 "nbformat": 4,
 "nbformat_minor": 2
}
