{
 "cells": [
  {
   "cell_type": "code",
   "execution_count": 1,
   "metadata": {},
   "outputs": [],
   "source": [
    "from getConfig  import getConfig\n",
    "from getData    import getData\n",
    "from preProcess import preProcess\n",
    "from calcMAPE   import calcMAPE\n",
    "from calcRMSE   import calcRMSE\n",
    "from evalRFfeatures import evalFeatures"
   ]
  },
  {
   "cell_type": "code",
   "execution_count": 2,
   "metadata": {},
   "outputs": [
    {
     "name": "stdout",
     "output_type": "stream",
     "text": [
      "Evaluating features based on 500 records and 20 columns in the training set\n",
      "Feature             importance\n",
      "col14               0.70\n",
      "col18               0.28\n",
      "col4                0.00\n",
      "col8                0.00\n",
      "col15               0.00\n",
      "col0                0.00\n",
      "col13               0.00\n",
      "col6                0.00\n",
      "col10               0.00\n",
      "col9                0.00\n",
      "col11               0.00\n",
      "col5                0.00\n",
      "col3                0.00\n",
      "col2                0.00\n",
      "col16               0.00\n",
      "col12               0.00\n",
      "col7                0.00\n",
      "col1                0.00\n",
      "col19               0.00\n",
      "col17               0.00\n"
     ]
    },
    {
     "data": {
      "text/plain": [
       "[('col14', 0.6967626263068939),\n",
       " ('col18', 0.27778871796815463),\n",
       " ('col4', 0.00219214749289493),\n",
       " ('col8', 0.00199047842863234),\n",
       " ('col15', 0.0017878785459754742),\n",
       " ('col0', 0.001786420941045134),\n",
       " ('col13', 0.0016098194150199912),\n",
       " ('col6', 0.0015983227140791436),\n",
       " ('col10', 0.0014775996745273318),\n",
       " ('col9', 0.0013729052393275463),\n",
       " ('col11', 0.0013468434615235142),\n",
       " ('col5', 0.0012278000675321728),\n",
       " ('col3', 0.0012090184644265962),\n",
       " ('col2', 0.0012016061265379262),\n",
       " ('col16', 0.0011838466739976618),\n",
       " ('col12', 0.0011804715521621053),\n",
       " ('col7', 0.0010921741647597829),\n",
       " ('col1', 0.0010863778044787422),\n",
       " ('col19', 0.0010854280824452234),\n",
       " ('col17', 0.0010195168755857173)]"
      ]
     },
     "execution_count": 2,
     "metadata": {},
     "output_type": "execute_result"
    }
   ],
   "source": [
    "config   = getConfig()\n",
    "df       = getData(config)\n",
    "dataDict = preProcess(df, config, None)\n",
    "print(\"Evaluating features based on {} records and {} columns in the training set\".\\\n",
    "      format(dataDict[\"trainX\"].shape[0],dataDict[\"trainX\"].shape[1]))\n",
    "\n",
    "evalFeatures(dataDict)"
   ]
  },
  {
   "cell_type": "code",
   "execution_count": null,
   "metadata": {},
   "outputs": [],
   "source": []
  }
 ],
 "metadata": {
  "kernelspec": {
   "display_name": "Python 3",
   "language": "python",
   "name": "python3"
  },
  "language_info": {
   "codemirror_mode": {
    "name": "ipython",
    "version": 3
   },
   "file_extension": ".py",
   "mimetype": "text/x-python",
   "name": "python",
   "nbconvert_exporter": "python",
   "pygments_lexer": "ipython3",
   "version": "3.5.2"
  }
 },
 "nbformat": 4,
 "nbformat_minor": 2
}
