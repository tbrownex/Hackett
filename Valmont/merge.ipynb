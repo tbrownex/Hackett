{
 "cells": [
  {
   "cell_type": "code",
   "execution_count": 10,
   "metadata": {},
   "outputs": [
    {
     "ename": "SyntaxError",
     "evalue": "invalid syntax (<ipython-input-10-84e882911465>, line 3)",
     "output_type": "error",
     "traceback": [
      "\u001b[0;36m  File \u001b[0;32m\"<ipython-input-10-84e882911465>\"\u001b[0;36m, line \u001b[0;32m3\u001b[0m\n\u001b[0;31m    from getCmapping = MImapping()mapping = MImapping()onfig import getConfig\u001b[0m\n\u001b[0m                     ^\u001b[0m\n\u001b[0;31mSyntaxError\u001b[0m\u001b[0;31m:\u001b[0m invalid syntax\n"
     ]
    }
   ],
   "source": [
    "import os\n",
    "\n",
    "from getCmapping = MImapping()mapping = MImapping()onfig import getConfig\n",
    "from MImapping import MImapping"
   ]
  },
  {
   "cell_type": "code",
   "execution_count": 11,
   "metadata": {},
   "outputs": [],
   "source": [
    "config = getConfig()\n",
    "mapping = MImapping()"
   ]
  },
  {
   "cell_type": "code",
   "execution_count": 12,
   "metadata": {},
   "outputs": [],
   "source": [
    "# Make sure all the dates line up with the Label start date\n",
    "labels = pd.read_csv(config[\"dataLoc\"]+\"testData.csv\", parse_dates=[0], index_col=0)\n",
    "start = labels.index.min()\n",
    "end   = labels.index.max()"
   ]
  },
  {
   "cell_type": "code",
   "execution_count": 13,
   "metadata": {},
   "outputs": [],
   "source": [
    "dfList = []\n",
    "dfList.append(labels)\n",
    "for file in mapping.keys():\n",
    "    df = pd.read_csv(config[\"dataLoc\"]+file, parse_dates=[0], index_col=0)\n",
    "    df = df[df.index >= start]\n",
    "    df = df[df.index <= end]\n",
    "    dfList.append(df)"
   ]
  },
  {
   "cell_type": "code",
   "execution_count": 14,
   "metadata": {},
   "outputs": [],
   "source": [
    "df = pd.concat(dfList, axis=1, join=\"outer\")"
   ]
  },
  {
   "cell_type": "code",
   "execution_count": 15,
   "metadata": {},
   "outputs": [],
   "source": [
    "df.to_csv(config[\"dataLoc\"]+\"merged.csv\",)"
   ]
  }
 ],
 "metadata": {
  "kernelspec": {
   "display_name": "Python 3",
   "language": "python",
   "name": "python3"
  },
  "language_info": {
   "codemirror_mode": {
    "name": "ipython",
    "version": 3
   },
   "file_extension": ".py",
   "mimetype": "text/x-python",
   "name": "python",
   "nbconvert_exporter": "python",
   "pygments_lexer": "ipython3",
   "version": "3.5.2"
  }
 },
 "nbformat": 4,
 "nbformat_minor": 2
}
