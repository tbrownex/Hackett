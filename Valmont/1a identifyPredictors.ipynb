{
 "cells": [
  {
   "cell_type": "markdown",
   "metadata": {},
   "source": [
    "#### Look at the MEI columns and remove those which won't help as predictors"
   ]
  },
  {
   "cell_type": "code",
   "execution_count": 1,
   "metadata": {},
   "outputs": [],
   "source": [
    "from getConfig   import getConfig\n",
    "from getData     import getData\n",
    "from plotColumns import plotColumns\n",
    "from genFeatures import genFeatures"
   ]
  },
  {
   "cell_type": "code",
   "execution_count": 2,
   "metadata": {},
   "outputs": [],
   "source": [
    "config = getConfig()\n",
    "df = getData(config)"
   ]
  },
  {
   "cell_type": "code",
   "execution_count": 3,
   "metadata": {},
   "outputs": [],
   "source": [
    "# MEI data is in columns 14-89\n",
    "def getMEI(df):\n",
    "    return df.iloc[:,13:89]"
   ]
  },
  {
   "cell_type": "code",
   "execution_count": 4,
   "metadata": {},
   "outputs": [],
   "source": [
    "def removeDups(df):\n",
    "    print(\"removing duplicate columns\")\n",
    "    avg = df.mean()\n",
    "    dups = avg.loc[avg.duplicated()].index.values\n",
    "    for x in dups:\n",
    "        print(\"- \", x)\n",
    "    keep = avg.loc[~avg.duplicated()]\n",
    "    df = df[list(keep.index.values)]\n",
    "    return df"
   ]
  },
  {
   "cell_type": "code",
   "execution_count": 5,
   "metadata": {},
   "outputs": [],
   "source": [
    "def removeAnnual(df):\n",
    "    print(\"removing Annual columns\")\n",
    "    for col in df.columns:\n",
    "        unique = np.unique(df[col])\n",
    "        if unique.shape[0] < 10:\n",
    "            del df[col]\n",
    "            print(\"- \", col)\n",
    "    return df"
   ]
  },
  {
   "cell_type": "code",
   "execution_count": 6,
   "metadata": {},
   "outputs": [],
   "source": [
    "def getTargets(df):\n",
    "    targets = [\"Valmont_Net_Sales_Pounds\", \"Valmont_Net_Sales\"]\n",
    "    targets = df[targets]\n",
    "    targets.columns = [\"Volume\", \"Revenue\"]\n",
    "    return targets"
   ]
  },
  {
   "cell_type": "code",
   "execution_count": 7,
   "metadata": {},
   "outputs": [],
   "source": [
    "def renameCols(df):\n",
    "    d = {}\n",
    "    cols = df.columns\n",
    "    \n",
    "    for col in cols:\n",
    "        x = col[4:]\n",
    "        n = x.find(\"_\")\n",
    "        key = x[:n]\n",
    "        val = x[n+3:]\n",
    "        d[key] = val\n",
    "        key = \"MEI_\" + key\n",
    "        df.rename({col:key},axis=\"columns\", inplace=True)\n",
    "    return df, d"
   ]
  },
  {
   "cell_type": "code",
   "execution_count": 8,
   "metadata": {},
   "outputs": [
    {
     "name": "stdout",
     "output_type": "stream",
     "text": [
      "removing duplicate columns\n",
      "-  Avg_41___CPI_U__All_Items_Less_Food_and_Energy__1982_84_100__Index___United_Sta\n",
      "-  Avg_60___US_MW_Dom_HRC_Steel_Near_Term__NYM___st____Price\n",
      "-  Avg_61___Crude_Steel_Production__United_States__Thous_Metric_Tons___United_Stat\n",
      "removing Annual columns\n",
      "-  Avg_13___Median_Household_Income__National__Adjusted_to_2013_U_S_Dollars___Unit\n",
      "-  Avg_30___Average_Hours_At_Work_in_All_Industries__Total__SA__Hours___United_Sta\n",
      "-  Avg_31___Average_Weekly_Hours_of_All_Employees__Total_Private__SA__Hours__Hours\n",
      "-  Avg_32___Average_Weekly_Overtime_Hours_of_Production_and_Nonsupervisory_Employe\n",
      "-  Avg_39___Demographic_Indicators__Births__All_Races___Origins__Number___United_S\n"
     ]
    }
   ],
   "source": [
    "MEI = getMEI(df)\n",
    "# Static column\n",
    "del MEI[\"Avg_4___Ecri_Business_Cycle_Dates___United_States\"]\n",
    "MEI = removeDups(MEI)\n",
    "MEI = removeAnnual(MEI)\n",
    "MEI, meiDict = renameCols(MEI)\n",
    "MEI = genFeatures(MEI)\n",
    "targets = getTargets(df)"
   ]
  },
  {
   "cell_type": "markdown",
   "metadata": {},
   "source": [
    "##### Check for correlation between MEI and Targets  (Volume and Revenue, separately)"
   ]
  },
  {
   "cell_type": "code",
   "execution_count": 9,
   "metadata": {},
   "outputs": [
    {
     "name": "stdout",
     "output_type": "stream",
     "text": [
      "Found 16 potential predictors\n",
      "\n",
      "Column              Vol   Rev\n",
      "MEI_36_Q%chg_L1     0.67  0.75\n",
      "MEI_70_M%chg_L6     0.36  0.30\n",
      "MEI_26_M%chg_L5     0.53  0.57\n",
      "MEI_9_M%chg_L2      0.35  0.37\n",
      "MEI_27              0.35  0.14\n",
      "MEI_1               0.40  0.25\n",
      "MEI_3               0.40  0.22\n",
      "MEI_9_M%chg_L5      0.44  0.45\n",
      "MEI_63              0.37  0.26\n",
      "MEI_28              0.38  0.17\n",
      "MEI_71_M%chg_L6     0.35  0.28\n",
      "MEI_74_M%chg_L5     0.36  0.31\n",
      "MEI_74_A%chg        0.36  0.27\n",
      "MEI_71_M%chg_L0     0.35  0.31\n",
      "MEI_10_M%chg_L5     0.39  0.41\n",
      "MEI_26_M%chg_L2     0.52  0.55\n"
     ]
    }
   ],
   "source": [
    "keep = []\n",
    "for tgt in targets.columns:\n",
    "    tgt = targets[tgt]       # This is either Vol or Rev\n",
    "    for col in MEI.columns:\n",
    "        mei = MEI[col]\n",
    "        corr = tgt.corr(mei)\n",
    "        if corr > 0.35:\n",
    "            keep.append(col)\n",
    "keep = set(keep)\n",
    "\n",
    "# All the columns in \"keep\" are minimally correlated with either Vol or Revenue\n",
    "print(\"Found {} potential predictors\".format(len(keep)))\n",
    "print(\"\\n{:<20}{:<6}{}\".format(\"Column\", \"Vol\", \"Rev\"))\n",
    "for x in keep:\n",
    "    Vcorr = MEI[x].corr(targets[\"Volume\"])\n",
    "    Rcorr = MEI[x].corr(targets[\"Revenue\"])\n",
    "    print(\"{:<20}{:<6.2f}{:.2f}\".format(x, Vcorr, Rcorr))"
   ]
  },
  {
   "cell_type": "code",
   "execution_count": 31,
   "metadata": {},
   "outputs": [
    {
     "data": {
      "text/plain": [
       "'High_Grade_Copper__NYM___lbs__Continuous___Futures___Price___Close'"
      ]
     },
     "execution_count": 31,
     "metadata": {},
     "output_type": "execute_result"
    }
   ],
   "source": [
    "meiDict[\"63\"]"
   ]
  },
  {
   "cell_type": "code",
   "execution_count": 32,
   "metadata": {},
   "outputs": [
    {
     "data": {
      "text/plain": [
       "{'1': 'Bankruptcy_Filings__by_month___All_Chapters__Number_of_Filings___United',\n",
       " '10': 'Foreign_Trade__Imports__Goods__Total__BOP_Basis___NSA__Mil_USD___Unite',\n",
       " '11': 'Foreign_Trade__World__Volume__Exports__United_States__2010_100__SA__In',\n",
       " '12': 'Foreign_Trade__World__Volume__Imports__United_States__2010_100__SA__In',\n",
       " '14': 'Housing_Units_Started__Total__SAAR__Thous_Units___United_States',\n",
       " '15': 'Mortgage_Bankers_Association__Weekly_Mortgage_Applications__Market_Ind',\n",
       " '16': 'New_Residential_Sales__New_Houses_Sold__Total__SA__Thous_Houses___Unit',\n",
       " '17': 'Industrial_Production__Paint__coating__and_adhesive_NAICS_3255__2012_1',\n",
       " '18': 'Industrial_Production__Manufacturing__NAICS___2012_100__SA__Index___Un',\n",
       " '19': 'Industrial_Production__Durable_Manufactures__2012_100__Index___United_',\n",
       " '2': 'Quarterly_Financial_Report__Manufacturing_Corporations__Net_Sales__Tota',\n",
       " '20': 'Industrial_Production__Nondurable_Manufactures__2012_100__Index___Unit',\n",
       " '21': 'Capacity_Utilization__Total__SA__Percent___United_States',\n",
       " '22': 'Real_Manufacturing_and_Trade_Sales__Manufacturing_Industries__Mil_Chai',\n",
       " '23': 'Manufacturing_and_Trade__Total_Business__Inventories_Sales_Ratio__SA__',\n",
       " '24': 'New_Orders__NAICS__Manufacturing__Total__SA__Mil_USD___United_States',\n",
       " '25': 'New_Orders__NAICS__Manufacturing__Durable_Goods__Total__SA__Mil_USD___',\n",
       " '26': 'New_Orders__NAICS__Total_Manufacturing__NSA__Mil_USD___United_States',\n",
       " '27': 'Initial_Claims_for_Unemployment_insurance_under_state_programs__SA__Pe',\n",
       " '28': 'Unemployment_Rate__U_3__SA__Percent___United_States',\n",
       " '29': 'Average_Hourly_Earnings_of_All_Employees_Total_Private__SA__USD___Unit',\n",
       " '3': 'Business_Bankruptcy_Filings__by_month___All_Chapters__Number_of_Filings',\n",
       " '33': 'Unit_Labor_Costs__Nonfarm_Business_All_Persons_Index__2009_100__SA__In',\n",
       " '34': 'Labor_Productivity__output_Per_Hour__Nonfarm_Business_All_Persons_Inde',\n",
       " '35': 'Money_Supply__M2__SA__Bil_USD___United_States',\n",
       " '36': 'Real_GDP_by_Major_Type_of_Product__Final_Sales_of_Domestic_Product__Bi',\n",
       " '37': 'Real_GDP_by_Major_Type_of_Product__Final_Sales_of_Domestic_Product__Re',\n",
       " '38': 'Personal_Consumption_Expenditures__Price_Index__2009_100__SA__Index___',\n",
       " '40': 'CPI_U__All_Items_Less_Food_and_Energy__US_City_Average__1982_84_100__S',\n",
       " '42': 'HCPI__All_Items__2005_100__Index___United_States',\n",
       " '43': 'WPI__Commodity_Data__Final_Demand__Nov_2009_100__SA__Index___United_St',\n",
       " '44': 'Retail_and_Food_Service_Sales__NAICS___Incl__in_Advance_Release___SA_W',\n",
       " '45': 'US_Conference_Board__CEO_Confidence_Survey__Measure_of_CEO_Confidence_',\n",
       " '46': 'Federal_Reserve_Bank_of_Dallas__Texas_Manufacturing_Outlook_Survey__Cu',\n",
       " '47': 'Federal_Reserve_Bank_of_Dallas__Texas_Manufacturing_Outlook_Survey__Fu',\n",
       " '48': 'Federal_Reserve_Bank_of_Dallas__Texas_Manufacturing_Outlook_Survey__Fu',\n",
       " '49': 'Federal_Reserve_Bank_of_Dallas__Texas_Manufacturing_Outlook_Survey__Cu',\n",
       " '5': 'Composite_Index_of_4_Coincident_Indicators__2010_100__Index___United_St',\n",
       " '50': 'Federal_Reserve_Bank_of_Dallas__Texas_Manufacturing_Outlook_Survey__Fu',\n",
       " '51': 'Richmond_Manufacturing_Index__Current_Activity__Composite__SA__Index__',\n",
       " '52': 'Chicago_PMI__Business_Barometer_Index__SA__Index___United_States',\n",
       " '53': 'Chicago_PMI__Capital_Equipment_Index__SA__Index___United_States',\n",
       " '54': 'Chicago_PMI__Inventories_Index__SA__Index___United_States',\n",
       " '55': 'Consumer_Confidence_Survey__Expectations_for_6_Months_Hence__Income__S',\n",
       " '56': 'Nominal_Trade_Weighted_Exchange_Rate_Index__Major_Currencies__Mar_1973',\n",
       " '57': 'Nominal_Effective_Exchange_Rate___Index_Number___Period_Average___Unit',\n",
       " '58': 'US_MW_Dom_HRC_Steel_Near_Term__NYM___st____Price',\n",
       " '59': 'Crude_Steel_Production__United_States__Thous_Metric_Tons___United_Stat',\n",
       " '6': 'Composite_Index_of_7_Lagging_Indicators__2010_100__Index___United_State',\n",
       " '62': 'COMEX_Aluminum_Stock_Level__mt____Price',\n",
       " '63': 'High_Grade_Copper__NYM___lbs__Continuous___Futures___Price___Close',\n",
       " '64': 'Zinc____Per_Lb___NSA__Percent___United_States',\n",
       " '65': 'Gold_NYMEX_Near_Term____ozt____Price',\n",
       " '66': 'Baker_Hughes_Rotary_Rig_Count__Oil___United_States',\n",
       " '67': 'Cooling_Degree_Day__Period_Total__United_States___United_States',\n",
       " '68': 'Heating_Degree_Day__Period_Total__United_States___United_States',\n",
       " '69': 'US_Benchmark_Bill___3_Month___Yield',\n",
       " '7': 'Composite_Index_of_10_Leading_Indicator__2016_100__Index___United_State',\n",
       " '70': 'US_Benchmark_Bond___10_Year___Yield',\n",
       " '71': 'US_Benchmark_Bond___5_Year___Yield',\n",
       " '72': 'US_Benchmark_Bond___1_Year___Yield',\n",
       " '73': 'Bank_Prime_Loan__NSA__Percent___United_States',\n",
       " '74': '30_Year__Average_Mortgage_Rate__Percent___United_States',\n",
       " '75': 'DJ_Industrial_Average___Index_Total_Return_Level',\n",
       " '8': 'Debt_Outstanding__Credit_Market_Instruments__Federal_Government__D_3___',\n",
       " '9': 'Foreign_Trade__Exports__Goods__Total__BOP_Basis___NSA__Mil_USD___United'}"
      ]
     },
     "execution_count": 32,
     "metadata": {},
     "output_type": "execute_result"
    }
   ],
   "source": [
    "meiDict"
   ]
  },
  {
   "cell_type": "markdown",
   "metadata": {},
   "source": [
    "##### Check for collinearity among the potential predictors"
   ]
  },
  {
   "cell_type": "code",
   "execution_count": 11,
   "metadata": {},
   "outputs": [
    {
     "name": "stdout",
     "output_type": "stream",
     "text": [
      "MEI_71_M%chg_L6 2\n",
      "MEI_28 3\n",
      "MEI_70_M%chg_L6 2\n",
      "MEI_1 2\n",
      "MEI_3 3\n",
      "MEI_27 2\n"
     ]
    }
   ],
   "source": [
    "# Check the collinearity of the remaining MEIs\n",
    "corrDF = MEI[list(keep)]\n",
    "corrDF = corrDF.corr()\n",
    "\n",
    "for col in corrDF.columns:\n",
    "    s = corrDF.loc[col]\n",
    "    count = sum(s>0.85)\n",
    "    if count > 1:\n",
    "        print(col, count)"
   ]
  },
  {
   "cell_type": "code",
   "execution_count": 12,
   "metadata": {},
   "outputs": [
    {
     "data": {
      "text/plain": [
       "MEI_71_M%chg_L6    0.948563\n",
       "MEI_26_M%chg_L5   -0.030779\n",
       "MEI_9_M%chg_L5     0.015824\n",
       "MEI_28             0.043549\n",
       "MEI_26_M%chg_L2    0.217184\n",
       "MEI_63             0.106865\n",
       "MEI_74_M%chg_L5    0.714215\n",
       "MEI_74_A%chg       0.197592\n",
       "MEI_70_M%chg_L6    1.000000\n",
       "MEI_36_Q%chg_L1    0.258014\n",
       "MEI_10_M%chg_L5    0.131236\n",
       "MEI_1             -0.020950\n",
       "MEI_71_M%chg_L0    0.031586\n",
       "MEI_3              0.117011\n",
       "MEI_9_M%chg_L2     0.169455\n",
       "MEI_27             0.049351\n",
       "Name: MEI_70_M%chg_L6, dtype: float64"
      ]
     },
     "execution_count": 12,
     "metadata": {},
     "output_type": "execute_result"
    }
   ],
   "source": [
    "corrDF.loc[\"MEI_70_M%chg_L6\"]"
   ]
  },
  {
   "cell_type": "code",
   "execution_count": 33,
   "metadata": {},
   "outputs": [
    {
     "data": {
      "image/png": "[encoded data removed]",
      "text/plain": [
       "<Figure size 432x288 with 2 Axes>"
      ]
     },
     "metadata": {},
     "output_type": "display_data"
    }
   ],
   "source": [
    "a = MEI[\"MEI_70_M%chg_L6\"]\n",
    "b = targets[\"Volume\"]\n",
    "\n",
    "\n",
    "plotColumns(a,b, \"10 Year Bond\", \"Volume\", \"Monthly % change 10 Yr Bond vs Volume\")"
   ]
  },
  {
   "cell_type": "code",
   "execution_count": 24,
   "metadata": {},
   "outputs": [],
   "source": [
    "# Remove any highly correlated\n",
    "keep.remove(\"MEI_27\")\n",
    "keep.remove(\"MEI_3\")\n",
    "keep.remove(\"MEI_70_M%chg_L6\")"
   ]
  },
  {
   "cell_type": "code",
   "execution_count": 33,
   "metadata": {},
   "outputs": [
    {
     "name": "stdout",
     "output_type": "stream",
     "text": [
      "Final list of 13 predictors:\n",
      "  - MEI_71_M%chg_L0\n",
      "  - MEI_26_M%chg_L5\n",
      "  - MEI_9_M%chg_L2\n",
      "  - MEI_26_M%chg_L2\n",
      "  - MEI_1\n",
      "  - MEI_9_M%chg_L5\n",
      "  - MEI_10_M%chg_L5\n",
      "  - MEI_71_M%chg_L6\n",
      "  - MEI_36_Q%chg_L1\n",
      "  - MEI_74_A%chg\n",
      "  - MEI_28\n",
      "  - MEI_63\n",
      "  - MEI_74_M%chg_L5\n"
     ]
    }
   ],
   "source": [
    "print(\"Final list of {} predictors:\".format(len(keep)))\n",
    "for k in keep:\n",
    "    print(\"  -\",k)"
   ]
  },
  {
   "cell_type": "code",
   "execution_count": 41,
   "metadata": {},
   "outputs": [],
   "source": [
    "MEI = MEI[list(keep)]\n",
    "MEI[\"Month\"] = df[\"Month\"]\n",
    "final = pd.concat([MEI, targets],axis=1)"
   ]
  },
  {
   "cell_type": "code",
   "execution_count": 44,
   "metadata": {},
   "outputs": [],
   "source": [
    "final.to_csv(config[\"dataLoc\"]+\"final.csv\", index=False)"
   ]
  },
  {
   "cell_type": "code",
   "execution_count": 37,
   "metadata": {},
   "outputs": [
    {
     "data": {
      "text/plain": [
       "'Nominal_Effective_Exchange_Rate___Index_Number___Period_Average___Unit'"
      ]
     },
     "execution_count": 37,
     "metadata": {},
     "output_type": "execute_result"
    }
   ],
   "source": [
    "meiDict[\"57\"] "
   ]
  },
  {
   "cell_type": "code",
   "execution_count": 34,
   "metadata": {},
   "outputs": [
    {
     "data": {
      "text/plain": [
       "[<matplotlib.lines.Line2D at 0x7fe6a31c91d0>]"
      ]
     },
     "execution_count": 34,
     "metadata": {},
     "output_type": "execute_result"
    },
    {
     "data": {
      "image/png": "[encoded data removed]",
      "text/plain": [
       "<Figure size 432x288 with 1 Axes>"
      ]
     },
     "metadata": {},
     "output_type": "display_data"
    }
   ],
   "source": [
    "import matplotlib.pyplot as plt\n",
    "plt.plot(a)"
   ]
  },
  {
   "cell_type": "code",
   "execution_count": null,
   "metadata": {},
   "outputs": [],
   "source": []
  }
 ],
 "metadata": {
  "kernelspec": {
   "display_name": "Python 3",
   "language": "python",
   "name": "python3"
  },
  "language_info": {
   "codemirror_mode": {
    "name": "ipython",
    "version": 3
   },
   "file_extension": ".py",
   "mimetype": "text/x-python",
   "name": "python",
   "nbconvert_exporter": "python",
   "pygments_lexer": "ipython3",
   "version": "3.5.2"
  }
 },
 "nbformat": 4,
 "nbformat_minor": 2
}
