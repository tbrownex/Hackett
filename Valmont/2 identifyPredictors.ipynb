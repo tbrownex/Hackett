{
 "cells": [
  {
   "cell_type": "markdown",
   "metadata": {},
   "source": [
    "#### Look at the MEI columns and remove those which won't help as predictors"
   ]
  },
  {
   "cell_type": "code",
   "execution_count": 1,
   "metadata": {},
   "outputs": [],
   "source": [
    "from getConfig   import getConfig\n",
    "from getData     import getData\n",
    "from plotColumns import plotColumns\n",
    "from genFeatures import genFeatures"
   ]
  },
  {
   "cell_type": "code",
   "execution_count": 2,
   "metadata": {},
   "outputs": [],
   "source": [
    "config = getConfig()\n",
    "df = getData(config)"
   ]
  },
  {
   "cell_type": "code",
   "execution_count": 3,
   "metadata": {},
   "outputs": [],
   "source": [
    "# MEI data is in columns 14-89\n",
    "def getMEI(df):\n",
    "    return df.iloc[:,13:89]"
   ]
  },
  {
   "cell_type": "code",
   "execution_count": 4,
   "metadata": {},
   "outputs": [],
   "source": [
    "def removeDups(df):\n",
    "    print(\"removing duplicate columns\")\n",
    "    avg = df.mean()\n",
    "    dups = avg.loc[avg.duplicated()].index.values\n",
    "    for x in dups:\n",
    "        print(\"- \", x)\n",
    "    keep = avg.loc[~avg.duplicated()]\n",
    "    df = df[list(keep.index.values)]\n",
    "    return df"
   ]
  },
  {
   "cell_type": "code",
   "execution_count": 5,
   "metadata": {},
   "outputs": [],
   "source": [
    "def removeAnnual(df):\n",
    "    print(\"removing Annual columns\")\n",
    "    for col in df.columns:\n",
    "        unique = np.unique(df[col])\n",
    "        if unique.shape[0] < 10:\n",
    "            del df[col]\n",
    "            print(\"- \", col)\n",
    "    return df"
   ]
  },
  {
   "cell_type": "code",
   "execution_count": 6,
   "metadata": {},
   "outputs": [],
   "source": [
    "def getTargets(df):\n",
    "    targets = [\"Valmont_Net_Sales_Pounds\", \"Valmont_Net_Sales\"]\n",
    "    targets = df[targets]\n",
    "    targets.columns = [\"Volume\", \"Revenue\"]\n",
    "    return targets"
   ]
  },
  {
   "cell_type": "code",
   "execution_count": 7,
   "metadata": {},
   "outputs": [],
   "source": [
    "def renameCols(df):\n",
    "    d = {}\n",
    "    cols = df.columns\n",
    "    \n",
    "    for col in cols:\n",
    "        x = col[4:]\n",
    "        n = x.find(\"_\")\n",
    "        key = x[:n]\n",
    "        val = x[n+3:]\n",
    "        d[key] = val\n",
    "        key = \"MEI_\" + key\n",
    "        df.rename({col:key},axis=\"columns\", inplace=True)\n",
    "    return df, d"
   ]
  },
  {
   "cell_type": "code",
   "execution_count": 8,
   "metadata": {},
   "outputs": [],
   "source": [
    "def getMEIname(key):\n",
    "    return meiDict[key]"
   ]
  },
  {
   "cell_type": "code",
   "execution_count": 9,
   "metadata": {},
   "outputs": [],
   "source": [
    "def getCorrelation(MEI, targets):\n",
    "    ''' Correlation between MacroEconomic Indicators and Valmont Vol and Rev '''\n",
    "    keep = []\n",
    "    for tgt in targets.columns:\n",
    "        tgt = targets[tgt]       # This is either Vol or Rev\n",
    "        for col in MEI.columns:\n",
    "            mei = MEI[col]\n",
    "            corr = tgt.corr(mei)\n",
    "            if corr > 0.35:\n",
    "                keep.append(col)\n",
    "    keep = set(keep)\n",
    "\n",
    "    # All the columns in \"keep\" are minimally correlated with either Vol or Revenue\n",
    "    print(\"Found {} potential predictors\".format(len(keep)))\n",
    "    print(\"\\n{:<20}{:<6}{}\".format(\"Column\", \"Vol\", \"Rev\"))\n",
    "    for x in keep:\n",
    "        Vcorr = MEI[x].corr(targets[\"Volume\"])\n",
    "        Rcorr = MEI[x].corr(targets[\"Revenue\"])\n",
    "        print(\"{:<20}{:<6.2f}{:.2f}\".format(x, Vcorr, Rcorr))\n",
    "    return keep"
   ]
  },
  {
   "cell_type": "code",
   "execution_count": 10,
   "metadata": {},
   "outputs": [],
   "source": [
    "def getMEIcorr(MEI, keep):\n",
    "    ''' Check the collinearity of the remaining MEIs '''\n",
    "    corrDF = MEI[list(keep)]\n",
    "    corrDF = corrDF.corr()\n",
    "\n",
    "    for col in corrDF.columns:\n",
    "        s = corrDF.loc[col]\n",
    "        count = sum(s>0.85)\n",
    "        if count > 1:\n",
    "            print(col, count)\n",
    "    return corrDF"
   ]
  },
  {
   "cell_type": "code",
   "execution_count": 11,
   "metadata": {},
   "outputs": [
    {
     "name": "stdout",
     "output_type": "stream",
     "text": [
      "removing duplicate columns\n",
      "-  Avg_41___CPI_U__All_Items_Less_Food_and_Energy__1982_84_100__Index___United_Sta\n",
      "-  Avg_60___US_MW_Dom_HRC_Steel_Near_Term__NYM___st____Price\n",
      "-  Avg_61___Crude_Steel_Production__United_States__Thous_Metric_Tons___United_Stat\n",
      "removing Annual columns\n",
      "-  Avg_13___Median_Household_Income__National__Adjusted_to_2013_U_S_Dollars___Unit\n",
      "-  Avg_30___Average_Hours_At_Work_in_All_Industries__Total__SA__Hours___United_Sta\n",
      "-  Avg_31___Average_Weekly_Hours_of_All_Employees__Total_Private__SA__Hours__Hours\n",
      "-  Avg_32___Average_Weekly_Overtime_Hours_of_Production_and_Nonsupervisory_Employe\n",
      "-  Avg_39___Demographic_Indicators__Births__All_Races___Origins__Number___United_S\n"
     ]
    }
   ],
   "source": [
    "MEI = getMEI(df)\n",
    "# Static column\n",
    "del MEI[\"Avg_4___Ecri_Business_Cycle_Dates___United_States\"]\n",
    "MEI = removeDups(MEI)\n",
    "MEI = removeAnnual(MEI)\n",
    "MEI, meiDict = renameCols(MEI)\n",
    "MEI = genFeatures(MEI)\n",
    "targets = getTargets(df)"
   ]
  },
  {
   "cell_type": "code",
   "execution_count": 12,
   "metadata": {},
   "outputs": [
    {
     "name": "stdout",
     "output_type": "stream",
     "text": [
      "Found 16 potential predictors\n",
      "\n",
      "Column              Vol   Rev\n",
      "MEI_27              0.35  0.14\n",
      "MEI_71_M%chg_L6     0.35  0.28\n",
      "MEI_63              0.37  0.26\n",
      "MEI_28              0.38  0.17\n",
      "MEI_36_Q%chg_L1     0.67  0.75\n",
      "MEI_9_M%chg_L2      0.35  0.37\n",
      "MEI_74_A%chg        0.36  0.27\n",
      "MEI_70_M%chg_L6     0.36  0.30\n",
      "MEI_10_M%chg_L5     0.39  0.41\n",
      "MEI_26_M%chg_L5     0.53  0.57\n",
      "MEI_1               0.40  0.25\n",
      "MEI_71_M%chg_L0     0.35  0.31\n",
      "MEI_3               0.40  0.22\n",
      "MEI_26_M%chg_L2     0.52  0.55\n",
      "MEI_74_M%chg_L5     0.36  0.31\n",
      "MEI_9_M%chg_L5      0.44  0.45\n"
     ]
    }
   ],
   "source": [
    "# Check for correlation between MEI and Targets  (Volume and Revenue, separately)\n",
    "keep = getCorrelation(MEI, targets)"
   ]
  },
  {
   "cell_type": "markdown",
   "metadata": {},
   "source": [
    "##### Check for collinearity among the potential predictors"
   ]
  },
  {
   "cell_type": "code",
   "execution_count": 17,
   "metadata": {},
   "outputs": [
    {
     "name": "stdout",
     "output_type": "stream",
     "text": [
      "MEI_27 2\n",
      "MEI_71_M%chg_L6 2\n",
      "MEI_28 3\n",
      "MEI_70_M%chg_L6 2\n",
      "MEI_1 2\n",
      "MEI_3 3\n"
     ]
    }
   ],
   "source": [
    "MEIcorr = getMEIcorr(MEI, keep)"
   ]
  },
  {
   "cell_type": "code",
   "execution_count": 14,
   "metadata": {},
   "outputs": [
    {
     "data": {
      "text/plain": [
       "'High_Grade_Copper__NYM___lbs__Continuous___Futures___Price___Close'"
      ]
     },
     "execution_count": 14,
     "metadata": {},
     "output_type": "execute_result"
    }
   ],
   "source": [
    "getMEIname(\"63\")"
   ]
  },
  {
   "cell_type": "code",
   "execution_count": 19,
   "metadata": {},
   "outputs": [
    {
     "data": {
      "text/plain": [
       "MEI_27             0.049351\n",
       "MEI_71_M%chg_L6    0.948563\n",
       "MEI_63             0.106865\n",
       "MEI_28             0.043549\n",
       "MEI_36_Q%chg_L1    0.258014\n",
       "MEI_9_M%chg_L2     0.169455\n",
       "MEI_74_A%chg       0.197592\n",
       "MEI_70_M%chg_L6    1.000000\n",
       "MEI_10_M%chg_L5    0.131236\n",
       "MEI_26_M%chg_L5   -0.030779\n",
       "MEI_1             -0.020950\n",
       "MEI_71_M%chg_L0    0.031586\n",
       "MEI_3              0.117011\n",
       "MEI_26_M%chg_L2    0.217184\n",
       "MEI_74_M%chg_L5    0.714215\n",
       "MEI_9_M%chg_L5     0.015824\n",
       "Name: MEI_70_M%chg_L6, dtype: float64"
      ]
     },
     "execution_count": 19,
     "metadata": {},
     "output_type": "execute_result"
    }
   ],
   "source": [
    "# For an MEI, get correlations with other MEIs\n",
    "MEIcorr.loc[\"MEI_70_M%chg_L6\"]"
   ]
  },
  {
   "cell_type": "code",
   "execution_count": 33,
   "metadata": {},
   "outputs": [
    {
     "data": {
      "image/png": "[encoded data removed]",
      "text/plain": [
       "<Figure size 432x288 with 2 Axes>"
      ]
     },
     "metadata": {},
     "output_type": "display_data"
    }
   ],
   "source": [
    "a = MEI[\"MEI_70_M%chg_L6\"]\n",
    "b = targets[\"Volume\"]\n",
    "\n",
    "\n",
    "plotColumns(a,b, \"10 Year Bond\", \"Volume\", \"Monthly % change 10 Yr Bond vs Volume\")"
   ]
  },
  {
   "cell_type": "code",
   "execution_count": 20,
   "metadata": {},
   "outputs": [],
   "source": [
    "# Remove any highly correlated\n",
    "keep.remove(\"MEI_27\")\n",
    "keep.remove(\"MEI_3\")\n",
    "keep.remove(\"MEI_70_M%chg_L6\")"
   ]
  },
  {
   "cell_type": "code",
   "execution_count": 21,
   "metadata": {},
   "outputs": [
    {
     "name": "stdout",
     "output_type": "stream",
     "text": [
      "Final list of 13 predictors:\n",
      "  - MEI_71_M%chg_L6\n",
      "  - MEI_63\n",
      "  - MEI_28\n",
      "  - MEI_36_Q%chg_L1\n",
      "  - MEI_9_M%chg_L2\n",
      "  - MEI_74_A%chg\n",
      "  - MEI_10_M%chg_L5\n",
      "  - MEI_26_M%chg_L5\n",
      "  - MEI_1\n",
      "  - MEI_71_M%chg_L0\n",
      "  - MEI_26_M%chg_L2\n",
      "  - MEI_74_M%chg_L5\n",
      "  - MEI_9_M%chg_L5\n"
     ]
    }
   ],
   "source": [
    "print(\"Final list of {} predictors:\".format(len(keep)))\n",
    "for k in keep:\n",
    "    print(\"  -\",k)"
   ]
  },
  {
   "cell_type": "code",
   "execution_count": 23,
   "metadata": {},
   "outputs": [],
   "source": [
    "MEI = MEI[list(keep)]\n",
    "MEI[\"Month\"] = df[\"Month\"]\n",
    "final = pd.concat([MEI, targets],axis=1)\n",
    "\n",
    "final.to_csv(config[\"dataLoc\"]+\"final.csv\", index=False)"
   ]
  }
 ],
 "metadata": {
  "kernelspec": {
   "display_name": "Python 3",
   "language": "python",
   "name": "python3"
  },
  "language_info": {
   "codemirror_mode": {
    "name": "ipython",
    "version": 3
   },
   "file_extension": ".py",
   "mimetype": "text/x-python",
   "name": "python",
   "nbconvert_exporter": "python",
   "pygments_lexer": "ipython3",
   "version": "3.5.2"
  }
 },
 "nbformat": 4,
 "nbformat_minor": 2
}
