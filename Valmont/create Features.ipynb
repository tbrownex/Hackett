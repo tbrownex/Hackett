{
 "cells": [
  {
   "cell_type": "code",
   "execution_count": 1,
   "metadata": {},
   "outputs": [],
   "source": [
    "import os\n",
    "\n",
    "from getConfig import getConfig\n",
    "from MImapping import MImapping"
   ]
  },
  {
   "cell_type": "code",
   "execution_count": 2,
   "metadata": {},
   "outputs": [],
   "source": [
    "def getFile(file):\n",
    "    return pd.read_csv(config[\"dataLoc\"]+file, parse_dates=[0], index_col=0)"
   ]
  },
  {
   "cell_type": "code",
   "execution_count": 3,
   "metadata": {},
   "outputs": [],
   "source": [
    "# This will remove any previously generated columns, leaving only the raw data: date (index) and value\n",
    "def removeCols(df, col):\n",
    "    df = pd.DataFrame(df.iloc[:,0])\n",
    "    df.columns = [col]\n",
    "    df[col] = round(df[col],2)\n",
    "    return df"
   ]
  },
  {
   "cell_type": "code",
   "execution_count": 4,
   "metadata": {},
   "outputs": [],
   "source": [
    "def createMmetrics(df, col):\n",
    "    s = round(df[col].pct_change(periods=1),3)\n",
    "    for x in range(4):\n",
    "        feature = col + \"_\" + \"M%chg_L\" + str(x)\n",
    "        df[feature] = s.shift(x)\n",
    "    feature = col + \"_\" + \"A%chg\" + str(x)\n",
    "    df[feature] = round(df[col].pct_change(periods=12),3)\n",
    "    return df"
   ]
  },
  {
   "cell_type": "code",
   "execution_count": 5,
   "metadata": {},
   "outputs": [],
   "source": [
    "def createQmetrics(df, col):\n",
    "    s = round(df[col].pct_change(periods=1),3)\n",
    "    for x in range(3):\n",
    "        feature = col + \"_\" + \"Q%chg_L\" + str(x)\n",
    "        df[feature] = s.shift(x)\n",
    "    feature = col + \"_\" + \"A%chg\" + str(x)\n",
    "    df[feature] = round(df[col].pct_change(periods=4),3)\n",
    "    return df"
   ]
  },
  {
   "cell_type": "code",
   "execution_count": 6,
   "metadata": {},
   "outputs": [],
   "source": [
    "config  = getConfig()\n",
    "# This is the mapping of Macro-economic Indicator filename to column and frequency\n",
    "mapping = MImapping()"
   ]
  },
  {
   "cell_type": "code",
   "execution_count": 7,
   "metadata": {},
   "outputs": [],
   "source": [
    "for file in os.listdir(config[\"dataLoc\"]):\n",
    "    if file != \"testData.csv\":\n",
    "        df = getFile(file)\n",
    "        col = mapping[file][\"col\"]    # This is the name of the column for this MI\n",
    "        df = removeCols(df, col)\n",
    "        if mapping[file][\"freq\"] == \"Q\":\n",
    "            df = createQmetrics(df, col)\n",
    "        else:\n",
    "            df = createMmetrics(df, col)\n",
    "        df.to_csv(config[\"dataLoc\"]+file, index=True)"
   ]
  }
 ],
 "metadata": {
  "kernelspec": {
   "display_name": "Python 3",
   "language": "python",
   "name": "python3"
  },
  "language_info": {
   "codemirror_mode": {
    "name": "ipython",
    "version": 3
   },
   "file_extension": ".py",
   "mimetype": "text/x-python",
   "name": "python",
   "nbconvert_exporter": "python",
   "pygments_lexer": "ipython3",
   "version": "3.5.2"
  }
 },
 "nbformat": 4,
 "nbformat_minor": 2
}
