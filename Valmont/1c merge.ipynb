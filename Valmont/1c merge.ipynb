{
 "cells": [
  {
   "cell_type": "code",
   "execution_count": 1,
   "metadata": {},
   "outputs": [],
   "source": [
    "import os\n",
    "import datetime\n",
    "\n",
    "from getConfig import getConfig"
   ]
  },
  {
   "cell_type": "code",
   "execution_count": 2,
   "metadata": {},
   "outputs": [],
   "source": [
    "config = getConfig()"
   ]
  },
  {
   "cell_type": "code",
   "execution_count": 3,
   "metadata": {},
   "outputs": [],
   "source": [
    "val = pd.read_csv(config[\"dataLoc\"] + \"ValmontData.csv\")\n",
    "\n",
    "val[\"Date\"] = pd.to_datetime(val[\"Date\"], format='%y-%b')\n",
    "val.set_index(\"Date\", inplace=True)\n",
    "val.sort_index(inplace=True)"
   ]
  },
  {
   "cell_type": "code",
   "execution_count": 4,
   "metadata": {},
   "outputs": [],
   "source": [
    "meiFiles = [config[\"dataLoc\"] + \"Fred/merged.csv\",\\\n",
    "            config[\"dataLoc\"] + \"Factset/merged.csv\"]\n",
    "\n",
    "MEIs = [pd.read_csv(file, parse_dates=True, index_col=0) for file in meiFiles]"
   ]
  },
  {
   "cell_type": "code",
   "execution_count": 5,
   "metadata": {},
   "outputs": [],
   "source": [
    "final = val.join(MEIs, how=\"inner\")\n",
    "final.reset_index(inplace=True, col_fill=\"Date\")\n",
    "\n",
    "final.to_csv(config[\"dataLoc\"]+\"final.csv\", index=False)"
   ]
  }
 ],
 "metadata": {
  "kernelspec": {
   "display_name": "Python 3",
   "language": "python",
   "name": "python3"
  },
  "language_info": {
   "codemirror_mode": {
    "name": "ipython",
    "version": 3
   },
   "file_extension": ".py",
   "mimetype": "text/x-python",
   "name": "python",
   "nbconvert_exporter": "python",
   "pygments_lexer": "ipython3",
   "version": "3.5.2"
  }
 },
 "nbformat": 4,
 "nbformat_minor": 2
}
