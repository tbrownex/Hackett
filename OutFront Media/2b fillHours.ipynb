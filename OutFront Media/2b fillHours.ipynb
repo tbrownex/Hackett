{
 "cells": [
  {
   "cell_type": "markdown",
   "metadata": {},
   "source": [
    "#### There should be a day for each panel. Make sure there is an hour for each day"
   ]
  },
  {
   "cell_type": "code",
   "execution_count": 1,
   "metadata": {},
   "outputs": [],
   "source": [
    "import pandas as pd\n",
    "from config import getClient\n",
    "from checkMissing import checkMissing\n",
    "import numpy as np"
   ]
  },
  {
   "cell_type": "code",
   "execution_count": 2,
   "metadata": {},
   "outputs": [],
   "source": [
    "datalib = getClient(\"OutFront\")"
   ]
  },
  {
   "cell_type": "code",
   "execution_count": 3,
   "metadata": {},
   "outputs": [],
   "source": [
    "df = pd.read_csv(datalib+\"2a_dates.csv\")\n",
    "\n",
    "# Convert their date format to a standard date\n",
    "df[\"date\"] = pd.to_datetime(df[\"date\"])"
   ]
  },
  {
   "cell_type": "code",
   "execution_count": 4,
   "metadata": {},
   "outputs": [],
   "source": [
    "# A panel is missing hours\n",
    "def addHours(idx, missing):\n",
    "    d = {}\n",
    "    d[\"panel\"]      = idx[0]\n",
    "    d[\"date\"]       = idx[1]\n",
    "    d[\"population\"] = None\n",
    "    d[\"hour\"]       = missing\n",
    "    imputed = pd.DataFrame.from_dict(d)\n",
    "    imputed = imputed.set_index([\"panel\", \"date\"])\n",
    "    return imputed"
   ]
  },
  {
   "cell_type": "code",
   "execution_count": 5,
   "metadata": {},
   "outputs": [
    {
     "name": "stdout",
     "output_type": "stream",
     "text": [
      "100\n",
      "200\n",
      "300\n",
      "400\n",
      "500\n",
      "600\n",
      "700\n",
      "800\n",
      "900\n",
      "1000\n",
      "1100\n",
      "1200\n",
      "1300\n",
      "1400\n",
      "1500\n",
      "1600\n",
      "1700\n",
      "1800\n",
      "1900\n",
      "2000\n",
      "2100\n",
      "2200\n",
      "2300\n",
      "2400\n",
      "2500\n",
      "2600\n",
      "2700\n",
      "2800\n",
      "2900\n",
      "3000\n",
      "3100\n",
      "3200\n",
      "3300\n",
      "3400\n",
      "3500\n",
      "3600\n",
      "3700\n",
      "3800\n",
      "3900\n",
      "4000\n",
      "4100\n",
      "4200\n",
      "4300\n",
      "4400\n",
      "4500\n",
      "4600\n",
      "4700\n",
      "4800\n",
      "4900\n",
      "5000\n",
      "5100\n",
      "5200\n",
      "5300\n",
      "5400\n",
      "5500\n",
      "5600\n",
      "5700\n",
      "5800\n",
      "5900\n",
      "6000\n",
      "6100\n",
      "6200\n",
      "6300\n",
      "6400\n",
      "6500\n",
      "6600\n",
      "6700\n",
      "6800\n",
      "6900\n",
      "7000\n",
      "7100\n",
      "7200\n"
     ]
    }
   ],
   "source": [
    "recBefore = df.shape[0]\n",
    "popBefore = df[\"population\"].sum()\n",
    "\n",
    "# Check each panel/date for missing hours\n",
    "df = df.set_index([\"panel\", \"date\"])\n",
    "grp = df.groupby(level=[0,1])\n",
    "\n",
    "count = 0\n",
    "for idx, val in grp:\n",
    "    missing = checkMissing(val, \"hour\")\n",
    "    if len(missing) > 0:\n",
    "        count += 1\n",
    "        if count % 100 == 0:\n",
    "            print(count)\n",
    "        imputed = addHours(idx, missing)\n",
    "        df = df.append(imputed)"
   ]
  },
  {
   "cell_type": "code",
   "execution_count": 6,
   "metadata": {},
   "outputs": [],
   "source": [
    "# Make sure population stayed the same (population of added records is None)\n",
    "popAfter = df[\"population\"].sum()\n",
    "assert (popBefore - popAfter == 0)"
   ]
  },
  {
   "cell_type": "code",
   "execution_count": 7,
   "metadata": {},
   "outputs": [
    {
     "name": "stdout",
     "output_type": "stream",
     "text": [
      "31,120 records added\n"
     ]
    }
   ],
   "source": [
    "# Make sure # of records added is a multiple of 24 (for hours / day)\n",
    "recAfter = df.shape[0]\n",
    "print(\"{:,.0f} records added\".format(recAfter - recBefore))"
   ]
  },
  {
   "cell_type": "code",
   "execution_count": 8,
   "metadata": {},
   "outputs": [],
   "source": [
    "df = df.reset_index()\n",
    "df = df.set_index([\"panel\", \"date\", \"hour\"])\n",
    "df = df.sort_index()\n",
    "df.to_csv(datalib+\"2b_hours.csv\")"
   ]
  }
 ],
 "metadata": {
  "kernelspec": {
   "display_name": "Python 3",
   "language": "python",
   "name": "python3"
  },
  "language_info": {
   "codemirror_mode": {
    "name": "ipython",
    "version": 3
   },
   "file_extension": ".py",
   "mimetype": "text/x-python",
   "name": "python",
   "nbconvert_exporter": "python",
   "pygments_lexer": "ipython3",
   "version": "3.5.2"
  }
 },
 "nbformat": 4,
 "nbformat_minor": 2
}
