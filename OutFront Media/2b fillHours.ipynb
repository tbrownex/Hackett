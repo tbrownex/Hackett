{
 "cells": [
  {
   "cell_type": "markdown",
   "metadata": {},
   "source": [
    "#### There should be a day for each panel. Make sure there is an hour for each day"
   ]
  },
  {
   "cell_type": "code",
   "execution_count": 5,
   "metadata": {},
   "outputs": [],
   "source": [
    "import pandas as pd\n",
    "import numpy  as np\n",
    "import time\n",
    "from config import getClient\n",
    "from checkMissing import checkMissing"
   ]
  },
  {
   "cell_type": "code",
   "execution_count": 6,
   "metadata": {},
   "outputs": [],
   "source": [
    "datalib = getClient(\"OutFront\")"
   ]
  },
  {
   "cell_type": "code",
   "execution_count": 7,
   "metadata": {},
   "outputs": [],
   "source": [
    "df = pd.read_csv(datalib+\"2a_dates.csv\")\n",
    "\n",
    "# Convert their date format to a standard date\n",
    "df[\"date\"] = pd.to_datetime(df[\"date\"])"
   ]
  },
  {
   "cell_type": "code",
   "execution_count": 8,
   "metadata": {},
   "outputs": [],
   "source": [
    "# A panel is missing hours\n",
    "def addHours(idx, missing):\n",
    "    d = {}\n",
    "    d[\"panel\"]      = idx[0]\n",
    "    d[\"date\"]       = idx[1]\n",
    "    d[\"population\"] = None\n",
    "    d[\"hour\"]       = missing\n",
    "    imputed = pd.DataFrame.from_dict(d)\n",
    "    imputed = imputed.set_index([\"panel\", \"date\"])\n",
    "    return imputed"
   ]
  },
  {
   "cell_type": "code",
   "execution_count": 9,
   "metadata": {},
   "outputs": [
    {
     "name": "stdout",
     "output_type": "stream",
     "text": [
      "1000\n",
      "2000\n",
      "3000\n",
      "4000\n",
      "5000\n",
      "6000\n",
      "7000\n",
      "8000\n",
      "9000\n",
      "10000\n",
      "11000\n",
      "12000\n",
      "13000\n",
      "14000\n",
      "15000\n"
     ]
    }
   ],
   "source": [
    "recBefore = df.shape[0]\n",
    "popBefore = df[\"population\"].sum()\n",
    "\n",
    "# Check each panel/date for missing hours\n",
    "df = df.set_index([\"panel\", \"date\"])\n",
    "grp = df.groupby(level=[0,1])\n",
    "\n",
    "count = 0\n",
    "start = time.time()\n",
    "\n",
    "for idx, val in grp:\n",
    "    count += 1\n",
    "    if count % 100 == 0:\n",
    "        print(count)\n",
    "    missing = checkMissing(val, \"hour\")\n",
    "    if len(missing) > 0:\n",
    "        imputed = addHours(idx, missing)\n",
    "        df = df.append(imputed)\n",
    "end = time.time()\n",
    "print(\"{:.0f} elapsed minutes\".format((end-start)/60))"
   ]
  },
  {
   "cell_type": "code",
   "execution_count": 10,
   "metadata": {},
   "outputs": [],
   "source": [
    "# Make sure population stayed the same (population of added records is None)\n",
    "popAfter = df[\"population\"].sum()\n",
    "assert (popBefore - popAfter == 0)"
   ]
  },
  {
   "cell_type": "code",
   "execution_count": 11,
   "metadata": {},
   "outputs": [
    {
     "name": "stdout",
     "output_type": "stream",
     "text": [
      "72,810 records added\n"
     ]
    }
   ],
   "source": [
    "# Make sure # of records added is a multiple of 24 (for hours / day)\n",
    "recAfter = df.shape[0]\n",
    "print(\"{:,.0f} records added\".format(recAfter - recBefore))"
   ]
  },
  {
   "cell_type": "code",
   "execution_count": 12,
   "metadata": {},
   "outputs": [],
   "source": [
    "df = df.reset_index()\n",
    "df = df.set_index([\"panel\", \"date\", \"hour\"])\n",
    "df = df.sort_index()\n",
    "df.to_csv(datalib+\"2NEWb_hours.csv\")"
   ]
  }
 ],
 "metadata": {
  "kernelspec": {
   "display_name": "Python 3",
   "language": "python",
   "name": "python3"
  },
  "language_info": {
   "codemirror_mode": {
    "name": "ipython",
    "version": 3
   },
   "file_extension": ".py",
   "mimetype": "text/x-python",
   "name": "python",
   "nbconvert_exporter": "python",
   "pygments_lexer": "ipython3",
   "version": "3.5.2"
  }
 },
 "nbformat": 4,
 "nbformat_minor": 2
}
