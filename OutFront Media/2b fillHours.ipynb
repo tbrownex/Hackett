{
 "cells": [
  {
   "cell_type": "markdown",
   "metadata": {},
   "source": [
    "#### There should be a day for each panel. Make sure there is an hour for each day"
   ]
  },
  {
   "cell_type": "code",
   "execution_count": 13,
   "metadata": {},
   "outputs": [],
   "source": [
    "import pandas as pd\n",
    "import numpy  as np\n",
    "import time\n",
    "from config import getClient\n",
    "from checkMissing import checkMissing\n",
    "from os import listdir\n",
    "from os.path import isfile, join"
   ]
  },
  {
   "cell_type": "code",
   "execution_count": 14,
   "metadata": {},
   "outputs": [],
   "source": [
    "dataloc = getClient(\"OutFront\")"
   ]
  },
  {
   "cell_type": "code",
   "execution_count": 15,
   "metadata": {},
   "outputs": [
    {
     "name": "stdout",
     "output_type": "stream",
     "text": [
      "699 panels to process\n"
     ]
    }
   ],
   "source": [
    "panels = [f for f in listdir(dataloc+\"panels/\") if isfile(join(dataloc+\"panels/\", f))]\n",
    "\n",
    "print(\"{:,.0f} panels to process\".format(len(panels)))"
   ]
  },
  {
   "cell_type": "code",
   "execution_count": 16,
   "metadata": {},
   "outputs": [],
   "source": [
    "# A panel is missing hours\n",
    "def addHours(key, missing):\n",
    "    d = {}\n",
    "    d[\"panel\"]      = key[0]\n",
    "    d[\"date\"]       = key[1]\n",
    "    d[\"population\"] = None\n",
    "    d[\"hour\"]       = missing\n",
    "    return pd.DataFrame.from_dict(d)"
   ]
  },
  {
   "cell_type": "code",
   "execution_count": 17,
   "metadata": {},
   "outputs": [],
   "source": [
    "# Check each panel for missing dates\n",
    "def processPanel(df):\n",
    "    df.set_index([\"panel\", \"date\"], inplace=True)\n",
    "    grp = df.groupby(level=[0,1])\n",
    "    for key, val in grp:\n",
    "        missing = checkMissing(df, \"hour\")\n",
    "        if len(missing) > 0:\n",
    "            imputed = addHours(key, missing)\n",
    "            df      = df.append(imputed)\n",
    "    return df"
   ]
  },
  {
   "cell_type": "code",
   "execution_count": null,
   "metadata": {},
   "outputs": [],
   "source": [
    "count = 0\n",
    "start = time.time()\n",
    "\n",
    "for panel in panels:\n",
    "    df = pd.read_csv(dataloc+\"panels/\"+panel,\\\n",
    "                     dtype={\"hour\":'int8',\\\n",
    "                            \"population\":'int32'})\n",
    "    df = processPanel(df)\n",
    "    df.to_csv(dataloc+\"panels/\"+panel)\n",
    "\n",
    "end = time.time()\n",
    "print(\"Completed after {:.0f} minutes\".format((end-start)/60))"
   ]
  }
 ],
 "metadata": {
  "kernelspec": {
   "display_name": "Python 3",
   "language": "python",
   "name": "python3"
  },
  "language_info": {
   "codemirror_mode": {
    "name": "ipython",
    "version": 3
   },
   "file_extension": ".py",
   "mimetype": "text/x-python",
   "name": "python",
   "nbconvert_exporter": "python",
   "pygments_lexer": "ipython3",
   "version": "3.5.2"
  }
 },
 "nbformat": 4,
 "nbformat_minor": 2
}
