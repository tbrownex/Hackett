{
 "cells": [
  {
   "cell_type": "code",
   "execution_count": 1,
   "metadata": {},
   "outputs": [],
   "source": [
    "import pandas as pd\n",
    "import numpy  as np\n",
    "from config import getClient\n",
    "from checkMissing import checkMissing"
   ]
  },
  {
   "cell_type": "code",
   "execution_count": 2,
   "metadata": {},
   "outputs": [],
   "source": [
    "dataloc = getClient(\"OutFront\")"
   ]
  },
  {
   "cell_type": "code",
   "execution_count": 3,
   "metadata": {},
   "outputs": [],
   "source": [
    "df = pd.read_csv(dataloc+\"2c_updatedHours.csv\")\n",
    "\n",
    "# Convert their date format to a standard date\n",
    "df[\"date\"] = pd.to_datetime(df[\"date\"])"
   ]
  },
  {
   "cell_type": "code",
   "execution_count": 4,
   "metadata": {},
   "outputs": [
    {
     "name": "stdout",
     "output_type": "stream",
     "text": [
      "Number missing dates: 0\n"
     ]
    }
   ],
   "source": [
    "# Check each panel for missing dates\n",
    "df = df.set_index(\"panel\")\n",
    "grp = df.groupby(level=0)\n",
    "\n",
    "count = 0\n",
    "for idx, val in grp:\n",
    "    missing = checkMissing(val, \"day\")\n",
    "    if len(missing) > 0:\n",
    "        count += 1\n",
    "        print(\"found one missing: {}\".format(idx))\n",
    "print(\"Number missing dates: {}\".format(count))"
   ]
  }
 ],
 "metadata": {
  "kernelspec": {
   "display_name": "Python 3",
   "language": "python",
   "name": "python3"
  },
  "language_info": {
   "codemirror_mode": {
    "name": "ipython",
    "version": 3
   },
   "file_extension": ".py",
   "mimetype": "text/x-python",
   "name": "python",
   "nbconvert_exporter": "python",
   "pygments_lexer": "ipython3",
   "version": "3.5.2"
  }
 },
 "nbformat": 4,
 "nbformat_minor": 2
}
