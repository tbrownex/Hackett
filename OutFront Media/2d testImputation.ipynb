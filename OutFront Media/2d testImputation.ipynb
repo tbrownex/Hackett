{
 "cells": [
  {
   "cell_type": "code",
   "execution_count": 1,
   "metadata": {},
   "outputs": [],
   "source": [
    "import pandas as pd\n",
    "import numpy  as np\n",
    "from config import getClient\n",
    "from checkMissing import checkMissing\n",
    "from os import listdir\n",
    "from os.path import isfile, join\n",
    "import time"
   ]
  },
  {
   "cell_type": "code",
   "execution_count": 2,
   "metadata": {},
   "outputs": [],
   "source": [
    "dataloc = getClient(\"OutFront\")"
   ]
  },
  {
   "cell_type": "code",
   "execution_count": 3,
   "metadata": {},
   "outputs": [
    {
     "name": "stdout",
     "output_type": "stream",
     "text": [
      "699 panels to process\n"
     ]
    }
   ],
   "source": [
    "panels = [f for f in listdir(dataloc+\"panels/\") if isfile(join(dataloc+\"panels/\", f))]\n",
    "\n",
    "print(\"{:,.0f} panels to process\".format(len(panels)))"
   ]
  },
  {
   "cell_type": "code",
   "execution_count": 4,
   "metadata": {},
   "outputs": [],
   "source": [
    "# Check each panel for missing dates\n",
    "def processPanel(df):\n",
    "    nan = df[\"population\"].isnull().sum()\n",
    "    if nan > 0:\n",
    "        print(\"missing population: \", df[\"panel\"].unique())\n",
    "    missing = checkMissing(df, \"day\")\n",
    "    if len(missing) > 0:\n",
    "        return True\n",
    "    else:\n",
    "        df.set_index([\"panel\", \"date\"], inplace=True)\n",
    "        grp = df.groupby(level=[0,1])\n",
    "        for key, val in grp:\n",
    "            missing = checkMissing(df, \"hour\")\n",
    "            if len(missing) > 0:\n",
    "                return True\n",
    "        return False"
   ]
  },
  {
   "cell_type": "code",
   "execution_count": 5,
   "metadata": {},
   "outputs": [
    {
     "name": "stdout",
     "output_type": "stream",
     "text": [
      "Number missing dates: 0\n",
      "Completed after 4 minutes\n"
     ]
    }
   ],
   "source": [
    "count = 0\n",
    "start = time.time()\n",
    "\n",
    "for panel in panels:\n",
    "    df = pd.read_csv(dataloc+\"panels/\"+panel,\\\n",
    "                     dtype={\"hour\":'int8',\\\n",
    "                            \"population\":'int32'})\n",
    "    \n",
    "    missing = processPanel(df)\n",
    "    if missing:\n",
    "        count += 1\n",
    "        print(\"Missing: {}\".format(panel))\n",
    "    \n",
    "print(\"Number missing dates: {}\".format(count))\n",
    "    \n",
    "end = time.time()\n",
    "print(\"Completed after {:.0f} minutes\".format((end-start)/60))"
   ]
  },
  {
   "cell_type": "code",
   "execution_count": null,
   "metadata": {},
   "outputs": [],
   "source": []
  }
 ],
 "metadata": {
  "kernelspec": {
   "display_name": "Python 3",
   "language": "python",
   "name": "python3"
  },
  "language_info": {
   "codemirror_mode": {
    "name": "ipython",
    "version": 3
   },
   "file_extension": ".py",
   "mimetype": "text/x-python",
   "name": "python",
   "nbconvert_exporter": "python",
   "pygments_lexer": "ipython3",
   "version": "3.5.2"
  }
 },
 "nbformat": 4,
 "nbformat_minor": 2
}
