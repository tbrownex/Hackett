{
 "cells": [
  {
   "cell_type": "markdown",
   "metadata": {},
   "source": [
    "#### Create csv input so optimizer routines don't have to do all the formatting"
   ]
  },
  {
   "cell_type": "code",
   "execution_count": 1,
   "metadata": {},
   "outputs": [],
   "source": [
    "import numpy as np\n",
    "import pandas as pd\n",
    "from datetime import timedelta\n",
    "\n",
    "from getConfig import getConfig\n",
    "from getData   import getData\n",
    "\n",
    "trainWeeks = 52\n",
    "COLS = [\"block\", \"dow\", \"weekNum\", \"month\"]"
   ]
  },
  {
   "cell_type": "code",
   "execution_count": null,
   "metadata": {},
   "outputs": [],
   "source": [
    "types = {\"hour\": \"int8\",\\\n",
    "         \"population\": \"float32\",\\\n",
    "         \"dow\": \"int8\",\\\n",
    "         \"weekNum\": \"int8\",\\\n",
    "         \"month\": \"int8\",\\\n",
    "         \"holiday\": \"int8\"}"
   ]
  },
  {
   "cell_type": "code",
   "execution_count": 3,
   "metadata": {},
   "outputs": [],
   "source": [
    "df = pd.read_csv(dataloc+\"3_final.csv\")\n",
    "\n",
    "# Convert their date format to a standard date\n",
    "df[\"date\"] = pd.to_datetime(df[\"date\"])"
   ]
  },
  {
   "cell_type": "code",
   "execution_count": 5,
   "metadata": {},
   "outputs": [],
   "source": [
    "df  = df.set_index(\"panel\")\n",
    "grp = df.groupby(level=0)"
   ]
  },
  {
   "cell_type": "code",
   "execution_count": 6,
   "metadata": {},
   "outputs": [],
   "source": [
    "def normalizeColumns(test, trainCols):\n",
    "    ''' Because Train and Test will likely be over different date ranges, it's likely\n",
    "    that Train has columns, e.g. \"Week 28\", which will not be in Test. In that case, add a\n",
    "    \"Week 28 column to Test, setting it to 0    '''\n",
    "    cols = [x for x in trainCols if x not in test.columns]\n",
    "    for x in cols:\n",
    "        test[x] = 0\n",
    "    test.sort_index(axis=1, inplace=True)\n",
    "    return test"
   ]
  },
  {
   "cell_type": "code",
   "execution_count": 7,
   "metadata": {},
   "outputs": [],
   "source": [
    "# X values need to be \"one-hot encoded\" for RF and NN\n",
    "def formatX(train, test):\n",
    "    train = pd.get_dummies(train, columns=COLS)\n",
    "    train.sort_index(axis=1, inplace=True)\n",
    "    trainCols = train.columns  # Need to make sure \"test\" has the same columns\n",
    "    \n",
    "    test = pd.get_dummies(test, columns=COLS)\n",
    "    test = normalizeColumns(test, trainCols)\n",
    "    assert (test.shape[1] == train.shape[1])\n",
    "    return train, test"
   ]
  },
  {
   "cell_type": "code",
   "execution_count": 8,
   "metadata": {},
   "outputs": [],
   "source": [
    "skipping = open(dataloc+\"skipped.csv\", \"w\")"
   ]
  },
  {
   "cell_type": "code",
   "execution_count": 9,
   "metadata": {},
   "outputs": [],
   "source": [
    "tr = []\n",
    "te = []\n",
    "\n",
    "for panel, data in grp:\n",
    "    trainEnd = data[\"date\"].min() + timedelta(weeks=trainWeeks)\n",
    "    train = data.loc[  data[\"date\"] < trainEnd]\n",
    "    test  = data.loc[~(data[\"date\"] < trainEnd)]\n",
    "    assert (data[\"population\"].sum() - train[\"population\"].sum() - test[\"population\"].sum() < 1)\n",
    "    if test.shape[0] > 0:\n",
    "        train, test = formatX(train, test)\n",
    "        tr.append(train)\n",
    "        te.append(test)\n",
    "    else:\n",
    "        rec = panel + \"\\n\"\n",
    "        skipping.write(rec)\n",
    "skipping.close()"
   ]
  },
  {
   "cell_type": "code",
   "execution_count": 11,
   "metadata": {},
   "outputs": [],
   "source": [
    "tmp = pd.concat(tr)\n",
    "tmp.to_csv(dataloc+\"testData/\"+\"train.csv\")\n",
    "tmp = pd.concat(te)\n",
    "tmp.to_csv(dataloc+\"testData/\"+\"test.csv\")"
   ]
  }
 ],
 "metadata": {
  "kernelspec": {
   "display_name": "Python 3",
   "language": "python",
   "name": "python3"
  },
  "language_info": {
   "codemirror_mode": {
    "name": "ipython",
    "version": 3
   },
   "file_extension": ".py",
   "mimetype": "text/x-python",
   "name": "python",
   "nbconvert_exporter": "python",
   "pygments_lexer": "ipython3",
   "version": "3.5.2"
  }
 },
 "nbformat": 4,
 "nbformat_minor": 2
}
