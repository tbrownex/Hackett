{
 "cells": [
  {
   "cell_type": "code",
   "execution_count": 1,
   "metadata": {},
   "outputs": [],
   "source": [
    "import pandas as pd\n",
    "import datetime\n",
    "from config import getClient\n",
    "import numpy as np"
   ]
  },
  {
   "cell_type": "code",
   "execution_count": 10,
   "metadata": {},
   "outputs": [],
   "source": [
    "datalib = getClient(\"OutFront\")"
   ]
  },
  {
   "cell_type": "code",
   "execution_count": 65,
   "metadata": {},
   "outputs": [],
   "source": [
    "cols = [\"panel\", \"date\", \"hour\", \"observed\", \"population\"]\n",
    "df = pd.read_csv(datalib+\"panel_counts.csv\", header=0,names=cols)"
   ]
  },
  {
   "cell_type": "code",
   "execution_count": 66,
   "metadata": {},
   "outputs": [
    {
     "name": "stdout",
     "output_type": "stream",
     "text": [
      "Full dataset runs from 20170525 - 20180710\n",
      "Number of rows: 863,238\n",
      "Number of unique panels: 100\n"
     ]
    }
   ],
   "source": [
    "start = df[\"date\"].min()\n",
    "end   = df[\"date\"].max()\n",
    "count = len(df[\"panel\"].unique())\n",
    "print(\"Full dataset runs from {} - {}\".format(start, end))\n",
    "print(\"Number of rows: {:,.0f}\".format(df.shape[0]))\n",
    "print(\"Number of unique panels: {}\".format(count))"
   ]
  },
  {
   "cell_type": "code",
   "execution_count": 67,
   "metadata": {},
   "outputs": [],
   "source": [
    "df  = df.set_index(\"panel\")\n",
    "\n",
    "# Convert their date format to a standard date\n",
    "df[\"date\"] = pd.to_datetime(df[\"date\"], format='%Y%m%d')\n",
    "\n",
    "df  = df.sort_values([\"date\", \"hour\"])"
   ]
  },
  {
   "cell_type": "code",
   "execution_count": 69,
   "metadata": {},
   "outputs": [
    {
     "name": "stdout",
     "output_type": "stream",
     "text": [
      "23 panels removed (140,148 records) due to low fill rate\n",
      "\n",
      "Remaining panels fill rate is 96.8%\n"
     ]
    }
   ],
   "source": [
    "# Analyze the fill rate and remove any panels with low rate\n",
    "grp = df.groupby(level=0)\n",
    "l = []\n",
    "count = 0\n",
    "before = df.shape[0]\n",
    "\n",
    "for panel, val in grp:\n",
    "    dates = val[\"date\"]\n",
    "    diff  = (dates.max() - dates.min()).days\n",
    "    durations = diff*24\n",
    "    numPoints = len(dates)\n",
    "    fillRate = numPoints/durations\n",
    "    if fillRate < .92:\n",
    "        #print(\"{:<15}{:.0%}\".format(panel, fillRate))\n",
    "        df = df.drop(panel)\n",
    "        count += 1\n",
    "    else:\n",
    "        l.append(fillRate)\n",
    "\n",
    "after = df.shape[0]\n",
    "print(\"{} panels removed ({:,.0f} records) due to low fill rate\".\\\n",
    "      format(count, (before-after)))\n",
    "print(\"{}Remaining panels fill rate is {:.1%}\".format(\"\\n\", sum(l)/len(l)))"
   ]
  },
  {
   "cell_type": "markdown",
   "metadata": {},
   "source": [
    "##### Generate new features"
   ]
  },
  {
   "cell_type": "code",
   "execution_count": 87,
   "metadata": {},
   "outputs": [],
   "source": [
    "# This is mapping each hour in the day to an 8-hour block\n",
    "conditions = [\n",
    "    (df['hour'] > 19) | (df['hour'] < 4),\n",
    "    (df['hour'] > 3) & (df['hour'] < 12)]\n",
    "\n",
    "blocks = ['evening', 'morning']\n",
    "\n",
    "df['block']   = np.select(conditions, blocks, default='afternoon')\n",
    "df[\"dow\"]     = df['date'].dt.dayofweek\n",
    "df[\"weekNum\"] = df['date'].dt.week\n",
    "df[\"month\"]   = df[\"date\"].dt.month\n",
    "\n",
    "assert (df[\"block\"].value_counts().sum()   == df.shape[0])\n",
    "assert (df[\"dow\"].value_counts().sum()     == df.shape[0])\n",
    "assert (df[\"weekNum\"].value_counts().sum() == df.shape[0])\n",
    "assert (df[\"month\"].value_counts().sum()   == df.shape[0])"
   ]
  },
  {
   "cell_type": "code",
   "execution_count": null,
   "metadata": {},
   "outputs": [],
   "source": []
  },
  {
   "cell_type": "code",
   "execution_count": null,
   "metadata": {},
   "outputs": [],
   "source": [
    "output = open(datalib+\"Wins and Losses.txt\", \"w\")"
   ]
  },
  {
   "cell_type": "code",
   "execution_count": null,
   "metadata": {},
   "outputs": [],
   "source": [
    "def report(idx, indicator):\n",
    "    rec = \"|\".join(idx)\n",
    "    rec = rec +\"|\"+ indicator +\"\\n\"\n",
    "    output.write(rec)"
   ]
  },
  {
   "cell_type": "code",
   "execution_count": null,
   "metadata": {},
   "outputs": [],
   "source": [
    "# \"Win\" is when you have a recent customer so not enough data to forecast\n",
    "# \"Loss\" is when you don't have recent data, so no longer active/relevant\n",
    "def removeWinsandLosses(df, cutoff):\n",
    "    sort = [\"Country\", \"Program\", \"Customer\", \"Driver\", \"Month\"]\n",
    "    df = df.sort_values(sort)\n",
    "    df = df.set_index([\"Country\", \"Program\", \"Customer\", \"Driver\"], drop=True)\n",
    "    cutoff = datetime.datetime.strptime(cutoff, \"%Y-%m-%d\")\n",
    "    loss = 0\n",
    "    win  = 0\n",
    "\n",
    "    for idx, val in df.groupby(level=[0, 1, 2, 3]):\n",
    "        dates = val[\"Month\"]\n",
    "        if dates.iloc[-1] < cutoff:    # Check for Loss\n",
    "            report(idx, \"L\")\n",
    "            df = df.drop(idx)\n",
    "            loss += 1\n",
    "        else:                        # Check for Win\n",
    "            if len(dates) < 12:\n",
    "                win += 1\n",
    "                report(idx, \"W\")\n",
    "                df = df.drop(idx)\n",
    "    print(\"{:,.0f} Loss and {:,.0f} wins\".format(loss, win))\n",
    "    return df.reset_index()"
   ]
  },
  {
   "cell_type": "code",
   "execution_count": null,
   "metadata": {},
   "outputs": [],
   "source": [
    "df = df.reset_index()\n",
    "df = removeWinsandLosses(df, \"2018-01-30\")\n",
    "\n",
    "output.close()"
   ]
  },
  {
   "cell_type": "code",
   "execution_count": null,
   "metadata": {},
   "outputs": [],
   "source": [
    "df.to_csv(datalib+\"Processed.csv\", sep=\",\", index=False)"
   ]
  }
 ],
 "metadata": {
  "kernelspec": {
   "display_name": "Python 3",
   "language": "python",
   "name": "python3"
  },
  "language_info": {
   "codemirror_mode": {
    "name": "ipython",
    "version": 3
   },
   "file_extension": ".py",
   "mimetype": "text/x-python",
   "name": "python",
   "nbconvert_exporter": "python",
   "pygments_lexer": "ipython3",
   "version": "3.5.2"
  }
 },
 "nbformat": 4,
 "nbformat_minor": 2
}
