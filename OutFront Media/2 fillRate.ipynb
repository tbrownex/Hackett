{
 "cells": [
  {
   "cell_type": "code",
   "execution_count": null,
   "metadata": {},
   "outputs": [],
   "source": [
    "import pandas as pd\n",
    "import numpy  as np\n",
    "import time\n",
    "from config import getClient\n",
    "from os import listdir\n",
    "from os.path import isfile, join\n",
    "import os\n",
    "\n",
    "dataloc = getClient(\"OutFront\")\n",
    "\n",
    "def getDuration(df):\n",
    "    start = df[\"date\"].min()\n",
    "    end   = df[\"date\"].max()\n",
    "    return (end - start)/ np.timedelta64(1, 'M')\n",
    "\n",
    "def getFillRate(df):\n",
    "    dates = df[\"date\"]\n",
    "    diff  = (dates.max() - dates.min()).days\n",
    "    durations = diff*24\n",
    "    numPoints = len(dates)\n",
    "    return numPoints/durations"
   ]
  },
  {
   "cell_type": "code",
   "execution_count": null,
   "metadata": {},
   "outputs": [],
   "source": [
    "def processError(panel, msg):\n",
    "    os.rename(dataloc+\"/panels/\"+panel,\\\n",
    "              dataloc+\"errors/\"+panel)\n",
    "\n",
    "    rec = panel+\",\"+msg+\"\\n\"\n",
    "    errors.write(rec)"
   ]
  },
  {
   "cell_type": "code",
   "execution_count": null,
   "metadata": {},
   "outputs": [],
   "source": [
    "def processPanel(df):\n",
    "    # Convert their date format to a standard date\n",
    "    df[\"date\"] = pd.to_datetime(df[\"date\"], format='%Y%m%d')\n",
    "    months = getDuration(df)\n",
    "    if months > 13:\n",
    "        rate = getFillRate(df)\n",
    "        if rate < .90:\n",
    "            processError(panel, \"Fill Rate too low\")\n",
    "    else:\n",
    "        processError(panel, \"Duration too short\")"
   ]
  },
  {
   "cell_type": "code",
   "execution_count": 1,
   "metadata": {},
   "outputs": [],
   "source": [
    "panels = [f for f in listdir(dataloc+\"panels/\") if isfile(join(dataloc+\"panels/\", f))]\n",
    "\n",
    "print(\"{:,.0f} panels to process\".format(len(panels)))\n",
    "\n",
    "errors = open(dataloc+\"errors.csv\", \"w\")\n",
    "\n",
    "count = 0\n",
    "start = time.time()\n",
    "\n",
    "for panel in panels:\n",
    "    count += 1\n",
    "    if count %100 == 0: print(count)\n",
    "    df = pd.read_csv(dataloc+\"panels/\"+panel,\\\n",
    "                     dtype={\"hour\":'int8',\\\n",
    "                            \"population\":'int32'})\n",
    "    processPanel(df)\n",
    "    \n",
    "errors.close()\n",
    "\n",
    "end = time.time()\n",
    "print(\"Completed after {:.0f} minutes\".format((end-start)/60))"
   ]
  }
 ],
 "metadata": {
  "kernelspec": {
   "display_name": "Python 3",
   "language": "python",
   "name": "python3"
  },
  "language_info": {
   "codemirror_mode": {
    "name": "ipython",
    "version": 3
   },
   "file_extension": ".py",
   "mimetype": "text/x-python",
   "name": "python",
   "nbconvert_exporter": "python",
   "pygments_lexer": "ipython3",
   "version": "3.5.2"
  }
 },
 "nbformat": 4,
 "nbformat_minor": 2
}
