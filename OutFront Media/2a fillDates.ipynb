{
 "cells": [
  {
   "cell_type": "markdown",
   "metadata": {},
   "source": [
    "#### Each panel has some dates missing: add those dates, for all hours"
   ]
  },
  {
   "cell_type": "code",
   "execution_count": 1,
   "metadata": {},
   "outputs": [],
   "source": [
    "import pandas as pd\n",
    "from checkMissing import checkMissing\n",
    "from config import getClient\n",
    "from os import listdir\n",
    "from os.path import isfile, join\n",
    "from datetime import datetime, timedelta\n",
    "\n",
    "import time"
   ]
  },
  {
   "cell_type": "code",
   "execution_count": 2,
   "metadata": {},
   "outputs": [],
   "source": [
    "dataloc = getClient(\"OutFront\")"
   ]
  },
  {
   "cell_type": "code",
   "execution_count": 3,
   "metadata": {},
   "outputs": [
    {
     "name": "stdout",
     "output_type": "stream",
     "text": [
      "1,000 panels to process\n"
     ]
    }
   ],
   "source": [
    "panels = [f for f in listdir(dataloc+\"panels/\") if isfile(join(dataloc+\"panels/\", f))]\n",
    "\n",
    "print(\"{:,.0f} panels to process\".format(len(panels)))"
   ]
  },
  {
   "cell_type": "code",
   "execution_count": 4,
   "metadata": {},
   "outputs": [],
   "source": [
    "# Use the population and hours from the week prior, or following,\n",
    "# for this record\n",
    "def getVals(df, d):    \n",
    "    try:\n",
    "        dt = d[\"date\"] - timedelta(days=7)\n",
    "        tmp = df.loc[d[\"panel\"], dt]\n",
    "    except:\n",
    "        dt  = d[\"date\"] + timedelta(days=7)        \n",
    "        tmp = df.loc[d[\"panel\"], dt]\n",
    "    pop   = tmp[\"population\"].reset_index(drop=True)\n",
    "    hours = tmp[\"hour\"].reset_index(drop=True)\n",
    "    return pop, hours"
   ]
  },
  {
   "cell_type": "code",
   "execution_count": 5,
   "metadata": {},
   "outputs": [],
   "source": [
    "# A panel is missing dates\n",
    "def addDates(panel, missing):\n",
    "    print(panel)\n",
    "    input()\n",
    "    d = {}\n",
    "    d[\"panel\"] = panel\n",
    "    \n",
    "    for dt in missing:\n",
    "        d[\"date\"]  = dt\n",
    "        d[\"population\"], d[\"hour\"] = getVals(df, d)\n",
    "        imputed = pd.DataFrame.from_dict(d)\n",
    "        imputed = imputed.set_index([\"panel\", \"date\"])\n",
    "        dfList.append(imputed)\n",
    "    return dfList"
   ]
  },
  {
   "cell_type": "code",
   "execution_count": 6,
   "metadata": {},
   "outputs": [],
   "source": [
    "def processPanel(df):\n",
    "    missing = checkMissing(df, \"day\")\n",
    "    if len(missing) > 0:\n",
    "        df.set_index([\"panel\", \"date\"], inplace=True)\n",
    "        dfList = addDates(df, missing)\n",
    "        for x in dfList:\n",
    "            df = df.append(x)\n",
    "    return df"
   ]
  },
  {
   "cell_type": "code",
   "execution_count": 7,
   "metadata": {},
   "outputs": [
    {
     "name": "stdout",
     "output_type": "stream",
     "text": [
      "100\n",
      "200\n",
      "300\n",
      "400\n",
      "500\n",
      "600\n",
      "700\n",
      "800\n",
      "900\n",
      "1000\n",
      "Completed after 1 minutes\n"
     ]
    }
   ],
   "source": [
    "count = 0\n",
    "start = time.time()\n",
    "\n",
    "for panel in panels:\n",
    "    count += 1\n",
    "    if count %100 == 0: print(count)\n",
    "    df = pd.read_csv(dataloc+\"panels/\"+panel,\\\n",
    "                     dtype={\"hour\":'int8',\\\n",
    "                            \"population\":'int32'})\n",
    "    df = processPanel(df)\n",
    "    df.to_csv(dataloc+\"panels/\"+panel, index=False)\n",
    "    \n",
    "end = time.time()\n",
    "print(\"Completed after {:.0f} minutes\".format((end-start)/60))"
   ]
  },
  {
   "cell_type": "code",
   "execution_count": null,
   "metadata": {},
   "outputs": [],
   "source": []
  }
 ],
 "metadata": {
  "kernelspec": {
   "display_name": "Python 3",
   "language": "python",
   "name": "python3"
  },
  "language_info": {
   "codemirror_mode": {
    "name": "ipython",
    "version": 3
   },
   "file_extension": ".py",
   "mimetype": "text/x-python",
   "name": "python",
   "nbconvert_exporter": "python",
   "pygments_lexer": "ipython3",
   "version": "3.5.2"
  }
 },
 "nbformat": 4,
 "nbformat_minor": 2
}
