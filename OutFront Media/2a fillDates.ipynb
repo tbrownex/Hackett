{
 "cells": [
  {
   "cell_type": "markdown",
   "metadata": {},
   "source": [
    "#### Each panel has some dates missing: add those dates, for all hours"
   ]
  },
  {
   "cell_type": "code",
   "execution_count": 8,
   "metadata": {},
   "outputs": [],
   "source": [
    "import pandas as pd\n",
    "from config import getClient\n",
    "from checkMissing import checkMissing\n",
    "from datetime import datetime, timedelta\n",
    "import time"
   ]
  },
  {
   "cell_type": "code",
   "execution_count": 9,
   "metadata": {},
   "outputs": [],
   "source": [
    "datalib = getClient(\"OutFront\")"
   ]
  },
  {
   "cell_type": "code",
   "execution_count": 10,
   "metadata": {},
   "outputs": [],
   "source": [
    "df = pd.read_csv(datalib+\"1fillRateFilter.csv\")\n",
    "\n",
    "# Convert their date format to a standard date\n",
    "df[\"date\"] = pd.to_datetime(df[\"date\"])"
   ]
  },
  {
   "cell_type": "code",
   "execution_count": 11,
   "metadata": {},
   "outputs": [],
   "source": [
    "# Use the population and hours from the week prior, or following,\n",
    "# for this record\n",
    "def getVals(df, d):    \n",
    "    try:\n",
    "        dt = d[\"date\"] - timedelta(days=7)\n",
    "        tmp = df.loc[d[\"panel\"], dt]\n",
    "    except:\n",
    "        dt  = d[\"date\"] + timedelta(days=7)        \n",
    "        tmp = df.loc[d[\"panel\"], dt]\n",
    "    pop   = tmp[\"population\"].reset_index(drop=True)\n",
    "    hours = tmp[\"hour\"].reset_index(drop=True)\n",
    "    return pop, hours"
   ]
  },
  {
   "cell_type": "code",
   "execution_count": 12,
   "metadata": {},
   "outputs": [],
   "source": [
    "# A panel is missing dates\n",
    "def addDates(panel, missing):\n",
    "    dfList  = []\n",
    "    d = {}\n",
    "    d[\"panel\"] = panel\n",
    "    \n",
    "    for dt in missing:\n",
    "        d[\"date\"]  = dt\n",
    "        d[\"population\"], d[\"hour\"] = getVals(df, d)\n",
    "        imputed = pd.DataFrame.from_dict(d)\n",
    "        imputed = imputed.set_index([\"panel\", \"date\"])\n",
    "        dfList.append(imputed)\n",
    "    return dfList"
   ]
  },
  {
   "cell_type": "code",
   "execution_count": null,
   "metadata": {},
   "outputs": [
    {
     "name": "stderr",
     "output_type": "stream",
     "text": [
      "/home/tbrownex/tensorflow/lib/python3.5/site-packages/ipykernel_launcher.py:6: PerformanceWarning: indexing past lexsort depth may impact performance.\n",
      "  \n",
      "/home/tbrownex/tensorflow/lib/python3.5/site-packages/ipykernel_launcher.py:9: PerformanceWarning: indexing past lexsort depth may impact performance.\n",
      "  if __name__ == '__main__':\n"
     ]
    }
   ],
   "source": [
    "popBefore = df[\"population\"].sum()\n",
    "\n",
    "# Check each panel for missing dates\n",
    "df  = df.set_index(\"panel\")\n",
    "grp = df.groupby(level=0)\n",
    "df  = df.reset_index()\n",
    "df  = df.set_index([\"panel\", \"date\"])\n",
    "\n",
    "start = time.time()\n",
    "count = duration = 0\n",
    "for idx, val in grp:\n",
    "    count += 1\n",
    "    panel = idx\n",
    "    missing = checkMissing(val, \"day\")\n",
    "    if len(missing) > 0:\n",
    "        dfList = addDates(panel, missing)\n",
    "        for x in dfList:\n",
    "            df = df.append(x)\n",
    "\n",
    "duration = time.time() - start\n",
    "print(\"{:,.0f} panels processed in {:.2f} minutes\".format(count, (duration)/60))"
   ]
  },
  {
   "cell_type": "code",
   "execution_count": null,
   "metadata": {},
   "outputs": [],
   "source": [
    "df = df.reset_index()\n",
    "df = df.set_index([\"panel\", \"date\", \"hour\"])\n",
    "df = df.sort_index()\n",
    "df.to_csv(datalib+\"2a_dates.csv\")"
   ]
  }
 ],
 "metadata": {
  "kernelspec": {
   "display_name": "Python 3",
   "language": "python",
   "name": "python3"
  },
  "language_info": {
   "codemirror_mode": {
    "name": "ipython",
    "version": 3
   },
   "file_extension": ".py",
   "mimetype": "text/x-python",
   "name": "python",
   "nbconvert_exporter": "python",
   "pygments_lexer": "ipython3",
   "version": "3.5.2"
  }
 },
 "nbformat": 4,
 "nbformat_minor": 2
}
