{
 "cells": [
  {
   "cell_type": "code",
   "execution_count": 1,
   "metadata": {},
   "outputs": [],
   "source": [
    "import numpy as np\n",
    "import pandas as pd\n",
    "from config import getClient"
   ]
  },
  {
   "cell_type": "code",
   "execution_count": 2,
   "metadata": {},
   "outputs": [],
   "source": [
    "dataloc = getClient(\"OutFront\")"
   ]
  },
  {
   "cell_type": "code",
   "execution_count": 3,
   "metadata": {},
   "outputs": [],
   "source": [
    "df = pd.read_csv(dataloc+\"summary.csv\")"
   ]
  },
  {
   "cell_type": "code",
   "execution_count": 4,
   "metadata": {},
   "outputs": [
    {
     "name": "stdout",
     "output_type": "stream",
     "text": [
      "Method       MAPE            Max\n",
      "   RF       67.7%         191.0%\n",
      "  STL       38.2%         106.0%\n",
      "Naive       65.8%         149.0%\n"
     ]
    }
   ],
   "source": [
    "print(\"{:<9}{:>8}{:>15}\".format(\"Method\",\"MAPE\", \"Max\"))\n",
    "print(\"{:>5}{:>12.1%}{:>15.1%}\".format(\"RF\", df[\"RF\"].mean(), df[\"RF\"].max()))\n",
    "print(\"{:>5}{:>12.1%}{:>15.1%}\".format(\"STL\", df[\"STL\"].mean(), df[\"STL\"].max()))\n",
    "print(\"{:>5}{:>12.1%}{:>15.1%}\".format(\"Naive\", df[\"Naive\"].mean(), df[\"Naive\"].max()))"
   ]
  },
  {
   "cell_type": "code",
   "execution_count": 5,
   "metadata": {},
   "outputs": [
    {
     "data": {
      "text/html": [
       "<div>\n",
       "<style scoped>\n",
       "    .dataframe tbody tr th:only-of-type {\n",
       "        vertical-align: middle;\n",
       "    }\n",
       "\n",
       "    .dataframe tbody tr th {\n",
       "        vertical-align: top;\n",
       "    }\n",
       "\n",
       "    .dataframe thead th {\n",
       "        text-align: right;\n",
       "    }\n",
       "</style>\n",
       "<table border=\"1\" class=\"dataframe\">\n",
       "  <thead>\n",
       "    <tr style=\"text-align: right;\">\n",
       "      <th></th>\n",
       "      <th>panel</th>\n",
       "      <th>RF</th>\n",
       "      <th>STL</th>\n",
       "      <th>Naive</th>\n",
       "    </tr>\n",
       "  </thead>\n",
       "  <tbody>\n",
       "    <tr>\n",
       "      <th>64</th>\n",
       "      <td>KC0021751</td>\n",
       "      <td>1.91</td>\n",
       "      <td>1.06</td>\n",
       "      <td>1.41</td>\n",
       "    </tr>\n",
       "    <tr>\n",
       "      <th>98</th>\n",
       "      <td>OL009465A</td>\n",
       "      <td>1.52</td>\n",
       "      <td>0.40</td>\n",
       "      <td>1.49</td>\n",
       "    </tr>\n",
       "    <tr>\n",
       "      <th>61</th>\n",
       "      <td>KC0001488</td>\n",
       "      <td>1.48</td>\n",
       "      <td>0.99</td>\n",
       "      <td>1.15</td>\n",
       "    </tr>\n",
       "    <tr>\n",
       "      <th>9</th>\n",
       "      <td>BK0001163</td>\n",
       "      <td>1.43</td>\n",
       "      <td>0.53</td>\n",
       "      <td>1.39</td>\n",
       "    </tr>\n",
       "    <tr>\n",
       "      <th>131</th>\n",
       "      <td>TM048816F</td>\n",
       "      <td>1.42</td>\n",
       "      <td>0.43</td>\n",
       "      <td>1.41</td>\n",
       "    </tr>\n",
       "    <tr>\n",
       "      <th>7</th>\n",
       "      <td>AT000B978</td>\n",
       "      <td>1.29</td>\n",
       "      <td>1.05</td>\n",
       "      <td>1.40</td>\n",
       "    </tr>\n",
       "    <tr>\n",
       "      <th>51</th>\n",
       "      <td>HB060580A</td>\n",
       "      <td>1.22</td>\n",
       "      <td>0.36</td>\n",
       "      <td>1.23</td>\n",
       "    </tr>\n",
       "    <tr>\n",
       "      <th>101</th>\n",
       "      <td>OL049054B</td>\n",
       "      <td>1.20</td>\n",
       "      <td>0.36</td>\n",
       "      <td>1.24</td>\n",
       "    </tr>\n",
       "    <tr>\n",
       "      <th>29</th>\n",
       "      <td>DV0002010</td>\n",
       "      <td>1.19</td>\n",
       "      <td>0.38</td>\n",
       "      <td>1.19</td>\n",
       "    </tr>\n",
       "    <tr>\n",
       "      <th>48</th>\n",
       "      <td>GR0006146</td>\n",
       "      <td>1.18</td>\n",
       "      <td>0.47</td>\n",
       "      <td>0.97</td>\n",
       "    </tr>\n",
       "  </tbody>\n",
       "</table>\n",
       "</div>"
      ],
      "text/plain": [
       "         panel    RF   STL  Naive\n",
       "64   KC0021751  1.91  1.06   1.41\n",
       "98   OL009465A  1.52  0.40   1.49\n",
       "61   KC0001488  1.48  0.99   1.15\n",
       "9    BK0001163  1.43  0.53   1.39\n",
       "131  TM048816F  1.42  0.43   1.41\n",
       "7    AT000B978  1.29  1.05   1.40\n",
       "51   HB060580A  1.22  0.36   1.23\n",
       "101  OL049054B  1.20  0.36   1.24\n",
       "29   DV0002010  1.19  0.38   1.19\n",
       "48   GR0006146  1.18  0.47   0.97"
      ]
     },
     "execution_count": 5,
     "metadata": {},
     "output_type": "execute_result"
    }
   ],
   "source": [
    "df.sort_values(\"RF\", ascending=False)[:10]"
   ]
  },
  {
   "cell_type": "code",
   "execution_count": null,
   "metadata": {},
   "outputs": [],
   "source": [
    "df.loc[df[\"panel\"]==\"PX0003232\"]"
   ]
  }
 ],
 "metadata": {
  "kernelspec": {
   "display_name": "Python 3",
   "language": "python",
   "name": "python3"
  },
  "language_info": {
   "codemirror_mode": {
    "name": "ipython",
    "version": 3
   },
   "file_extension": ".py",
   "mimetype": "text/x-python",
   "name": "python",
   "nbconvert_exporter": "python",
   "pygments_lexer": "ipython3",
   "version": "3.5.2"
  }
 },
 "nbformat": 4,
 "nbformat_minor": 2
}
