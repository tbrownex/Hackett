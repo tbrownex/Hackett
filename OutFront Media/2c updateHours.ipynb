{
 "cells": [
  {
   "cell_type": "markdown",
   "metadata": {},
   "source": [
    "##### Each panel should have a date and hour. Some records will have Null for population: impute those records"
   ]
  },
  {
   "cell_type": "code",
   "execution_count": 1,
   "metadata": {},
   "outputs": [],
   "source": [
    "import pandas as pd\n",
    "import numpy  as np\n",
    "from config import getClient\n",
    "from datetime import datetime, timedelta\n",
    "import time\n",
    "from itertools import groupby\n",
    "import math\n",
    "from os import listdir\n",
    "from os.path import isfile, join"
   ]
  },
  {
   "cell_type": "code",
   "execution_count": 2,
   "metadata": {},
   "outputs": [],
   "source": [
    "dataloc = getClient(\"OutFront\")"
   ]
  },
  {
   "cell_type": "code",
   "execution_count": 3,
   "metadata": {},
   "outputs": [
    {
     "name": "stdout",
     "output_type": "stream",
     "text": [
      "699 panels to process\n"
     ]
    }
   ],
   "source": [
    "panels = [f for f in listdir(dataloc+\"panels/\") if isfile(join(dataloc+\"panels/\", f))]\n",
    "\n",
    "print(\"{:,.0f} panels to process\".format(len(panels)))"
   ]
  },
  {
   "cell_type": "code",
   "execution_count": 4,
   "metadata": {},
   "outputs": [],
   "source": [
    "notFound = open(dataloc+\"notFound.csv\", \"w\")"
   ]
  },
  {
   "cell_type": "code",
   "execution_count": 5,
   "metadata": {},
   "outputs": [],
   "source": [
    "# Create list of panel/date with missing hours\n",
    "def getMissing(grp):\n",
    "    missingList = []\n",
    "    for idx, val in grp:\n",
    "        missing = val.loc[val[\"population\"].isnull()][\"hour\"]\n",
    "        if not missing.empty:\n",
    "            missingList.append(idx)\n",
    "    return missingList"
   ]
  },
  {
   "cell_type": "code",
   "execution_count": 6,
   "metadata": {},
   "outputs": [],
   "source": [
    "def writeNF(panel, dt):\n",
    "    rec = panel+\",\"+str(dt)+\"\\n\"\n",
    "    notFound.write(rec)"
   ]
  },
  {
   "cell_type": "code",
   "execution_count": 7,
   "metadata": {},
   "outputs": [],
   "source": [
    "def copyWeek(df, panel, date, hour, numNaN):\n",
    "    try:\n",
    "        dt = date - timedelta(days=7)\n",
    "        start = df.index.get_loc((panel, dt, hour))\n",
    "        found = True\n",
    "    except:\n",
    "        try:\n",
    "            dt    = date + timedelta(days=7)\n",
    "            start = df.index.get_loc((panel, dt, hour))\n",
    "            found = True\n",
    "        except:\n",
    "            writeNF(panel, dt)\n",
    "            found = False\n",
    "    if found:\n",
    "        end   = start + numNaN\n",
    "        pops  = df.iloc[start:end][\"population\"]\n",
    "    \n",
    "        for hr in range(hour, hour+numNaN):\n",
    "            df.loc[panel,date,hr] = pops.loc[panel, dt, hr]\n",
    "    return df"
   ]
  },
  {
   "cell_type": "code",
   "execution_count": 8,
   "metadata": {},
   "outputs": [],
   "source": [
    "def sameDay(df, panel, date, hour, numNaN):\n",
    "    tmp = df.loc[panel, date]\n",
    "    pops = tmp[\"population\"]\n",
    "    if hour == 0:\n",
    "        dt = date - timedelta(days=1)\n",
    "        try:\n",
    "            tmp = df.loc[panel, dt]\n",
    "            found = True\n",
    "            avg = (tmp.iloc[23] + pops[hour+numNaN])/2\n",
    "        except:\n",
    "            writeNF(panel, dt)\n",
    "            found = False\n",
    "        if found:\n",
    "            if avg[0] > 1:\n",
    "                for hr in range(hour, hour+numNaN):\n",
    "                    df.loc[panel, date, hr] = avg\n",
    "    elif (hour+numNaN) > 23:\n",
    "        dt = date + timedelta(days=1)\n",
    "        try:\n",
    "            tmp = df.loc[panel, dt]\n",
    "            found = True\n",
    "        except:\n",
    "            writeNF(panel, dt)\n",
    "            found = False\n",
    "        if found:\n",
    "            nextDayPop = np.nan\n",
    "            n = 0\n",
    "            while math.isnan(nextDayPop):\n",
    "                nextDayPop = tmp.iloc[n][0]\n",
    "                n += 1\n",
    "                if n > 23:\n",
    "                    break\n",
    "            if nextDayPop > 1:\n",
    "                avg =  (nextDayPop + pops[hour-1]) / 2\n",
    "                for hr in range(hour, 24):\n",
    "                    df.loc[panel, date, hr] = avg\n",
    "            else:\n",
    "                writeNF(panel, dt)\n",
    "    else:\n",
    "        avg = (pops[hour-1] + pops[hour+numNaN]) / 2\n",
    "        if avg > 1:\n",
    "            for hr in range(hour, hour+numNaN):\n",
    "                df.loc[panel, date, hr] = avg\n",
    "    return df"
   ]
  },
  {
   "cell_type": "code",
   "execution_count": 9,
   "metadata": {},
   "outputs": [],
   "source": [
    "# \"clusters\" is sometimes zero-indexed and sometimes 1, for no known\n",
    "# reason. It screws up getting the hour, so this will compensate\n",
    "def processClusters(df, panel, date, clusters):\n",
    "    offset = clusters.index[0]   # value will be either 0 or 1\n",
    "\n",
    "    count = 0\n",
    "    for numNaN in clusters:\n",
    "        if numNaN in [1,2,3]:\n",
    "            hour = count + offset\n",
    "            df = sameDay(df, panel, date, hour, numNaN)\n",
    "        elif numNaN > 3:\n",
    "            hour = count + offset\n",
    "            df = copyWeek(df, panel, date, hour, numNaN)\n",
    "        offset += numNaN            \n",
    "        count += 1\n",
    "    return df"
   ]
  },
  {
   "cell_type": "code",
   "execution_count": 10,
   "metadata": {},
   "outputs": [],
   "source": [
    "# input is an entire panel (all dates)\n",
    "def processPanel(df):\n",
    "    df  = df.set_index([\"panel\", \"date\"])\n",
    "    grp = df.groupby(level=[0,1])\n",
    "    df  = df.reset_index()\n",
    "    df  = df.set_index([\"panel\", \"date\", \"hour\"])\n",
    "\n",
    "    # Get a list of missing values for each panel/date\n",
    "    missingList = getMissing(grp)\n",
    "\n",
    "    # For each panel/date combination, process the NaN values\n",
    "    for x in missingList:\n",
    "        panel = x[0]\n",
    "        date  = x[1]\n",
    "        tmp = df.loc[panel, date][\"population\"]\n",
    "        clusters = tmp.isnull().astype(int).groupby(tmp.notnull().astype(int).cumsum()).sum()\n",
    "        df = processClusters(df, panel, date, clusters)\n",
    "    return df"
   ]
  },
  {
   "cell_type": "code",
   "execution_count": null,
   "metadata": {},
   "outputs": [],
   "source": [
    "count = 0\n",
    "start = time.time()\n",
    "\n",
    "for panel in panels:\n",
    "    df = pd.read_csv(dataloc+\"panels/\"+panel,\\\n",
    "                     dtype={\"hour\":'int8',\\\n",
    "                            \"population\":'int32'})\n",
    "    df = processPanel(df)\n",
    "    df.to_csv(dataloc+\"panels/\"+panel)\n",
    "    \n",
    "notFound.close()\n",
    "end = time.time()\n",
    "print(\"Completed after {:.0f} minutes\".format((end-start)/60))"
   ]
  }
 ],
 "metadata": {
  "kernelspec": {
   "display_name": "Python 3",
   "language": "python",
   "name": "python3"
  },
  "language_info": {
   "codemirror_mode": {
    "name": "ipython",
    "version": 3
   },
   "file_extension": ".py",
   "mimetype": "text/x-python",
   "name": "python",
   "nbconvert_exporter": "python",
   "pygments_lexer": "ipython3",
   "version": "3.5.2"
  }
 },
 "nbformat": 4,
 "nbformat_minor": 2
}
