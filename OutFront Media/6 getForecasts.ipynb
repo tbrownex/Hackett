{
 "cells": [
  {
   "cell_type": "markdown",
   "metadata": {},
   "source": [
    "#### Generate list of panels and get the forecasts using different methods"
   ]
  },
  {
   "cell_type": "code",
   "execution_count": 1,
   "metadata": {},
   "outputs": [],
   "source": [
    "import numpy  as np\n",
    "import pandas as pd\n",
    "from config import getClient\n",
    "import forecast\n",
    "import warnings\n",
    "warnings.filterwarnings('ignore')\n",
    "import time\n",
    "\n",
    "DELIM = \",\"\n",
    "RFparms = {\"numTrees\": 200,\n",
    "           \"depth\":      8,\n",
    "           \"features\":  16}\n",
    "XGBparms = {\"cbt\":     0.8,\n",
    "            \"LR\":      0.7,\n",
    "            \"alpha\":     6,\n",
    "            \"maxDepth\":  9,\n",
    "            \"numTrees\": 60}"
   ]
  },
  {
   "cell_type": "code",
   "execution_count": 2,
   "metadata": {},
   "outputs": [],
   "source": [
    "dataloc = getClient(\"OutFront\")"
   ]
  },
  {
   "cell_type": "code",
   "execution_count": 3,
   "metadata": {},
   "outputs": [],
   "source": [
    "train = pd.read_csv(dataloc+\"testData/train.csv\", nrows=1600000)\n",
    "test  = pd.read_csv(dataloc+\"testData/test.csv\",  nrows=800000)\n",
    "\n",
    "# Convert their date format to a standard date\n",
    "train[\"date\"] = pd.to_datetime(train[\"date\"])\n",
    "test[\"date\"]  = pd.to_datetime(test[\"date\"])"
   ]
  },
  {
   "cell_type": "code",
   "execution_count": 4,
   "metadata": {},
   "outputs": [],
   "source": [
    "outlier  = open(dataloc+\"outliers.csv\", \"w\")"
   ]
  },
  {
   "cell_type": "code",
   "execution_count": 5,
   "metadata": {},
   "outputs": [],
   "source": [
    "def calcError(predictions, Y):\n",
    "    errors = abs(predictions - Y)\n",
    "    errors = round((errors/Y).mean(),2)\n",
    "    return errors"
   ]
  },
  {
   "cell_type": "code",
   "execution_count": 6,
   "metadata": {},
   "outputs": [],
   "source": [
    "train = train.set_index(\"panel\")\n",
    "test  = test.set_index(\"panel\")\n",
    "grp   = train.groupby(level=0)"
   ]
  },
  {
   "cell_type": "code",
   "execution_count": null,
   "metadata": {},
   "outputs": [],
   "source": [
    "nonFeatures = [\"date\", \"hour\", \"population\"]\n",
    "\n",
    "panelList = []\n",
    "datesList = []\n",
    "hoursList = []\n",
    "\n",
    "RFerrors    = []\n",
    "STLerrors   = []\n",
    "XGBerrors   = []\n",
    "naiveerrors = []\n",
    "\n",
    "RFpreds    = []\n",
    "STLpreds   = []\n",
    "XGBpreds   = []\n",
    "actuals    = []\n",
    "\n",
    "start = time.time()\n",
    "for panel, data in grp:\n",
    "    tst = test.loc[panel]\n",
    "    # These are simplistic forecasters: just use the Time Block\n",
    "    meanMorning   = data.loc[data[\"block_morning\"]  ==1][\"population\"].mean()\n",
    "    meanAfternoon = data.loc[data[\"block_afternoon\"]==1][\"population\"].mean()\n",
    "    meanEvening   = data.loc[data[\"block_evening\"]  ==1][\"population\"].mean()\n",
    "    \n",
    "    features = [x for x in data.columns if x not in nonFeatures]\n",
    "    trainX = data[features]\n",
    "    testX  = tst[features]\n",
    "    trainX = np.array(trainX)\n",
    "    testX  = np.array(testX)\n",
    "    \n",
    "    trainY = data[\"population\"]\n",
    "    testY  = tst[\"population\"]\n",
    "        \n",
    "    d = {}                 # holds the data to pass to the forecasters\n",
    "    d[\"trainX\"] = trainX\n",
    "    d[\"trainY\"] = trainY\n",
    "    d[\"testX\"]  = testX\n",
    "    d[\"testY\"]  = testY\n",
    "        \n",
    "    predictions = forecast.RF(d, RFparms)\n",
    "    errorRate   = calcError(predictions, testY)\n",
    "    # A very high error rate usually means the data is messed up\n",
    "    if errorRate < 4:\n",
    "        RFerrors.append(errorRate)\n",
    "        RFpreds.append(predictions)        \n",
    "            \n",
    "        predictions = forecast.STL(d)\n",
    "        STLpreds.append(predictions)\n",
    "        STLerrors.append(calcError(predictions, testY))\n",
    "        \n",
    "        predictions = forecast.XGB(d, XGBparms)\n",
    "        XGBpreds.append(predictions)\n",
    "        XGBerrors.append(calcError(predictions, testY))\n",
    "        \n",
    "        # Get the predictions for a naive forecaster\n",
    "        tst.loc[tst[\"block_morning\"]  ==1, \"naive\"] = meanMorning\n",
    "        tst.loc[tst[\"block_afternoon\"]==1, \"naive\"] = meanAfternoon\n",
    "        tst.loc[tst[\"block_evening\"]  ==1, \"naive\"] = meanEvening\n",
    "        naiveerrors.append(calcError(np.array(tst[\"naive\"]), testY))\n",
    "            \n",
    "        panelList.append(panel)\n",
    "        datesList.append(test[\"date\"].reset_index(drop=True))\n",
    "        hoursList.append(test[\"hour\"].reset_index(drop=True))\n",
    "        actuals.append(testY)\n",
    "    else:\n",
    "        rec = panel + \"\\n\"\n",
    "        outlier.write(rec)\n",
    "        \n",
    "outlier.close()\n",
    "end = time.time()\n",
    "print(\"Processing time: {:.0f} minutes\".format((end-start)/60))"
   ]
  },
  {
   "cell_type": "code",
   "execution_count": null,
   "metadata": {},
   "outputs": [],
   "source": [
    "# Summary has each panel and the errors associated with each algo\n",
    "with open(dataloc+\"summary.csv\", \"w\") as output:\n",
    "    hdr = [\"panel\",\"RF\", \"STL\",\"XGB\", \"Naive\"]\n",
    "    hdr = \",\".join(hdr) + \"\\n\"\n",
    "    output.write(hdr)\n",
    "    errs = [list(a) for a in zip(panelList,RFerrors, STLerrors, XGBerrors, naiveerrors)]\n",
    "\n",
    "    for x in errs:\n",
    "        rec = \",\".join(map(str, x)) +\"\\n\"\n",
    "        output.write(rec)"
   ]
  },
  {
   "cell_type": "code",
   "execution_count": null,
   "metadata": {},
   "outputs": [],
   "source": [
    "# \"Predictions\" has each panel and the errors associated with each algo\n",
    "with open(dataloc+\"predictions.csv\", \"w\") as output:\n",
    "    hdr = [\"panel\",\"date\", \"hour\",\"actual\",\"RF\",\"STL\",\"XGB\"]\n",
    "    hdr = \",\".join(hdr) + \"\\n\"\n",
    "    output.write(hdr)\n",
    "    for x, p in enumerate(panelList):\n",
    "        \n",
    "        preds = [list(a) for a in zip(datesList[x], hoursList[x], actuals[x], RFpreds[x], STLpreds[x], XGBpreds[x])]\n",
    "        for y in preds:\n",
    "            rec = p +DELIM+DELIM.join(map(str, y)) +\"\\n\"\n",
    "            output.write(rec)"
   ]
  }
 ],
 "metadata": {
  "kernelspec": {
   "display_name": "Python 3",
   "language": "python",
   "name": "python3"
  },
  "language_info": {
   "codemirror_mode": {
    "name": "ipython",
    "version": 3
   },
   "file_extension": ".py",
   "mimetype": "text/x-python",
   "name": "python",
   "nbconvert_exporter": "python",
   "pygments_lexer": "ipython3",
   "version": "3.5.2"
  }
 },
 "nbformat": 4,
 "nbformat_minor": 2
}
