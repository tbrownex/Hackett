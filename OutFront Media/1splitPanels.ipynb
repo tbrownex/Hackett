{
 "cells": [
  {
   "cell_type": "code",
   "execution_count": 1,
   "metadata": {},
   "outputs": [],
   "source": [
    "import pandas as pd\n",
    "import numpy  as np\n",
    "import time\n",
    "from config import getClient\n",
    "import time\n",
    "\n",
    "numRecords = 1000000\n",
    "keep       = ['panelid', 'event_date_dt', 'hourinterval', 'populationcount']"
   ]
  },
  {
   "cell_type": "code",
   "execution_count": null,
   "metadata": {},
   "outputs": [],
   "source": [
    "dataloc = getClient(\"OutFront\")\n",
    "\n",
    "def processChunk(df):\n",
    "    # Rename the columns\n",
    "    cols = [\"panel\", \"date\", \"hour\", \"population\"]\n",
    "    df.columns = cols\n",
    "    \n",
    "    df.set_index(\"panel\", inplace=True)\n",
    "    grp = df.groupby(level=0)\n",
    "    for key, panel in grp:\n",
    "        panel.to_csv(dataloc+\"panels/\"+key+\".csv\")"
   ]
  },
  {
   "cell_type": "code",
   "execution_count": 2,
   "metadata": {},
   "outputs": [],
   "source": [
    "start = time.time()\n",
    "count = 0\n",
    "\n",
    "for chunk in pd.read_csv(dataloc+\"OutFront1000_sorted.csv\",\\\n",
    "                         usecols=keep, dtype={\"hourinterval\":'int8',\\\n",
    "                                              \"populationcount\":'int32'},\\\n",
    "                         chunksize=numRecords):\n",
    "    count += 1\n",
    "    processChunk(chunk)\n",
    "    \n",
    "end = time.time()  \n",
    "print(\"Finished after {:.0f} minutes\".format((end-start)/60))"
   ]
  }
 ],
 "metadata": {
  "kernelspec": {
   "display_name": "Python 3",
   "language": "python",
   "name": "python3"
  },
  "language_info": {
   "codemirror_mode": {
    "name": "ipython",
    "version": 3
   },
   "file_extension": ".py",
   "mimetype": "text/x-python",
   "name": "python",
   "nbconvert_exporter": "python",
   "pygments_lexer": "ipython3",
   "version": "3.5.2"
  }
 },
 "nbformat": 4,
 "nbformat_minor": 2
}
