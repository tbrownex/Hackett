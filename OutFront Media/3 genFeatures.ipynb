{
 "cells": [
  {
   "cell_type": "code",
   "execution_count": 1,
   "metadata": {},
   "outputs": [],
   "source": [
    "import pandas as pd\n",
    "import numpy  as np\n",
    "from config import getClient\n",
    "from dateutil import parser\n",
    "from os import listdir\n",
    "from os.path import isfile, join"
   ]
  },
  {
   "cell_type": "code",
   "execution_count": 2,
   "metadata": {},
   "outputs": [],
   "source": [
    "dataloc = getClient(\"OutFront\")"
   ]
  },
  {
   "cell_type": "code",
   "execution_count": 3,
   "metadata": {},
   "outputs": [
    {
     "name": "stdout",
     "output_type": "stream",
     "text": [
      "699 panels to process\n"
     ]
    }
   ],
   "source": [
    "panels = [f for f in listdir(dataloc+\"panels/\") if isfile(join(dataloc+\"panels/\", f))]\n",
    "\n",
    "print(\"{:,.0f} panels to process\".format(len(panels)))"
   ]
  },
  {
   "cell_type": "code",
   "execution_count": 4,
   "metadata": {},
   "outputs": [],
   "source": [
    "# Create a feature that indicates Fed Holiday or not\n",
    "dates = [\"2017-01-01\",\"2017-01-16\",\"2017-01-20\",\"2017-05-29\",\"2017-07-04\",\\\n",
    "             \"2017-09-04\",\"2017-11-10\",\"2017-11-23\",\"2017-12-25\"]\n",
    "fedHolidays = set()\n",
    "for d in dates:\n",
    "    dt = parser.parse(d)\n",
    "    fedHolidays.add(dt)"
   ]
  },
  {
   "cell_type": "code",
   "execution_count": 5,
   "metadata": {},
   "outputs": [],
   "source": [
    "def holiday(dt):\n",
    "    if dt in fedHolidays:\n",
    "        return 1\n",
    "    else:\n",
    "        return 0"
   ]
  },
  {
   "cell_type": "code",
   "execution_count": 6,
   "metadata": {},
   "outputs": [],
   "source": [
    "# This is mapping each hour in the day to an 8-hour block\n",
    "def mapBlock(df):\n",
    "    conditions = [(df['hour'] > 19) | (df['hour'] < 4),\n",
    "                  (df['hour'] > 3) & (df['hour'] < 12)]\n",
    "\n",
    "    blocks = ['evening', 'morning']\n",
    "\n",
    "    df['block']   = np.select(conditions, blocks, default='afternoon')\n",
    "    return df"
   ]
  },
  {
   "cell_type": "code",
   "execution_count": 7,
   "metadata": {},
   "outputs": [],
   "source": [
    "def processPanel(df):\n",
    "    nan = df[\"population\"].isnull().sum()\n",
    "    if nan > 0:\n",
    "        print(\"{} records have Null population\".format(nan.sum()))\n",
    "        \n",
    "    # Convert their date format to a standard date\n",
    "    df[\"date\"] = pd.to_datetime(df[\"date\"])\n",
    "    \n",
    "    df = mapBlock(df)\n",
    "\n",
    "    df[\"dow\"]     = df['date'].dt.dayofweek\n",
    "    df[\"weekNum\"] = df['date'].dt.week\n",
    "    df[\"month\"]   = df[\"date\"].dt.month\n",
    "\n",
    "    assert (df[\"block\"].value_counts().sum()   == df.shape[0])\n",
    "    assert (df[\"dow\"].value_counts().sum()     == df.shape[0])\n",
    "    assert (df[\"weekNum\"].value_counts().sum() == df.shape[0])\n",
    "    assert (df[\"month\"].value_counts().sum()   == df.shape[0])\n",
    "    \n",
    "    df[\"holiday\"] = df[\"date\"].apply(holiday)\n",
    "    return df"
   ]
  },
  {
   "cell_type": "code",
   "execution_count": 8,
   "metadata": {},
   "outputs": [
    {
     "name": "stdout",
     "output_type": "stream",
     "text": [
      "100\n",
      "200\n",
      "300\n",
      "400\n",
      "500\n",
      "600\n"
     ]
    }
   ],
   "source": [
    "count = 0\n",
    "for panel in panels:\n",
    "    count += 1\n",
    "    if count %100 == 0: print(count)\n",
    "    df = pd.read_csv(dataloc+\"panels/\"+panel,\\\n",
    "                     dtype={\"hour\":'int8',\\\n",
    "                            \"population\":'int32'})\n",
    "    df = processPanel(df)\n",
    "    df.to_csv(dataloc+\"panels/\" +panel, index=False)"
   ]
  }
 ],
 "metadata": {
  "kernelspec": {
   "display_name": "Python 3",
   "language": "python",
   "name": "python3"
  },
  "language_info": {
   "codemirror_mode": {
    "name": "ipython",
    "version": 3
   },
   "file_extension": ".py",
   "mimetype": "text/x-python",
   "name": "python",
   "nbconvert_exporter": "python",
   "pygments_lexer": "ipython3",
   "version": "3.5.2"
  }
 },
 "nbformat": 4,
 "nbformat_minor": 2
}
