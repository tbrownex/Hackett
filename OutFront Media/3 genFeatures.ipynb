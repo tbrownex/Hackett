{
 "cells": [
  {
   "cell_type": "markdown",
   "metadata": {},
   "source": [
    "#### Compute the moving average over 2 hour periods. There will be many NaN due to imputed dates not having \"population\". Generate different \"date\" features"
   ]
  },
  {
   "cell_type": "code",
   "execution_count": 1,
   "metadata": {},
   "outputs": [],
   "source": [
    "import pandas as pd\n",
    "import numpy  as np\n",
    "from config import getClient"
   ]
  },
  {
   "cell_type": "code",
   "execution_count": 2,
   "metadata": {},
   "outputs": [],
   "source": [
    "datalib = getClient(\"OutFront\")"
   ]
  },
  {
   "cell_type": "code",
   "execution_count": 3,
   "metadata": {},
   "outputs": [],
   "source": [
    "df = pd.read_csv(datalib+\"2c_updatedHours.csv\")\n",
    "\n",
    "df[\"date\"] = pd.to_datetime(df[\"date\"])"
   ]
  },
  {
   "cell_type": "code",
   "execution_count": 4,
   "metadata": {},
   "outputs": [
    {
     "name": "stdout",
     "output_type": "stream",
     "text": [
      "0.0 records have Null population\n"
     ]
    }
   ],
   "source": [
    "nan = df[\"population\"].isnull()\n",
    "\n",
    "print(\"{} records have Null population\".format(nan.sum() / df.shape[0]))"
   ]
  },
  {
   "cell_type": "code",
   "execution_count": 5,
   "metadata": {},
   "outputs": [],
   "source": [
    "# This is mapping each hour in the day to an 8-hour block\n",
    "conditions = [\n",
    "    (df['hour'] > 19) | (df['hour'] < 4),\n",
    "    (df['hour'] > 3) & (df['hour'] < 12)]\n",
    "\n",
    "blocks = ['evening', 'morning']\n",
    "\n",
    "df['block']   = np.select(conditions, blocks, default='afternoon')\n",
    "df[\"dow\"]     = df['date'].dt.dayofweek\n",
    "df[\"weekNum\"] = df['date'].dt.week\n",
    "df[\"month\"]   = df[\"date\"].dt.month\n",
    "\n",
    "assert (df[\"block\"].value_counts().sum()   == df.shape[0])\n",
    "assert (df[\"dow\"].value_counts().sum()     == df.shape[0])\n",
    "assert (df[\"weekNum\"].value_counts().sum() == df.shape[0])\n",
    "assert (df[\"month\"].value_counts().sum()   == df.shape[0])"
   ]
  },
  {
   "cell_type": "code",
   "execution_count": 6,
   "metadata": {},
   "outputs": [],
   "source": [
    "df.to_csv(datalib+\"3_final.csv\", index=False)"
   ]
  }
 ],
 "metadata": {
  "kernelspec": {
   "display_name": "Python 3",
   "language": "python",
   "name": "python3"
  },
  "language_info": {
   "codemirror_mode": {
    "name": "ipython",
    "version": 3
   },
   "file_extension": ".py",
   "mimetype": "text/x-python",
   "name": "python",
   "nbconvert_exporter": "python",
   "pygments_lexer": "ipython3",
   "version": "3.5.2"
  }
 },
 "nbformat": 4,
 "nbformat_minor": 2
}
