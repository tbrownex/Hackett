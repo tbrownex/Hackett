{
 "cells": [
  {
   "cell_type": "markdown",
   "metadata": {},
   "source": [
    "##### Filter out low-fill rate panels and sort"
   ]
  },
  {
   "cell_type": "code",
   "execution_count": 1,
   "metadata": {},
   "outputs": [],
   "source": [
    "import pandas as pd\n",
    "import datetime\n",
    "from config import getClient\n",
    "import numpy as np"
   ]
  },
  {
   "cell_type": "code",
   "execution_count": 2,
   "metadata": {},
   "outputs": [],
   "source": [
    "datalib = getClient(\"OutFront\")"
   ]
  },
  {
   "cell_type": "code",
   "execution_count": 3,
   "metadata": {},
   "outputs": [],
   "source": [
    "cols = [\"panel\", \"date\", \"hour\", \"observed\", \"population\"]\n",
    "df = pd.read_csv(datalib+\"0panels_original.csv\", header=0,names=cols)"
   ]
  },
  {
   "cell_type": "code",
   "execution_count": 4,
   "metadata": {},
   "outputs": [],
   "source": [
    "del df[\"observed\"]  # we're using \"populated\""
   ]
  },
  {
   "cell_type": "code",
   "execution_count": 5,
   "metadata": {},
   "outputs": [
    {
     "name": "stdout",
     "output_type": "stream",
     "text": [
      "Full dataset runs from 20170525 - 20180710\n",
      "Number of rows: 1,711,017\n",
      "Number of unique panels: 200\n"
     ]
    }
   ],
   "source": [
    "start = df[\"date\"].min()\n",
    "end   = df[\"date\"].max()\n",
    "count = len(df[\"panel\"].unique())\n",
    "print(\"Full dataset runs from {} - {}\".format(start, end))\n",
    "print(\"Number of rows: {:,.0f}\".format(df.shape[0]))\n",
    "print(\"Number of unique panels: {}\".format(count))"
   ]
  },
  {
   "cell_type": "code",
   "execution_count": 6,
   "metadata": {},
   "outputs": [],
   "source": [
    "# Convert their date format to a standard date\n",
    "df[\"date\"] = pd.to_datetime(df[\"date\"], format='%Y%m%d')"
   ]
  },
  {
   "cell_type": "code",
   "execution_count": 7,
   "metadata": {},
   "outputs": [
    {
     "name": "stdout",
     "output_type": "stream",
     "text": [
      "48 panels removed (297,769 records) due to low fill rate\n",
      "\n",
      "Remaining panels fill rate is 96.6%\n"
     ]
    }
   ],
   "source": [
    "# Analyze the fill rate and remove any panels with low rate\n",
    "df = df.set_index(\"panel\")\n",
    "df = df.sort_values([\"date\", \"hour\"])\n",
    "\n",
    "grp = df.groupby(level=0)\n",
    "l = []\n",
    "count = 0\n",
    "before = df.shape[0]\n",
    "\n",
    "for panel, val in grp:\n",
    "    dates = val[\"date\"]\n",
    "    diff  = (dates.max() - dates.min()).days\n",
    "    durations = diff*24\n",
    "    numPoints = len(dates)\n",
    "    fillRate = numPoints/durations\n",
    "    if fillRate < .92:\n",
    "        df = df.drop(panel)\n",
    "        count += 1\n",
    "    else:\n",
    "        l.append(fillRate)\n",
    "\n",
    "after = df.shape[0]\n",
    "print(\"{} panels removed ({:,.0f} records) due to low fill rate\".\\\n",
    "      format(count, (before-after)))\n",
    "print(\"{}Remaining panels fill rate is {:.1%}\".format(\"\\n\", sum(l)/len(l)))"
   ]
  },
  {
   "cell_type": "code",
   "execution_count": 8,
   "metadata": {},
   "outputs": [],
   "source": [
    "df = df.reset_index()\n",
    "df = df.set_index([\"panel\", \"date\", \"hour\"])\n",
    "df = df.sort_index()\n",
    "df.to_csv(datalib+\"1fillRateFilter.csv\", sep=\",\")"
   ]
  }
 ],
 "metadata": {
  "kernelspec": {
   "display_name": "Python 3",
   "language": "python",
   "name": "python3"
  },
  "language_info": {
   "codemirror_mode": {
    "name": "ipython",
    "version": 3
   },
   "file_extension": ".py",
   "mimetype": "text/x-python",
   "name": "python",
   "nbconvert_exporter": "python",
   "pygments_lexer": "ipython3",
   "version": "3.5.2"
  }
 },
 "nbformat": 4,
 "nbformat_minor": 2
}
