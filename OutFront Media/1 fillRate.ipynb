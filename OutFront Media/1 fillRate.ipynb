{
 "cells": [
  {
   "cell_type": "code",
   "execution_count": 1,
   "metadata": {},
   "outputs": [],
   "source": [
    "import pandas as pd\n",
    "import numpy  as np\n",
    "import time\n",
    "from config import getClient"
   ]
  },
  {
   "cell_type": "code",
   "execution_count": 2,
   "metadata": {},
   "outputs": [],
   "source": [
    "dataloc = getClient(\"OutFront\")"
   ]
  },
  {
   "cell_type": "code",
   "execution_count": 3,
   "metadata": {},
   "outputs": [],
   "source": [
    "keep = ['panelid', 'event_date_dt', 'hourinterval', 'populationcount']\n",
    "df = pd.read_csv(dataloc+\"0panels_original.csv\",\\\n",
    "                 usecols=keep, dtype={\"hourinterval\":'int8',\\\n",
    "                                      \"populationcount\":'int32'})\n",
    "\n",
    "# Rename the columns\n",
    "cols = [\"panel\", \"date\", \"hour\", \"population\"]\n",
    "df.columns = cols\n",
    "\n",
    "# Convert their date format to a standard date\n",
    "df[\"date\"] = pd.to_datetime(df[\"date\"], format='%Y%m%d')"
   ]
  },
  {
   "cell_type": "code",
   "execution_count": 4,
   "metadata": {},
   "outputs": [],
   "source": [
    "panels = df[\"panel\"].unique()\n",
    "panels = np.random.choice(panels, replace=False, size=500)"
   ]
  },
  {
   "cell_type": "code",
   "execution_count": 5,
   "metadata": {},
   "outputs": [],
   "source": [
    "def writeError(panel, msg):\n",
    "    rec = panel+\",\"+msg+\"\\n\"\n",
    "    errors.write(rec)"
   ]
  },
  {
   "cell_type": "code",
   "execution_count": 6,
   "metadata": {},
   "outputs": [],
   "source": [
    "def getFillRate(tmp):\n",
    "    dates = tmp[\"date\"]\n",
    "    diff  = (dates.max() - dates.min()).days\n",
    "    durations = diff*24\n",
    "    numPoints = len(dates)\n",
    "    return numPoints/durations"
   ]
  },
  {
   "cell_type": "code",
   "execution_count": 7,
   "metadata": {},
   "outputs": [
    {
     "name": "stderr",
     "output_type": "stream",
     "text": [
      "/home/tbrownex/tensorflow/lib/python3.5/site-packages/ipykernel_launcher.py:17: SettingWithCopyWarning: \n",
      "A value is trying to be set on a copy of a slice from a DataFrame\n",
      "\n",
      "See the caveats in the documentation: http://pandas.pydata.org/pandas-docs/stable/indexing.html#indexing-view-versus-copy\n"
     ]
    },
    {
     "name": "stdout",
     "output_type": "stream",
     "text": [
      "100\n",
      "200\n",
      "300\n",
      "400\n",
      "500\n",
      "Completed after 2 minutes\n"
     ]
    }
   ],
   "source": [
    "df = df.set_index(\"panel\")\n",
    "start = time.time()\n",
    "dfList = []\n",
    "\n",
    "output = open(dataloc+\"1NEWfillRateFilter.csv\", \"w\")\n",
    "errors = open(dataloc+\"errors.csv\", \"w\")\n",
    "\n",
    "count = 0\n",
    "\n",
    "for panel in panels:\n",
    "    count += 1\n",
    "    if count %100 == 0: print(count)\n",
    "    tmp = df.loc[panel]\n",
    "    if tmp.shape[0] > 9000:\n",
    "        rate = getFillRate(tmp)\n",
    "        if rate > .92:\n",
    "            tmp.sort_values([\"date\", \"hour\"], inplace=True)\n",
    "            tmp = tmp.reset_index()\n",
    "            dfList.append(tmp)\n",
    "        else:\n",
    "            writeError(panel, \"Fill Rate too low\")\n",
    "    else:\n",
    "        writeError(panel, \"Duration too short\")\n",
    "\n",
    "final = pd.concat(dfList)\n",
    "final.to_csv(dataloc+\"1fillRateFilter.csv\", index=False)\n",
    "\n",
    "output.close()\n",
    "errors.close()\n",
    "end = time.time()\n",
    "print(\"Completed after {:.0f} minutes\".format((end-start)/60))"
   ]
  }
 ],
 "metadata": {
  "kernelspec": {
   "display_name": "Python 3",
   "language": "python",
   "name": "python3"
  },
  "language_info": {
   "codemirror_mode": {
    "name": "ipython",
    "version": 3
   },
   "file_extension": ".py",
   "mimetype": "text/x-python",
   "name": "python",
   "nbconvert_exporter": "python",
   "pygments_lexer": "ipython3",
   "version": "3.5.2"
  }
 },
 "nbformat": 4,
 "nbformat_minor": 2
}
