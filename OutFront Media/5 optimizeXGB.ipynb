{
 "cells": [
  {
   "cell_type": "code",
   "execution_count": 13,
   "metadata": {},
   "outputs": [],
   "source": [
    "import numpy as np\n",
    "import pandas as pd\n",
    "from config import getClient\n",
    "import xgboost as xgb\n",
    "import time\n",
    "import random\n",
    "\n",
    "DELIM = \",\"\n",
    "nonFeatures = [\"date\", \"hour\", \"population\"]"
   ]
  },
  {
   "cell_type": "markdown",
   "metadata": {},
   "source": [
    "##### Prepare the Train and Test sets"
   ]
  },
  {
   "cell_type": "code",
   "execution_count": 14,
   "metadata": {},
   "outputs": [],
   "source": [
    "dataloc = getClient(\"OutFront\")\n",
    "\n",
    "train = pd.read_csv(dataloc+\"testData/train.csv\", nrows=900000)\n",
    "test  = pd.read_csv(dataloc+\"testData/test.csv\",  nrows=450000)"
   ]
  },
  {
   "cell_type": "code",
   "execution_count": 15,
   "metadata": {},
   "outputs": [],
   "source": [
    "# Convert their date format to a standard date\n",
    "train[\"date\"] = pd.to_datetime(train[\"date\"])\n",
    "test[\"date\"]  = pd.to_datetime(test[\"date\"])\n",
    "\n",
    "# Get a list of all the panels; from here we will chooose randomly\n",
    "panelArray = train[\"panel\"].unique()\n",
    "#panelArray = np.random.choice(panelArray, size=4)\n",
    "\n",
    "# access the datasets by panel\n",
    "train = train.set_index(\"panel\")\n",
    "test  = test.set_index(\"panel\")"
   ]
  },
  {
   "cell_type": "code",
   "execution_count": 16,
   "metadata": {},
   "outputs": [
    {
     "data": {
      "text/plain": [
       "34"
      ]
     },
     "execution_count": 16,
     "metadata": {},
     "output_type": "execute_result"
    }
   ],
   "source": [
    "save = open(dataloc+\"predictions.csv\", \"w\")\n",
    "hdr = \"panel\"+DELIM+\"date\"+DELIM+\"hour\"+DELIM+\"prediction\"+DELIM+\"actual\"+\"\\n\"\n",
    "save.write(hdr)"
   ]
  },
  {
   "cell_type": "code",
   "execution_count": 17,
   "metadata": {},
   "outputs": [],
   "source": [
    "def setParms():\n",
    "    # NN hyper-parameters\n",
    "    cbt      = [0.4, 0.6, 0.8]\n",
    "    LR       = [.05, .06, .07]\n",
    "    alpha    = [6]\n",
    "    maxDepth = [7,8,9]\n",
    "    numTrees = [40, 50, 60]\n",
    "    \n",
    "    parms = [[a,b,c,d,e] for a in cbt\n",
    "             for b in LR\n",
    "             for c in alpha\n",
    "             for d in maxDepth\n",
    "             for e in numTrees]\n",
    "    return parms"
   ]
  },
  {
   "cell_type": "code",
   "execution_count": 18,
   "metadata": {},
   "outputs": [],
   "source": [
    "def getError(predictions, Y):\n",
    "    errors = abs(predictions - Y)\n",
    "    errors = round((errors/Y).mean(),2)\n",
    "    return errors"
   ]
  },
  {
   "cell_type": "code",
   "execution_count": 19,
   "metadata": {},
   "outputs": [],
   "source": [
    "def writePreds(panel, testDates, preds, testY):\n",
    "    dates = testDates[0].reset_index(drop=True)\n",
    "    hours = testDates[1].reset_index(drop=True)\n",
    "    for x in range(len(dates)):\n",
    "        rec = (panel+DELIM+str(dates[x])+DELIM+str(hours[x])+DELIM+str(int(preds[x]))\\\n",
    "        +DELIM+str(testY[x])+\"\\n\")\n",
    "        save.write(rec)"
   ]
  },
  {
   "cell_type": "code",
   "execution_count": 20,
   "metadata": {},
   "outputs": [],
   "source": [
    "# for a panel, split train and test, then X and Y\n",
    "def formatPanel(panel):\n",
    "    trn = train.loc[panel]\n",
    "    tst = test.loc[panel]\n",
    "    \n",
    "    features = [x for x in trn.columns if x not in nonFeatures]\n",
    "    \n",
    "    dataDict = {}\n",
    "    dataDict[\"trnX\"] = np.array(trn[features])\n",
    "    dataDict[\"trnY\"] = np.array(trn[\"population\"])\n",
    "    dataDict[\"tstX\"] = np.array(tst[features])\n",
    "    dataDict[\"tstY\"] = np.array(tst[\"population\"])\n",
    "    testDates = (tst[\"date\"], tst[\"hour\"])   # This is only for the random predictions\n",
    "    return dataDict, testDates"
   ]
  },
  {
   "cell_type": "code",
   "execution_count": 21,
   "metadata": {},
   "outputs": [
    {
     "data": {
      "text/plain": [
       "'def optimizeModel(panel, dataDict):\\n    test_params = {\\n    \"colsample_bytree\":[.60, .7],\\n    \"learning_rate\":[.060, .065],\\n    \\'max_depth\\':[8,9],\\n    \"reg_alpha\":[6],\\n    \"n_estimators\":[45, 55]\\n    }'"
      ]
     },
     "execution_count": 21,
     "metadata": {},
     "output_type": "execute_result"
    }
   ],
   "source": [
    "# For a single panel, determine the best parameters\n",
    "'''def optimizeModel(panel, dataDict):\n",
    "    test_params = {\n",
    "    \"colsample_bytree\":[.60, .7],\n",
    "    \"learning_rate\":[.060, .065],\n",
    "    'max_depth':[8,9],\n",
    "    \"reg_alpha\":[6],\n",
    "    \"n_estimators\":[45, 55]\n",
    "    }'''"
   ]
  },
  {
   "cell_type": "code",
   "execution_count": 22,
   "metadata": {},
   "outputs": [],
   "source": [
    "# Input is the data for a panel and the parameters for the model\n",
    "# Run the model and get the predictions for the test set\n",
    "def runModel(dataDict, parms):\n",
    "    regr = xgb.XGBRegressor(objective ='reg:linear',\\\n",
    "                            colsample_bytree = parms[\"cbt\"],\\\n",
    "                            learning_rate    = parms[\"LR\"],\\\n",
    "                            max_depth        = parms[\"maxDepth\"],\\\n",
    "                            alpha            = parms[\"alpha\"],\\\n",
    "                            n_estimators     = parms[\"numTrees\"])\n",
    "    model = regr.fit(dataDict[\"trnX\"],dataDict[\"trnY\"])\n",
    "    preds =  model.predict(dataDict[\"tstX\"])\n",
    "    return preds"
   ]
  },
  {
   "cell_type": "code",
   "execution_count": 23,
   "metadata": {},
   "outputs": [],
   "source": [
    "# Report on the best set of parameters for each panel\n",
    "def writeResults(results):\n",
    "    with open(dataloc+\"XGBresults.csv\", 'w') as summary:\n",
    "        keys = results[0][1].keys()\n",
    "        hdr = \"panel\"+\",\"+\",\".join(keys)\n",
    "        hdr += \",\"+\"errorRate\" + \"\\n\"\n",
    "        summary.write(hdr)\n",
    "        \n",
    "        for x in results:\n",
    "            rec = x[0]+\",\"+\",\".join([str(t) for t in x[1].values()])\n",
    "            rec += \",\"+ str(x[2]) +\"\\n\"         # errRate\n",
    "            summary.write(rec)"
   ]
  },
  {
   "cell_type": "code",
   "execution_count": 24,
   "metadata": {
    "scrolled": true
   },
   "outputs": [
    {
     "name": "stdout",
     "output_type": "stream",
     "text": [
      "Processing time: 95 minutes\n"
     ]
    }
   ],
   "source": [
    "# For each parameter combination, run all the panels\n",
    "start = time.time()\n",
    "results = []\n",
    "\n",
    "parms = setParms()\n",
    "\n",
    "for panel in panelArray:\n",
    "    bestParms = None\n",
    "    lowError = np.inf\n",
    "    dataDict, testDates = formatPanel(panel)\n",
    "    for parm in parms:\n",
    "        parmDict = {}\n",
    "        parmDict[\"cbt\"]      = parm[0]\n",
    "        parmDict[\"LR\"]       = parm[1]\n",
    "        parmDict[\"alpha\"]    = parm[2]\n",
    "        parmDict[\"maxDepth\"] = parm[3]\n",
    "        parmDict[\"numTrees\"] = parm[4]\n",
    "        \n",
    "        preds    = runModel(dataDict, parmDict)\n",
    "\n",
    "        error = getError(preds, dataDict[\"tstY\"])\n",
    "        if error < lowError:\n",
    "            lowError  = error\n",
    "            bestParms = parmDict\n",
    "        # Just so we can see a graph, save once in a while\n",
    "        if random.randint(1,500) == 51:\n",
    "            writePreds(panel, testDates, preds, dataDict[\"tstY\"])\n",
    "    tup = (panel, parmDict, lowError)\n",
    "    results.append(tup)\n",
    "\n",
    "end = time.time()\n",
    "print(\"Processing time: {:.0f} minutes\".format((end-start)/60))\n",
    "\n",
    "save.close()\n",
    "writeResults(results)"
   ]
  },
  {
   "cell_type": "code",
   "execution_count": null,
   "metadata": {},
   "outputs": [],
   "source": []
  }
 ],
 "metadata": {
  "kernelspec": {
   "display_name": "Python 3",
   "language": "python",
   "name": "python3"
  },
  "language_info": {
   "codemirror_mode": {
    "name": "ipython",
    "version": 3
   },
   "file_extension": ".py",
   "mimetype": "text/x-python",
   "name": "python",
   "nbconvert_exporter": "python",
   "pygments_lexer": "ipython3",
   "version": "3.5.2"
  }
 },
 "nbformat": 4,
 "nbformat_minor": 2
}
