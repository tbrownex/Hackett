{
 "cells": [
  {
   "cell_type": "code",
   "execution_count": 1,
   "metadata": {
    "_cell_guid": "e137a255-49bf-837d-8511-a49e6c84aef7"
   },
   "outputs": [],
   "source": [
    "import numpy as np\n",
    "import pandas as pd\n",
    "from sklearn.model_selection import train_test_split\n",
    "import evaluate\n",
    "import XGBoost\n",
    "\n",
    "DATALOC       =  \"/home/tbrownex/data/test/\"\n",
    "FILE                  =  \"data.csv\"\n",
    "TESTPCT         = .2\n",
    "DATASUBSET = 0.4              # Use this to process only part of the whole file"
   ]
  },
  {
   "cell_type": "code",
   "execution_count": 2,
   "metadata": {},
   "outputs": [],
   "source": [
    "def getData():\n",
    "    df = pd.read_csv(DATALOC+FILE)\n",
    "    df = df.sample(frac=DATASUBSET)\n",
    "    \n",
    "    # Create Train and Test sets\n",
    "    train, test = train_test_split(df, test_size=TESTPCT)\n",
    "    \n",
    "    # Separate the features and labels    \n",
    "    d = {}\n",
    "    d[\"trainY\"] = train[\"MeanRunTime\"]\n",
    "    del train[\"MeanRunTime\"]\n",
    "    d[\"trainX\"] = train\n",
    "    \n",
    "    d[\"testY\"] = test[\"MeanRunTime\"]\n",
    "    del test[\"MeanRunTime\"]\n",
    "    d[\"testX\"] = test\n",
    "    return d"
   ]
  },
  {
   "cell_type": "code",
   "execution_count": 3,
   "metadata": {},
   "outputs": [],
   "source": [
    "# Create different parameter configurations. The configuration should have already been optimized and should be very different\n",
    "def getConfigs():\n",
    "    parmList = []\n",
    "    parms = {\n",
    "        \"n_estimators\":     30,\n",
    "        \"max_depth\":        12,\n",
    "        \"learning_rate\":    0.2,\n",
    "        \"subsample\":        0.7,\n",
    "        \"colsample_bytree\": 1.0}\n",
    "    parmList.append(parms)\n",
    "\n",
    "    parms = {\n",
    "        \"n_estimators\":     300,\n",
    "        \"max_depth\":        12,\n",
    "        \"learning_rate\":    0.2,\n",
    "        \"subsample\":        0.7,\n",
    "        \"colsample_bytree\": 1.0}\n",
    "    parmList.append(parms)\n",
    "    \n",
    "    return parmList"
   ]
  },
  {
   "cell_type": "code",
   "execution_count": 4,
   "metadata": {},
   "outputs": [],
   "source": [
    "dataDict = getData()\n",
    "parmList = getConfigs()\n",
    "\n",
    "results  = []\n",
    "predList = []\n",
    "\n",
    "for p in parmList:\n",
    "    preds = XGBoost.process(p, dataDict)\n",
    "    predList.append(preds)\n",
    "    p[\"score\"] = evaluate.process(preds, dataDict[\"testY\"])\n",
    "    results.append(p)"
   ]
  },
  {
   "cell_type": "code",
   "execution_count": 5,
   "metadata": {},
   "outputs": [
    {
     "name": "stdout",
     "output_type": "stream",
     "text": [
      "{'n_estimators': 30, 'learning_rate': 0.2, 'max_depth': 12, 'colsample_bytree': 1.0, 'score': 0.03862151460044706, 'subsample': 0.7}\n",
      "{'n_estimators': 300, 'learning_rate': 0.2, 'max_depth': 12, 'colsample_bytree': 1.0, 'score': 0.04204164127562907, 'subsample': 0.7}\n"
     ]
    }
   ],
   "source": [
    "for x in results: print(x)"
   ]
  },
  {
   "cell_type": "code",
   "execution_count": 6,
   "metadata": {},
   "outputs": [
    {
     "name": "stdout",
     "output_type": "stream",
     "text": [
      "ensemble score is 0.037\n"
     ]
    }
   ],
   "source": [
    "ensemble = (predList[0]+predList[1])/2\n",
    "\n",
    "score = evaluate.process(ensemble, dataDict[\"testY\"])\n",
    "print(\"ensemble score is {:.3f}\".format(score))"
   ]
  },
  {
   "cell_type": "code",
   "execution_count": null,
   "metadata": {},
   "outputs": [],
   "source": []
  }
 ],
 "metadata": {
  "_change_revision": 0,
  "_is_fork": false,
  "kernelspec": {
   "display_name": "Python 3",
   "language": "python",
   "name": "python3"
  },
  "language_info": {
   "codemirror_mode": {
    "name": "ipython",
    "version": 3
   },
   "file_extension": ".py",
   "mimetype": "text/x-python",
   "name": "python",
   "nbconvert_exporter": "python",
   "pygments_lexer": "ipython3",
   "version": "3.5.2"
  }
 },
 "nbformat": 4,
 "nbformat_minor": 1
}
