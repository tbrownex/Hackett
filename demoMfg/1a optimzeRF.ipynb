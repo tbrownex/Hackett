{
 "cells": [
  {
   "cell_type": "code",
   "execution_count": 1,
   "metadata": {},
   "outputs": [],
   "source": [
    "import pandas as pd\n",
    "import numpy  as np\n",
    "import time\n",
    "from sklearn.ensemble import RandomForestRegressor\n",
    "import RFfeatureEval\n",
    "import pickle\n",
    "from setPandasOptions import setPandasOptions\n",
    "from getConfig import getConfig\n",
    "from getData import getData\n",
    "import prepData\n",
    "from calcRMSE import calcRMSE\n",
    "from getRFparms import getParms\n",
    "from selectSet import selectSet\n",
    "from getSet import getSet\n",
    "#setPandasOptions()"
   ]
  },
  {
   "cell_type": "code",
   "execution_count": 2,
   "metadata": {},
   "outputs": [],
   "source": [
    "config = getConfig()"
   ]
  },
  {
   "cell_type": "code",
   "execution_count": 3,
   "metadata": {},
   "outputs": [],
   "source": [
    "def saveModel(model, count):\n",
    "    fname = \"RFmodel_\" + str(count)\n",
    "    pickle.dump(model, open(config[\"modelDir\"] + fname, 'wb'))"
   ]
  },
  {
   "cell_type": "code",
   "execution_count": 5,
   "metadata": {},
   "outputs": [
    {
     "name": "stdout",
     "output_type": "stream",
     "text": [
      "Enter a number from 1-41\n",
      "\n",
      "Processing set  1\n"
     ]
    }
   ],
   "source": [
    "Set = selectSet()"
   ]
  },
  {
   "cell_type": "code",
   "execution_count": 6,
   "metadata": {},
   "outputs": [],
   "source": [
    "train, test = getData(config)\n",
    "train = getSet(train, Set)\n",
    "test = getSet(test, Set)\n",
    "\n",
    "dataDict = prepData.process(train, test, config)"
   ]
  },
  {
   "cell_type": "code",
   "execution_count": 7,
   "metadata": {},
   "outputs": [
    {
     "data": {
      "text/plain": [
       "'# Figure out if you need all the features\\nregr = RandomForestRegressor(n_estimators=100)\\nrf   = regr.fit(data[\"trainX\"], data[\"trainY\"])\\n\\ncols = RFfeatureEval.process(data[\"trainX\"].columns, rf)\\n\\nkeep  = [col[0] for col in cols if col[1] > .01]    # discard non-useful features\\ndata[\"trainX\"] = data[\"trainX\"][keep]\\ndata[\"testX\"]  = data[\"testX\"][keep]'"
      ]
     },
     "execution_count": 7,
     "metadata": {},
     "output_type": "execute_result"
    }
   ],
   "source": [
    "'''# Figure out if you need all the features\n",
    "regr = RandomForestRegressor(n_estimators=100)\n",
    "rf   = regr.fit(data[\"trainX\"], data[\"trainY\"])\n",
    "\n",
    "cols = RFfeatureEval.process(data[\"trainX\"].columns, rf)\n",
    "\n",
    "keep  = [col[0] for col in cols if col[1] > .01]    # discard non-useful features\n",
    "data[\"trainX\"] = data[\"trainX\"][keep]\n",
    "data[\"testX\"]  = data[\"testX\"][keep]'''"
   ]
  },
  {
   "cell_type": "code",
   "execution_count": 8,
   "metadata": {},
   "outputs": [
    {
     "name": "stdout",
     "output_type": "stream",
     "text": [
      "Done with 1 of 1\n"
     ]
    }
   ],
   "source": [
    "parms = getParms()\n",
    "\n",
    "results = []\n",
    "count = 1\n",
    "\n",
    "for x in parms:\n",
    "    trees     = x[0]\n",
    "    nodeSize = x[1]\n",
    "    depth     = x[2]\n",
    "    leafSize = x[3]\n",
    "    features  = x[4]\n",
    "    regr = RandomForestRegressor(n_estimators = trees,\\\n",
    "                                 min_samples_split = nodeSize,\\\n",
    "                                 max_depth = depth,\\\n",
    "                                 min_samples_leaf = leafSize,\\\n",
    "                                 max_features = features)\n",
    "\n",
    "    rf    = regr.fit(dataDict[\"trainX\"], dataDict[\"trainY\"])\n",
    "    preds = rf.predict(dataDict[\"testX\"])\n",
    "    score = calcRMSE(dataDict[\"testY\"], preds)\n",
    "    tmp = (count, x, score)\n",
    "    results.append(tmp)\n",
    "    saveModel(rf, count)\n",
    "    count += 1\n",
    "    print(\"Done with {} of {}\".format(count, len(parms)))"
   ]
  },
  {
   "cell_type": "code",
   "execution_count": 7,
   "metadata": {},
   "outputs": [],
   "source": [
    "with open(\"/home/tbrownex/modelResults.csv\", \"w\") as f:\n",
    "    hdr = \"count\"+\"|\"+\"trees\"+\"|\"+\"nodes\"+\"|\"+\"depth\"+\"|\"+\\\n",
    "    \"leafs\"+\"|\"+\"features\"+\"|\"+\"score\"+\"\\n\"\n",
    "    f.write(hdr)\n",
    "    for x in results:\n",
    "        count = x[0]\n",
    "        parms = x[1]\n",
    "        score = x[2]\n",
    "        trees = parms[0]\n",
    "        nodes = parms[1]\n",
    "        depth = parms[2]\n",
    "        leafs = parms[3]\n",
    "        features = parms[4]\n",
    "        rec = str(count)+\"|\"+str(trees)+\"|\"+str(nodes)+\"|\"+str(depth)+\\\n",
    "        \"|\"+str(leafs)+\"|\"+str(features)+\"|\"+str(round(score,2))+\"\\n\"\n",
    "        f.write(rec)"
   ]
  }
 ],
 "metadata": {
  "kernelspec": {
   "display_name": "Python 3",
   "language": "python",
   "name": "python3"
  },
  "language_info": {
   "codemirror_mode": {
    "name": "ipython",
    "version": 3
   },
   "file_extension": ".py",
   "mimetype": "text/x-python",
   "name": "python",
   "nbconvert_exporter": "python",
   "pygments_lexer": "ipython3",
   "version": "3.5.2"
  }
 },
 "nbformat": 4,
 "nbformat_minor": 2
}
