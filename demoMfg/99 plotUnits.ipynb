{
 "cells": [
  {
   "cell_type": "markdown",
   "metadata": {},
   "source": [
    "#### Predictions for the whole Test set have been run\n",
    "Input is a dictionary keyed by Unit with value a tuple of (actuals, predictions)"
   ]
  },
  {
   "cell_type": "code",
   "execution_count": null,
   "metadata": {},
   "outputs": [],
   "source": [
    "import pandas as pd\n",
    "import numpy  as np\n",
    "import random\n",
    "import matplotlib.pyplot as plt"
   ]
  },
  {
   "cell_type": "code",
   "execution_count": null,
   "metadata": {},
   "outputs": [],
   "source": [
    "df = pd.read_csv(\"/home/tbrownex/predictions.csv\")"
   ]
  },
  {
   "cell_type": "code",
   "execution_count": null,
   "metadata": {},
   "outputs": [],
   "source": [
    "df.set_index(\"Unit\", inplace=True)"
   ]
  },
  {
   "cell_type": "code",
   "execution_count": null,
   "metadata": {},
   "outputs": [],
   "source": [
    "def plotComps(df, x=None):\n",
    "    if x is None:\n",
    "        x = random.randint(1,len(comparisons))\n",
    "    df = df.loc[x]\n",
    "    actuals = df[\"Actual\"]\n",
    "    actuals = actuals.values.reshape([-1,1])\n",
    "    predictions = df[\"Prediction\"]\n",
    "    predictions = predictions.values.reshape([-1,1])\n",
    "    plt.plot(actuals, label=\"actual\")\n",
    "    plt.plot(predictions, label=\"prediction\")\n",
    "    plt.legend(loc='upper right')\n",
    "    unit = \"Unit # \" + str(x)\n",
    "    plt.annotate(unit, xy=(0.05, 0.05), xycoords='axes fraction')\n",
    "    plt.show()"
   ]
  },
  {
   "cell_type": "code",
   "execution_count": null,
   "metadata": {
    "scrolled": true
   },
   "outputs": [],
   "source": [
    "while True:\n",
    "    plotComps(df)\n",
    "    input()"
   ]
  },
  {
   "cell_type": "code",
   "execution_count": null,
   "metadata": {},
   "outputs": [],
   "source": [
    "tier4 = {k: v for k, v in errors.items() if v > .35}"
   ]
  },
  {
   "cell_type": "code",
   "execution_count": null,
   "metadata": {},
   "outputs": [],
   "source": [
    "for unit in tier4.keys():\n",
    "    plotComps(comparisons, unit)\n",
    "    input()"
   ]
  },
  {
   "cell_type": "code",
   "execution_count": null,
   "metadata": {},
   "outputs": [],
   "source": []
  }
 ],
 "metadata": {
  "kernelspec": {
   "display_name": "Python 3",
   "language": "python",
   "name": "python3"
  },
  "language_info": {
   "codemirror_mode": {
    "name": "ipython",
    "version": 3
   },
   "file_extension": ".py",
   "mimetype": "text/x-python",
   "name": "python",
   "nbconvert_exporter": "python",
   "pygments_lexer": "ipython3",
   "version": "3.5.2"
  }
 },
 "nbformat": 4,
 "nbformat_minor": 2
}
