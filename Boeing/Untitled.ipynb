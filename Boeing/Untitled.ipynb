{
 "cells": [
  {
   "cell_type": "code",
   "execution_count": 113,
   "metadata": {},
   "outputs": [],
   "source": [
    "from getConfig import getConfig\n",
    "import pandas as pd\n",
    "import numpy as np\n",
    "import matplotlib.pyplot as plt"
   ]
  },
  {
   "cell_type": "code",
   "execution_count": 77,
   "metadata": {},
   "outputs": [
    {
     "name": "stdout",
     "output_type": "stream",
     "text": [
      "6,022 rows removed; 1,101 remaining\n"
     ]
    }
   ],
   "source": [
    "config = getConfig()\n",
    "df = pd.read_csv(config[\"dataLoc\"]+\"AC.csv\", na_values=\" -  \")\n",
    "\n",
    "before = df.shape[0]\n",
    "df = df.loc[df[\"Category\"]== \"LABOR\"]\n",
    "after = df.shape[0]\n",
    "print(\"{:,.0f} rows removed; {:,.0f} remaining\".format((before-after), after))"
   ]
  },
  {
   "cell_type": "markdown",
   "metadata": {},
   "source": [
    "##### Get Plan"
   ]
  },
  {
   "cell_type": "code",
   "execution_count": 96,
   "metadata": {},
   "outputs": [],
   "source": [
    "def getSum(grp):\n",
    "    d = {}\n",
    "    for k, v in grp:\n",
    "        d[k] = int(v[' 2016 12 YTD '].sum())\n",
    "    return d"
   ]
  },
  {
   "cell_type": "code",
   "execution_count": 97,
   "metadata": {},
   "outputs": [],
   "source": [
    "plan = df.loc[df[\"Scenario\"]== \"LRBP2016_Final\"]\n",
    "plan.set_index(\"Program\", inplace=True)\n",
    "grp = plan.groupby(level=0)\n",
    "plan = getSum(grp)"
   ]
  },
  {
   "cell_type": "markdown",
   "metadata": {},
   "source": [
    "##### Now Actual"
   ]
  },
  {
   "cell_type": "code",
   "execution_count": 99,
   "metadata": {},
   "outputs": [],
   "source": [
    "actual = df.loc[df[\"Scenario\"]== \"LRBP2017_Final\"]\n",
    "actual.set_index(\"Program\", inplace=True)\n",
    "grp = actual.groupby(level=0)\n",
    "actual = getSum(grp)"
   ]
  },
  {
   "cell_type": "code",
   "execution_count": 112,
   "metadata": {},
   "outputs": [],
   "source": [
    "p = []\n",
    "a = []\n",
    "for k in plan.keys():\n",
    "    p.append(plan[k])\n",
    "    a.append(actual[k])\n",
    "p = np.array(p)\n",
    "a = np.array(a)"
   ]
  },
  {
   "cell_type": "code",
   "execution_count": 117,
   "metadata": {},
   "outputs": [
    {
     "data": {
      "text/plain": [
       "array([[1.        , 0.93180181],\n",
       "       [0.93180181, 1.        ]])"
      ]
     },
     "execution_count": 117,
     "metadata": {},
     "output_type": "execute_result"
    }
   ],
   "source": [
    "np.corrcoef(a,p)"
   ]
  },
  {
   "cell_type": "code",
   "execution_count": 114,
   "metadata": {},
   "outputs": [
    {
     "data": {
      "image/png": "[encoded data removed]",
      "text/plain": [
       "<Figure size 432x288 with 1 Axes>"
      ]
     },
     "metadata": {},
     "output_type": "display_data"
    }
   ],
   "source": [
    "plt.plot(p)\n",
    "plt.plot(a)\n",
    "plt.show()"
   ]
  },
  {
   "cell_type": "code",
   "execution_count": 130,
   "metadata": {},
   "outputs": [],
   "source": [
    "from calcMAPE import calcMAPE"
   ]
  },
  {
   "cell_type": "code",
   "execution_count": 135,
   "metadata": {},
   "outputs": [
    {
     "name": "stdout",
     "output_type": "stream",
     "text": [
      "Program                       MAPE\n",
      "AMS_R2018                     55.00%\n",
      "BGS_NonUSG_Apache_R2018       111.00%\n",
      "BGS_USNUSMC_Training_R2018    47.00%\n",
      "BGS_F18_R2018                 12.00%\n",
      "BGS_NonUSG_F18_R2018          30.00%\n",
      "BGS_C17_Support_R2018         4.00%\n",
      "BGS_V22_R2018                 408.00%\n",
      "Missile_Support_History_R2018 96.00%\n",
      "BGS_C17_Training_R2018        31.00%\n",
      "BGS_DLA_F18_R2018             28.00%\n",
      "INTL_ KC46_SUPT_R2018         100.00%\n",
      "BGS_Chinook_R2018             10.00%\n",
      "BGS_C40A_R2018                16.00%\n",
      "BGS_KC46_R2018                93.00%\n",
      "BGS_DLA_R2018                 19.00%\n",
      "BGS_P8_R2018                  13.00%\n",
      "BGS_AV8_R2018                 37.00%\n",
      "BGS_Apache_R2018              94.00%\n",
      "BGS_BSAS-SOFSA-MELB_R2018     92.00%\n",
      "BGS_F22_R2018                 27.00%\n",
      "BGS_NonUSG_F15_R2018          39.00%\n",
      "TOTF15_R2018                  5.00%\n",
      "BGS_AFS_Training_R2018        17.00%\n",
      "BGS_Enterprise_R2018          599.00%\n",
      "BGS_T45_R2018                 6.00%\n",
      "BGS_NonUSG_Intl Tanker_R2018  40.00%\n",
      "BGS_NonUSG_Chinook_R2018      11.00%\n",
      "BGS_F15_R2018                 17.00%\n",
      "BGS_Army_Training_R2018       62.00%\n",
      "0.6835483870967741\n"
     ]
    }
   ],
   "source": [
    "totalMAPE = 0\n",
    "print(\"{:<30}{}\".format(\"Program\", \"MAPE\"))\n",
    "for k in plan.keys():\n",
    "    if plan[k]> 0:\n",
    "        mape = calcMAPE(plan[k], actual[k])\n",
    "        totalMAPE += mape\n",
    "        print(\"{:<30}{:.2%}\".format(k,mape))\n",
    "print(totalMAPE/len(plan.keys()))"
   ]
  },
  {
   "cell_type": "code",
   "execution_count": 137,
   "metadata": {},
   "outputs": [],
   "source": [
    "planSum = 0\n",
    "actSum = 0\n",
    "for k in plan.keys():\n",
    "    planSum += plan[k]\n",
    "    actSum += actual[k]"
   ]
  },
  {
   "cell_type": "code",
   "execution_count": 140,
   "metadata": {},
   "outputs": [
    {
     "data": {
      "text/plain": [
       "(287516, 299303)"
      ]
     },
     "execution_count": 140,
     "metadata": {},
     "output_type": "execute_result"
    }
   ],
   "source": [
    "planSum,actSum"
   ]
  },
  {
   "cell_type": "code",
   "execution_count": 149,
   "metadata": {},
   "outputs": [
    {
     "data": {
      "text/plain": [
       "29013"
      ]
     },
     "execution_count": 149,
     "metadata": {},
     "output_type": "execute_result"
    }
   ],
   "source": [
    "actual[\"BGS_AFS_Training_R2018\"]"
   ]
  },
  {
   "cell_type": "code",
   "execution_count": null,
   "metadata": {},
   "outputs": [],
   "source": []
  }
 ],
 "metadata": {
  "kernelspec": {
   "display_name": "Python 3",
   "language": "python",
   "name": "python3"
  },
  "language_info": {
   "codemirror_mode": {
    "name": "ipython",
    "version": 3
   },
   "file_extension": ".py",
   "mimetype": "text/x-python",
   "name": "python",
   "nbconvert_exporter": "python",
   "pygments_lexer": "ipython3",
   "version": "3.5.2"
  }
 },
 "nbformat": 4,
 "nbformat_minor": 2
}
