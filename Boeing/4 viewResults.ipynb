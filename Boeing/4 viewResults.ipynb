{
 "cells": [
  {
   "cell_type": "code",
   "execution_count": 65,
   "metadata": {},
   "outputs": [],
   "source": [
    "import pandas as pd"
   ]
  },
  {
   "cell_type": "code",
   "execution_count": 76,
   "metadata": {},
   "outputs": [],
   "source": [
    "df = pd.read_csv(\"/home/tbrownex/full.csv\")"
   ]
  },
  {
   "cell_type": "code",
   "execution_count": 77,
   "metadata": {},
   "outputs": [
    {
     "name": "stdout",
     "output_type": "stream",
     "text": [
      "Pool   Actual    Predicted    Accuracy\n",
      "10     19,561      22,326      14.13%\n",
      "18     5,798       6,163       6.30%\n",
      "20     2,068       1,811       12.41%\n",
      "30     13,910      11,898      14.46%\n",
      "6S     4,105       2,841       30.79%\n",
      "82     1,348       1,350       0.13%\n"
     ]
    }
   ],
   "source": [
    "df.set_index(\"Pool\", inplace=True)\n",
    "pool = df.groupby(level=0)\n",
    "\n",
    "print(\"{:<7}{:<10}{:<13}{}\".format(\"Pool\", \"Actual\", \"Predicted\", \"Accuracy\"))\n",
    "for x in pool:\n",
    "    pred = x[1][\"Prediction\"].sum()\n",
    "    act = x[1][\"Actual\"].sum()\n",
    "    acc = abs(pred - act) / act\n",
    "    print(\"{:<7}{:<12,.0f}{:<12,.0f}{:.2%}\".format(x[0], act, pred, acc))"
   ]
  },
  {
   "cell_type": "code",
   "execution_count": 58,
   "metadata": {},
   "outputs": [
    {
     "data": {
      "text/plain": [
       "'df.reset_index(inplace=True)\\ndf.set_index([\"Pool\", \"ARG\"], inplace=True)\\npool = df.groupby(level=[0,1])\\n\\nprint(\"{:<7}{:<12}{:<10}{:<13}{}\".format(\"Pool\", \"Rate Group\", \"Actual\", \"Predicted\", \"Accuracy\"))\\nfor x in pool:\\n    pred = x[1][\"Prediction\"].sum()\\n    act = x[1][\"Actual\"].sum()\\n    acc = abs(pred - act) / act\\n    print(\"{:<7}{:<12}{:<12,.0f}{:<12,.0f}{:.2%}\".format(int(x[0][0]), int(x[0][1]), act, pred, acc))'"
      ]
     },
     "execution_count": 58,
     "metadata": {},
     "output_type": "execute_result"
    }
   ],
   "source": [
    "'''df.reset_index(inplace=True)\n",
    "df.set_index([\"Pool\", \"ARG\"], inplace=True)\n",
    "pool = df.groupby(level=[0,1])\n",
    "\n",
    "print(\"{:<7}{:<12}{:<10}{:<13}{}\".format(\"Pool\", \"Rate Group\", \"Actual\", \"Predicted\", \"Accuracy\"))\n",
    "for x in pool:\n",
    "    pred = x[1][\"Prediction\"].sum()\n",
    "    act = x[1][\"Actual\"].sum()\n",
    "    acc = abs(pred - act) / act\n",
    "    print(\"{:<7}{:<12}{:<12,.0f}{:<12,.0f}{:.2%}\".format(int(x[0][0]), int(x[0][1]), act, pred, acc))'''"
   ]
  },
  {
   "cell_type": "code",
   "execution_count": null,
   "metadata": {},
   "outputs": [],
   "source": []
  }
 ],
 "metadata": {
  "kernelspec": {
   "display_name": "Python 3",
   "language": "python",
   "name": "python3"
  },
  "language_info": {
   "codemirror_mode": {
    "name": "ipython",
    "version": 3
   },
   "file_extension": ".py",
   "mimetype": "text/x-python",
   "name": "python",
   "nbconvert_exporter": "python",
   "pygments_lexer": "ipython3",
   "version": "3.5.2"
  }
 },
 "nbformat": 4,
 "nbformat_minor": 2
}
