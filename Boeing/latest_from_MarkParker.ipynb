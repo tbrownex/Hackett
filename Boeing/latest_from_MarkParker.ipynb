{
 "cells": [
  {
   "cell_type": "code",
   "execution_count": 27,
   "metadata": {},
   "outputs": [],
   "source": [
    "import pandas as pd\n",
    "import numpy as np"
   ]
  },
  {
   "cell_type": "code",
   "execution_count": 2,
   "metadata": {},
   "outputs": [],
   "source": [
    "dataLoc = \"/home/tbrownex/data/Hackett/Boeing/\"\n",
    "file    = \"2CES-PrimeJobswithHours.csv\""
   ]
  },
  {
   "cell_type": "code",
   "execution_count": 3,
   "metadata": {},
   "outputs": [],
   "source": [
    "df = pd.read_csv(dataLoc+file)"
   ]
  },
  {
   "cell_type": "code",
   "execution_count": 4,
   "metadata": {},
   "outputs": [],
   "source": [
    "keep = ['Division', 'Program', 'Description', 'Job ', 'RSC', 'Pool', 'ARG',\n",
    "       'Scenario', 'Category', '2017 12 YTD']\n",
    "df = df[keep]\n",
    "df.rename(columns={\"2017 12 YTD\": \"amount\"}, inplace=True)"
   ]
  },
  {
   "cell_type": "code",
   "execution_count": 5,
   "metadata": {},
   "outputs": [
    {
     "data": {
      "text/plain": [
       "array(['Total Hours', 'Value (Thousands)'], dtype=object)"
      ]
     },
     "execution_count": 5,
     "metadata": {},
     "output_type": "execute_result"
    }
   ],
   "source": [
    "df[\"Category\"].unique()"
   ]
  },
  {
   "cell_type": "code",
   "execution_count": 6,
   "metadata": {},
   "outputs": [],
   "source": [
    "plan   = df.loc[df[\"Scenario\"]==\"LRBP2017_Final\"]\n",
    "actual = df.loc[df[\"Scenario\"]==\"LRBP2018_Final\"]"
   ]
  },
  {
   "cell_type": "code",
   "execution_count": 16,
   "metadata": {},
   "outputs": [
    {
     "name": "stdout",
     "output_type": "stream",
     "text": [
      "                 Planned     Actual\n",
      "Hours            5,988,921   5,659,780\n",
      "Dollars (000s)   558,696     529,029\n",
      "Rate                93          93\n"
     ]
    }
   ],
   "source": [
    "# Get the Planned vs Actual hours\n",
    "p1 = plan.loc[plan[\"Category\"]==\"Total Hours\"][\"amount\"].sum()\n",
    "a1 = actual.loc[actual[\"Category\"]==\"Total Hours\"][\"amount\"].sum()\n",
    "print(\"{:>24}{:>11}\".format(\"Planned\", \"Actual\"))\n",
    "print(\"{:<17}{:<12,.0f}{:,.0f}\".format(\"Hours\",p1,a1 ))\n",
    "\n",
    "p2 = plan.loc[plan[\"Category\"]==\"Value (Thousands)\"][\"amount\"].sum()\n",
    "a2 = actual.loc[actual[\"Category\"]==\"Value (Thousands)\"][\"amount\"].sum()\n",
    "print(\"{:<17}{:<12,.0f}{:,.0f}\".format(\"Dollars (000s)\",p2,a2 ))\n",
    "\n",
    "print(\"{:<20}{:<12,.0f}{:,.0f}\".format(\"Rate\",p2/p1*1000,a2/a1*1000 ))"
   ]
  },
  {
   "cell_type": "code",
   "execution_count": 18,
   "metadata": {},
   "outputs": [],
   "source": [
    "plan.set_index(\"Program\", inplace=True)\n",
    "actual.set_index(\"Program\", inplace=True)"
   ]
  },
  {
   "cell_type": "code",
   "execution_count": 42,
   "metadata": {},
   "outputs": [
    {
     "name": "stdout",
     "output_type": "stream",
     "text": [
      "Programs with Plan but no Actual:\n",
      "  -  BGS_AFS_Adjacents_R2019\n",
      "  -  BGS_DLA_F18_R2019\n",
      "  -  BGS_NonUSG_Intl Tanker_R2019\n",
      "  -  BGS_Training Other_R2019\n"
     ]
    }
   ],
   "source": [
    "p = np.unique(plan.index.values)\n",
    "a = np.unique(actual.index.values)\n",
    "\n",
    "common = [x for x in p if x in a]\n",
    "diff   = [x for x in p if x not in a]\n",
    "\n",
    "print(\"Programs with Plan but no Actual:\")\n",
    "for x in diff: print(\"  - \", x)"
   ]
  },
  {
   "cell_type": "code",
   "execution_count": 63,
   "metadata": {},
   "outputs": [
    {
     "name": "stderr",
     "output_type": "stream",
     "text": [
      "/home/tbrownex/tensorflow/lib/python3.5/site-packages/ipykernel_launcher.py:8: RuntimeWarning: divide by zero encountered in double_scalars\n",
      "  \n",
      "/home/tbrownex/tensorflow/lib/python3.5/site-packages/ipykernel_launcher.py:8: RuntimeWarning: invalid value encountered in double_scalars\n",
      "  \n"
     ]
    }
   ],
   "source": [
    "delim = \",\"\n",
    "hdr = \"Program\"+delim+\"Planned\"+delim+\"Actual\"+delim+\"Variance\"+\"\\n\"\n",
    "with open(\"/home/tbrownex/BoeingReport.csv\", \"w\") as f:\n",
    "    f.write(hdr)\n",
    "    for pgm in common:\n",
    "        p = plan.loc[pgm][\"amount\"].sum()\n",
    "        a = actual.loc[pgm][\"amount\"].sum()\n",
    "        v = abs(p-a)/p\n",
    "        rec = pgm+delim+str(round(p,2))+delim+str(round(a,2))+delim+str(round(v,2))+\"\\n\"\n",
    "        f.write(rec)"
   ]
  },
  {
   "cell_type": "code",
   "execution_count": 64,
   "metadata": {},
   "outputs": [
    {
     "data": {
      "text/plain": [
       "70"
      ]
     },
     "execution_count": 64,
     "metadata": {},
     "output_type": "execute_result"
    }
   ],
   "source": [
    "len(common)"
   ]
  },
  {
   "cell_type": "code",
   "execution_count": null,
   "metadata": {},
   "outputs": [],
   "source": []
  }
 ],
 "metadata": {
  "kernelspec": {
   "display_name": "Python 3",
   "language": "python",
   "name": "python3"
  },
  "language_info": {
   "codemirror_mode": {
    "name": "ipython",
    "version": 3
   },
   "file_extension": ".py",
   "mimetype": "text/x-python",
   "name": "python",
   "nbconvert_exporter": "python",
   "pygments_lexer": "ipython3",
   "version": "3.5.2"
  }
 },
 "nbformat": 4,
 "nbformat_minor": 2
}
