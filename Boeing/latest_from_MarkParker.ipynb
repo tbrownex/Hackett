{
 "cells": [
  {
   "cell_type": "code",
   "execution_count": 19,
   "metadata": {},
   "outputs": [],
   "source": [
    "import pandas as pd\n",
    "import numpy as np\n",
    "import matplotlib.pyplot as plt"
   ]
  },
  {
   "cell_type": "code",
   "execution_count": 2,
   "metadata": {},
   "outputs": [],
   "source": [
    "dataLoc = \"/home/tbrownex/data/Hackett/Boeing/\"\n",
    "file    = \"2CES-PrimeJobswithHours.csv\""
   ]
  },
  {
   "cell_type": "code",
   "execution_count": 3,
   "metadata": {},
   "outputs": [],
   "source": [
    "df = pd.read_csv(dataLoc+file)"
   ]
  },
  {
   "cell_type": "code",
   "execution_count": 4,
   "metadata": {},
   "outputs": [],
   "source": [
    "keep = ['Division', 'Program', 'Description', 'Job ', 'RSC', 'Pool', 'ARG',\n",
    "       'Scenario', 'Category', '2017 12 YTD']\n",
    "df = df[keep]\n",
    "df.rename(columns={\"2017 12 YTD\": \"amount\"}, inplace=True)"
   ]
  },
  {
   "cell_type": "code",
   "execution_count": 5,
   "metadata": {},
   "outputs": [
    {
     "data": {
      "text/plain": [
       "array(['Total Hours', 'Value (Thousands)'], dtype=object)"
      ]
     },
     "execution_count": 5,
     "metadata": {},
     "output_type": "execute_result"
    }
   ],
   "source": [
    "df[\"Category\"].unique()"
   ]
  },
  {
   "cell_type": "code",
   "execution_count": 72,
   "metadata": {},
   "outputs": [],
   "source": [
    "plan   = df.loc[df[\"Scenario\"]==\"LRBP2017_Final\"]\n",
    "actual = df.loc[df[\"Scenario\"]==\"LRBP2018_Final\"]"
   ]
  },
  {
   "cell_type": "code",
   "execution_count": 73,
   "metadata": {},
   "outputs": [
    {
     "name": "stdout",
     "output_type": "stream",
     "text": [
      "                 Planned     Actual\n",
      "Hours            5,988,921   5,659,780\n",
      "Dollars (000s)   558,696     529,029\n",
      "Rate                93          93\n"
     ]
    }
   ],
   "source": [
    "# Get the Planned vs Actual hours\n",
    "p1 = plan.loc[plan[\"Category\"]==\"Total Hours\"][\"amount\"].sum()\n",
    "a1 = actual.loc[actual[\"Category\"]==\"Total Hours\"][\"amount\"].sum()\n",
    "print(\"{:>24}{:>11}\".format(\"Planned\", \"Actual\"))\n",
    "print(\"{:<17}{:<12,.0f}{:,.0f}\".format(\"Hours\",p1,a1 ))\n",
    "\n",
    "p2 = plan.loc[plan[\"Category\"]==\"Value (Thousands)\"][\"amount\"].sum()\n",
    "a2 = actual.loc[actual[\"Category\"]==\"Value (Thousands)\"][\"amount\"].sum()\n",
    "print(\"{:<17}{:<12,.0f}{:,.0f}\".format(\"Dollars (000s)\",p2,a2 ))\n",
    "\n",
    "print(\"{:<20}{:<12,.0f}{:,.0f}\".format(\"Rate\",p2/p1*1000,a2/a1*1000 ))"
   ]
  },
  {
   "cell_type": "code",
   "execution_count": 75,
   "metadata": {},
   "outputs": [],
   "source": [
    "plan.set_index(\"Program\", inplace=True)\n",
    "actual.set_index(\"Program\", inplace=True)"
   ]
  },
  {
   "cell_type": "code",
   "execution_count": 76,
   "metadata": {},
   "outputs": [
    {
     "name": "stdout",
     "output_type": "stream",
     "text": [
      "Programs with Plan but no Actual:\n",
      "  -  BGS_AFS_Adjacents_R2019\n",
      "  -  BGS_DLA_F18_R2019\n",
      "  -  BGS_NonUSG_Intl Tanker_R2019\n",
      "  -  BGS_Training Other_R2019\n"
     ]
    }
   ],
   "source": [
    "p = np.unique(plan.index.values)\n",
    "a = np.unique(actual.index.values)\n",
    "\n",
    "common = [x for x in p if x in a]\n",
    "diff   = [x for x in p if x not in a]\n",
    "\n",
    "print(\"Programs with Plan but no Actual:\")\n",
    "for x in diff: print(\"  - \", x)"
   ]
  },
  {
   "cell_type": "code",
   "execution_count": 79,
   "metadata": {},
   "outputs": [
    {
     "name": "stdout",
     "output_type": "stream",
     "text": [
      "BGS_Enterprise_R2018 5.351682083270013\n",
      "Bombers_R2018 3.376579256235392\n",
      "C32C40IFS 3.620424000626276\n",
      "Missile_Support_History_R2018 3.420045787552009\n"
     ]
    },
    {
     "name": "stderr",
     "output_type": "stream",
     "text": [
      "/home/tbrownex/tensorflow/lib/python3.5/site-packages/ipykernel_launcher.py:6: RuntimeWarning: divide by zero encountered in double_scalars\n",
      "  \n",
      "/home/tbrownex/tensorflow/lib/python3.5/site-packages/ipykernel_launcher.py:6: RuntimeWarning: invalid value encountered in double_scalars\n",
      "  \n"
     ]
    }
   ],
   "source": [
    "errors = []\n",
    "hours = []\n",
    "for pgm in common:\n",
    "    p = plan.loc[pgm][\"amount\"].sum()\n",
    "    a = actual.loc[pgm][\"amount\"].sum()\n",
    "    v = abs(p-a)/p\n",
    "    try:\n",
    "        v.as_integer_ratio()\n",
    "        hours.append(a)\n",
    "        errors.append(v)\n",
    "        if v >3:\n",
    "            print(pgm, v)\n",
    "    except:\n",
    "        pass"
   ]
  },
  {
   "cell_type": "code",
   "execution_count": 78,
   "metadata": {},
   "outputs": [
    {
     "data": {
      "text/plain": [
       "Text(0.5,1,'Program Actuals vs Predicted Pct Error')"
      ]
     },
     "execution_count": 78,
     "metadata": {},
     "output_type": "execute_result"
    },
    {
     "data": {
      "image/png": "[encoded data removed]",
      "text/plain": [
       "<Figure size 432x288 with 1 Axes>"
      ]
     },
     "metadata": {},
     "output_type": "display_data"
    }
   ],
   "source": [
    "hours = pd.Series(hours)\n",
    "errors = pd.Series(errors)\n",
    "\n",
    "h = hours.loc[errors<3.0]\n",
    "e = errors.loc[hours<320000]\n",
    "h = h.loc[h<320000]\n",
    "e = e.loc[e<3.0]\n",
    "\n",
    "plt.scatter(e,h, s=8)\n",
    "plt.xlabel(\"Prediction Error\")\n",
    "plt.ylabel(\"Actual Hours\")\n",
    "plt.title(\"Program Actuals vs Predicted Pct Error\")"
   ]
  },
  {
   "cell_type": "code",
   "execution_count": 63,
   "metadata": {},
   "outputs": [
    {
     "name": "stderr",
     "output_type": "stream",
     "text": [
      "/home/tbrownex/tensorflow/lib/python3.5/site-packages/ipykernel_launcher.py:8: RuntimeWarning: divide by zero encountered in double_scalars\n",
      "  \n",
      "/home/tbrownex/tensorflow/lib/python3.5/site-packages/ipykernel_launcher.py:8: RuntimeWarning: invalid value encountered in double_scalars\n",
      "  \n"
     ]
    }
   ],
   "source": [
    "delim = \",\"\n",
    "hdr = \"Program\"+delim+\"Planned\"+delim+\"Actual\"+delim+\"Variance\"+\"\\n\"\n",
    "with open(\"/home/tbrownex/BoeingReport.csv\", \"w\") as f:\n",
    "    f.write(hdr)\n",
    "    for pgm in common:\n",
    "        p = plan.loc[pgm][\"amount\"].sum()\n",
    "        a = actual.loc[pgm][\"amount\"].sum()\n",
    "        v = abs(p-a)/p\n",
    "        rec = pgm+delim+str(round(p,2))+delim+str(round(a,2))+delim+str(round(v,2))+\"\\n\"\n",
    "        f.write(rec)"
   ]
  }
 ],
 "metadata": {
  "kernelspec": {
   "display_name": "Python 3",
   "language": "python",
   "name": "python3"
  },
  "language_info": {
   "codemirror_mode": {
    "name": "ipython",
    "version": 3
   },
   "file_extension": ".py",
   "mimetype": "text/x-python",
   "name": "python",
   "nbconvert_exporter": "python",
   "pygments_lexer": "ipython3",
   "version": "3.5.2"
  }
 },
 "nbformat": 4,
 "nbformat_minor": 2
}
