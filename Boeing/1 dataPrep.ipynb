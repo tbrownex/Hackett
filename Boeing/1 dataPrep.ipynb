{
 "cells": [
  {
   "cell_type": "markdown",
   "metadata": {},
   "source": [
    "#### Input data: Running times of a matrix-matrix multiplication, given certain parameter combinations\n",
    "Last 4 columns are execution times of 4 separate runs. So those are the labels.\n",
    "\n",
    "First 14 columns are the features: various parameters you can set\n",
    "\n",
    "Take the average of those 4 run times and create a single label"
   ]
  },
  {
   "cell_type": "code",
   "execution_count": 1,
   "metadata": {},
   "outputs": [],
   "source": [
    "import pandas as pd\n",
    "\n",
    "dataloc = \"/home/tbrownex/data/test/\"\n",
    "inFile  = \"sgemm_product.csv\"\n",
    "outFile = \"data.csv\""
   ]
  },
  {
   "cell_type": "code",
   "execution_count": 2,
   "metadata": {},
   "outputs": [],
   "source": [
    "df = pd.read_csv(dataloc+inFile)"
   ]
  },
  {
   "cell_type": "code",
   "execution_count": 3,
   "metadata": {},
   "outputs": [],
   "source": [
    "# Create the Label: the average of the 4 run times\n",
    "runTimes = [\"Run1 (ms)\", \"Run2 (ms)\", \"Run3 (ms)\", \"Run4 (ms)\"]\n",
    "tmp = df.loc[: , runTimes]\n",
    "\n",
    "df['MeanRunTime'] = tmp.mean(axis=1)\n",
    "\n",
    "# Drop the individual run times\n",
    "for col in runTimes: del df[col]"
   ]
  },
  {
   "cell_type": "markdown",
   "metadata": {},
   "source": [
    "##### Data exploration"
   ]
  },
  {
   "cell_type": "code",
   "execution_count": 4,
   "metadata": {},
   "outputs": [
    {
     "name": "stdout",
     "output_type": "stream",
     "text": [
      "Any Nulls in the data? \n",
      "MWG            0\n",
      "NWG            0\n",
      "KWG            0\n",
      "MDIMC          0\n",
      "NDIMC          0\n",
      "MDIMA          0\n",
      "NDIMB          0\n",
      "KWI            0\n",
      "VWM            0\n",
      "VWN            0\n",
      "STRM           0\n",
      "STRN           0\n",
      "SA             0\n",
      "SB             0\n",
      "MeanRunTime    0\n",
      "dtype: int64\n"
     ]
    }
   ],
   "source": [
    "# See if there is any missing data\n",
    "print(\"Any Nulls in the data? {}{}\".format(\"\\n\", df.isnull().sum()))"
   ]
  },
  {
   "cell_type": "code",
   "execution_count": 5,
   "metadata": {},
   "outputs": [
    {
     "name": "stdout",
     "output_type": "stream",
     "text": [
      "VWN          NWG            0.353763\n",
      "NWG          VWN            0.353763\n",
      "MWG          VWM            0.353763\n",
      "VWM          MWG            0.353763\n",
      "MWG          MeanRunTime    0.351810\n",
      "MeanRunTime  MWG            0.351810\n",
      "             NWG            0.320460\n",
      "NWG          MeanRunTime    0.320460\n",
      "MDIMC        MeanRunTime    0.221097\n",
      "MeanRunTime  MDIMC          0.221097\n",
      "NDIMC        MeanRunTime    0.214595\n",
      "MeanRunTime  NDIMC          0.214595\n",
      "NDIMC        MDIMC          0.209562\n",
      "MDIMC        NDIMC          0.209562\n",
      "NDIMB        VWN            0.202712\n",
      "VWN          NDIMB          0.202712\n",
      "VWM          MDIMA          0.202712\n",
      "MDIMA        VWM            0.202712\n",
      "dtype: float64\n"
     ]
    }
   ],
   "source": [
    "# See if there are any highly correlated features\n",
    "c = df.corr().abs()\n",
    "s = c.unstack()\n",
    "so = s.sort_values(kind=\"quicksort\", ascending=False)\n",
    "tmp = so.loc[so>.2].loc[so<1.0]\n",
    "print(tmp)"
   ]
  },
  {
   "cell_type": "code",
   "execution_count": 8,
   "metadata": {},
   "outputs": [
    {
     "data": {
      "text/plain": [
       "<matplotlib.axes._subplots.AxesSubplot at 0x7f56f02882b0>"
      ]
     },
     "execution_count": 8,
     "metadata": {},
     "output_type": "execute_result"
    },
    {
     "data": {
      "image/png": "[encoded data removed]",
      "text/plain": [
       "<Figure size 432x288 with 2 Axes>"
      ]
     },
     "metadata": {},
     "output_type": "display_data"
    }
   ],
   "source": [
    "import seaborn as sns\n",
    "corr = df.corr()\n",
    "sns.heatmap(corr, \n",
    "            xticklabels=corr.columns.values,\n",
    "            yticklabels=corr.columns.values)"
   ]
  },
  {
   "cell_type": "code",
   "execution_count": 7,
   "metadata": {},
   "outputs": [],
   "source": [
    "df.to_csv(dataloc+outFile, index=False)"
   ]
  }
 ],
 "metadata": {
  "kernelspec": {
   "display_name": "Python 3",
   "language": "python",
   "name": "python3"
  },
  "language_info": {
   "codemirror_mode": {
    "name": "ipython",
    "version": 3
   },
   "file_extension": ".py",
   "mimetype": "text/x-python",
   "name": "python",
   "nbconvert_exporter": "python",
   "pygments_lexer": "ipython3",
   "version": "3.5.2"
  }
 },
 "nbformat": 4,
 "nbformat_minor": 2
}
