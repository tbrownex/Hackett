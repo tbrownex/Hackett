{
 "cells": [
  {
   "cell_type": "code",
   "execution_count": 1,
   "metadata": {
    "_cell_guid": "e137a255-49bf-837d-8511-a49e6c84aef7"
   },
   "outputs": [],
   "source": [
    "#import numpy as np\n",
    "import pandas as pd\n",
    "import operator\n",
    "import matplotlib.pyplot as plt\n",
    "from scipy.stats import pearsonr"
   ]
  },
  {
   "cell_type": "code",
   "execution_count": 2,
   "metadata": {
    "_cell_guid": "fe625774-6184-5cb2-819c-ff840e08e392"
   },
   "outputs": [],
   "source": [
    "dataloc = \"/home/tbrownex/data/test/\"\n",
    "file    = \"data.csv\""
   ]
  },
  {
   "cell_type": "code",
   "execution_count": 3,
   "metadata": {},
   "outputs": [],
   "source": [
    "df = pd.read_csv(dataloc+file)"
   ]
  },
  {
   "cell_type": "code",
   "execution_count": 4,
   "metadata": {
    "_cell_guid": "71b41bea-27dc-ff5f-d2ba-caa214ed661a"
   },
   "outputs": [],
   "source": [
    "# Get the column names for features and the Target\n",
    "features = df.iloc[:,:-1].columns.tolist()\n",
    "features = list(df.columns)[:-1]\n",
    "\n",
    "target = df.columns[-1]"
   ]
  },
  {
   "cell_type": "code",
   "execution_count": 8,
   "metadata": {},
   "outputs": [],
   "source": [
    "correlations = {}\n",
    "for f in features:\n",
    "    data_temp = df[[f,target]]\n",
    "    x1 = data_temp[f]\n",
    "    x2 = data_temp[target]\n",
    "    key = f\n",
    "    correlations[key] = abs(pearsonr(x1,x2)[0])"
   ]
  },
  {
   "cell_type": "code",
   "execution_count": 24,
   "metadata": {},
   "outputs": [
    {
     "name": "stdout",
     "output_type": "stream",
     "text": [
      "Feature   Correlation with Target\n",
      "   MWG           0.35\n",
      "   NWG           0.32\n",
      " MDIMC           0.22\n",
      " NDIMC           0.21\n",
      "   VWM           0.16\n",
      "   VWN           0.14\n",
      "    SB           0.06\n",
      "    SA           0.05\n",
      "   KWI           0.03\n",
      "  STRM           0.01\n",
      "   KWG           0.01\n",
      " NDIMB           0.01\n",
      " MDIMA           0.01\n",
      "  STRN           0.00\n"
     ]
    }
   ],
   "source": [
    "topPredictors = sorted(correlations.items(), key=lambda kv: kv[1], reverse=True)\n",
    "print(\"{:<10}{}\".format(\"Feature\", \"Correlation with Target\"))\n",
    "for f in topPredictors:\n",
    "    print(\"{:>6}{:>15.2f}\".format(f[0], f[1]))"
   ]
  }
 ],
 "metadata": {
  "_change_revision": 0,
  "_is_fork": false,
  "kernelspec": {
   "display_name": "Python 3",
   "language": "python",
   "name": "python3"
  },
  "language_info": {
   "codemirror_mode": {
    "name": "ipython",
    "version": 3
   },
   "file_extension": ".py",
   "mimetype": "text/x-python",
   "name": "python",
   "nbconvert_exporter": "python",
   "pygments_lexer": "ipython3",
   "version": "3.5.2"
  }
 },
 "nbformat": 4,
 "nbformat_minor": 1
}
