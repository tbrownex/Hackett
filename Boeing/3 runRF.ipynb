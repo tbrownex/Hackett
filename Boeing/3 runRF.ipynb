{
 "cells": [
  {
   "cell_type": "code",
   "execution_count": 1,
   "metadata": {},
   "outputs": [],
   "source": [
    "import h2o\n",
    "from h2o.estimators.random_forest import H2ORandomForestEstimator\n",
    "#from calcRMSE import calcRMSE\n",
    "import numpy as np\n",
    "from getConfig import getConfig"
   ]
  },
  {
   "cell_type": "code",
   "execution_count": 2,
   "metadata": {},
   "outputs": [
    {
     "name": "stdout",
     "output_type": "stream",
     "text": [
      "Checking whether there is an H2O instance running at http://localhost:54323. connected.\n"
     ]
    },
    {
     "data": {
      "text/html": [
       "<div style=\"overflow:auto\"><table style=\"width:50%\"><tr><td>H2O cluster uptime:</td>\n",
       "<td>9 days 7 hours 21 mins</td></tr>\n",
       "<tr><td>H2O cluster timezone:</td>\n",
       "<td>Etc/UTC</td></tr>\n",
       "<tr><td>H2O data parsing timezone:</td>\n",
       "<td>UTC</td></tr>\n",
       "<tr><td>H2O cluster version:</td>\n",
       "<td>3.22.0.2</td></tr>\n",
       "<tr><td>H2O cluster version age:</td>\n",
       "<td>11 days </td></tr>\n",
       "<tr><td>H2O cluster name:</td>\n",
       "<td>tbrownex</td></tr>\n",
       "<tr><td>H2O cluster total nodes:</td>\n",
       "<td>1</td></tr>\n",
       "<tr><td>H2O cluster free memory:</td>\n",
       "<td>827 Mb</td></tr>\n",
       "<tr><td>H2O cluster total cores:</td>\n",
       "<td>1</td></tr>\n",
       "<tr><td>H2O cluster allowed cores:</td>\n",
       "<td>1</td></tr>\n",
       "<tr><td>H2O cluster status:</td>\n",
       "<td>locked, healthy</td></tr>\n",
       "<tr><td>H2O connection url:</td>\n",
       "<td>http://localhost:54323</td></tr>\n",
       "<tr><td>H2O connection proxy:</td>\n",
       "<td>None</td></tr>\n",
       "<tr><td>H2O internal security:</td>\n",
       "<td>False</td></tr>\n",
       "<tr><td>H2O API Extensions:</td>\n",
       "<td>XGBoost, Algos, AutoML, Core V3, Core V4</td></tr>\n",
       "<tr><td>Python version:</td>\n",
       "<td>3.5.2 final</td></tr></table></div>"
      ],
      "text/plain": [
       "--------------------------  ----------------------------------------\n",
       "H2O cluster uptime:         9 days 7 hours 21 mins\n",
       "H2O cluster timezone:       Etc/UTC\n",
       "H2O data parsing timezone:  UTC\n",
       "H2O cluster version:        3.22.0.2\n",
       "H2O cluster version age:    11 days\n",
       "H2O cluster name:           tbrownex\n",
       "H2O cluster total nodes:    1\n",
       "H2O cluster free memory:    827 Mb\n",
       "H2O cluster total cores:    1\n",
       "H2O cluster allowed cores:  1\n",
       "H2O cluster status:         locked, healthy\n",
       "H2O connection url:         http://localhost:54323\n",
       "H2O connection proxy:\n",
       "H2O internal security:      False\n",
       "H2O API Extensions:         XGBoost, Algos, AutoML, Core V3, Core V4\n",
       "Python version:             3.5.2 final\n",
       "--------------------------  ----------------------------------------"
      ]
     },
     "metadata": {},
     "output_type": "display_data"
    }
   ],
   "source": [
    "h2o.no_progress()\n",
    "h2o.init(port=54323)"
   ]
  },
  {
   "cell_type": "code",
   "execution_count": 3,
   "metadata": {},
   "outputs": [],
   "source": [
    "def getData(config):\n",
    "    typ = {\"Pool\": \"string\"}\n",
    "    return h2o.import_file(path = config[\"dataLoc\"] + config[\"fileName\"], col_types=typ)"
   ]
  },
  {
   "cell_type": "code",
   "execution_count": 4,
   "metadata": {},
   "outputs": [],
   "source": [
    "# These fields are useless in predicting:\n",
    "# \"Job\", \"Year\", \"Work Site\", \"BD Status\", \"Major EAC\", \"Income Statement Type\", \n",
    "# \"Calc Type\", \"Revenue Calc Type\", \"Auto Earn Adj\", \"Award Fee\" \n",
    "# The list holds the index values of these columns\n",
    "def dropCols(df):\n",
    "    df = df.drop([0, 1, 11, 16, 20, 21, 22, 23, 24, 26])\n",
    "    return df"
   ]
  },
  {
   "cell_type": "code",
   "execution_count": 5,
   "metadata": {},
   "outputs": [],
   "source": [
    "def buildModel(parms):\n",
    "    numTrees = parms[0]\n",
    "    leafSize = parms[1]\n",
    "    return H2ORandomForestEstimator(\n",
    "        model_id=\"rf_v1\",\n",
    "        ntrees=numTrees,\n",
    "        min_rows=leafSize,\n",
    "        stopping_rounds=4)"
   ]
  },
  {
   "cell_type": "code",
   "execution_count": 6,
   "metadata": {},
   "outputs": [],
   "source": [
    "def showVariables(model):\n",
    "    results = model._model_json['output']['variable_importances'].as_data_frame()\n",
    "    pct = results[\"scaled_importance\"].round(2)\n",
    "    var = results[\"variable\"]\n",
    "    tom = zip(var, pct)\n",
    "    for x in tom:\n",
    "        print(x)"
   ]
  },
  {
   "cell_type": "code",
   "execution_count": 7,
   "metadata": {},
   "outputs": [],
   "source": [
    "def evaluate(test, preds):\n",
    "    preds = preds.as_data_frame().as_matrix()\n",
    "    results = test[[\"Pool\", \"Actual\"]].as_data_frame()\n",
    "    results[\"Pred\"] = preds\n",
    "    # These 3 are 86% of the total spend\n",
    "    pools = [\"10\", \"18\", \"30\", \"6S\", \"20\"]\n",
    "    results = results.loc[results[\"Pool\"].isin(pools)]\n",
    "    results.set_index(\"Pool\", inplace=True)\n",
    "    pool = results.groupby(level=0)\n",
    "\n",
    "    score = 0\n",
    "    for x in pool:\n",
    "        pred = x[1][\"Pred\"].sum()\n",
    "        act = x[1][\"Actual\"].sum()\n",
    "        acc = abs(pred - act) / act\n",
    "        score += acc\n",
    "    score = score/len(pool)\n",
    "    return score"
   ]
  },
  {
   "cell_type": "code",
   "execution_count": 8,
   "metadata": {},
   "outputs": [],
   "source": [
    "def process(p):\n",
    "    model = buildModel(p)\n",
    "    model.train(features, y=label, training_frame=train, validation_frame=valid)\n",
    "    #showVariables(model)\n",
    "    preds = model.predict(test)\n",
    "    score = evaluate(test, preds)\n",
    "    trees = p[0]\n",
    "    leaf = p[1]\n",
    "    rec = str(trees) +\",\"+ str(leaf) +\",\"+ str(score)+\"\\n\"\n",
    "    #scores.write(rec)\n",
    "    print(p, \": \", score)\n",
    "    test[\"Prediction\"] = preds\n",
    "    h2o.export_file(test, \"/home/tbrownex/full.csv\", force=True)"
   ]
  },
  {
   "cell_type": "code",
   "execution_count": 9,
   "metadata": {},
   "outputs": [
    {
     "data": {
      "text/plain": [
       "'def evaluate(test, preds):\\n    preds = preds.as_data_frame().as_matrix()\\n    np.savetxt(\"/home/tbrownex/predictions.csv\", preds, delimiter=\",\")\\n    actual = test[\"Actual\"].as_data_frame().as_matrix()\\n    np.savetxt(\"/home/tbrownex/actual.csv\", actual, delimiter=\",\")\\n    return calcRMSE(actual, preds)'"
      ]
     },
     "execution_count": 9,
     "metadata": {},
     "output_type": "execute_result"
    }
   ],
   "source": [
    "'''def evaluate(test, preds):\n",
    "    preds = preds.as_data_frame().as_matrix()\n",
    "    np.savetxt(\"/home/tbrownex/predictions.csv\", preds, delimiter=\",\")\n",
    "    actual = test[\"Actual\"].as_data_frame().as_matrix()\n",
    "    np.savetxt(\"/home/tbrownex/actual.csv\", actual, delimiter=\",\")\n",
    "    return calcRMSE(actual, preds)'''"
   ]
  },
  {
   "cell_type": "code",
   "execution_count": 10,
   "metadata": {},
   "outputs": [],
   "source": [
    "scores = open(\"/home/tbrownex/scores.csv\", \"w\")"
   ]
  },
  {
   "cell_type": "code",
   "execution_count": 16,
   "metadata": {},
   "outputs": [],
   "source": [
    "config = getConfig()\n",
    "df = getData(config)"
   ]
  },
  {
   "cell_type": "code",
   "execution_count": 17,
   "metadata": {},
   "outputs": [],
   "source": [
    "# Drop useless columns\n",
    "df = dropCols(df)"
   ]
  },
  {
   "cell_type": "code",
   "execution_count": 18,
   "metadata": {},
   "outputs": [],
   "source": [
    "df = df.drop(\"Plan\")"
   ]
  },
  {
   "cell_type": "markdown",
   "metadata": {},
   "source": [
    "###### Test to see how valuable these are"
   ]
  },
  {
   "cell_type": "code",
   "execution_count": 19,
   "metadata": {},
   "outputs": [
    {
     "data": {
      "text/plain": [
       "'df = df.drop(\"Revenues\")\\ndf = df.drop(\"Allowable Cost\")\\ndf = df.drop(\"Total Orders\")'"
      ]
     },
     "execution_count": 19,
     "metadata": {},
     "output_type": "execute_result"
    }
   ],
   "source": [
    "'''df = df.drop(\"Revenues\")\n",
    "df = df.drop(\"Allowable Cost\")\n",
    "df = df.drop(\"Total Orders\")'''"
   ]
  },
  {
   "cell_type": "code",
   "execution_count": 20,
   "metadata": {},
   "outputs": [],
   "source": [
    "# Last column is \"Actual\", what we're trying to predict\n",
    "features = df.col_names[:-1]      \n",
    "label    = df.col_names[-1]    "
   ]
  },
  {
   "cell_type": "code",
   "execution_count": 23,
   "metadata": {},
   "outputs": [
    {
     "name": "stderr",
     "output_type": "stream",
     "text": [
      "/home/tbrownex/tensorflow/lib/python3.5/site-packages/ipykernel_launcher.py:2: FutureWarning: Method .as_matrix will be removed in a future version. Use .values instead.\n",
      "  \n"
     ]
    },
    {
     "name": "stdout",
     "output_type": "stream",
     "text": [
      "(20000, 5) :  0.23540788677192012\n"
     ]
    }
   ],
   "source": [
    "'''parms = []\n",
    "numTrees = [100*x for x in range(1,25)]\n",
    "leafSize = [5]\n",
    "for t in numTrees:\n",
    "    for s in leafSize:\n",
    "        parm = (t,s)\n",
    "        parms.append(parm)\n",
    "'''\n",
    "numTrees = 20000\n",
    "leafSize = 5\n",
    "parm = (numTrees, leafSize)\n",
    "parms=[parm]\n",
    "\n",
    "loops=1\n",
    "for n in range(loops):\n",
    "    for p in parms:\n",
    "        train, valid, test = df.split_frame([0.6, 0.2])\n",
    "        process(p)\n",
    "\n",
    "scores.close()"
   ]
  },
  {
   "cell_type": "code",
   "execution_count": null,
   "metadata": {},
   "outputs": [],
   "source": []
  }
 ],
 "metadata": {
  "kernelspec": {
   "display_name": "Python 3",
   "language": "python",
   "name": "python3"
  },
  "language_info": {
   "codemirror_mode": {
    "name": "ipython",
    "version": 3
   },
   "file_extension": ".py",
   "mimetype": "text/x-python",
   "name": "python",
   "nbconvert_exporter": "python",
   "pygments_lexer": "ipython3",
   "version": "3.5.2"
  }
 },
 "nbformat": 4,
 "nbformat_minor": 2
}
