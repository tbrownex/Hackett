{
 "cells": [
  {
   "cell_type": "markdown",
   "metadata": {},
   "source": [
    "#### This is for Program-level forecasting  \n",
    "Use year=2016 to train, then predict on year=2017 data"
   ]
  },
  {
   "cell_type": "code",
   "execution_count": 361,
   "metadata": {},
   "outputs": [],
   "source": [
    "import h2o\n",
    "from h2o.estimators.random_forest import H2ORandomForestEstimator\n",
    "#from calcRMSE import calcRMSE\n",
    "import numpy as np\n",
    "from getConfig import getConfig\n",
    "from prepData import prepData\n",
    "from getDataH2O import getData"
   ]
  },
  {
   "cell_type": "code",
   "execution_count": 362,
   "metadata": {},
   "outputs": [
    {
     "name": "stdout",
     "output_type": "stream",
     "text": [
      "Checking whether there is an H2O instance running at http://localhost:54321. connected.\n"
     ]
    },
    {
     "data": {
      "text/html": [
       "<div style=\"overflow:auto\"><table style=\"width:50%\"><tr><td>H2O cluster uptime:</td>\n",
       "<td>8 hours 9 mins</td></tr>\n",
       "<tr><td>H2O cluster timezone:</td>\n",
       "<td>Etc/UTC</td></tr>\n",
       "<tr><td>H2O data parsing timezone:</td>\n",
       "<td>UTC</td></tr>\n",
       "<tr><td>H2O cluster version:</td>\n",
       "<td>3.22.0.2</td></tr>\n",
       "<tr><td>H2O cluster version age:</td>\n",
       "<td>1 month and 24 days </td></tr>\n",
       "<tr><td>H2O cluster name:</td>\n",
       "<td>tbrownex</td></tr>\n",
       "<tr><td>H2O cluster total nodes:</td>\n",
       "<td>1</td></tr>\n",
       "<tr><td>H2O cluster free memory:</td>\n",
       "<td>805 Mb</td></tr>\n",
       "<tr><td>H2O cluster total cores:</td>\n",
       "<td>1</td></tr>\n",
       "<tr><td>H2O cluster allowed cores:</td>\n",
       "<td>1</td></tr>\n",
       "<tr><td>H2O cluster status:</td>\n",
       "<td>locked, healthy</td></tr>\n",
       "<tr><td>H2O connection url:</td>\n",
       "<td>http://localhost:54321</td></tr>\n",
       "<tr><td>H2O connection proxy:</td>\n",
       "<td>None</td></tr>\n",
       "<tr><td>H2O internal security:</td>\n",
       "<td>False</td></tr>\n",
       "<tr><td>H2O API Extensions:</td>\n",
       "<td>XGBoost, Algos, AutoML, Core V3, Core V4</td></tr>\n",
       "<tr><td>Python version:</td>\n",
       "<td>3.5.2 final</td></tr></table></div>"
      ],
      "text/plain": [
       "--------------------------  ----------------------------------------\n",
       "H2O cluster uptime:         8 hours 9 mins\n",
       "H2O cluster timezone:       Etc/UTC\n",
       "H2O data parsing timezone:  UTC\n",
       "H2O cluster version:        3.22.0.2\n",
       "H2O cluster version age:    1 month and 24 days\n",
       "H2O cluster name:           tbrownex\n",
       "H2O cluster total nodes:    1\n",
       "H2O cluster free memory:    805 Mb\n",
       "H2O cluster total cores:    1\n",
       "H2O cluster allowed cores:  1\n",
       "H2O cluster status:         locked, healthy\n",
       "H2O connection url:         http://localhost:54321\n",
       "H2O connection proxy:\n",
       "H2O internal security:      False\n",
       "H2O API Extensions:         XGBoost, Algos, AutoML, Core V3, Core V4\n",
       "Python version:             3.5.2 final\n",
       "--------------------------  ----------------------------------------"
      ]
     },
     "metadata": {},
     "output_type": "display_data"
    }
   ],
   "source": [
    "h2o.no_progress()\n",
    "h2o.init(port=54321)"
   ]
  },
  {
   "cell_type": "code",
   "execution_count": 363,
   "metadata": {},
   "outputs": [],
   "source": [
    "def buildModel(parms):\n",
    "    numTrees = parms[0]\n",
    "    leafSize = parms[1]\n",
    "    depth    = parms[2]\n",
    "    return H2ORandomForestEstimator(\n",
    "        model_id=\"rf_v1\",\n",
    "        ntrees=numTrees,\n",
    "        min_rows=leafSize,\n",
    "        max_depth=depth,\n",
    "        stopping_rounds=4)"
   ]
  },
  {
   "cell_type": "code",
   "execution_count": 364,
   "metadata": {},
   "outputs": [],
   "source": [
    "def showVariables(model):\n",
    "    results = model._model_json['output']['variable_importances'].as_data_frame()\n",
    "    pct = results[\"scaled_importance\"].round(2)\n",
    "    var = results[\"variable\"]\n",
    "    tom = zip(var, pct)\n",
    "    for x in tom:\n",
    "        print(x)"
   ]
  },
  {
   "cell_type": "code",
   "execution_count": 365,
   "metadata": {},
   "outputs": [],
   "source": [
    "def mapErrors(vizData):\n",
    "    import matplotlib.pyplot as plt\n",
    "    pgms    = [x[0] for x in vizData]\n",
    "    actuals = [x[1] for x in vizData]\n",
    "    errs    = [x[2] for x in vizData]\n",
    "    plt.xlabel(\"Prediction Error\")\n",
    "    plt.ylabel(\"Actual Hours\")\n",
    "    plt.scatter(errs, actuals, s=6, marker=\"o\")\n",
    "    plt.title(\"Program Actuals vs Predicted Pct Error\")\n",
    "    plt.grid()\n",
    "    plt.savefig(fname=\"/home/tbrownex/BoeingResults.jpeg\")\n",
    "    #plt.show()"
   ]
  },
  {
   "cell_type": "code",
   "execution_count": 366,
   "metadata": {},
   "outputs": [],
   "source": [
    "def evaluate(test, preds):\n",
    "    preds = preds.as_data_frame().as_matrix()\n",
    "    results = test[[\"Program\", \"Actual\"]].as_data_frame()\n",
    "    results[\"Pred\"] = preds\n",
    "    \n",
    "    results.set_index(\"Program\", inplace=True)\n",
    "    grp = results.groupby(level=0)\n",
    "\n",
    "    score = 0\n",
    "    vizData = []\n",
    "    for x in grp:\n",
    "        pred = x[1][\"Pred\"].sum()\n",
    "        act = x[1][\"Actual\"].sum()\n",
    "        error = abs(pred - act) / act\n",
    "        score += error\n",
    "        if abs(error) < 2:\n",
    "            if act < 100000:\n",
    "                vizData.append((x[0], act, error))\n",
    "    mape = score/len(grp)\n",
    "    mapErrors(vizData)\n",
    "    return mape"
   ]
  },
  {
   "cell_type": "code",
   "execution_count": 367,
   "metadata": {},
   "outputs": [],
   "source": [
    "def recordResults(p, mape):\n",
    "    trees = p[0]\n",
    "    leaf = p[1]\n",
    "    depth = p[2]\n",
    "    rec = str(trees) +\",\"+ str(leaf) +\",\"+ str(depth)+\",\"+ str(mape)+\"\\n\"\n",
    "    scores.write(rec)"
   ]
  },
  {
   "cell_type": "code",
   "execution_count": 368,
   "metadata": {},
   "outputs": [],
   "source": [
    "def process(p, dataDict):\n",
    "    model = buildModel(p)\n",
    "    model.train(features, y=label, training_frame=dataDict[\"train\"], validation_frame=dataDict[\"val\"])\n",
    "    #showVariables(model)\n",
    "    preds = model.predict(dataDict[\"test\"])\n",
    "    mape = evaluate(dataDict[\"test\"], preds)\n",
    "    recordResults(p,mape)"
   ]
  },
  {
   "cell_type": "code",
   "execution_count": 369,
   "metadata": {},
   "outputs": [],
   "source": [
    "config = getConfig()\n",
    "df = getData(config)\n",
    "dataDict = prepData(df, config)\n",
    "\n",
    "# H2O requires the names of the columns to be used as features and labels\n",
    "features = dataDict[\"train\"].col_names[:-1]\n",
    "label    = dataDict[\"train\"].col_names[-1]"
   ]
  },
  {
   "cell_type": "code",
   "execution_count": 370,
   "metadata": {},
   "outputs": [
    {
     "name": "stderr",
     "output_type": "stream",
     "text": [
      "/home/tbrownex/tensorflow/lib/python3.5/site-packages/ipykernel_launcher.py:2: FutureWarning: Method .as_matrix will be removed in a future version. Use .values instead.\n",
      "  \n",
      "/home/tbrownex/tensorflow/lib/python3.5/site-packages/ipykernel_launcher.py:14: RuntimeWarning: divide by zero encountered in double_scalars\n",
      "  \n"
     ]
    },
    {
     "data": {
      "image/png": "[encoded data removed]",
      "text/plain": [
       "<Figure size 432x288 with 1 Axes>"
      ]
     },
     "metadata": {},
     "output_type": "display_data"
    }
   ],
   "source": [
    "parms = []\n",
    "numTrees = [1200]\n",
    "leafSize = [2]\n",
    "depth    = [26]\n",
    "for t in numTrees:\n",
    "    for s in leafSize:\n",
    "        for d in depth:\n",
    "            parm = (t,s, d)\n",
    "            parms.append(parm)\n",
    "\n",
    "loops=1\n",
    "with open(\"/home/tbrownex/scores.csv\", \"w\") as scores:\n",
    "    for n in range(loops):\n",
    "        for p in parms:\n",
    "            process(p, dataDict)"
   ]
  },
  {
   "cell_type": "code",
   "execution_count": null,
   "metadata": {},
   "outputs": [],
   "source": []
  }
 ],
 "metadata": {
  "kernelspec": {
   "display_name": "Python 3",
   "language": "python",
   "name": "python3"
  },
  "language_info": {
   "codemirror_mode": {
    "name": "ipython",
    "version": 3
   },
   "file_extension": ".py",
   "mimetype": "text/x-python",
   "name": "python",
   "nbconvert_exporter": "python",
   "pygments_lexer": "ipython3",
   "version": "3.5.2"
  }
 },
 "nbformat": 4,
 "nbformat_minor": 2
}
