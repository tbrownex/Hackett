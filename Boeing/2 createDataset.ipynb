{
 "cells": [
  {
   "cell_type": "markdown",
   "metadata": {},
   "source": [
    "#### Merge three files to create the file to be analyzed. File \"LaborRSCCost\" contains dollars planned and actual by Job. \"jobAttributes\" contains an expanded set of attributes (features). \"Planning\" has a few more attributes. Actual dollars will serve as the Label"
   ]
  },
  {
   "cell_type": "code",
   "execution_count": 10,
   "metadata": {},
   "outputs": [],
   "source": [
    "import pandas as pd\n",
    "import numpy as np\n",
    "from getConfig  import getConfig"
   ]
  },
  {
   "cell_type": "code",
   "execution_count": 11,
   "metadata": {},
   "outputs": [],
   "source": [
    "# Load the data\n",
    "config = getConfig()\n",
    "# This file has the Plan and Actual data\n",
    "jobs = pd.read_csv(config[\"dataLoc\"]+\"LaborRSCCost.csv\")"
   ]
  },
  {
   "cell_type": "code",
   "execution_count": 12,
   "metadata": {},
   "outputs": [],
   "source": [
    "def processPlan(df, col):\n",
    "    keep = ['Division', 'Program', 'Planning Job', 'RSC', 'Pool', 'ARG']\n",
    "    keep.append(col)\n",
    "    df = df[keep]\n",
    "    rename = ['Div', 'Program', 'Job', 'RSC', 'Pool', 'ARG', 'Plan']\n",
    "    df.columns = rename\n",
    "    return df"
   ]
  },
  {
   "cell_type": "code",
   "execution_count": 13,
   "metadata": {},
   "outputs": [],
   "source": [
    "# We only will be using the \"Actual\" column; the rest are keys to join with Plan\n",
    "def processActual(df, col):\n",
    "    keep = ['Planning Job', 'RSC', 'Pool', 'ARG']\n",
    "    keep.append(col)\n",
    "    df = df[keep]\n",
    "    rename = ['Job', 'RSC', 'Pool', 'ARG', 'Actual']\n",
    "    df.columns = rename\n",
    "    return df"
   ]
  },
  {
   "cell_type": "code",
   "execution_count": 14,
   "metadata": {},
   "outputs": [],
   "source": [
    "# Merge Plan and Actual by unique key\n",
    "def mergeDFs(plan, actual):\n",
    "    idx = ['Job',\"RSC\", 'Pool', 'ARG']\n",
    "    plan.set_index(idx, inplace=True)\n",
    "    actual.set_index(idx, inplace=True)\n",
    "    return (pd.merge(plan, actual, how='inner', left_index=True, right_index=True))"
   ]
  },
  {
   "cell_type": "markdown",
   "metadata": {},
   "source": [
    "##### Match up the Plan and Actual in one record"
   ]
  },
  {
   "cell_type": "code",
   "execution_count": 15,
   "metadata": {},
   "outputs": [],
   "source": [
    "# Get Plan and Actual for each of 2016 and 2017\n",
    "dfList = []\n",
    "\n",
    "# 2016 first\n",
    "plan = jobs.loc[jobs[\"Scenario\"]==\"LRBP2016_Final\"]\n",
    "plan = processPlan(plan,\" 2016 12 YTD \")\n",
    "plan[\"Year\"] = 2016\n",
    "# Actual\n",
    "actual = jobs.loc[jobs[\"Scenario\"]==\"LRBP2017_Final\"]\n",
    "actual = processActual(actual, \" 2016 12 YTD \")\n",
    "dfList.append(mergeDFs(plan, actual))\n",
    "\n",
    "# Now 2017\n",
    "plan = jobs.loc[jobs[\"Scenario\"]==\"LRBP2017_Final\"]\n",
    "plan = processPlan(plan,\" 2017 12 YTD \")\n",
    "plan[\"Year\"] = 2017\n",
    "# Actual\n",
    "actual = jobs.loc[jobs[\"Scenario\"]==\"LRBP2018_Final\"]\n",
    "actual = processActual(actual, \" 2017 12 YTD \")\n",
    "dfList.append(mergeDFs(plan, actual))\n",
    "\n",
    "merge1 = pd.concat(dfList)"
   ]
  },
  {
   "cell_type": "markdown",
   "metadata": {},
   "source": [
    "##### Append more Job attributes"
   ]
  },
  {
   "cell_type": "code",
   "execution_count": 16,
   "metadata": {},
   "outputs": [],
   "source": [
    "merge1.reset_index(inplace=True)\n",
    "merge1.set_index(\"Job\", inplace=True)"
   ]
  },
  {
   "cell_type": "code",
   "execution_count": 17,
   "metadata": {},
   "outputs": [
    {
     "name": "stdout",
     "output_type": "stream",
     "text": [
      "0 jobs not found\n"
     ]
    }
   ],
   "source": [
    "attributes = pd.read_csv(config[\"dataLoc\"]+\"jobAttributes.csv\")\n",
    "\n",
    "keep = [\"Planning Job\", \"Category\", \"Tool Functionality\", \"Parent\", \"Work Site\", \"Divisional Support Code\",\\\n",
    "       \"Authorization Status\", \"Customer Type\", \"Country\", \"BD Status\", \"Market Segment\",\\\n",
    "       \"End User Service\", \"Contract Type\", \"Major EAC\", \"Income Statement Type\", \"Calc Type\",\\\n",
    "       \"Revenue Calc Type\", \"Auto Earn Adj\", \"Balance Sheet Type\", \"Award Fee\", \"ROC\", \"ROS\",\\\n",
    "        \"Bow Wave\"]\n",
    "attributes = attributes[keep]\n",
    "\n",
    "attributes.set_index(\"Planning Job\", inplace=True)\n",
    "\n",
    "# For each Job, append the attributes\n",
    "before = merge1.shape[0]\n",
    "merge2 = merge1.merge(attributes, left_index=True, right_index=True )\n",
    "after = merge2.shape[0]\n",
    "print(\"{} jobs not found\".format(before-after))"
   ]
  },
  {
   "cell_type": "markdown",
   "metadata": {},
   "source": [
    "##### More Job attributes. This file is year-specific so make that part of the key"
   ]
  },
  {
   "cell_type": "code",
   "execution_count": 18,
   "metadata": {},
   "outputs": [],
   "source": [
    "attributes = pd.read_csv(config[\"dataLoc\"]+\"Planning-formatted.csv\")"
   ]
  },
  {
   "cell_type": "code",
   "execution_count": 19,
   "metadata": {},
   "outputs": [],
   "source": [
    "# Column name for Job was lost during the merge so set it\n",
    "merge2.index.set_names(['Job'], inplace=True)\n",
    "\n",
    "merge2.reset_index(inplace=True)\n",
    "merge2.set_index([\"Job\", \"Year\"], inplace=True)"
   ]
  },
  {
   "cell_type": "code",
   "execution_count": 20,
   "metadata": {},
   "outputs": [
    {
     "name": "stdout",
     "output_type": "stream",
     "text": [
      "648 jobs not found\n"
     ]
    }
   ],
   "source": [
    "# Set same index for these new attributes\n",
    "attributes.set_index([\"Job\", \"Year\"], inplace=True)\n",
    "\n",
    "# For each Job/Year, get the attributes\n",
    "before = merge2.shape[0]\n",
    "final = merge2.merge(attributes, left_index=True, right_index=True )\n",
    "after = final.shape[0]\n",
    "print(\"{} jobs not found\".format(before-after))"
   ]
  },
  {
   "cell_type": "code",
   "execution_count": 21,
   "metadata": {},
   "outputs": [],
   "source": [
    "final.reset_index(inplace=True)"
   ]
  },
  {
   "cell_type": "code",
   "execution_count": 22,
   "metadata": {},
   "outputs": [],
   "source": [
    "# Move the Actual to the end (the label)\n",
    "label = \"Actual\"\n",
    "cols = [col for col in final.columns if col not in [label]]\n",
    "cols.append(label)\n",
    "final = final[cols]"
   ]
  },
  {
   "cell_type": "code",
   "execution_count": 23,
   "metadata": {},
   "outputs": [],
   "source": [
    "final.to_csv(config[\"dataLoc\"]+\"final.csv\", index=False)"
   ]
  }
 ],
 "metadata": {
  "kernelspec": {
   "display_name": "Python 3",
   "language": "python",
   "name": "python3"
  },
  "language_info": {
   "codemirror_mode": {
    "name": "ipython",
    "version": 3
   },
   "file_extension": ".py",
   "mimetype": "text/x-python",
   "name": "python",
   "nbconvert_exporter": "python",
   "pygments_lexer": "ipython3",
   "version": "3.5.2"
  }
 },
 "nbformat": 4,
 "nbformat_minor": 2
}
