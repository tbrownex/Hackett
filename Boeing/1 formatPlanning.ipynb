{
 "cells": [
  {
   "cell_type": "markdown",
   "metadata": {},
   "source": [
    "#### This file contains 3 attributes that are Job-specific: Allowable Cost, Revenues and Total Orders. These numbers are Planned and tied to an LRBP in \"Scenario\". The data came from tab \"Planning\" in \"2CES-Primejobs_111318\""
   ]
  },
  {
   "cell_type": "code",
   "execution_count": 1,
   "metadata": {},
   "outputs": [],
   "source": [
    "import pandas as pd\n",
    "import numpy as np\n",
    "from getConfig  import getConfig"
   ]
  },
  {
   "cell_type": "code",
   "execution_count": 2,
   "metadata": {},
   "outputs": [],
   "source": [
    "# Load the data\n",
    "config = getConfig()\n",
    "# This file has the Plan and Actual data\n",
    "df = pd.read_csv(config[\"dataLoc\"]+\"Planning.csv\")"
   ]
  },
  {
   "cell_type": "code",
   "execution_count": 3,
   "metadata": {},
   "outputs": [],
   "source": [
    "df.fillna(value=0, inplace=True)"
   ]
  },
  {
   "cell_type": "code",
   "execution_count": 4,
   "metadata": {},
   "outputs": [],
   "source": [
    "def processPlan(df, col):\n",
    "    keep = ['Division', 'Program', 'Planning Job', 'RSC', 'Pool', 'ARG']\n",
    "    keep.append(col)\n",
    "    df = df[keep]\n",
    "    rename = ['Div', 'Program', 'Job', 'RSC', 'Pool', 'ARG', 'Plan']\n",
    "    df.columns = rename\n",
    "\n",
    "    # Some records have no Plan; remove them\n",
    "    df = df.loc[df[\"Plan\"] != ' -   ']\n",
    "    return df"
   ]
  },
  {
   "cell_type": "code",
   "execution_count": 13,
   "metadata": {},
   "outputs": [],
   "source": [
    "# Get Plan for 2016 and 2017\n",
    "dfList = []\n",
    "\n",
    "# 2016 first\n",
    "yr2016 = df.loc[df[\"Scenario\"] == \"LRBP2016_Final\"]\n",
    "yr2016 = yr2016[[\"Job\", \"Type\", \"2016\"]]\n",
    "\n",
    "# Turn the \"Type\" values into columns\n",
    "yr2016 = yr2016.pivot_table('2016', ['Job'], 'Type')\n",
    "yr2016.reset_index(drop=False, inplace=True )\n",
    "\n",
    "# Add the year\n",
    "yr2016[\"Year\"] = 2016\n",
    "dfList.append(yr2016)"
   ]
  },
  {
   "cell_type": "code",
   "execution_count": 14,
   "metadata": {},
   "outputs": [],
   "source": [
    "# Now 2017\n",
    "yr2017 = df.loc[df[\"Scenario\"] == \"LRBP2017_Final\"]\n",
    "yr2017 = yr2017[[\"Job\", \"Type\", \"2017\"]]\n",
    "\n",
    "# Turn the \"Type\" values into columns\n",
    "yr2017 = yr2017.pivot_table('2017', ['Job'], 'Type')\n",
    "yr2017.reset_index(drop=False, inplace=True )\n",
    "\n",
    "# Add the year\n",
    "yr2017[\"Year\"] = 2017\n",
    "dfList.append(yr2017)"
   ]
  },
  {
   "cell_type": "code",
   "execution_count": 15,
   "metadata": {},
   "outputs": [],
   "source": [
    "merged = pd.concat(dfList)\n",
    "merged.fillna(value=0,inplace=True)\n",
    "merged.to_csv(config[\"dataLoc\"]+\"Planning-formatted.csv\", index=False)"
   ]
  }
 ],
 "metadata": {
  "kernelspec": {
   "display_name": "Python 3",
   "language": "python",
   "name": "python3"
  },
  "language_info": {
   "codemirror_mode": {
    "name": "ipython",
    "version": 3
   },
   "file_extension": ".py",
   "mimetype": "text/x-python",
   "name": "python",
   "nbconvert_exporter": "python",
   "pygments_lexer": "ipython3",
   "version": "3.5.2"
  }
 },
 "nbformat": 4,
 "nbformat_minor": 2
}
