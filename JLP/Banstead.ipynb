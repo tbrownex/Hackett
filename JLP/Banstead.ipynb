{
 "cells": [
  {
   "cell_type": "code",
   "execution_count": 1,
   "metadata": {},
   "outputs": [],
   "source": [
    "import pandas as pd\n",
    "import numpy as np\n",
    "import matplotlib.pyplot as plt"
   ]
  },
  {
   "cell_type": "code",
   "execution_count": 2,
   "metadata": {},
   "outputs": [],
   "source": [
    "df = pd.read_csv(\"/home/tbrownex/Hackett/Banstead/Banstead_data.csv\",encoding='latin-1')"
   ]
  },
  {
   "cell_type": "code",
   "execution_count": 3,
   "metadata": {},
   "outputs": [
    {
     "name": "stdout",
     "output_type": "stream",
     "text": [
      "File has 64,973 rows\n"
     ]
    }
   ],
   "source": [
    "rows = df.shape[0]\n",
    "print(\"File has {:,.0f} rows\".format(rows))"
   ]
  },
  {
   "cell_type": "code",
   "execution_count": 4,
   "metadata": {},
   "outputs": [],
   "source": [
    "# Confirm all columns have a value for all rows\n",
    "for x in df.columns:\n",
    "    if rows != df[x].count():\n",
    "        print(\"missing values for column: \", x)"
   ]
  },
  {
   "cell_type": "code",
   "execution_count": 5,
   "metadata": {},
   "outputs": [
    {
     "name": "stdout",
     "output_type": "stream",
     "text": [
      "Business Unit Number\n",
      "Business Unit Long Name\n",
      "Trading Week\n",
      "Layout Group\n",
      "Layout Group Name\n",
      "Line Sales SUs\n",
      "Full Price Sales\n",
      "Offers\n",
      "Reductions\n",
      "Line Sales\n",
      "Line Cost of Sales\n",
      "Line Sales VAT\n",
      "Contribution 1\n",
      "Line Expl Wstg @ cost\n",
      "Contribution 2\n",
      "Apportioned Bonuses\n",
      "Contribution 3\n"
     ]
    }
   ],
   "source": [
    "for x in df.columns: print(x)"
   ]
  },
  {
   "cell_type": "code",
   "execution_count": 6,
   "metadata": {},
   "outputs": [
    {
     "name": "stdout",
     "output_type": "stream",
     "text": [
      "Business Unit Number     1\n",
      "Business Unit Long Name  1\n",
      "Trading Week             274\n",
      "Layout Group             334\n",
      "Layout Group Name        341\n",
      "Line Sales SUs           16537\n",
      "Full Price Sales         52962\n",
      "Offers                   27556\n",
      "Reductions               14326\n",
      "Line Sales               54415\n",
      "Line Cost of Sales       58074\n",
      "Line Sales VAT           26093\n",
      "Contribution 1           58609\n",
      "Line Expl Wstg @ cost    27537\n",
      "Contribution 2           58674\n",
      "Apportioned Bonuses      44422\n",
      "Contribution 3           60293\n"
     ]
    }
   ],
   "source": [
    "# See how many unique values by column\n",
    "for x in df.columns:\n",
    "    print(\"{:<25}{}\".format(x, len(df[x].unique())))"
   ]
  },
  {
   "cell_type": "markdown",
   "metadata": {},
   "source": [
    "##### Trading Week"
   ]
  },
  {
   "cell_type": "code",
   "execution_count": 7,
   "metadata": {},
   "outputs": [
    {
     "name": "stdout",
     "output_type": "stream",
     "text": [
      "['2013(01)' '2013(02)' '2013(03)' '2013(04)' '2013(05)' '2013(06)'\n",
      " '2013(07)' '2013(08)' '2013(09)' '2013(10)']\n",
      "\n",
      "\n",
      "Trading Week range: 2013(01) - 2018(13)\n"
     ]
    }
   ],
   "source": [
    "# Looks like the Category columns are Trading Week, Layout Group and Layout Name\n",
    "print(df[\"Trading Week\"].unique()[:10])\n",
    "print(\"\\n\")\n",
    "\n",
    "# Trading Week\n",
    "min1 = df[\"Trading Week\"].min()\n",
    "max1 = df[\"Trading Week\"].max()\n",
    "print(\"Trading Week range: {} - {}\".format(min1,max1))"
   ]
  },
  {
   "cell_type": "markdown",
   "metadata": {},
   "source": [
    "##### Layout Group"
   ]
  },
  {
   "cell_type": "code",
   "execution_count": 8,
   "metadata": {},
   "outputs": [
    {
     "name": "stdout",
     "output_type": "stream",
     "text": [
      "[  1   2   3   5   6   7 104 106 107 108]\n",
      "\n",
      "\n",
      "Layout Group range: 1 - 905\n"
     ]
    }
   ],
   "source": [
    "# Looks like the Category columns are Trading Week, Layout Group and Layout Name\n",
    "print(df[\"Layout Group\"].unique()[:10])\n",
    "print(\"\\n\")\n",
    "\n",
    "# Trading Week\n",
    "min1 = df[\"Layout Group\"].min()\n",
    "max1 = df[\"Layout Group\"].max()\n",
    "print(\"Layout Group range: {} - {}\".format(min1,max1))"
   ]
  },
  {
   "cell_type": "markdown",
   "metadata": {},
   "source": [
    "##### Do all weeks have the same Layout Groups?"
   ]
  },
  {
   "cell_type": "code",
   "execution_count": 9,
   "metadata": {},
   "outputs": [
    {
     "name": "stdout",
     "output_type": "stream",
     "text": [
      "maximum LG per week is  2014(52) 265\n",
      "minimum LG per week is  2013(28) 223\n"
     ]
    }
   ],
   "source": [
    "maximum = 0\n",
    "svWeek = None\n",
    "uniqueTW = df[\"Trading Week\"].unique()\n",
    "\n",
    "for x in uniqueTW:\n",
    "    tmp = df.loc[df[\"Trading Week\"]==x]\n",
    "    tmp = tmp[\"Layout Group\"].unique()\n",
    "    count = tmp.shape[0]\n",
    "    if count > maximum:\n",
    "        maximum = count\n",
    "        svWeek = x\n",
    "print(\"maximum LG per week is \", svWeek, maximum)\n",
    "\n",
    "minimum = 999\n",
    "\n",
    "for x in uniqueTW:\n",
    "    tmp = df.loc[df[\"Trading Week\"]==x]\n",
    "    tmp = tmp[\"Layout Group\"].unique()\n",
    "    count = tmp.shape[0]\n",
    "    if count < minimum:\n",
    "        minimum = count\n",
    "        svWeek = x\n",
    "print(\"minimum LG per week is \", svWeek, minimum)"
   ]
  },
  {
   "cell_type": "markdown",
   "metadata": {},
   "source": [
    "##### Is there a 1:1 between Layout Group and Layout Group Name?"
   ]
  },
  {
   "cell_type": "code",
   "execution_count": 10,
   "metadata": {},
   "outputs": [
    {
     "name": "stdout",
     "output_type": "stream",
     "text": [
      "104 ['TINNED LOAVES (CRUSTY)' 'TINNED LOOSE BREAD (CRUSTY)']\n",
      "25 ['HEALTH DRINKS' 'ACTIVE HEALTH DRINKS']\n",
      "250 ['LAGER' 'BEERS & LAGERS']\n",
      "252 ['SPECIALITY BEER' 'WORLD BEERS']\n",
      "254 ['ALES' 'PREMIUM BOTTLED ALES']\n",
      "40 ['NOT IN USE' 'SPECIALITY MEAT']\n",
      "444 ['IMPULSE CONSUMER ELECTRONICS' 'LAUNDRY ACCESSORIES']\n",
      "445 ['Impulse Free From' 'LAUNDRY ADDITIVES']\n",
      "457 ['CHRISTMAS ODO BEEF STUNT LINE' 'PETCARE']\n",
      "465 ['LAUNDRY' 'LAUNDRY DETERGENTS']\n",
      "89 ['ARTISAN BREAD (BRANDED & WR1)' 'Branded and Rustic Bread (Loose)'\n",
      " 'Branded and Rustic Artisan Bread']\n",
      "331 ['Seasonal Gifting FPU' 'FOOD GIFTING']\n",
      "299 ['NOT IN USE (WAS MENSWEAR)' 'MENSWEAR']\n",
      "167 ['FORMATTED CAFE' 'CAFE BREAKFAST']\n"
     ]
    }
   ],
   "source": [
    "uniqueLG = df[\"Layout Group\"].unique()\n",
    "\n",
    "for x in uniqueLG:\n",
    "    tmp = df.loc[df[\"Layout Group\"]==x]\n",
    "    LGname = tmp[\"Layout Group Name\"].unique()\n",
    "    if len(LGname) > 1: print(x,LGname)"
   ]
  },
  {
   "cell_type": "markdown",
   "metadata": {},
   "source": [
    "##### Is there a minimum set of Layout Groups that are common to all Weeks?"
   ]
  },
  {
   "cell_type": "code",
   "execution_count": 11,
   "metadata": {},
   "outputs": [],
   "source": [
    "# Minimum count of LG/Week (from above) is in week \"2013(28)\"\n",
    "tmp   = df.loc[df[\"Trading Week\"]==\"2013(28)\"]\n",
    "LGmin = tmp[\"Layout Group\"].unique()\n",
    "\n",
    "for wk in uniqueTW:\n",
    "    tmp = df.loc[df[\"Trading Week\"]==wk][\"Layout Group\"]\n",
    "    tom = np.empty(0, dtype=int)\n",
    "    for lg in LGmin:\n",
    "        count = np.isin(tmp, lg, assume_unique=True).sum()\n",
    "        if count ==1:\n",
    "            tom = np.append(tom, lg)\n",
    "    LGmin = tom\n",
    "\n",
    "print(\"There are {} Layout Groups shared by all Weeks\".format(len(LGmin)))"
   ]
  },
  {
   "cell_type": "code",
   "execution_count": 14,
   "metadata": {},
   "outputs": [
    {
     "data": {
      "text/plain": [
       "'for W in uniqueTW:\\n    for LG in LGmin:\\n        tmp = df.loc[df[\"Trading Week\"]==W]\\n        tmp = tmp.loc[tmp[\"Layout Group\"]== LG]\\n        if tmp.shape[0] < 1:\\n            print(W, LG)'"
      ]
     },
     "execution_count": 14,
     "metadata": {},
     "output_type": "execute_result"
    }
   ],
   "source": [
    "'''for W in uniqueTW:\n",
    "    for LG in LGmin:\n",
    "        tmp = df.loc[df[\"Trading Week\"]==W]\n",
    "        tmp = tmp.loc[tmp[\"Layout Group\"]== LG]\n",
    "        if tmp.shape[0] < 1:\n",
    "            print(W, LG)'''"
   ]
  },
  {
   "cell_type": "markdown",
   "metadata": {},
   "source": [
    "##### Select only the minimum Layout Groups (common to all weeks)"
   ]
  },
  {
   "cell_type": "code",
   "execution_count": 15,
   "metadata": {},
   "outputs": [],
   "source": [
    "subset = df.loc[df['Layout Group'].isin(LGmin)]"
   ]
  },
  {
   "cell_type": "markdown",
   "metadata": {},
   "source": [
    "##### Ignore data prior to the store remodeling (everything pre-2017 week 22), then split out the parking lot disruption weeks (30-34)"
   ]
  },
  {
   "cell_type": "code",
   "execution_count": 19,
   "metadata": {},
   "outputs": [],
   "source": [
    "configDates = ['2017(22)','2017(23)','2017(24)','2017(25)','2017(26)',\n",
    "           '2017(27)','2017(28)','2017(29)', '2017(30)','2017(31)',\n",
    "           '2017(32)','2017(33)','2017(34)','2017(35)','2017(36)',\n",
    "           '2017(37)', '2017(38)', '2017(39)', '2017(40)', '2017(41)',\n",
    "           '2017(42)', '2017(43)', '2017(44)', '2017(45)', '2017(46)',\n",
    "           '2017(47)', '2017(48)', '2017(49)', '2017(50)', '2017(51)',\n",
    "           '2017(52)', '2018(01)', '2018(02)', '2018(03)', '2018(04)',\n",
    "           '2018(05)', '2018(06)', '2018(07)', '2018(08)', '2018(09)',\n",
    "           '2018(10)', '2018(11)', '2018(12)', '2018(13)']\n",
    "\n",
    "noParking = ['2017(30)','2017(31)','2017(32)','2017(33)','2017(34)']\n",
    "               \n",
    "parking = ['2017(22)','2017(23)','2017(24)','2017(25)','2017(26)',\n",
    "         '2017(27)','2017(28)','2017(29)','2017(35)','2017(36)',\n",
    "         '2017(37)', '2017(38)', '2017(39)', '2017(40)', '2017(41)',\n",
    "          '2017(42)', '2017(43)', '2017(44)', '2017(45)', '2017(46)',\n",
    "          '2017(47)', '2017(48)', '2017(49)', '2017(50)', '2017(51)',\n",
    "          '2017(52)', '2018(01)', '2018(02)', '2018(03)', '2018(04)',\n",
    "          '2018(05)', '2018(06)', '2018(07)', '2018(08)', '2018(09)',\n",
    "          '2018(10)', '2018(11)', '2018(12)', '2018(13)']"
   ]
  },
  {
   "cell_type": "code",
   "execution_count": 20,
   "metadata": {},
   "outputs": [],
   "source": [
    "afterConfig = subset.loc[subset['Trading Week'].isin(configDates)]\n",
    "disrupted   = afterConfig.loc[afterConfig['Trading Week'].isin(noParking)]\n",
    "normal      = afterConfig.loc[afterConfig['Trading Week'].isin(parking)]"
   ]
  },
  {
   "cell_type": "code",
   "execution_count": 41,
   "metadata": {},
   "outputs": [],
   "source": [
    "tmp   = normal.loc[normal[\"Trading Week\"]==\"2017(38)\"]\n",
    "LGmin = tmp[\"Layout Group\"].unique()"
   ]
  },
  {
   "cell_type": "code",
   "execution_count": 44,
   "metadata": {},
   "outputs": [
    {
     "name": "stdout",
     "output_type": "stream",
     "text": [
      "There are 193 Layout Groups shared by all the 'normal' Weeks\n"
     ]
    }
   ],
   "source": [
    "for wk in parking:\n",
    "    tmp = normal.loc[normal[\"Trading Week\"]==wk][\"Layout Group\"]\n",
    "    tom = np.empty(0, dtype=int)\n",
    "    for lg in LGmin:\n",
    "        count = np.isin(tmp, lg, assume_unique=True).sum()\n",
    "        if count ==1:\n",
    "            tom = np.append(tom, lg)\n",
    "    LGmin = tom\n",
    "\n",
    "print(\"There are {} Layout Groups shared by all the 'normal' Weeks\".format(len(LGmin)))"
   ]
  },
  {
   "cell_type": "markdown",
   "metadata": {},
   "source": [
    "##### Create an index on Layout Group/Week"
   ]
  },
  {
   "cell_type": "code",
   "execution_count": 45,
   "metadata": {},
   "outputs": [],
   "source": [
    "disrupted = disrupted.set_index([\"Layout Group\", \"Trading Week\"])\n",
    "normal    = normal.set_index([\"Layout Group\", \"Trading Week\"])"
   ]
  },
  {
   "cell_type": "markdown",
   "metadata": {},
   "source": [
    "##### Compare average before and after parking lot disruption"
   ]
  },
  {
   "cell_type": "code",
   "execution_count": null,
   "metadata": {},
   "outputs": [],
   "source": [
    "for x in LGmin:\n",
    "    '''before = normal.loc[x][:8].mean()\n",
    "    after  = normal.loc[x][8:].mean()\n",
    "    print(\"{}{}\".format(x, (after-before)/after))'''"
   ]
  },
  {
   "cell_type": "markdown",
   "metadata": {},
   "source": [
    "##### How do the different financials relate? Which one(s) should we be looking at?"
   ]
  },
  {
   "cell_type": "code",
   "execution_count": 46,
   "metadata": {},
   "outputs": [
    {
     "name": "stdout",
     "output_type": "stream",
     "text": [
      "Line Sales SUs           16,421.0\n",
      "Full Price Sales         40,084.2\n",
      "Offers                   623.2\n",
      "Reductions               53.4\n",
      "Line Sales               39,407.6\n",
      "Line Cost of Sales       26,152.7\n",
      "Line Sales VAT           6,567.9\n",
      "Contribution 1           6,687.0\n",
      "Line Expl Wstg @ cost    14.6\n",
      "Contribution 2           6,672.3\n",
      "Apportioned Bonuses      3,364.8\n",
      "Contribution 3           10,037.2\n",
      "\n",
      " I'll focus on Full Price Sales only\n"
     ]
    }
   ],
   "source": [
    "cols = [\"Line Sales SUs\", \"Full Price Sales\", \"Offers\", \"Reductions\",\n",
    "        \"Line Sales\", \"Line Cost of Sales\", \"Line Sales VAT\", \"Contribution 1\",\n",
    "        \"Line Expl Wstg @ cost\", \"Contribution 2\", \"Apportioned Bonuses\",\n",
    "        \"Contribution 3\"]\n",
    "for x in normal.columns:\n",
    "    if x in cols:\n",
    "        print(\"{:<25}{:,.1f}\".format(x, normal.loc[252][x].sum()))\n",
    "print(\"\\n\", \"I'll focus on Full Price Sales only\")"
   ]
  },
  {
   "cell_type": "markdown",
   "metadata": {},
   "source": [
    "##### Is there much of a difference between Full Price Sales and Line Sales?"
   ]
  },
  {
   "cell_type": "code",
   "execution_count": 53,
   "metadata": {},
   "outputs": [
    {
     "name": "stdout",
     "output_type": "stream",
     "text": [
      "169                      0.22\n",
      "170                      0.24\n",
      "173                      0.21\n",
      "87                       0.23\n",
      "90                       0.21\n",
      "\n",
      " I'll focus on Full Price Sales only\n"
     ]
    }
   ],
   "source": [
    "for x in LGmin:\n",
    "    fullPrice = normal.loc[x][\"Full Price Sales\"].sum()\n",
    "    Line      = normal.loc[x][\"Line Sales\"].sum()\n",
    "    ratio = fullPrice/Line-1\n",
    "    if ratio > .2:\n",
    "        print(\"{:<25}{:,.2f}\".format(x, ratio))\n",
    "print(\"\\n\", \"I'll focus on Full Price Sales only\")"
   ]
  },
  {
   "cell_type": "code",
   "execution_count": 63,
   "metadata": {},
   "outputs": [],
   "source": [
    "normal    = normal[\"Full Price Sales\"]\n",
    "disrupted = disrupted[\"Full Price Sales\"]"
   ]
  },
  {
   "cell_type": "markdown",
   "metadata": {},
   "source": [
    "#### So now \"normal\" has the Sales for weeks post-treatment, excluding the parking lot disruption. And \"disrupted\" has Sales for the parking lot weeks"
   ]
  },
  {
   "cell_type": "code",
   "execution_count": null,
   "metadata": {},
   "outputs": [],
   "source": [
    "def calcMA(col):\n",
    "    maSize = 10\n",
    "    ma = []\n",
    "    for x in range(0,len(col)):\n",
    "        if (x+maSize) > len(col):\n",
    "            maSize = len(col) - x\n",
    "        tmp = sum(col[x:x+maSize]) / maSize\n",
    "        ma.append(tmp)\n",
    "    return ma"
   ]
  },
  {
   "cell_type": "code",
   "execution_count": 82,
   "metadata": {},
   "outputs": [],
   "source": [
    "def printMA(maSeries, x):\n",
    "    from matplotlib.ticker import MultipleLocator, FormatStrFormatter\n",
    "    majorLocator = MultipleLocator(5)\n",
    "    majorFormatter = FormatStrFormatter('%d')\n",
    "    minorLocator = MultipleLocator(1)\n",
    "\n",
    "    fig, ax = plt.subplots()\n",
    "    plt.plot(maSeries)\n",
    "    plt.title(x)\n",
    "    plt.axvline(x=8,color='r', linewidth=.75)\n",
    "    ax.set_ylim([0,maSeries.max()])\n",
    "\n",
    "    ax.xaxis.set_major_locator(majorLocator)\n",
    "    ax.xaxis.set_major_formatter(majorFormatter)\n",
    "\n",
    "# for the minor ticks, use no labels; default NullFormatter\n",
    "    ax.xaxis.set_minor_locator(minorLocator)\n",
    "\n",
    "    plt.show()"
   ]
  },
  {
   "cell_type": "code",
   "execution_count": 92,
   "metadata": {},
   "outputs": [],
   "source": [
    "normal.to_csv(\"/home/tbrownex/Hackett/JLP/normal.csv\", header=True)"
   ]
  },
  {
   "cell_type": "code",
   "execution_count": 89,
   "metadata": {},
   "outputs": [
    {
     "data": {
      "image/png": "[encoded data removed]",
      "text/plain": [
       "<Figure size 432x288 with 1 Axes>"
      ]
     },
     "metadata": {},
     "output_type": "display_data"
    },
    {
     "name": "stdout",
     "output_type": "stream",
     "text": [
      "\n"
     ]
    },
    {
     "data": {
      "image/png": "[encoded data removed]",
      "text/plain": [
       "<Figure size 432x288 with 1 Axes>"
      ]
     },
     "metadata": {},
     "output_type": "display_data"
    },
    {
     "ename": "KeyboardInterrupt",
     "evalue": "",
     "output_type": "error",
     "traceback": [
      "\u001b[0;31m---------------------------------------------------------------------------\u001b[0m",
      "\u001b[0;31mKeyboardInterrupt\u001b[0m                         Traceback (most recent call last)",
      "\u001b[0;32m~/tensorflow/lib/python3.5/site-packages/ipykernel/kernelbase.py\u001b[0m in \u001b[0;36m_input_request\u001b[0;34m(self, prompt, ident, parent, password)\u001b[0m\n\u001b[1;32m    728\u001b[0m             \u001b[0;32mtry\u001b[0m\u001b[0;34m:\u001b[0m\u001b[0;34m\u001b[0m\u001b[0m\n\u001b[0;32m--> 729\u001b[0;31m                 \u001b[0mident\u001b[0m\u001b[0;34m,\u001b[0m \u001b[0mreply\u001b[0m \u001b[0;34m=\u001b[0m \u001b[0mself\u001b[0m\u001b[0;34m.\u001b[0m\u001b[0msession\u001b[0m\u001b[0;34m.\u001b[0m\u001b[0mrecv\u001b[0m\u001b[0;34m(\u001b[0m\u001b[0mself\u001b[0m\u001b[0;34m.\u001b[0m\u001b[0mstdin_socket\u001b[0m\u001b[0;34m,\u001b[0m \u001b[0;36m0\u001b[0m\u001b[0;34m)\u001b[0m\u001b[0;34m\u001b[0m\u001b[0m\n\u001b[0m\u001b[1;32m    730\u001b[0m             \u001b[0;32mexcept\u001b[0m \u001b[0mException\u001b[0m\u001b[0;34m:\u001b[0m\u001b[0;34m\u001b[0m\u001b[0m\n",
      "\u001b[0;32m~/tensorflow/lib/python3.5/site-packages/jupyter_client/session.py\u001b[0m in \u001b[0;36mrecv\u001b[0;34m(self, socket, mode, content, copy)\u001b[0m\n\u001b[1;32m    802\u001b[0m         \u001b[0;32mtry\u001b[0m\u001b[0;34m:\u001b[0m\u001b[0;34m\u001b[0m\u001b[0m\n\u001b[0;32m--> 803\u001b[0;31m             \u001b[0mmsg_list\u001b[0m \u001b[0;34m=\u001b[0m \u001b[0msocket\u001b[0m\u001b[0;34m.\u001b[0m\u001b[0mrecv_multipart\u001b[0m\u001b[0;34m(\u001b[0m\u001b[0mmode\u001b[0m\u001b[0;34m,\u001b[0m \u001b[0mcopy\u001b[0m\u001b[0;34m=\u001b[0m\u001b[0mcopy\u001b[0m\u001b[0;34m)\u001b[0m\u001b[0;34m\u001b[0m\u001b[0m\n\u001b[0m\u001b[1;32m    804\u001b[0m         \u001b[0;32mexcept\u001b[0m \u001b[0mzmq\u001b[0m\u001b[0;34m.\u001b[0m\u001b[0mZMQError\u001b[0m \u001b[0;32mas\u001b[0m \u001b[0me\u001b[0m\u001b[0;34m:\u001b[0m\u001b[0;34m\u001b[0m\u001b[0m\n",
      "\u001b[0;32m~/tensorflow/lib/python3.5/site-packages/zmq/sugar/socket.py\u001b[0m in \u001b[0;36mrecv_multipart\u001b[0;34m(self, flags, copy, track)\u001b[0m\n\u001b[1;32m    465\u001b[0m         \"\"\"\n\u001b[0;32m--> 466\u001b[0;31m         \u001b[0mparts\u001b[0m \u001b[0;34m=\u001b[0m \u001b[0;34m[\u001b[0m\u001b[0mself\u001b[0m\u001b[0;34m.\u001b[0m\u001b[0mrecv\u001b[0m\u001b[0;34m(\u001b[0m\u001b[0mflags\u001b[0m\u001b[0;34m,\u001b[0m \u001b[0mcopy\u001b[0m\u001b[0;34m=\u001b[0m\u001b[0mcopy\u001b[0m\u001b[0;34m,\u001b[0m \u001b[0mtrack\u001b[0m\u001b[0;34m=\u001b[0m\u001b[0mtrack\u001b[0m\u001b[0;34m)\u001b[0m\u001b[0;34m]\u001b[0m\u001b[0;34m\u001b[0m\u001b[0m\n\u001b[0m\u001b[1;32m    467\u001b[0m         \u001b[0;31m# have first part already, only loop while more to receive\u001b[0m\u001b[0;34m\u001b[0m\u001b[0;34m\u001b[0m\u001b[0m\n",
      "\u001b[0;32mzmq/backend/cython/socket.pyx\u001b[0m in \u001b[0;36mzmq.backend.cython.socket.Socket.recv\u001b[0;34m()\u001b[0m\n",
      "\u001b[0;32mzmq/backend/cython/socket.pyx\u001b[0m in \u001b[0;36mzmq.backend.cython.socket.Socket.recv\u001b[0;34m()\u001b[0m\n",
      "\u001b[0;32mzmq/backend/cython/socket.pyx\u001b[0m in \u001b[0;36mzmq.backend.cython.socket._recv_copy\u001b[0;34m()\u001b[0m\n",
      "\u001b[0;32m~/tensorflow/lib/python3.5/site-packages/zmq/backend/cython/checkrc.pxd\u001b[0m in \u001b[0;36mzmq.backend.cython.checkrc._check_rc\u001b[0;34m()\u001b[0m\n",
      "\u001b[0;31mKeyboardInterrupt\u001b[0m: ",
      "\nDuring handling of the above exception, another exception occurred:\n",
      "\u001b[0;31mKeyboardInterrupt\u001b[0m                         Traceback (most recent call last)",
      "\u001b[0;32m<ipython-input-89-6d65da841441>\u001b[0m in \u001b[0;36m<module>\u001b[0;34m()\u001b[0m\n\u001b[1;32m      3\u001b[0m     \u001b[0;31m#maSeries = calcMA(tmp)\u001b[0m\u001b[0;34m\u001b[0m\u001b[0;34m\u001b[0m\u001b[0m\n\u001b[1;32m      4\u001b[0m     \u001b[0mprintMA\u001b[0m\u001b[0;34m(\u001b[0m\u001b[0mmaSeries\u001b[0m\u001b[0;34m,\u001b[0m \u001b[0mx\u001b[0m\u001b[0;34m)\u001b[0m\u001b[0;34m\u001b[0m\u001b[0m\n\u001b[0;32m----> 5\u001b[0;31m     \u001b[0minput\u001b[0m\u001b[0;34m(\u001b[0m\u001b[0;34m)\u001b[0m\u001b[0;34m\u001b[0m\u001b[0m\n\u001b[0m",
      "\u001b[0;32m~/tensorflow/lib/python3.5/site-packages/ipykernel/kernelbase.py\u001b[0m in \u001b[0;36mraw_input\u001b[0;34m(self, prompt)\u001b[0m\n\u001b[1;32m    702\u001b[0m             \u001b[0mself\u001b[0m\u001b[0;34m.\u001b[0m\u001b[0m_parent_ident\u001b[0m\u001b[0;34m,\u001b[0m\u001b[0;34m\u001b[0m\u001b[0m\n\u001b[1;32m    703\u001b[0m             \u001b[0mself\u001b[0m\u001b[0;34m.\u001b[0m\u001b[0m_parent_header\u001b[0m\u001b[0;34m,\u001b[0m\u001b[0;34m\u001b[0m\u001b[0m\n\u001b[0;32m--> 704\u001b[0;31m             \u001b[0mpassword\u001b[0m\u001b[0;34m=\u001b[0m\u001b[0;32mFalse\u001b[0m\u001b[0;34m,\u001b[0m\u001b[0;34m\u001b[0m\u001b[0m\n\u001b[0m\u001b[1;32m    705\u001b[0m         )\n\u001b[1;32m    706\u001b[0m \u001b[0;34m\u001b[0m\u001b[0m\n",
      "\u001b[0;32m~/tensorflow/lib/python3.5/site-packages/ipykernel/kernelbase.py\u001b[0m in \u001b[0;36m_input_request\u001b[0;34m(self, prompt, ident, parent, password)\u001b[0m\n\u001b[1;32m    732\u001b[0m             \u001b[0;32mexcept\u001b[0m \u001b[0mKeyboardInterrupt\u001b[0m\u001b[0;34m:\u001b[0m\u001b[0;34m\u001b[0m\u001b[0m\n\u001b[1;32m    733\u001b[0m                 \u001b[0;31m# re-raise KeyboardInterrupt, to truncate traceback\u001b[0m\u001b[0;34m\u001b[0m\u001b[0;34m\u001b[0m\u001b[0m\n\u001b[0;32m--> 734\u001b[0;31m                 \u001b[0;32mraise\u001b[0m \u001b[0mKeyboardInterrupt\u001b[0m\u001b[0;34m\u001b[0m\u001b[0m\n\u001b[0m\u001b[1;32m    735\u001b[0m             \u001b[0;32melse\u001b[0m\u001b[0;34m:\u001b[0m\u001b[0;34m\u001b[0m\u001b[0m\n\u001b[1;32m    736\u001b[0m                 \u001b[0;32mbreak\u001b[0m\u001b[0;34m\u001b[0m\u001b[0m\n",
      "\u001b[0;31mKeyboardInterrupt\u001b[0m: "
     ]
    }
   ],
   "source": [
    "for x in LGmin:\n",
    "    maSeries = normal.loc[x]\n",
    "    #maSeries = calcMA(tmp)\n",
    "    printMA(maSeries, x)\n",
    "    input()"
   ]
  },
  {
   "cell_type": "code",
   "execution_count": 88,
   "metadata": {},
   "outputs": [
    {
     "data": {
      "text/html": [
       "<div>\n",
       "<style scoped>\n",
       "    .dataframe tbody tr th:only-of-type {\n",
       "        vertical-align: middle;\n",
       "    }\n",
       "\n",
       "    .dataframe tbody tr th {\n",
       "        vertical-align: top;\n",
       "    }\n",
       "\n",
       "    .dataframe thead th {\n",
       "        text-align: right;\n",
       "    }\n",
       "</style>\n",
       "<table border=\"1\" class=\"dataframe\">\n",
       "  <thead>\n",
       "    <tr style=\"text-align: right;\">\n",
       "      <th></th>\n",
       "      <th>Business Unit Number</th>\n",
       "      <th>Business Unit Long Name</th>\n",
       "      <th>Trading Week</th>\n",
       "      <th>Layout Group</th>\n",
       "      <th>Layout Group Name</th>\n",
       "      <th>Line Sales SUs</th>\n",
       "      <th>Full Price Sales</th>\n",
       "      <th>Offers</th>\n",
       "      <th>Reductions</th>\n",
       "      <th>Line Sales</th>\n",
       "      <th>Line Cost of Sales</th>\n",
       "      <th>Line Sales VAT</th>\n",
       "      <th>Contribution 1</th>\n",
       "      <th>Line Expl Wstg @ cost</th>\n",
       "      <th>Contribution 2</th>\n",
       "      <th>Apportioned Bonuses</th>\n",
       "      <th>Contribution 3</th>\n",
       "    </tr>\n",
       "  </thead>\n",
       "  <tbody>\n",
       "    <tr>\n",
       "      <th>0</th>\n",
       "      <td>202</td>\n",
       "      <td>Banstead</td>\n",
       "      <td>2013(01)</td>\n",
       "      <td>1</td>\n",
       "      <td>BABY FOOD</td>\n",
       "      <td>916.00</td>\n",
       "      <td>1397.90</td>\n",
       "      <td>57.429988</td>\n",
       "      <td>0.00</td>\n",
       "      <td>1340.470012</td>\n",
       "      <td>963.931687</td>\n",
       "      <td>21.116648</td>\n",
       "      <td>355.421677</td>\n",
       "      <td>0.000000</td>\n",
       "      <td>355.421677</td>\n",
       "      <td>0.000000</td>\n",
       "      <td>355.421677</td>\n",
       "    </tr>\n",
       "    <tr>\n",
       "      <th>1</th>\n",
       "      <td>202</td>\n",
       "      <td>Banstead</td>\n",
       "      <td>2013(01)</td>\n",
       "      <td>2</td>\n",
       "      <td>BABYCARE</td>\n",
       "      <td>402.00</td>\n",
       "      <td>1329.67</td>\n",
       "      <td>23.640000</td>\n",
       "      <td>0.00</td>\n",
       "      <td>1306.030000</td>\n",
       "      <td>912.408331</td>\n",
       "      <td>117.778274</td>\n",
       "      <td>275.843395</td>\n",
       "      <td>0.000000</td>\n",
       "      <td>275.843395</td>\n",
       "      <td>10.610930</td>\n",
       "      <td>286.454325</td>\n",
       "    </tr>\n",
       "    <tr>\n",
       "      <th>2</th>\n",
       "      <td>202</td>\n",
       "      <td>Banstead</td>\n",
       "      <td>2013(01)</td>\n",
       "      <td>3</td>\n",
       "      <td>BACON</td>\n",
       "      <td>1871.82</td>\n",
       "      <td>5966.34</td>\n",
       "      <td>363.560041</td>\n",
       "      <td>24.18</td>\n",
       "      <td>5578.599959</td>\n",
       "      <td>4406.010202</td>\n",
       "      <td>0.000000</td>\n",
       "      <td>1172.589757</td>\n",
       "      <td>25.515308</td>\n",
       "      <td>1147.074449</td>\n",
       "      <td>0.000000</td>\n",
       "      <td>1147.074449</td>\n",
       "    </tr>\n",
       "    <tr>\n",
       "      <th>3</th>\n",
       "      <td>202</td>\n",
       "      <td>Banstead</td>\n",
       "      <td>2013(01)</td>\n",
       "      <td>5</td>\n",
       "      <td>STAMPS</td>\n",
       "      <td>45.00</td>\n",
       "      <td>241.20</td>\n",
       "      <td>0.000000</td>\n",
       "      <td>0.00</td>\n",
       "      <td>241.200000</td>\n",
       "      <td>220.485553</td>\n",
       "      <td>0.000000</td>\n",
       "      <td>20.714447</td>\n",
       "      <td>0.000000</td>\n",
       "      <td>20.714447</td>\n",
       "      <td>0.000000</td>\n",
       "      <td>20.714447</td>\n",
       "    </tr>\n",
       "    <tr>\n",
       "      <th>4</th>\n",
       "      <td>202</td>\n",
       "      <td>Banstead</td>\n",
       "      <td>2013(01)</td>\n",
       "      <td>6</td>\n",
       "      <td>BRANCH DINING ROOMS</td>\n",
       "      <td>0.00</td>\n",
       "      <td>0.00</td>\n",
       "      <td>0.000000</td>\n",
       "      <td>0.00</td>\n",
       "      <td>0.000000</td>\n",
       "      <td>0.000000</td>\n",
       "      <td>0.000000</td>\n",
       "      <td>0.000000</td>\n",
       "      <td>0.000000</td>\n",
       "      <td>0.000000</td>\n",
       "      <td>0.000000</td>\n",
       "      <td>0.000000</td>\n",
       "    </tr>\n",
       "    <tr>\n",
       "      <th>5</th>\n",
       "      <td>202</td>\n",
       "      <td>Banstead</td>\n",
       "      <td>2013(01)</td>\n",
       "      <td>7</td>\n",
       "      <td>CAFES</td>\n",
       "      <td>559.00</td>\n",
       "      <td>1302.95</td>\n",
       "      <td>0.000000</td>\n",
       "      <td>6.15</td>\n",
       "      <td>1296.800000</td>\n",
       "      <td>289.570600</td>\n",
       "      <td>216.133295</td>\n",
       "      <td>791.096105</td>\n",
       "      <td>0.000000</td>\n",
       "      <td>791.096105</td>\n",
       "      <td>0.000000</td>\n",
       "      <td>791.096105</td>\n",
       "    </tr>\n",
       "    <tr>\n",
       "      <th>6</th>\n",
       "      <td>202</td>\n",
       "      <td>Banstead</td>\n",
       "      <td>2013(01)</td>\n",
       "      <td>104</td>\n",
       "      <td>TINNED LOAVES (CRUSTY)</td>\n",
       "      <td>835.99</td>\n",
       "      <td>958.01</td>\n",
       "      <td>0.000000</td>\n",
       "      <td>63.92</td>\n",
       "      <td>894.090000</td>\n",
       "      <td>543.891720</td>\n",
       "      <td>0.000000</td>\n",
       "      <td>350.198280</td>\n",
       "      <td>21.991000</td>\n",
       "      <td>328.207280</td>\n",
       "      <td>0.000000</td>\n",
       "      <td>328.207280</td>\n",
       "    </tr>\n",
       "    <tr>\n",
       "      <th>7</th>\n",
       "      <td>202</td>\n",
       "      <td>Banstead</td>\n",
       "      <td>2013(01)</td>\n",
       "      <td>106</td>\n",
       "      <td>PATISSERIE SELF SERVE</td>\n",
       "      <td>2228.05</td>\n",
       "      <td>1534.80</td>\n",
       "      <td>48.130004</td>\n",
       "      <td>202.37</td>\n",
       "      <td>1284.299996</td>\n",
       "      <td>793.647987</td>\n",
       "      <td>10.199995</td>\n",
       "      <td>480.452014</td>\n",
       "      <td>15.197917</td>\n",
       "      <td>465.254097</td>\n",
       "      <td>0.000000</td>\n",
       "      <td>465.254097</td>\n",
       "    </tr>\n",
       "    <tr>\n",
       "      <th>8</th>\n",
       "      <td>202</td>\n",
       "      <td>Banstead</td>\n",
       "      <td>2013(01)</td>\n",
       "      <td>107</td>\n",
       "      <td>FINE RED WINES</td>\n",
       "      <td>114.00</td>\n",
       "      <td>1422.76</td>\n",
       "      <td>21.245265</td>\n",
       "      <td>0.00</td>\n",
       "      <td>1401.514735</td>\n",
       "      <td>779.457081</td>\n",
       "      <td>233.585780</td>\n",
       "      <td>388.471874</td>\n",
       "      <td>0.000000</td>\n",
       "      <td>388.471874</td>\n",
       "      <td>-18.704088</td>\n",
       "      <td>369.767786</td>\n",
       "    </tr>\n",
       "    <tr>\n",
       "      <th>9</th>\n",
       "      <td>202</td>\n",
       "      <td>Banstead</td>\n",
       "      <td>2013(01)</td>\n",
       "      <td>108</td>\n",
       "      <td>FINE WHITE WINES</td>\n",
       "      <td>81.00</td>\n",
       "      <td>973.39</td>\n",
       "      <td>13.927296</td>\n",
       "      <td>0.00</td>\n",
       "      <td>959.462704</td>\n",
       "      <td>534.494216</td>\n",
       "      <td>159.910442</td>\n",
       "      <td>265.058046</td>\n",
       "      <td>0.000000</td>\n",
       "      <td>265.058046</td>\n",
       "      <td>10.311420</td>\n",
       "      <td>275.369466</td>\n",
       "    </tr>\n",
       "  </tbody>\n",
       "</table>\n",
       "</div>"
      ],
      "text/plain": [
       "   Business Unit Number Business Unit Long Name Trading Week  Layout Group  \\\n",
       "0                   202                Banstead     2013(01)             1   \n",
       "1                   202                Banstead     2013(01)             2   \n",
       "2                   202                Banstead     2013(01)             3   \n",
       "3                   202                Banstead     2013(01)             5   \n",
       "4                   202                Banstead     2013(01)             6   \n",
       "5                   202                Banstead     2013(01)             7   \n",
       "6                   202                Banstead     2013(01)           104   \n",
       "7                   202                Banstead     2013(01)           106   \n",
       "8                   202                Banstead     2013(01)           107   \n",
       "9                   202                Banstead     2013(01)           108   \n",
       "\n",
       "        Layout Group Name  Line Sales SUs  Full Price Sales      Offers  \\\n",
       "0               BABY FOOD          916.00           1397.90   57.429988   \n",
       "1                BABYCARE          402.00           1329.67   23.640000   \n",
       "2                   BACON         1871.82           5966.34  363.560041   \n",
       "3                  STAMPS           45.00            241.20    0.000000   \n",
       "4     BRANCH DINING ROOMS            0.00              0.00    0.000000   \n",
       "5                   CAFES          559.00           1302.95    0.000000   \n",
       "6  TINNED LOAVES (CRUSTY)          835.99            958.01    0.000000   \n",
       "7   PATISSERIE SELF SERVE         2228.05           1534.80   48.130004   \n",
       "8          FINE RED WINES          114.00           1422.76   21.245265   \n",
       "9        FINE WHITE WINES           81.00            973.39   13.927296   \n",
       "\n",
       "   Reductions   Line Sales  Line Cost of Sales  Line Sales VAT  \\\n",
       "0        0.00  1340.470012          963.931687       21.116648   \n",
       "1        0.00  1306.030000          912.408331      117.778274   \n",
       "2       24.18  5578.599959         4406.010202        0.000000   \n",
       "3        0.00   241.200000          220.485553        0.000000   \n",
       "4        0.00     0.000000            0.000000        0.000000   \n",
       "5        6.15  1296.800000          289.570600      216.133295   \n",
       "6       63.92   894.090000          543.891720        0.000000   \n",
       "7      202.37  1284.299996          793.647987       10.199995   \n",
       "8        0.00  1401.514735          779.457081      233.585780   \n",
       "9        0.00   959.462704          534.494216      159.910442   \n",
       "\n",
       "   Contribution 1  Line Expl Wstg @ cost  Contribution 2  Apportioned Bonuses  \\\n",
       "0      355.421677               0.000000      355.421677             0.000000   \n",
       "1      275.843395               0.000000      275.843395            10.610930   \n",
       "2     1172.589757              25.515308     1147.074449             0.000000   \n",
       "3       20.714447               0.000000       20.714447             0.000000   \n",
       "4        0.000000               0.000000        0.000000             0.000000   \n",
       "5      791.096105               0.000000      791.096105             0.000000   \n",
       "6      350.198280              21.991000      328.207280             0.000000   \n",
       "7      480.452014              15.197917      465.254097             0.000000   \n",
       "8      388.471874               0.000000      388.471874           -18.704088   \n",
       "9      265.058046               0.000000      265.058046            10.311420   \n",
       "\n",
       "   Contribution 3  \n",
       "0      355.421677  \n",
       "1      286.454325  \n",
       "2     1147.074449  \n",
       "3       20.714447  \n",
       "4        0.000000  \n",
       "5      791.096105  \n",
       "6      328.207280  \n",
       "7      465.254097  \n",
       "8      369.767786  \n",
       "9      275.369466  "
      ]
     },
     "execution_count": 88,
     "metadata": {},
     "output_type": "execute_result"
    }
   ],
   "source": [
    "df[:10]"
   ]
  },
  {
   "cell_type": "code",
   "execution_count": null,
   "metadata": {},
   "outputs": [],
   "source": []
  }
 ],
 "metadata": {
  "kernelspec": {
   "display_name": "Python 3",
   "language": "python",
   "name": "python3"
  },
  "language_info": {
   "codemirror_mode": {
    "name": "ipython",
    "version": 3
   },
   "file_extension": ".py",
   "mimetype": "text/x-python",
   "name": "python",
   "nbconvert_exporter": "python",
   "pygments_lexer": "ipython3",
   "version": "3.5.2"
  }
 },
 "nbformat": 4,
 "nbformat_minor": 2
}
