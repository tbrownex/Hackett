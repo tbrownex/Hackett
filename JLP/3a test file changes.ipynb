{
 "cells": [
  {
   "cell_type": "code",
   "execution_count": 6,
   "metadata": {},
   "outputs": [],
   "source": [
    "import csv\n",
    "\n",
    "PATH = '/home/tbrownex/data/Hackett/JLP/'\n",
    "F1 = 'Treatment_Stores.csv'\n",
    "F2 = '3 sorted.csv'\n",
    "F3 = '4 Banstead.csv'"
   ]
  },
  {
   "cell_type": "markdown",
   "metadata": {},
   "source": [
    "#### Did we lose any records while formatting and sorting?"
   ]
  },
  {
   "cell_type": "code",
   "execution_count": 5,
   "metadata": {},
   "outputs": [
    {
     "name": "stdout",
     "output_type": "stream",
     "text": [
      "Difference after sorting: -6.556510925292969e-06\n"
     ]
    }
   ],
   "source": [
    "original = csv.DictReader(open(PATH+F1))\n",
    "\n",
    "origTotal = 0\n",
    "for rec in original:\n",
    "    origTotal += float(rec[\"Full Price Sales\"])\n",
    "\n",
    "sort = csv.DictReader(open(PATH+F2))\n",
    "\n",
    "sortTotal = 0\n",
    "for rec in sort:\n",
    "    sortTotal += float(rec[\"Full Price Sales\"])\n",
    "\n",
    "print(\"Difference after sorting: {}\".format(origTotal - sortTotal))"
   ]
  },
  {
   "cell_type": "markdown",
   "metadata": {},
   "source": [
    "#### Did we lose any Banstead records?"
   ]
  },
  {
   "cell_type": "code",
   "execution_count": 10,
   "metadata": {},
   "outputs": [
    {
     "name": "stdout",
     "output_type": "stream",
     "text": [
      "Difference: 5.21540641784668e-07\n"
     ]
    }
   ],
   "source": [
    "original = csv.DictReader(open(PATH+F1))\n",
    "\n",
    "origTotal = 0\n",
    "for rec in original:\n",
    "    if rec[\"Business Unit Long Name\"] == \"Banstead\":\n",
    "        origTotal += float(rec[\"Full Price Sales\"])\n",
    "\n",
    "sort = csv.DictReader(open(PATH+F3))\n",
    "\n",
    "bansteadTotal = 0\n",
    "for rec in sort:\n",
    "    bansteadTotal += float(rec[\"Full Price Sales\"])\n",
    "\n",
    "print(\"Difference: {}\".format(origTotal - bansteadTotal))"
   ]
  }
 ],
 "metadata": {
  "kernelspec": {
   "display_name": "Python 3",
   "language": "python",
   "name": "python3"
  },
  "language_info": {
   "codemirror_mode": {
    "name": "ipython",
    "version": 3
   },
   "file_extension": ".py",
   "mimetype": "text/x-python",
   "name": "python",
   "nbconvert_exporter": "python",
   "pygments_lexer": "ipython3",
   "version": "3.5.2"
  }
 },
 "nbformat": 4,
 "nbformat_minor": 2
}
