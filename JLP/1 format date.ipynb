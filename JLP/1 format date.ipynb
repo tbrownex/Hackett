{
 "cells": [
  {
   "cell_type": "markdown",
   "metadata": {},
   "source": [
    "##### They provided the date in format YYYY(WK) so 2014(38)\n",
    "##### I turned that into 2014-08-12 (or whatever) with Monday as starting the week"
   ]
  },
  {
   "cell_type": "code",
   "execution_count": 1,
   "metadata": {},
   "outputs": [],
   "source": [
    "import datetime\n",
    "\n",
    "PATH = '/home/tbrownex/data/Hackett/JLP/'\n",
    "FILE = 'Treatment_Stores.csv'"
   ]
  },
  {
   "cell_type": "code",
   "execution_count": 2,
   "metadata": {},
   "outputs": [],
   "source": [
    "def formatRec(rec):\n",
    "    d = fields[2]\n",
    "    fields[2] = datetime.datetime.strptime(d + '-1', \"%Y(%W)-%w\").date()\n",
    "    return \",\".join(map(str, fields))"
   ]
  },
  {
   "cell_type": "code",
   "execution_count": 3,
   "metadata": {},
   "outputs": [],
   "source": [
    "output = open(PATH + \"1 formatted.csv\", \"w\")\n",
    "\n",
    "with open(PATH+FILE, \"r\") as f:\n",
    "    hdr = f.readline()\n",
    "    output.write(hdr)\n",
    "    for rec in f:\n",
    "        fields = rec.split(\",\")\n",
    "        rec = formatRec(fields)\n",
    "        output.write(rec)\n",
    "\n",
    "output.close()"
   ]
  }
 ],
 "metadata": {
  "kernelspec": {
   "display_name": "Python 3",
   "language": "python",
   "name": "python3"
  },
  "language_info": {
   "codemirror_mode": {
    "name": "ipython",
    "version": 3
   },
   "file_extension": ".py",
   "mimetype": "text/x-python",
   "name": "python",
   "nbconvert_exporter": "python",
   "pygments_lexer": "ipython3",
   "version": "3.5.2"
  }
 },
 "nbformat": 4,
 "nbformat_minor": 1
}
