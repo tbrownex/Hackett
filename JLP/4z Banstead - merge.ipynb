{
 "cells": [
  {
   "cell_type": "markdown",
   "metadata": {},
   "source": [
    "##### You just imputed Banstead data and produced a CSV. Now you need to merge back into the master file"
   ]
  },
  {
   "cell_type": "code",
   "execution_count": 62,
   "metadata": {},
   "outputs": [],
   "source": [
    "import pandas as pd\n",
    "\n",
    "PATH = '/home/tbrownex/data/Hackett/JLP/'\n",
    "FILE = '3 sorted.csv'"
   ]
  },
  {
   "cell_type": "markdown",
   "metadata": {},
   "source": [
    "##### Get the original file"
   ]
  },
  {
   "cell_type": "code",
   "execution_count": 63,
   "metadata": {},
   "outputs": [
    {
     "name": "stdout",
     "output_type": "stream",
     "text": [
      "161,660 rows in the original file\n",
      "16,166 rows removed\n"
     ]
    }
   ],
   "source": [
    "df = pd.read_csv(PATH+FILE)\n",
    "\n",
    "# Need to remove Banstead before adding the updated version\n",
    "df = df.set_index('Business Unit Long Name')\n",
    "before = df.shape[0]\n",
    "df = df.drop(\"Banstead\")\n",
    "print(\"{:,.0f} rows in the original file\".format(before))\n",
    "print(\"{:,.0f} rows removed\".format(before-df.shape[0]))\n",
    "df = df.reset_index()\n",
    "\n",
    "# Reorder the columns to match Banstead\n",
    "df = df[['Trading Week', 'Layout Group', 'Business Unit Number',\n",
    "       'Business Unit Long Name', 'Full Price Sales']]"
   ]
  },
  {
   "cell_type": "markdown",
   "metadata": {},
   "source": [
    "##### Get the new Banstead rows and merge with original"
   ]
  },
  {
   "cell_type": "code",
   "execution_count": 64,
   "metadata": {},
   "outputs": [
    {
     "name": "stdout",
     "output_type": "stream",
     "text": [
      "16,166 rows added for a total of 161,660\n"
     ]
    }
   ],
   "source": [
    "banstead = pd.read_csv(PATH+\"5 Banstead_imputed.csv\")\n",
    "\n",
    "before = banstead.shape[0]\n",
    "joined = pd.concat([df, banstead])\n",
    "after  = joined.shape[0]\n",
    "\n",
    "print(\"{:,.0f} rows added for a total of {:,.0f}\".format(before, after))"
   ]
  },
  {
   "cell_type": "markdown",
   "metadata": {},
   "source": [
    "##### Sort by Store / Week"
   ]
  },
  {
   "cell_type": "code",
   "execution_count": 65,
   "metadata": {},
   "outputs": [],
   "source": [
    "cols = [\"Business Unit Number\", \"Business Unit Long Name\", \"Trading Week\", \n",
    "       \"Layout Group\", \"Full Price Sales\"]\n",
    "joined = joined[cols]\n",
    "\n",
    "joined = joined.sort_values([\"Business Unit Number\",\"Trading Week\"])"
   ]
  },
  {
   "cell_type": "code",
   "execution_count": 66,
   "metadata": {},
   "outputs": [],
   "source": [
    "joined.to_csv(PATH+\"6 merged.csv\", index=False)"
   ]
  }
 ],
 "metadata": {
  "kernelspec": {
   "display_name": "Python 3",
   "language": "python",
   "name": "python3"
  },
  "language_info": {
   "codemirror_mode": {
    "name": "ipython",
    "version": 3
   },
   "file_extension": ".py",
   "mimetype": "text/x-python",
   "name": "python",
   "nbconvert_exporter": "python",
   "pygments_lexer": "ipython3",
   "version": "3.5.2"
  }
 },
 "nbformat": 4,
 "nbformat_minor": 1
}
