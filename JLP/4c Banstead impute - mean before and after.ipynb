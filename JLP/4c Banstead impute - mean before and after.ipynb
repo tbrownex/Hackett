{
 "cells": [
  {
   "cell_type": "markdown",
   "metadata": {},
   "source": [
    "##### Compute the mean of week before and week after the parking lot disruption. Update the weeks between to that mean. The mean is per-LG"
   ]
  },
  {
   "cell_type": "code",
   "execution_count": 1,
   "metadata": {},
   "outputs": [],
   "source": [
    "import numpy as np\n",
    "import pandas as pd\n",
    "import matplotlib.pyplot as plt\n",
    "\n",
    "PATH = '/home/tbrownex/data/Hackett/JLP/'\n",
    "FILE = '4 Banstead.csv'\n",
    "\n",
    "# These are the weeks we're going to update with the imputed value\n",
    "weeks = [\"2017-06-19\", \"2017-06-26\", \"2017-07-03\", \"2017-07-10\", \"2017-07-17\"]"
   ]
  },
  {
   "cell_type": "code",
   "execution_count": 35,
   "metadata": {},
   "outputs": [],
   "source": [
    "def updateSales(df, week, LG, values):\n",
    "    df.loc[(week, LG), \"Full Price Sales\"] = values[LG]"
   ]
  },
  {
   "cell_type": "code",
   "execution_count": 36,
   "metadata": {},
   "outputs": [],
   "source": [
    "df = pd.read_csv(PATH+FILE)"
   ]
  },
  {
   "cell_type": "code",
   "execution_count": 37,
   "metadata": {},
   "outputs": [],
   "source": [
    "# Get the list of Layout Groups to update\n",
    "LGs = sorted(df[\"Layout Group\"].unique())"
   ]
  },
  {
   "cell_type": "code",
   "execution_count": 38,
   "metadata": {},
   "outputs": [],
   "source": [
    "df = df.set_index([\"Trading Week\", \"Layout Group\"])\n",
    "df = df.sort_index()"
   ]
  },
  {
   "cell_type": "markdown",
   "metadata": {},
   "source": [
    "##### Calc the values to use for each LG"
   ]
  },
  {
   "cell_type": "code",
   "execution_count": 39,
   "metadata": {},
   "outputs": [],
   "source": [
    "imputedVal = {}              # Dictionary that will hold LG:mean mapping\n",
    "for lg in LGs:\n",
    "    before = df.at[(\"2017-06-12\", lg), \"Full Price Sales\"]\n",
    "    after = df.at[(\"2017-07-24\", lg), \"Full Price Sales\"]\n",
    "    mean = round((before+after)/2,2)\n",
    "    imputedVal[lg] = mean"
   ]
  },
  {
   "cell_type": "code",
   "execution_count": 43,
   "metadata": {},
   "outputs": [
    {
     "data": {
      "text/plain": [
       "{11: 1395.07,\n",
       " 13: 3873.36,\n",
       " 14: 12459.61,\n",
       " 15: 3749.42,\n",
       " 17: 2749.34,\n",
       " 19: 4246.38,\n",
       " 20: 8329.64,\n",
       " 21: 2459.09,\n",
       " 23: 6112.94,\n",
       " 31: 6435.95,\n",
       " 33: 7360.42,\n",
       " 36: 11739.01,\n",
       " 37: 3705.54,\n",
       " 38: 1889.54,\n",
       " 41: 4752.04,\n",
       " 45: 3300.38,\n",
       " 46: 4804.88,\n",
       " 47: 3745.06,\n",
       " 54: 11148.1,\n",
       " 65: 6099.48,\n",
       " 66: 13517.02,\n",
       " 76: 8155.93,\n",
       " 81: 4884.02,\n",
       " 83: 3408.94,\n",
       " 86: 5400.0,\n",
       " 93: 2666.18,\n",
       " 94: 4827.29,\n",
       " 95: 1416.79,\n",
       " 96: 16024.22,\n",
       " 218: 1471.23,\n",
       " 223: 12303.82,\n",
       " 280: 2648.98,\n",
       " 281: 3107.13,\n",
       " 283: 4948.07,\n",
       " 307: 536.82,\n",
       " 310: 2511.35,\n",
       " 311: 4937.85,\n",
       " 313: 3077.08,\n",
       " 322: 2764.27,\n",
       " 327: 3151.88,\n",
       " 335: 9059.12,\n",
       " 342: 3619.88,\n",
       " 350: 2529.93,\n",
       " 353: 1683.61,\n",
       " 355: 2638.62,\n",
       " 370: 2464.57,\n",
       " 378: 1112.84,\n",
       " 380: 2685.14,\n",
       " 387: 3626.33,\n",
       " 425: 3496.19,\n",
       " 427: 3062.94,\n",
       " 448: 3134.09,\n",
       " 451: 2020.35,\n",
       " 452: 5125.27,\n",
       " 453: 1539.04,\n",
       " 455: 3886.38,\n",
       " 489: 1867.18,\n",
       " 491: 2017.74,\n",
       " 492: 1108.95}"
      ]
     },
     "execution_count": 43,
     "metadata": {},
     "output_type": "execute_result"
    }
   ],
   "source": [
    "# Show the LG:mean mapping\n",
    "imputedVal"
   ]
  },
  {
   "cell_type": "markdown",
   "metadata": {},
   "source": [
    "##### Now perform the update"
   ]
  },
  {
   "cell_type": "code",
   "execution_count": 40,
   "metadata": {},
   "outputs": [],
   "source": [
    "for w in weeks:\n",
    "    for lg in LGs:\n",
    "        updateSales(df, w, lg, imputedVal)"
   ]
  },
  {
   "cell_type": "code",
   "execution_count": 48,
   "metadata": {},
   "outputs": [],
   "source": [
    "df.to_csv(PATH+\"5 Banstead_imputed.csv\")"
   ]
  }
 ],
 "metadata": {
  "kernelspec": {
   "display_name": "Python 3",
   "language": "python",
   "name": "python3"
  },
  "language_info": {
   "codemirror_mode": {
    "name": "ipython",
    "version": 3
   },
   "file_extension": ".py",
   "mimetype": "text/x-python",
   "name": "python",
   "nbconvert_exporter": "python",
   "pygments_lexer": "ipython3",
   "version": "3.5.2"
  }
 },
 "nbformat": 4,
 "nbformat_minor": 1
}
