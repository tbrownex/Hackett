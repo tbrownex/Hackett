{
 "cells": [
  {
   "cell_type": "code",
   "execution_count": 2,
   "metadata": {},
   "outputs": [],
   "source": [
    "import pandas as pd\n",
    "import matplotlib.pyplot as plt\n",
    "\n",
    "PATH = '/home/tbrownex/data/Hackett/JLP/'\n",
    "F1   = \"All_Data_for_10_Treatment_Branches.csv\""
   ]
  },
  {
   "cell_type": "code",
   "execution_count": 15,
   "metadata": {},
   "outputs": [],
   "source": [
    "OLGFILE = \"mapStore-LG.csv\"\n",
    "\n",
    "lgDict = {}\n",
    "with open(PATH+OLGFILE, \"r\") as mapping:\n",
    "    for rec in mapping:\n",
    "        rec = rec.rstrip()\n",
    "        fields = rec.split(\",\")\n",
    "        lgDict[fields[0]]= fields[1:]   # First entry holds the store; rest are LGs\n",
    "\n",
    "lgList = lgDict[\"Westbury Park\"]"
   ]
  },
  {
   "cell_type": "code",
   "execution_count": 19,
   "metadata": {},
   "outputs": [],
   "source": [
    "df = pd.read_csv(PATH+F1)\n",
    "\n",
    "df = df.loc[df[\"Business Unit Long Name\"] == \"Westbury Park\"]\n",
    "\n",
    "df = df.loc[df[\"Layout Group\"].isin(lgList)]\n",
    "\n",
    "df = df.groupby(\"Trading Week\")[\"Line Sales £\"].sum()"
   ]
  },
  {
   "cell_type": "code",
   "execution_count": null,
   "metadata": {},
   "outputs": [],
   "source": []
  }
 ],
 "metadata": {
  "kernelspec": {
   "display_name": "Python 3",
   "language": "python",
   "name": "python3"
  },
  "language_info": {
   "codemirror_mode": {
    "name": "ipython",
    "version": 3
   },
   "file_extension": ".py",
   "mimetype": "text/x-python",
   "name": "python",
   "nbconvert_exporter": "python",
   "pygments_lexer": "ipython3",
   "version": "3.5.2"
  }
 },
 "nbformat": 4,
 "nbformat_minor": 2
}
