{
 "cells": [
  {
   "cell_type": "markdown",
   "metadata": {},
   "source": [
    "#### Look at the \"pre\" Sales for a store"
   ]
  },
  {
   "cell_type": "code",
   "execution_count": 214,
   "metadata": {},
   "outputs": [],
   "source": [
    "import pandas as pd\n",
    "import numpy as np\n",
    "import matplotlib.pyplot as plt\n",
    "from checkStationary import ADF\n",
    "from checkSeasonality import powerDensity\n",
    "\n",
    "PATH = '/home/tbrownex/data/Hackett/JLP/UseCase1/salesForecast/'\n",
    "FILE = 'store_sales_by_OLG-pre.csv'\n",
    "\n",
    "STORES = [\"Twickenham\", \"Thame\", \"Wokingham\", \"Harrogate\", \"Chandlers Ford\",\\\n",
    "          \"Sidmouth\", \"Barry\", \"Banstead\", \"Westbury Park\", \"Monmouth\"]"
   ]
  },
  {
   "cell_type": "code",
   "execution_count": 215,
   "metadata": {},
   "outputs": [],
   "source": [
    "def printSeries(series, store):\n",
    "    from matplotlib.ticker import MultipleLocator, FormatStrFormatter\n",
    "    majorLocator = MultipleLocator(20)\n",
    "    majorFormatter = FormatStrFormatter('%d')\n",
    "    #minorLocator = MultipleLocator(1)\n",
    "    \n",
    "    fig, ax = plt.subplots()\n",
    "    \n",
    "    plt.plot(series)\n",
    "    #plt.axvline(x=24,color='r', linewidth=.75)\n",
    "    #plt.axvline(x=28,color='r', linewidth=.75)\n",
    "    ax.set_ylim([0,series.max()])\n",
    "\n",
    "    ax.xaxis.set_major_locator(majorLocator)\n",
    "    ax.xaxis.set_major_formatter(majorFormatter)\n",
    "# for the minor ticks, use no labels; default NullFormatter\n",
    "    #ax.xaxis.set_minor_locator(minorLocator)\n",
    "    plt.title(store)\n",
    "    plt.show()"
   ]
  },
  {
   "cell_type": "code",
   "execution_count": 230,
   "metadata": {},
   "outputs": [],
   "source": [
    "df = pd.read_csv(PATH+FILE)"
   ]
  },
  {
   "cell_type": "markdown",
   "metadata": {},
   "source": [
    "##### Create Stationary and Seasonality table"
   ]
  },
  {
   "cell_type": "code",
   "execution_count": 9,
   "metadata": {},
   "outputs": [
    {
     "name": "stdout",
     "output_type": "stream",
     "text": [
      "Store          Stationary   Seasonal\n",
      "Twickenham        True        False\n",
      "Thame             True        False\n",
      "Wokingham         True        False\n",
      "Harrogate         True        False\n",
      "Chandlers Ford    False       False\n",
      "Sidmouth          True        False\n",
      "Barry             True        False\n",
      "Banstead          False       False\n",
      "Westbury Park     True        False\n",
      "Monmouth          True        False\n"
     ]
    }
   ],
   "source": [
    "print(\"{:<15}{:<13}{}\".format(\"Store\",\"Stationary\",\"Seasonal\"))\n",
    "for store in STORES:\n",
    "    tmp = df.loc[df[\"Business Unit Long Name\"]==store][\"Line Sales £\"]\n",
    "    tmp = tmp.reset_index(drop=True)\n",
    "    stationary = ADF(tmp, \"5%\", False)\n",
    "    \n",
    "    freq = len(tmp)\n",
    "    seasonal, maxFreq = powerDensity(series=tmp, freq=freq, store=None, plot=False)\n",
    "    print(\"{:<18}{:<12}{}\".format(store, str(stationary), seasonal))"
   ]
  },
  {
   "cell_type": "markdown",
   "metadata": {},
   "source": [
    "##### Run g-h Filter against a store"
   ]
  },
  {
   "cell_type": "code",
   "execution_count": 74,
   "metadata": {},
   "outputs": [],
   "source": [
    "def smooth(x,window_len=7,window='hanning'):\n",
    "    s=np.r_[x[window_len-1:0:-1],x,x[-2:-window_len-1:-1]]\n",
    "    if window == 'flat': #moving average\n",
    "        w=np.ones(window_len,'d')\n",
    "    else:\n",
    "        w=eval('np.'+window+'(window_len)')\n",
    "\n",
    "    y=np.convolve(w/w.sum(),s,mode='valid')\n",
    "    return y"
   ]
  },
  {
   "cell_type": "code",
   "execution_count": 21,
   "metadata": {},
   "outputs": [],
   "source": [
    "def ghFilter(series, init, rate, g, h, dt):\n",
    "    estimates   = []\n",
    "    predictions = []\n",
    "    rates = []\n",
    "    prevWeight = init\n",
    "    for w in series:\n",
    "        pred     = prevWeight + rate*dt\n",
    "        residual = w - pred\n",
    "        est      = pred + g*residual\n",
    "        estimates.append(est)          # Save the estimate\n",
    "        predictions.append(pred)       # Save the prediction\n",
    "        rate = rate + h*(residual)/dt        # Update the model gain/day\n",
    "        rates.append(rate)\n",
    "        prevWeight = est\n",
    "    return predictions, estimates, np.asarray(rates)"
   ]
  },
  {
   "cell_type": "code",
   "execution_count": 121,
   "metadata": {},
   "outputs": [],
   "source": [
    "# Based on the last estimate and rate, generate forecast values\n",
    "def getForecast(est, rate):\n",
    "    forecast = []\n",
    "    for x in range(1, 19):\n",
    "        tmp = est + (x*rate)\n",
    "        forecast.append(tmp)\n",
    "    return forecast"
   ]
  },
  {
   "cell_type": "code",
   "execution_count": 130,
   "metadata": {},
   "outputs": [],
   "source": [
    "def display(estimates, sales, store):\n",
    "    plt.plot(estimates, color=\"r\")\n",
    "    plt.plot(sales, color=\"b\")\n",
    "    #plt.plot(predictions, color=\"y\")\n",
    "    plt.title(store)\n",
    "    plt.savefig(store+\".png\", format=\"png\")"
   ]
  },
  {
   "cell_type": "code",
   "execution_count": 217,
   "metadata": {},
   "outputs": [],
   "source": [
    "# Set filter parameters\n",
    "rate = 1.          # \"dx\"...the multiplier in the model\n",
    "g    = .2\n",
    "h    = .08\n",
    "dt   = 1.            # time interval (1 day)\n",
    "\n",
    "#store = input()\n",
    "store = \"Banstead\"\n",
    "sales    = df.loc[df[\"Business Unit Long Name\"]==store][\"Line Sales £\"]\n",
    "sales    = sales.reset_index(drop=True)"
   ]
  },
  {
   "cell_type": "code",
   "execution_count": 1,
   "metadata": {},
   "outputs": [],
   "source": [
    "def generateEstimates(sales):\n",
    "    init = sales[0]\n",
    "    smoothed = smooth(sales,window_len=5)\n",
    "    predictions, estimates, rates = ghFilter(smoothed, init, rate, g, h, dt)\n",
    "    forecast = getForecast(estimates[-1], rates[-1])\n",
    "    estimates = estimates+forecast\n",
    "    estimates = pd.Series(x for x in estimates)\n",
    "    return estimates"
   ]
  },
  {
   "cell_type": "code",
   "execution_count": 219,
   "metadata": {},
   "outputs": [],
   "source": [
    "init = sales[0]\n",
    "smoothed = smooth(sales,window_len=5)\n",
    "predictions, estimates, rates = ghFilter(smoothed, init, rate, g, h, dt)\n",
    "forecast = getForecast(estimates[-1], rates[-1])\n",
    "estimates = estimates+forecast\n",
    "estimates = pd.Series(x for x in estimates)\n",
    "\n",
    "display(estimates, sales, store)\n",
    "estimates.to_csv(PATH+store+\".csv\")"
   ]
  }
 ],
 "metadata": {
  "kernelspec": {
   "display_name": "Python 3",
   "language": "python",
   "name": "python3"
  },
  "language_info": {
   "codemirror_mode": {
    "name": "ipython",
    "version": 3
   },
   "file_extension": ".py",
   "mimetype": "text/x-python",
   "name": "python",
   "nbconvert_exporter": "python",
   "pygments_lexer": "ipython3",
   "version": "3.5.2"
  }
 },
 "nbformat": 4,
 "nbformat_minor": 1
}
