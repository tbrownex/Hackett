{
 "cells": [
  {
   "cell_type": "markdown",
   "metadata": {},
   "source": [
    "##### Compute the mean of week before and week after the parking lot disruption. Update the weeks between to that mean. The mean is per-LG"
   ]
  },
  {
   "cell_type": "code",
   "execution_count": 1,
   "metadata": {},
   "outputs": [],
   "source": [
    "import numpy as np\n",
    "import pandas as pd\n",
    "import matplotlib.pyplot as plt\n",
    "\n",
    "PATH = '/home/tbrownex/data/Hackett/JLP/'\n",
    "FILE = '2 sorted.csv'\n",
    "\n",
    "# These are the weeks we're going to update with the imputed value\n",
    "weeks = [\"2017(24)\", \"2017(25)\", \"2017(26)\", \"2017(27)\", \"2017(28)\"]"
   ]
  },
  {
   "cell_type": "code",
   "execution_count": 2,
   "metadata": {},
   "outputs": [],
   "source": [
    "# Create the list of Layout Groups to update\n",
    "LGs = [17,327,283,19,281,451,452,83,33,36,65,66,54,46,\\\n",
    "       21,23,31,86,37,94,38,14,96,41,95,20]"
   ]
  },
  {
   "cell_type": "code",
   "execution_count": 3,
   "metadata": {},
   "outputs": [],
   "source": [
    "def updateSales(df, week, LG, values):\n",
    "    df.loc[(\"Banstead\", week, LG), \"Line Sales - imputed\"] = values[LG]"
   ]
  },
  {
   "cell_type": "code",
   "execution_count": 4,
   "metadata": {},
   "outputs": [],
   "source": [
    "df = pd.read_csv(PATH+FILE)"
   ]
  },
  {
   "cell_type": "code",
   "execution_count": 5,
   "metadata": {},
   "outputs": [],
   "source": [
    "df = df.set_index([\"Business Unit Long Name\", \"Trading Week\", \"Layout Group\"])\n",
    "df = df.sort_index()"
   ]
  },
  {
   "cell_type": "markdown",
   "metadata": {},
   "source": [
    "##### Calc the values to use for each LG"
   ]
  },
  {
   "cell_type": "code",
   "execution_count": 6,
   "metadata": {},
   "outputs": [],
   "source": [
    "imputedVal = {}              # Dictionary that will hold LG:mean mapping\n",
    "for lg in LGs:\n",
    "    before = df.at[(\"Banstead\", \"2017(23)\", lg), \"Line Sales £\"]\n",
    "    after  = df.at[(\"Banstead\", \"2017(29)\", lg), \"Line Sales £\"]\n",
    "    mean = round((before+after)/2,2)\n",
    "    imputedVal[lg] = mean"
   ]
  },
  {
   "cell_type": "code",
   "execution_count": 7,
   "metadata": {},
   "outputs": [],
   "source": [
    "df[\"Line Sales - imputed\"] = df[\"Line Sales £\"]"
   ]
  },
  {
   "cell_type": "markdown",
   "metadata": {},
   "source": [
    "##### Now perform the update"
   ]
  },
  {
   "cell_type": "code",
   "execution_count": 8,
   "metadata": {},
   "outputs": [],
   "source": [
    "for w in weeks:\n",
    "    for lg in LGs:\n",
    "        updateSales(df, w, lg, imputedVal)"
   ]
  },
  {
   "cell_type": "code",
   "execution_count": 10,
   "metadata": {},
   "outputs": [],
   "source": [
    "df.to_csv(PATH+\"3 with_imputation.csv\")"
   ]
  }
 ],
 "metadata": {
  "kernelspec": {
   "display_name": "Python 3",
   "language": "python",
   "name": "python3"
  },
  "language_info": {
   "codemirror_mode": {
    "name": "ipython",
    "version": 3
   },
   "file_extension": ".py",
   "mimetype": "text/x-python",
   "name": "python",
   "nbconvert_exporter": "python",
   "pygments_lexer": "ipython3",
   "version": "3.5.2"
  }
 },
 "nbformat": 4,
 "nbformat_minor": 1
}
