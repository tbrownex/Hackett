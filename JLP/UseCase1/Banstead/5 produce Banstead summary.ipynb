{
 "cells": [
  {
   "cell_type": "markdown",
   "metadata": {},
   "source": [
    "##### Create Banstead extract for Excel charts"
   ]
  },
  {
   "cell_type": "code",
   "execution_count": 1,
   "metadata": {},
   "outputs": [],
   "source": [
    "import numpy as np\n",
    "import pandas as pd\n",
    "import matplotlib.pyplot as plt\n",
    "\n",
    "PATH = '/home/tbrownex/data/Hackett/JLP/'\n",
    "FILE = '3 with_imputation.csv'"
   ]
  },
  {
   "cell_type": "code",
   "execution_count": 2,
   "metadata": {},
   "outputs": [],
   "source": [
    "df = pd.read_csv(PATH+FILE)"
   ]
  },
  {
   "cell_type": "code",
   "execution_count": 3,
   "metadata": {},
   "outputs": [],
   "source": [
    "# Banstead only\n",
    "df = df.loc[df[\"Business Unit Long Name\"]==\"Banstead\"]"
   ]
  },
  {
   "cell_type": "code",
   "execution_count": 4,
   "metadata": {},
   "outputs": [],
   "source": [
    "# Only the LGs that were part of the new layout\n",
    "LGs = [17,327,283,19,281,451,452,83,33,36,65,66,54,46,\\\n",
    "       21,23,31,86,37,94,38,14,96,41,95,20]\n",
    "\n",
    "df = df.loc[df[\"Layout Group\"].isin(LGs)]"
   ]
  },
  {
   "cell_type": "code",
   "execution_count": 5,
   "metadata": {},
   "outputs": [],
   "source": [
    "# Only the weeks following the layout change\n",
    "df = df.loc[df[\"Trading Week\"]>\"2017(16)\"]"
   ]
  },
  {
   "cell_type": "code",
   "execution_count": 6,
   "metadata": {},
   "outputs": [],
   "source": [
    "df = df.set_index(\"Trading Week\")\n",
    "actuals = df.groupby(\"Trading Week\")[[\"Line Sales £\", \"Line Sales - imputed\"]].sum()"
   ]
  },
  {
   "cell_type": "code",
   "execution_count": 7,
   "metadata": {},
   "outputs": [],
   "source": [
    "actuals.to_csv(PATH+\"Banstead_summary.csv\")"
   ]
  }
 ],
 "metadata": {
  "kernelspec": {
   "display_name": "Python 3",
   "language": "python",
   "name": "python3"
  },
  "language_info": {
   "codemirror_mode": {
    "name": "ipython",
    "version": 3
   },
   "file_extension": ".py",
   "mimetype": "text/x-python",
   "name": "python",
   "nbconvert_exporter": "python",
   "pygments_lexer": "ipython3",
   "version": "3.5.2"
  }
 },
 "nbformat": 4,
 "nbformat_minor": 1
}
