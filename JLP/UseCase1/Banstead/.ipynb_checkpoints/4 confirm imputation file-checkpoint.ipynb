{
 "cells": [
  {
   "cell_type": "markdown",
   "metadata": {},
   "source": [
    "##### Show the Banstead sum of sales before and after imputation"
   ]
  },
  {
   "cell_type": "code",
   "execution_count": 1,
   "metadata": {},
   "outputs": [],
   "source": [
    "import numpy as np\n",
    "import pandas as pd\n",
    "import matplotlib.pyplot as plt\n",
    "\n",
    "PATH = '/home/tbrownex/data/Hackett/JLP/'\n",
    "F1   = '2 sorted.csv'\n",
    "F2   = '3 with_imputation.csv'"
   ]
  },
  {
   "cell_type": "code",
   "execution_count": 2,
   "metadata": {},
   "outputs": [],
   "source": [
    "before = pd.read_csv(PATH+F1)\n",
    "after  = pd.read_csv(PATH+F2)"
   ]
  },
  {
   "cell_type": "code",
   "execution_count": 3,
   "metadata": {},
   "outputs": [
    {
     "name": "stdout",
     "output_type": "stream",
     "text": [
      "-5.21540641784668e-08\n"
     ]
    }
   ],
   "source": [
    "# Check Store level\n",
    "lsBefore = before.groupby(\"Business Unit Long Name\")[\"Line Sales £\"].sum()\n",
    "lsAfter  = after.groupby(\"Business Unit Long Name\")[\"Line Sales £\"].sum()\n",
    "\n",
    "print((lsBefore - lsAfter).sum())"
   ]
  },
  {
   "cell_type": "code",
   "execution_count": 4,
   "metadata": {},
   "outputs": [
    {
     "name": "stdout",
     "output_type": "stream",
     "text": [
      "-1.979060471057892e-09\n"
     ]
    }
   ],
   "source": [
    "# Check Layout Group level\n",
    "LGBefore = before.groupby([\"Business Unit Long Name\", \"Layout Group\"])[\"Line Sales £\"].sum()\n",
    "LGAfter  = after.groupby([\"Business Unit Long Name\", \"Layout Group\"])[\"Line Sales £\"].sum()\n",
    "\n",
    "print((LGBefore - LGAfter).sum())"
   ]
  }
 ],
 "metadata": {
  "kernelspec": {
   "display_name": "Python 3",
   "language": "python",
   "name": "python3"
  },
  "language_info": {
   "codemirror_mode": {
    "name": "ipython",
    "version": 3
   },
   "file_extension": ".py",
   "mimetype": "text/x-python",
   "name": "python",
   "nbconvert_exporter": "python",
   "pygments_lexer": "ipython3",
   "version": "3.5.2"
  }
 },
 "nbformat": 4,
 "nbformat_minor": 1
}
