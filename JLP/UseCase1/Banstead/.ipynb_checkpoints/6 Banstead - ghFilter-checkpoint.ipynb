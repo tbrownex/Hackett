{
 "cells": [
  {
   "cell_type": "code",
   "execution_count": 1,
   "metadata": {},
   "outputs": [],
   "source": [
    "import numpy as np\n",
    "import pandas as pd\n",
    "import matplotlib.pyplot as plt\n",
    "from checkStationary import ADF\n",
    "from checkSeasonality import powerDensity\n",
    "\n",
    "PATH = '/home/tbrownex/data/Hackett/JLP/'\n",
    "FILE = '4 Banstead.csv'"
   ]
  },
  {
   "cell_type": "code",
   "execution_count": 25,
   "metadata": {},
   "outputs": [],
   "source": [
    "def printSeries(series, dtList):\n",
    "    from matplotlib.ticker import MultipleLocator, FormatStrFormatter\n",
    "    majorLocator = MultipleLocator(20)\n",
    "    majorFormatter = FormatStrFormatter('%d')\n",
    "    #minorLocator = MultipleLocator(1)\n",
    "    \n",
    "    fig, ax = plt.subplots()\n",
    "    ax.plot_date(dtList.to_pydatetime(), s, 'v-')\n",
    "    \n",
    "    plt.plot(series)\n",
    "    #plt.axvline(x=24,color='r', linewidth=.75)\n",
    "    #plt.axvline(x=28,color='r', linewidth=.75)\n",
    "    ax.set_ylim([0,series.max()])\n",
    "\n",
    "    ax.xaxis.set_major_locator(majorLocator)\n",
    "    ax.xaxis.set_major_formatter(majorFormatter)\n",
    "# for the minor ticks, use no labels; default NullFormatter\n",
    "    #ax.xaxis.set_minor_locator(minorLocator)\n",
    "    plt.show()"
   ]
  },
  {
   "cell_type": "code",
   "execution_count": 17,
   "metadata": {},
   "outputs": [
    {
     "name": "stdout",
     "output_type": "stream",
     "text": [
      "Date ranges are:\n",
      "part1: 2013-01-07 - 2017-05-29\n",
      "part2: 2017-06-05 - 2017-06-19\n",
      "part3: 2017-07-24 - 2018-03-26\n"
     ]
    }
   ],
   "source": [
    "df = pd.read_csv(PATH+FILE)\n",
    "\n",
    "part1 = df.loc[df[\"Trading Week\"]<\"2017-06\"]\n",
    "part1.name = \"part1\"\n",
    "part2 = df.loc[(df[\"Trading Week\"]>\"2017-06\") & \\\n",
    "               (df[\"Trading Week\"]<\"2017-06-20\")]\n",
    "part2.name = \"part2\"\n",
    "part3 = df.loc[df[\"Trading Week\"]>\"2017-07-17\"]\n",
    "part3.name = \"part3\"\n",
    "\n",
    "partList = [part1, part2, part3]\n",
    "\n",
    "print(\"Date ranges are:\")\n",
    "for x in partList:\n",
    "    print(\"{}: {} - {}\".format(x.name, x[\"Trading Week\"].min(), x[\"Trading Week\"].max()))"
   ]
  },
  {
   "cell_type": "code",
   "execution_count": 20,
   "metadata": {},
   "outputs": [],
   "source": [
    "# Get list of all LGs and also all the Dates\n",
    "lgList = sorted(part1[\"Layout Group\"].unique())\n",
    "dtList = sorted(part1[\"Trading Week\"].unique())"
   ]
  },
  {
   "cell_type": "code",
   "execution_count": 5,
   "metadata": {},
   "outputs": [],
   "source": [
    "part1 = part1.set_index([\"Layout Group\", \"Trading Week\"]).sort_index()\n",
    "part2 = part2.set_index([\"Layout Group\", \"Trading Week\"]).sort_index()\n",
    "part3 = part3.set_index([\"Layout Group\", \"Trading Week\"]).sort_index()"
   ]
  },
  {
   "cell_type": "markdown",
   "metadata": {},
   "source": [
    "##### Test for Stationarity"
   ]
  },
  {
   "cell_type": "code",
   "execution_count": 6,
   "metadata": {},
   "outputs": [
    {
     "name": "stdout",
     "output_type": "stream",
     "text": [
      "Non-Stationary LGs:\n",
      "31\n",
      "36\n",
      "54\n",
      "322\n",
      "378\n",
      "448\n",
      "451\n",
      "455\n",
      "\n",
      "8 non-stationary LGs out of 59\n"
     ]
    }
   ],
   "source": [
    "count = 0\n",
    "print(\"Non-Stationary LGs:\")\n",
    "for lg in lgList:\n",
    "    series = part1.loc[lg][\"Full Price Sales\"]\n",
    "    stationary = ADF(series, \"5%\", False)\n",
    "    if not stationary:\n",
    "        count += 1\n",
    "        print(lg)\n",
    "print(\"{}{} non-stationary LGs out of {}\".format(\"\\n\",count, len(lgList)))"
   ]
  },
  {
   "cell_type": "markdown",
   "metadata": {},
   "source": [
    "##### Test for Seasonality"
   ]
  },
  {
   "cell_type": "code",
   "execution_count": 7,
   "metadata": {},
   "outputs": [
    {
     "name": "stdout",
     "output_type": "stream",
     "text": [
      "Seasonal LGs:\n",
      "13 4.0\n",
      "15 4.0\n",
      "33 4.0\n",
      "37 9.0\n",
      "46 4.0\n",
      "54 1.0\n",
      "76 9.0\n",
      "86 5.0\n",
      "95 4.0\n",
      "96 5.0\n",
      "218 4.0\n",
      "223 4.0\n",
      "280 9.0\n",
      "283 9.0\n",
      "307 5.0\n",
      "310 13.0\n",
      "342 5.0\n",
      "350 9.0\n",
      "378 4.0\n",
      "380 4.0\n",
      "427 4.0\n",
      "453 4.0\n",
      "489 1.0\n",
      "\n",
      "23 seasonal LGs out of 59\n"
     ]
    }
   ],
   "source": [
    "freq = len(series)\n",
    "print(\"Seasonal LGs:\")\n",
    "\n",
    "count = 0\n",
    "for lg in lgList:\n",
    "    series = part1.loc[lg][\"Full Price Sales\"]\n",
    "    seasonal, maxFreq = powerDensity(series, freq, lg, False)\n",
    "    if seasonal:\n",
    "        print(lg, maxFreq)\n",
    "        count += 1\n",
    "print(\"{}{} seasonal LGs out of {}\".format(\"\\n\",count, len(lgList)))"
   ]
  },
  {
   "cell_type": "code",
   "execution_count": 15,
   "metadata": {},
   "outputs": [
    {
     "data": {
      "image/png": "[encoded data removed]",
      "text/plain": [
       "<Figure size 432x288 with 1 Axes>"
      ]
     },
     "metadata": {},
     "output_type": "display_data"
    }
   ],
   "source": [
    " import matplotlib.dates as dates\n",
    "\n",
    "idx = pd.date_range('2011-05-01', '2011-07-01')\n",
    "s = pd.Series(np.random.randn(len(idx)), index=idx)\n",
    "\n",
    "fig, ax = plt.subplots()\n",
    "ax.plot_date(idx.to_pydatetime(), s, 'v-')\n",
    "ax.xaxis.set_minor_locator(dates.WeekdayLocator(byweekday=(1),\n",
    "                                                interval=1))\n",
    "ax.xaxis.set_minor_formatter(dates.DateFormatter('%d\\n%a'))\n",
    "ax.xaxis.grid(True, which=\"minor\")\n",
    "ax.yaxis.grid()\n",
    "ax.xaxis.set_major_locator(dates.MonthLocator())\n",
    "ax.xaxis.set_major_formatter(dates.DateFormatter('\\n\\n\\n%b\\n%Y'))\n",
    "plt.tight_layout()\n",
    "plt.show()"
   ]
  },
  {
   "cell_type": "code",
   "execution_count": 26,
   "metadata": {},
   "outputs": [
    {
     "ename": "AttributeError",
     "evalue": "'list' object has no attribute 'to_pydatetime'",
     "output_type": "error",
     "traceback": [
      "\u001b[0;31m---------------------------------------------------------------------------\u001b[0m",
      "\u001b[0;31mAttributeError\u001b[0m                            Traceback (most recent call last)",
      "\u001b[0;32m<ipython-input-26-aa8dbfa7a4e0>\u001b[0m in \u001b[0;36m<module>\u001b[0;34m()\u001b[0m\n\u001b[0;32m----> 1\u001b[0;31m \u001b[0mprintSeries\u001b[0m\u001b[0;34m(\u001b[0m\u001b[0mpart1\u001b[0m\u001b[0;34m.\u001b[0m\u001b[0mloc\u001b[0m\u001b[0;34m[\u001b[0m\u001b[0;36m13\u001b[0m\u001b[0;34m]\u001b[0m\u001b[0;34m[\u001b[0m\u001b[0;34m\"Full Price Sales\"\u001b[0m\u001b[0;34m]\u001b[0m\u001b[0;34m,\u001b[0m \u001b[0mdtList\u001b[0m\u001b[0;34m)\u001b[0m\u001b[0;34m\u001b[0m\u001b[0m\n\u001b[0m",
      "\u001b[0;32m<ipython-input-25-eed70a540c7e>\u001b[0m in \u001b[0;36mprintSeries\u001b[0;34m(series, dtList)\u001b[0m\n\u001b[1;32m      6\u001b[0m \u001b[0;34m\u001b[0m\u001b[0m\n\u001b[1;32m      7\u001b[0m     \u001b[0mfig\u001b[0m\u001b[0;34m,\u001b[0m \u001b[0max\u001b[0m \u001b[0;34m=\u001b[0m \u001b[0mplt\u001b[0m\u001b[0;34m.\u001b[0m\u001b[0msubplots\u001b[0m\u001b[0;34m(\u001b[0m\u001b[0;34m)\u001b[0m\u001b[0;34m\u001b[0m\u001b[0m\n\u001b[0;32m----> 8\u001b[0;31m     \u001b[0max\u001b[0m\u001b[0;34m.\u001b[0m\u001b[0mplot_date\u001b[0m\u001b[0;34m(\u001b[0m\u001b[0mdtList\u001b[0m\u001b[0;34m.\u001b[0m\u001b[0mto_pydatetime\u001b[0m\u001b[0;34m(\u001b[0m\u001b[0;34m)\u001b[0m\u001b[0;34m,\u001b[0m \u001b[0ms\u001b[0m\u001b[0;34m,\u001b[0m \u001b[0;34m'v-'\u001b[0m\u001b[0;34m)\u001b[0m\u001b[0;34m\u001b[0m\u001b[0m\n\u001b[0m\u001b[1;32m      9\u001b[0m \u001b[0;34m\u001b[0m\u001b[0m\n\u001b[1;32m     10\u001b[0m     \u001b[0mplt\u001b[0m\u001b[0;34m.\u001b[0m\u001b[0mplot\u001b[0m\u001b[0;34m(\u001b[0m\u001b[0mseries\u001b[0m\u001b[0;34m)\u001b[0m\u001b[0;34m\u001b[0m\u001b[0m\n",
      "\u001b[0;31mAttributeError\u001b[0m: 'list' object has no attribute 'to_pydatetime'"
     ]
    },
    {
     "data": {
      "image/png": "[encoded data removed]",
      "text/plain": [
       "<Figure size 432x288 with 1 Axes>"
      ]
     },
     "metadata": {},
     "output_type": "display_data"
    }
   ],
   "source": [
    "printSeries(part1.loc[13][\"Full Price Sales\"], dtList)"
   ]
  },
  {
   "cell_type": "code",
   "execution_count": null,
   "metadata": {},
   "outputs": [],
   "source": [
    "def ghFilter(series, init, rate, g, h, dt):\n",
    "    '''\n",
    "    init= initial guess\n",
    "    rate = gain/day\n",
    "    g = measurement vs prediction factor\n",
    "    h = old gain/day vs current gain/day factor\n",
    "    dt = time step (1/day)'''\n",
    "    estimates   = []\n",
    "    predictions = []\n",
    "    rates = []\n",
    "    prevWeight = init\n",
    "    for w in series:\n",
    "        pred     = prevWeight + rate*dt\n",
    "        residual = w - pred\n",
    "        est      = pred + g*residual\n",
    "        estimates.append(est)          # Save the estimate\n",
    "        predictions.append(pred)       # Save the prediction\n",
    "        rate = rate + h*(residual)/dt        # Update the model gain/day\n",
    "        rates.append(rate)\n",
    "        prevWeight = est\n",
    "    return predictions, estimates, np.asarray(rates)"
   ]
  },
  {
   "cell_type": "code",
   "execution_count": null,
   "metadata": {},
   "outputs": [],
   "source": [
    "init   = 1100.          # Initial guess\n",
    "rate = 1.          # \"dx\"...the multiplier in the model\n",
    "g    = .2\n",
    "h    = .1\n",
    "dt   = 1.            # time interval (1 day)\n",
    "\n",
    "predictions, estimates, rates = ghFilter(series, init, rate, g, h, dt)"
   ]
  },
  {
   "cell_type": "code",
   "execution_count": null,
   "metadata": {},
   "outputs": [],
   "source": [
    "plt.plot(ma)\n",
    "plt.show()"
   ]
  },
  {
   "cell_type": "code",
   "execution_count": null,
   "metadata": {},
   "outputs": [],
   "source": [
    "plt.plot(rates)\n",
    "plt.show()"
   ]
  },
  {
   "cell_type": "code",
   "execution_count": null,
   "metadata": {},
   "outputs": [],
   "source": [
    "plt.plot(estimates, color=\"r\")\n",
    "plt.plot(series, color=\"b\")\n",
    "#plt.plot(predictions, color=\"y\")\n",
    "plt.show()"
   ]
  },
  {
   "cell_type": "code",
   "execution_count": null,
   "metadata": {},
   "outputs": [],
   "source": [
    "# This is a linear generator\n",
    "def genData(init, rate, noiseFactor, size):\n",
    "    return [init + rate*n + np.random.randn()*noiseFactor for n in range(size)]"
   ]
  },
  {
   "cell_type": "code",
   "execution_count": null,
   "metadata": {},
   "outputs": [],
   "source": [
    "# This is an accelerator generator: rate is increasing\n",
    "def genData2(init, rate, noiseFactor, size, accel):\n",
    "    points = []\n",
    "    for n in range(size):\n",
    "        p = init + rate*n + np.random.randn()*noiseFactor\n",
    "        points.append(p)\n",
    "        rate += accel\n",
    "    return points"
   ]
  },
  {
   "cell_type": "code",
   "execution_count": null,
   "metadata": {},
   "outputs": [],
   "source": [
    "points = genData2(init=5, rate=2, noiseFactor=0, size=20, accel=.3)\n",
    "\n",
    "plt.plot(points, 'bo')\n",
    "plt.show()"
   ]
  },
  {
   "cell_type": "code",
   "execution_count": null,
   "metadata": {},
   "outputs": [],
   "source": [
    "x0=5\n",
    "rate=1\n",
    "g=.2\n",
    "h=.02\n",
    "predictions, estimates, endGain = ghFilter(points, x0, rate, g, h, dt)\n",
    "\n",
    "plt.plot(estimates, color=\"r\")\n",
    "plt.plot(points,  'bo')\n",
    "plt.plot(predictions, color=\"y\")\n",
    "plt.show()"
   ]
  },
  {
   "cell_type": "code",
   "execution_count": null,
   "metadata": {},
   "outputs": [],
   "source": [
    "# This shows that larger \"g\" means estimate will be closer to the measurement\n",
    "# Smaller \"g\" favors the prediction\n",
    "# Measurements include noise where the prediction - based on a model - ignores\n",
    "# noise. So larger \"g\" includes more noise\n",
    "x0=5\n",
    "rate=1\n",
    "g1=.2\n",
    "h=.02\n",
    "_, estimates1 = ghFilter(points, x0, rate, g1, h, dt)\n",
    "g2=.7\n",
    "_, estimates2 = ghFilter(points, x0, rate, g2, h, dt)\n",
    "\n",
    "plt.plot(estimates1, color=\"r\")\n",
    "plt.plot(points,  'bo')\n",
    "plt.plot(estimates2, color=\"y\")\n",
    "plt.show()"
   ]
  },
  {
   "cell_type": "markdown",
   "metadata": {},
   "source": [
    "##### Varying H"
   ]
  },
  {
   "cell_type": "code",
   "execution_count": null,
   "metadata": {},
   "outputs": [],
   "source": [
    "weights = np.linspace(0, 1, 50)\n",
    "\n",
    "_, estimates1 = ghFilter(weights, init=0, rate=0., dt=1., g=.2, h=0.05)\n",
    "_, estimates2 = ghFilter(weights, init=0, rate=2., dt=1., g=.2, h=0.05)\n",
    "_, estimates3 = ghFilter(weights, init=0, rate=2., dt=1., g=.2, h=0.5)"
   ]
  },
  {
   "cell_type": "code",
   "execution_count": null,
   "metadata": {},
   "outputs": [],
   "source": [
    "plt.plot(estimates1, color=\"y\")\n",
    "plt.plot(estimates2, color=\"r\")\n",
    "plt.plot(estimates3, color=\"b\")\n",
    "plt.show()"
   ]
  },
  {
   "cell_type": "code",
   "execution_count": null,
   "metadata": {},
   "outputs": [],
   "source": [
    "data2 = g_h_filter(data=zs, x0=0, dx=2., dt=1., g=.2, h=0.05)\n",
    "data3 = g_h_filter(data=zs, x0=0, dx=2., dt=1., g=.2, h=0.5)"
   ]
  },
  {
   "cell_type": "markdown",
   "metadata": {},
   "source": [
    "##### Varying g and h"
   ]
  },
  {
   "cell_type": "code",
   "execution_count": null,
   "metadata": {},
   "outputs": [],
   "source": [
    "weights = genData(init=5, rate=5., noiseFactor=50, size=100)"
   ]
  },
  {
   "cell_type": "code",
   "execution_count": null,
   "metadata": {},
   "outputs": [],
   "source": [
    "plt.plot(weights)\n",
    "plt.show()"
   ]
  },
  {
   "cell_type": "code",
   "execution_count": null,
   "metadata": {},
   "outputs": [],
   "source": [
    "# Minimal g and h\n",
    "_, estimates = ghFilter(weights, init=5, rate=28., dt=1., g=0.2, h=.0)"
   ]
  },
  {
   "cell_type": "code",
   "execution_count": null,
   "metadata": {},
   "outputs": [],
   "source": [
    "plt.plot(estimates, color=\"r\")\n",
    "plt.plot(weights, color='b')\n",
    "plt.show()"
   ]
  },
  {
   "cell_type": "code",
   "execution_count": null,
   "metadata": {},
   "outputs": [],
   "source": [
    "from filterpy.gh import GHFilter"
   ]
  },
  {
   "cell_type": "code",
   "execution_count": null,
   "metadata": {},
   "outputs": [],
   "source": [
    "f = GHFilter(x=0., dx=0., dt=1., g=.8, h=.2)"
   ]
  },
  {
   "cell_type": "code",
   "execution_count": null,
   "metadata": {},
   "outputs": [],
   "source": [
    "f.__dict__"
   ]
  },
  {
   "cell_type": "code",
   "execution_count": null,
   "metadata": {},
   "outputs": [],
   "source": []
  }
 ],
 "metadata": {
  "kernelspec": {
   "display_name": "Python 3",
   "language": "python",
   "name": "python3"
  },
  "language_info": {
   "codemirror_mode": {
    "name": "ipython",
    "version": 3
   },
   "file_extension": ".py",
   "mimetype": "text/x-python",
   "name": "python",
   "nbconvert_exporter": "python",
   "pygments_lexer": "ipython3",
   "version": "3.5.2"
  }
 },
 "nbformat": 4,
 "nbformat_minor": 1
}
