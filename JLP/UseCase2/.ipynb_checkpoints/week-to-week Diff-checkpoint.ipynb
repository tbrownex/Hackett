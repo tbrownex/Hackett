{
 "cells": [
  {
   "cell_type": "markdown",
   "metadata": {},
   "source": [
    "#### Check correlation between spend and sales, week-by-week"
   ]
  },
  {
   "cell_type": "code",
   "execution_count": 1,
   "metadata": {},
   "outputs": [],
   "source": [
    "import pandas as pd\n",
    "import numpy as np\n",
    "import matplotlib.pyplot as plt\n",
    "\n",
    "PATH = '/home/tbrownex/data/Hackett/JLP/UseCase2/'\n",
    "FILE = 'BranchSalesDriver'"
   ]
  },
  {
   "cell_type": "code",
   "execution_count": 2,
   "metadata": {},
   "outputs": [],
   "source": [
    "df = pd.read_csv(PATH+FILE)\n",
    "\n",
    "df7 = df.loc[df[\"Year\"]==2017]\n",
    "df6 = df.loc[df[\"Year\"]==2016]\n",
    "\n",
    "assert (df7.shape[0]+df6.shape[0]==df.shape[0]), \"Row counts are wrong\""
   ]
  },
  {
   "cell_type": "code",
   "execution_count": 33,
   "metadata": {},
   "outputs": [
    {
     "name": "stdout",
     "output_type": "stream",
     "text": [
      "Weeks:\n",
      "1-17\n",
      "19-35\n",
      "37-38\n",
      "50-52\n",
      "Correlation:  0.06770166716833695\n"
     ]
    }
   ],
   "source": [
    "# 2016 first\n",
    "parts = []\n",
    "parts.append(df6[:17])\n",
    "parts.append(df6[17:34])\n",
    "parts.append(df6[34:36])\n",
    "parts.append(df6[36:])\n",
    "\n",
    "print(\"Weeks:\")\n",
    "for x in parts:\n",
    "    print(\"{}-{}\".format(x[\"Week\"].min(), x[\"Week\"].max()))\n",
    "\n",
    "diffs = []\n",
    "for x in parts:\n",
    "    tmp = x[\"PPC Spend\"]\n",
    "    diffs.append(tmp.diff())\n",
    "\n",
    "sales = []\n",
    "for x in parts:\n",
    "    sales.append(x[\"Online Sales\"][1:])\n",
    "\n",
    "tom = []\n",
    "for x in diffs:\n",
    "    tmp = x[1:]\n",
    "    tom.append(tmp)\n",
    "\n",
    "ppc = pd.Series()\n",
    "for x in tom:\n",
    "    ppc = ppc.append(x)\n",
    "\n",
    "sal = pd.Series()\n",
    "for x in sales:\n",
    "    sal = sal.append(x)\n",
    "\n",
    "print(\"Correlation: \", ppc.corr(sal))"
   ]
  },
  {
   "cell_type": "code",
   "execution_count": 167,
   "metadata": {},
   "outputs": [
    {
     "name": "stdout",
     "output_type": "stream",
     "text": [
      "Correlation Method - no Lag\n",
      "pearson     0.53\n",
      "kendall     0.35\n",
      "spearman    0.51\n"
     ]
    }
   ],
   "source": [
    "print(\"Correlation Method - no Lag\")\n",
    "for x in [\"pearson\", \"kendall\", \"spearman\"]:\n",
    "    print(\"{:<12}{:.2f}\".format(x,ppc.corr(sales, method=x)))"
   ]
  },
  {
   "cell_type": "markdown",
   "metadata": {},
   "source": [
    "##### Correlation, lag of 1-5 weeks"
   ]
  },
  {
   "cell_type": "code",
   "execution_count": 150,
   "metadata": {},
   "outputs": [
    {
     "name": "stdout",
     "output_type": "stream",
     "text": [
      "Lag Value:  1\n",
      "  pearson     : 0.54\n",
      "  kendall     : 0.36\n",
      "  spearman    : 0.52\n",
      "Lag Value:  2\n",
      "  pearson     : 0.54\n",
      "  kendall     : 0.36\n",
      "  spearman    : 0.52\n",
      "Lag Value:  3\n",
      "  pearson     : 0.54\n",
      "  kendall     : 0.35\n",
      "  spearman    : 0.50\n",
      "Lag Value:  4\n",
      "  pearson     : 0.56\n",
      "  kendall     : 0.37\n",
      "  spearman    : 0.53\n",
      "Lag Value:  5\n",
      "  pearson     : 0.57\n",
      "  kendall     : 0.38\n",
      "  spearman    : 0.54\n"
     ]
    }
   ],
   "source": [
    "size = len(ppc)\n",
    "for l in [1,2,3,4,5]:\n",
    "    print(\"Lag Value: \", l)\n",
    "    for x in [\"pearson\", \"kendall\", \"spearman\"]:\n",
    "        p = ppc[0:(size-l)]\n",
    "        s = sales[l:]\n",
    "        assert (len(p)==len(s)),   \"Length of series mismatch\"\n",
    "        c = p.corr(s, method=x)\n",
    "        print(\"  {:<12}: {:.2f}\".format(x,c))"
   ]
  },
  {
   "cell_type": "code",
   "execution_count": 25,
   "metadata": {},
   "outputs": [],
   "source": [
    "for x in [1,2,3,4,5,6]:\n",
    "    diff  = ppc.diff(x)\n",
    "    diff  = diff[x:]\n",
    "    s     = sales[x:]\n",
    "    c = round(diff.corr(s), 2)\n",
    "    plt.scatter(diff, s)\n",
    "    T = \"Lag = \" + str(x) +\"\\n\" + \"Correlation = \" + str(c)\n",
    "    plt.title(T)\n",
    "    plt.savefig(\"/home/tbrownex/fig\"+str(x)+'.png', bbox_inches='tight')\n",
    "    plt.close()"
   ]
  },
  {
   "cell_type": "code",
   "execution_count": null,
   "metadata": {},
   "outputs": [],
   "source": []
  }
 ],
 "metadata": {
  "kernelspec": {
   "display_name": "Python 3",
   "language": "python",
   "name": "python3"
  },
  "language_info": {
   "codemirror_mode": {
    "name": "ipython",
    "version": 3
   },
   "file_extension": ".py",
   "mimetype": "text/x-python",
   "name": "python",
   "nbconvert_exporter": "python",
   "pygments_lexer": "ipython3",
   "version": "3.5.2"
  }
 },
 "nbformat": 4,
 "nbformat_minor": 2
}
