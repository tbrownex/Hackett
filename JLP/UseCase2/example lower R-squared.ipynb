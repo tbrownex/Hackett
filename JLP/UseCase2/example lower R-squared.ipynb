{
 "cells": [
  {
   "cell_type": "code",
   "execution_count": 1,
   "metadata": {},
   "outputs": [],
   "source": [
    "import pandas as pd\n",
    "import numpy as np\n",
    "import matplotlib.pyplot as plt\n",
    "from sklearn import linear_model\n",
    "\n",
    "PATH = '/home/tbrownex/data/Hackett/JLP/UseCase2/'\n",
    "FILE = 'BranchSalesDriver'"
   ]
  },
  {
   "cell_type": "code",
   "execution_count": 9,
   "metadata": {},
   "outputs": [],
   "source": [
    "def regress(x,y):\n",
    "    d = {}\n",
    "    regr    = linear_model.LinearRegression()\n",
    "    lr      = regr.fit(x, y)\n",
    "    d[\"m\"]  = lr.coef_[0]\n",
    "    d[\"b\"]  = lr.intercept_\n",
    "    d[\"R2\"] = lr.score(x, y)\n",
    "    d[\"y_\"] = lr.predict(x)\n",
    "    return d"
   ]
  },
  {
   "cell_type": "code",
   "execution_count": 23,
   "metadata": {},
   "outputs": [],
   "source": [
    "def showResults(x, y, model):\n",
    "    print(\"Slope is:     {:.2f}\".format(model[\"m\"][0]))\n",
    "    print(\"Intercept is: {:,.0f}\".format(model[\"b\"][0]))\n",
    "    print(\"R-squared is: {:.2f}\".format(model[\"R2\"]))\n",
    "    plt.scatter(x/1000, y/1000)\n",
    "    plt.show()"
   ]
  },
  {
   "cell_type": "code",
   "execution_count": 24,
   "metadata": {},
   "outputs": [],
   "source": [
    "df = pd.read_csv(PATH+FILE)\n",
    "\n",
    "ppc          = df[\"PPC Spend\"]\n",
    "onlineSales  = df[\"Online Sales\"]\n",
    "\n",
    "ppc   = np.array(ppc).reshape([-1,1])\n",
    "os    = np.array(onlineSales).reshape([-1,1])\n",
    "\n",
    "# Get the data sorted by ppc for plotting\n",
    "idx = np.array(ppc).argsort(axis=0).reshape([-1,])"
   ]
  },
  {
   "cell_type": "markdown",
   "metadata": {},
   "source": [
    "##### Process the actual data first"
   ]
  },
  {
   "cell_type": "code",
   "execution_count": 38,
   "metadata": {},
   "outputs": [
    {
     "name": "stdout",
     "output_type": "stream",
     "text": [
      "Slope is:     5.63\n",
      "Intercept is: 2,806,400\n",
      "R-squared is: 0.28\n"
     ]
    },
    {
     "data": {
      "image/png": "[encoded data removed]",
      "text/plain": [
       "<Figure size 432x288 with 1 Axes>"
      ]
     },
     "metadata": {},
     "output_type": "display_data"
    }
   ],
   "source": [
    "ppc   = ppc[idx]\n",
    "os    = os[idx]\n",
    "model = regress(ppc, os)\n",
    "showResults(ppc, os, model)\n",
    "\n",
    "m = model[\"m\"]\n",
    "b = model[\"b\"]"
   ]
  },
  {
   "cell_type": "markdown",
   "metadata": {},
   "source": [
    "##### Now generate a lower R-squared set of data to compare"
   ]
  },
  {
   "cell_type": "code",
   "execution_count": 42,
   "metadata": {},
   "outputs": [
    {
     "name": "stdout",
     "output_type": "stream",
     "text": [
      "Slope is:     5.64\n",
      "Intercept is: 2,774,342\n",
      "R-squared is: 0.65\n"
     ]
    },
    {
     "data": {
      "image/png": "[encoded data removed]",
      "text/plain": [
       "<Figure size 432x288 with 1 Axes>"
      ]
     },
     "metadata": {},
     "output_type": "display_data"
    }
   ],
   "source": [
    "noise = 100000*np.random.normal(scale=3.0, size=[78,1])\n",
    "osNew = b + m*ppc + noise\n",
    "model = regress(ppc, osNew)\n",
    "showResults(ppc, osNew, model)"
   ]
  }
 ],
 "metadata": {
  "kernelspec": {
   "display_name": "Python 3",
   "language": "python",
   "name": "python3"
  },
  "language_info": {
   "codemirror_mode": {
    "name": "ipython",
    "version": 3
   },
   "file_extension": ".py",
   "mimetype": "text/x-python",
   "name": "python",
   "nbconvert_exporter": "python",
   "pygments_lexer": "ipython3",
   "version": "3.5.2"
  }
 },
 "nbformat": 4,
 "nbformat_minor": 2
}
